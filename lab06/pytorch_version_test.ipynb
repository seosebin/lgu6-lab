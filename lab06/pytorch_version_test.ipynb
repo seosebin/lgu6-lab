{
 "cells": [
  {
   "cell_type": "code",
   "execution_count": 1,
   "id": "98533fe0-4f66-4a8f-af2c-c5442debff1a",
   "metadata": {},
   "outputs": [
    {
     "name": "stdout",
     "output_type": "stream",
     "text": [
      "Pytorch 버전: 2.7.0+cu118\n",
      "CUDA 사용 가능 여부: True\n",
      "사용 가능한 GPU 개수: 1\n",
      "현재 디바이스 ID: 0\n",
      "현재 디바이스 이름: NVIDIA GeForce RTX 4060 Laptop GPU\n",
      "GPU에 할당된 텐서: tensor([1., 2., 3.], device='cuda:0')\n"
     ]
    }
   ],
   "source": [
    "import torch\n",
    "\n",
    "# torch 버전 확인\n",
    "print(\"Pytorch 버전:\", torch.__version__)\n",
    "\n",
    "# CUDA 사용 가능 여부 확인\n",
    "print(\"CUDA 사용 가능 여부:\", torch.cuda.is_available())\n",
    "\n",
    "# 사용 가능한 GPU 개수 확인\n",
    "print(\"사용 가능한 GPU 개수:\", torch.cuda.device_count())\n",
    "\n",
    "# 현재 사용 중인 디바이스 ID\n",
    "print(\"현재 디바이스 ID:\", torch.cuda.current_device())\n",
    "\n",
    "# 현재 디바이스 이름\n",
    "print(\"현재 디바이스 이름:\", torch.cuda.get_device_name(torch.cuda.current_device()))\n",
    "\n",
    "# 텐서를 GPU에 할당해보기\n",
    "x = torch.tensor([1.0, 2.0, 3.0]).to('cuda')\n",
    "print(\"GPU에 할당된 텐서:\", x)"
   ]
  }
 ],
 "metadata": {
  "kernelspec": {
   "display_name": ".venv",
   "language": "python",
   "name": "python3"
  },
  "language_info": {
   "codemirror_mode": {
    "name": "ipython",
    "version": 3
   },
   "file_extension": ".py",
   "mimetype": "text/x-python",
   "name": "python",
   "nbconvert_exporter": "python",
   "pygments_lexer": "ipython3",
   "version": "3.11.12"
  }
 },
 "nbformat": 4,
 "nbformat_minor": 5
}
