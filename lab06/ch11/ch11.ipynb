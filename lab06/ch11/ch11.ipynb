{
 "cells": [
  {
   "cell_type": "markdown",
   "metadata": {
    "id": "FnYeKckOpSBE",
    "tags": []
   },
   "source": [
    "# 머신 러닝 교과서 - 파이토치편"
   ]
  },
  {
   "cell_type": "markdown",
   "metadata": {},
   "source": [
    "<table align=\"left\"><tr><td>\n",
    "<a href=\"https://colab.research.google.com/github/rickiepark/ml-with-pytorch/blob/main/ch11/ch11.ipynb\" target=\"_parent\"><img src=\"https://colab.research.google.com/assets/colab-badge.svg\" alt=\"코랩에서 실행하기\"/></a>\n",
    "</td></tr></table>"
   ]
  },
  {
   "cell_type": "markdown",
   "metadata": {
    "id": "yJfQ31oKpSBH"
   },
   "source": [
    "## 패키지 버전 체크"
   ]
  },
  {
   "cell_type": "markdown",
   "metadata": {
    "id": "e4Z4wNa8pSBH"
   },
   "source": [
    "check_packages.py 스크립트에서 로드하기 위해 폴더를 추가합니다:"
   ]
  },
  {
   "cell_type": "code",
   "execution_count": 10,
   "metadata": {
    "colab": {
     "base_uri": "https://localhost:8080/"
    },
    "id": "GqacnhcepSBH",
    "outputId": "c4695f30-1b5c-4f8a-cc70-f285bffad6bf"
   },
   "outputs": [],
   "source": [
    "import sys\n",
    "\n",
    "# 코랩의 경우 깃허브 저장소로부터 python_environment_check.py를 다운로드 합니다.\n",
    "if 'google.colab' in sys.modules:\n",
    "    !wget https://raw.githubusercontent.com/rickiepark/ml-with-pytorch/main/python_environment_check.py\n",
    "else:\n",
    "    sys.path.insert(0, '..')"
   ]
  },
  {
   "cell_type": "markdown",
   "metadata": {
    "id": "6Wiuw96zpSBI"
   },
   "source": [
    "권장 패키지 버전을 확인하세요:"
   ]
  },
  {
   "cell_type": "code",
   "execution_count": 11,
   "metadata": {},
   "outputs": [],
   "source": [
    "import sys\n",
    "sys.path.append('..')  # 상위 디렉토리 추가\n",
    "\n",
    "from python_environment_check import check_packages"
   ]
  },
  {
   "cell_type": "code",
   "execution_count": 12,
   "metadata": {
    "colab": {
     "base_uri": "https://localhost:8080/"
    },
    "id": "K6XVT_MFpSBJ",
    "outputId": "7c4f4a6a-86f5-4b51-a976-09132765b106"
   },
   "outputs": [
    {
     "name": "stdout",
     "output_type": "stream",
     "text": [
      "[OK] numpy 2.2.6\n",
      "[OK] matplotlib 3.10.3\n",
      "[OK] sklearn 1.6.1\n"
     ]
    }
   ],
   "source": [
    "from python_environment_check import check_packages\n",
    "\n",
    "\n",
    "d = {\n",
    "    'numpy': '1.21.2',\n",
    "    'matplotlib': '3.4.3',\n",
    "    'sklearn': '1.0',\n",
    "}\n",
    "check_packages(d)"
   ]
  },
  {
   "cell_type": "markdown",
   "metadata": {
    "id": "NQBI4a0bpSBJ"
   },
   "source": [
    "# 11장 - 다층 인공 신경망을 밑바닥부터 구현"
   ]
  },
  {
   "cell_type": "markdown",
   "metadata": {
    "id": "G1VjfnQYpSBK"
   },
   "source": [
    "### 목차"
   ]
  },
  {
   "cell_type": "markdown",
   "metadata": {
    "id": "IGkdKr8RpSBK"
   },
   "source": [
    "- 인공 신경망으로 복잡한 함수 모델링\n",
    "    - 단일층 신경망 요약\n",
    "    - 다층 신경망 구조\n",
    "    - 정방향 계산으로 신경망 활성화 출력 계산\n",
    "- 손글씨 숫자 분류\n",
    "    - MNIST 데이터셋 구하기\n",
    "    - 다층 퍼셉트론 구현\n",
    "    - 신경망 훈련 루프 코딩\n",
    "    - 신경망 모델의 성능 평가\n",
    "- 인공 신경망 훈련\n",
    "    - 손실 함수 계산\n",
    "    - 역전파 알고리즘 이해\n",
    "    - 역전파 알고리즘으로 신경망 훈련\n",
    "- 신경망의 수렴\n",
    "- 신경망 구현에 관한 몇 가지 첨언\n",
    "- 요약"
   ]
  },
  {
   "cell_type": "markdown",
   "metadata": {
    "id": "Ur6eCCVppSBL"
   },
   "source": [
    "<br>\n",
    "<br>"
   ]
  },
  {
   "cell_type": "code",
   "execution_count": 13,
   "metadata": {
    "id": "x8MN89sbpSBL"
   },
   "outputs": [],
   "source": [
    "from IPython.display import Image\n",
    "%matplotlib inline"
   ]
  },
  {
   "cell_type": "markdown",
   "metadata": {
    "id": "h0ZxTIGipSBL"
   },
   "source": [
    "# 인공 신경망으로 복잡한 함수 모델링"
   ]
  },
  {
   "cell_type": "markdown",
   "metadata": {
    "id": "AqrkdnHxpSBL"
   },
   "source": [
    "..."
   ]
  },
  {
   "cell_type": "markdown",
   "metadata": {
    "id": "148sSepkpSBL"
   },
   "source": [
    "## 단일층 신경망 요약"
   ]
  },
  {
   "cell_type": "code",
   "execution_count": 14,
   "metadata": {
    "colab": {
     "base_uri": "https://localhost:8080/",
     "height": 327
    },
    "id": "muCA49BIpSBL",
    "outputId": "de5e7d45-c7ea-49cb-caf1-9d8092a1baec"
   },
   "outputs": [
    {
     "data": {
      "text/html": [
       "<img src=\"https://raw.githubusercontent.com/rickiepark/ml-with-pytorch/main/ch11/figures/11_01.png\" width=\"600\"/>"
      ],
      "text/plain": [
       "<IPython.core.display.Image object>"
      ]
     },
     "execution_count": 14,
     "metadata": {},
     "output_type": "execute_result"
    }
   ],
   "source": [
    "Image(url='https://raw.githubusercontent.com/rickiepark/ml-with-pytorch/main/ch11/figures/11_01.png', width=600)"
   ]
  },
  {
   "cell_type": "markdown",
   "metadata": {
    "id": "3sBJSHr4pSBL"
   },
   "source": [
    "<br>\n",
    "<br>"
   ]
  },
  {
   "cell_type": "markdown",
   "metadata": {
    "id": "neItGbXEpSBL"
   },
   "source": [
    "## 다층 신경망 구조"
   ]
  },
  {
   "cell_type": "code",
   "execution_count": 15,
   "metadata": {
    "colab": {
     "base_uri": "https://localhost:8080/",
     "height": 478
    },
    "id": "50hgIC4UpSBM",
    "outputId": "bfd647cf-973f-4b41-d28d-37a773025acf"
   },
   "outputs": [
    {
     "data": {
      "text/html": [
       "<img src=\"https://raw.githubusercontent.com/rickiepark/ml-with-pytorch/main/ch11/figures/11_02.png\" width=\"600\"/>"
      ],
      "text/plain": [
       "<IPython.core.display.Image object>"
      ]
     },
     "execution_count": 15,
     "metadata": {},
     "output_type": "execute_result"
    }
   ],
   "source": [
    "Image(url='https://raw.githubusercontent.com/rickiepark/ml-with-pytorch/main/ch11/figures/11_02.png', width=600)"
   ]
  },
  {
   "cell_type": "code",
   "execution_count": 16,
   "metadata": {
    "colab": {
     "base_uri": "https://localhost:8080/",
     "height": 349
    },
    "id": "6c0bdp2wpSBM",
    "outputId": "45702cc8-ac74-4206-bb89-8a911dce5547"
   },
   "outputs": [
    {
     "data": {
      "text/html": [
       "<img src=\"https://raw.githubusercontent.com/rickiepark/ml-with-pytorch/main/ch11/figures/11_03.png\" width=\"500\"/>"
      ],
      "text/plain": [
       "<IPython.core.display.Image object>"
      ]
     },
     "execution_count": 16,
     "metadata": {},
     "output_type": "execute_result"
    }
   ],
   "source": [
    "Image(url='https://raw.githubusercontent.com/rickiepark/ml-with-pytorch/main/ch11/figures/11_03.png', width=500)"
   ]
  },
  {
   "cell_type": "markdown",
   "metadata": {
    "id": "DDQJaRvGpSBM"
   },
   "source": [
    "<br>\n",
    "<br>"
   ]
  },
  {
   "cell_type": "markdown",
   "metadata": {
    "id": "knJzmkeqpSBM"
   },
   "source": [
    "## 정방향 계산으로 신경망 활성화 출력 계산"
   ]
  },
  {
   "cell_type": "markdown",
   "metadata": {
    "id": "5tnq8QUTpSBM"
   },
   "source": [
    "<br>\n",
    "<br>"
   ]
  },
  {
   "cell_type": "markdown",
   "metadata": {
    "id": "DicycY4QpSBM"
   },
   "source": [
    "# 손글씨 숫자 분류"
   ]
  },
  {
   "cell_type": "markdown",
   "metadata": {
    "id": "zNT9qCrjpSBM"
   },
   "source": [
    "..."
   ]
  },
  {
   "cell_type": "markdown",
   "metadata": {
    "id": "BeevhIanpSBM"
   },
   "source": [
    "## MNIST 데이터셋 구하기"
   ]
  },
  {
   "cell_type": "markdown",
   "metadata": {
    "id": "6fUwRdWepSBM"
   },
   "source": [
    "MNIST 데이터셋은 http://yann.lecun.com/exdb/mnist/에 공개되어 있으며 다음 네 부분으로 구성되어 있습니다.\n",
    "\n",
    "- 훈련 세트 이미지: train-images-idx3-ubyte.gz(9.9MB, 압축 해제 후 47MB, 60,000개 샘플)\n",
    "- 훈련 세트 레이블: train-labels-idx1-ubyte.gz(29KB, 압축 해제 후 60KB, 60,000개 레이블)\n",
    "- 테스트 세트 이미지: t10k-images-idx3-ubyte.gz(1.6MB, 압축 해제 후 7.8MB, 10,000개 샘플)\n",
    "- 테스트 세트 레이블: t10k-labels-idx1-ubyte.gz(5KB, 압축 해제 후 10KB, 10,000개 레이블)"
   ]
  },
  {
   "cell_type": "code",
   "execution_count": 17,
   "metadata": {},
   "outputs": [],
   "source": [
    "import ssl\n",
    "ssl._create_default_https_context = ssl._create_unverified_context"
   ]
  },
  {
   "cell_type": "code",
   "execution_count": 18,
   "metadata": {
    "colab": {
     "base_uri": "https://localhost:8080/"
    },
    "id": "mQAZTo1lpSBN",
    "outputId": "87707498-a603-4895-805f-488842907f15"
   },
   "outputs": [
    {
     "name": "stdout",
     "output_type": "stream",
     "text": [
      "(70000, 784)\n",
      "(70000,)\n"
     ]
    }
   ],
   "source": [
    "from sklearn.datasets import fetch_openml\n",
    "\n",
    "\n",
    "X, y = fetch_openml('mnist_784', version=1, return_X_y=True, parser='auto')\n",
    "X = X.values\n",
    "y = y.astype(int).values\n",
    "\n",
    "print(X.shape)\n",
    "print(y.shape)"
   ]
  },
  {
   "cell_type": "markdown",
   "metadata": {
    "id": "dHhIJNxdpSBN"
   },
   "source": [
    "[-1, 1] 범위로 정규화합니다:"
   ]
  },
  {
   "cell_type": "code",
   "execution_count": 19,
   "metadata": {
    "id": "BxNxU4lIpSBN"
   },
   "outputs": [],
   "source": [
    "X = ((X / 255.) - .5) * 2"
   ]
  },
  {
   "cell_type": "markdown",
   "metadata": {
    "id": "faaQHEcUpSBN"
   },
   "source": [
    "각 클래스의 첫 번째 이미지를 그립니다:"
   ]
  },
  {
   "cell_type": "code",
   "execution_count": 20,
   "metadata": {
    "colab": {
     "base_uri": "https://localhost:8080/",
     "height": 338
    },
    "id": "ykfcbUhGpSBN",
    "outputId": "3a7910c1-bc12-46f9-ef3f-9f26cfdd67cd"
   },
   "outputs": [
    {
     "data": {
      "image/png": "[encoded data removed]",
      "text/plain": [
       "<Figure size 640x480 with 10 Axes>"
      ]
     },
     "metadata": {},
     "output_type": "display_data"
    }
   ],
   "source": [
    "import matplotlib.pyplot as plt\n",
    "\n",
    "fig, ax = plt.subplots(nrows=2, ncols=5, sharex=True, sharey=True)\n",
    "ax = ax.flatten()\n",
    "for i in range(10):\n",
    "    img = X[y == i][0].reshape(28, 28)\n",
    "    ax[i].imshow(img, cmap='Greys')\n",
    "\n",
    "ax[0].set_xticks([])\n",
    "ax[0].set_yticks([])\n",
    "plt.tight_layout()\n",
    "#plt.savefig('figures/11_4.png', dpi=300)\n",
    "plt.show()"
   ]
  },
  {
   "cell_type": "markdown",
   "metadata": {
    "id": "bh-qGEFPpSBN"
   },
   "source": [
    "숫자 7 샘플 25개를 그립니다:"
   ]
  },
  {
   "cell_type": "code",
   "execution_count": 21,
   "metadata": {
    "colab": {
     "base_uri": "https://localhost:8080/",
     "height": 486
    },
    "id": "nBcgU0NHpSBN",
    "outputId": "f97e91a4-c0c5-4120-81b4-8c3741ad9bcc",
    "scrolled": true
   },
   "outputs": [
    {
     "data": {
      "image/png": "[encoded data removed]",
      "text/plain": [
       "<Figure size 640x480 with 25 Axes>"
      ]
     },
     "metadata": {},
     "output_type": "display_data"
    }
   ],
   "source": [
    "fig, ax = plt.subplots(nrows=5, ncols=5, sharex=True, sharey=True)\n",
    "ax = ax.flatten()\n",
    "for i in range(25):\n",
    "    img = X[y == 7][i].reshape(28, 28)\n",
    "    ax[i].imshow(img, cmap='Greys')\n",
    "\n",
    "ax[0].set_xticks([])\n",
    "ax[0].set_yticks([])\n",
    "plt.tight_layout()\n",
    "# plt.savefig('figures/11_5.png', dpi=300)\n",
    "plt.show()"
   ]
  },
  {
   "cell_type": "markdown",
   "metadata": {
    "id": "yyRZ5JkjpSBO"
   },
   "source": [
    "트레이닝, 검증, 테스트 세트로 나눕니다:"
   ]
  },
  {
   "cell_type": "code",
   "execution_count": 22,
   "metadata": {
    "id": "bhMGZ5wapSBO"
   },
   "outputs": [],
   "source": [
    "from sklearn.model_selection import train_test_split\n",
    "\n",
    "\n",
    "X_temp, X_test, y_temp, y_test = train_test_split(\n",
    "    X, y, test_size=10000, random_state=123, stratify=y)\n",
    "\n",
    "X_train, X_valid, y_train, y_valid = train_test_split(\n",
    "    X_temp, y_temp, test_size=5000, random_state=123, stratify=y_temp)\n",
    "\n",
    "\n",
    "# 사용하지 않는 배열을 삭제하여 메모리를 확보합니다:\n",
    "del X_temp, y_temp, X, y"
   ]
  },
  {
   "cell_type": "markdown",
   "metadata": {
    "id": "8i8YMamGpSBO"
   },
   "source": [
    "<br>\n",
    "<br>"
   ]
  },
  {
   "cell_type": "markdown",
   "metadata": {
    "id": "1kMcwkWepSBO"
   },
   "source": [
    "## 다층 퍼셉트론 구현"
   ]
  },
  {
   "cell_type": "code",
   "execution_count": 23,
   "metadata": {
    "id": "8A6u3o9YpSBO"
   },
   "outputs": [],
   "source": [
    "import numpy as np"
   ]
  },
  {
   "cell_type": "code",
   "execution_count": 24,
   "metadata": {
    "id": "dbezf-ZKpSBS"
   },
   "outputs": [],
   "source": [
    "##########################\n",
    "### 모델\n",
    "##########################\n",
    "\n",
    "def sigmoid(z):\n",
    "    return 1. / (1. + np.exp(-z))\n",
    "\n",
    "\n",
    "def int_to_onehot(y, num_labels):\n",
    "\n",
    "    ary = np.zeros((y.shape[0], num_labels))\n",
    "    for i, val in enumerate(y):\n",
    "        ary[i, val] = 1\n",
    "\n",
    "    return ary\n",
    "\n",
    "\n",
    "class NeuralNetMLP:\n",
    "\n",
    "    def __init__(self, num_features, num_hidden, num_classes, random_seed=123):\n",
    "        super().__init__()\n",
    "\n",
    "        self.num_classes = num_classes\n",
    "\n",
    "        # 은닉층\n",
    "        rng = np.random.RandomState(random_seed)\n",
    "\n",
    "        self.weight_h = rng.normal(\n",
    "            loc=0.0, scale=0.1, size=(num_hidden, num_features))\n",
    "        self.bias_h = np.zeros(num_hidden)\n",
    "\n",
    "        # 출력층\n",
    "        self.weight_out = rng.normal(\n",
    "            loc=0.0, scale=0.1, size=(num_classes, num_hidden))\n",
    "        self.bias_out = np.zeros(num_classes)\n",
    "\n",
    "    def forward(self, x):\n",
    "        # 은닉층\n",
    "        # 입력 차원: [n_examples, n_features] dot [n_hidden, n_features].T\n",
    "        # 출력 차원: [n_examples, n_hidden]\n",
    "        z_h = np.dot(x, self.weight_h.T) + self.bias_h\n",
    "        a_h = sigmoid(z_h)\n",
    "\n",
    "        # 출력층\n",
    "        # 입력 차원: [n_examples, n_hidden] dot [n_classes, n_hidden].T\n",
    "        # 출력 차원: [n_examples, n_classes]\n",
    "        z_out = np.dot(a_h, self.weight_out.T) + self.bias_out\n",
    "        a_out = sigmoid(z_out)\n",
    "        return a_h, a_out\n",
    "\n",
    "    def backward(self, x, a_h, a_out, y):\n",
    "\n",
    "        #########################\n",
    "        ### 출력층 가중치\n",
    "        #########################\n",
    "\n",
    "        # 원-핫 인코딩\n",
    "        y_onehot = int_to_onehot(y, self.num_classes)\n",
    "\n",
    "        # 파트 1: dLoss/dOutWeights\n",
    "        ## = dLoss/dOutAct * dOutAct/dOutNet * dOutNet/dOutWeight\n",
    "        ## 재사용을 위해 DeltaOut = dLoss/dOutAct * dOutAct/dOutNet\n",
    "\n",
    "        # 입력/출력 차원: [n_examples, n_classes]\n",
    "        d_loss__d_a_out = 2.*(a_out - y_onehot) / y.shape[0]\n",
    "\n",
    "        # 입력/출력 차원: [n_examples, n_classes]\n",
    "        d_a_out__d_z_out = a_out * (1. - a_out) # sigmoid derivative\n",
    "\n",
    "        # 출력 차원: [n_examples, n_classes]\n",
    "        delta_out = d_loss__d_a_out * d_a_out__d_z_out # \"delta (rule) placeholder\"\n",
    "\n",
    "        # 출력 가중치를 위한 그레이디언트\n",
    "\n",
    "        # [n_examples, n_hidden]\n",
    "        d_z_out__dw_out = a_h\n",
    "\n",
    "        # 입력 차원: [n_classes, n_examples] dot [n_examples, n_hidden]\n",
    "        # 출력 차원: [n_classes, n_hidden]\n",
    "        d_loss__dw_out = np.dot(delta_out.T, d_z_out__dw_out)\n",
    "        d_loss__db_out = np.sum(delta_out, axis=0)\n",
    "\n",
    "\n",
    "        #################################\n",
    "        # 파트 2: dLoss/dHiddenWeights\n",
    "        ## = DeltaOut * dOutNet/dHiddenAct * dHiddenAct/dHiddenNet * dHiddenNet/dWeight\n",
    "\n",
    "        # [n_classes, n_hidden]\n",
    "        d_z_out__a_h = self.weight_out\n",
    "\n",
    "        # 출력 차원: [n_examples, n_hidden]\n",
    "        d_loss__a_h = np.dot(delta_out, d_z_out__a_h)\n",
    "\n",
    "        # [n_examples, n_hidden]\n",
    "        d_a_h__d_z_h = a_h * (1. - a_h) # sigmoid derivative\n",
    "\n",
    "        # [n_examples, n_features]\n",
    "        d_z_h__d_w_h = x\n",
    "\n",
    "        # 출력 차원: [n_hidden, n_features]\n",
    "        d_loss__d_w_h = np.dot((d_loss__a_h * d_a_h__d_z_h).T, d_z_h__d_w_h)\n",
    "        d_loss__d_b_h = np.sum((d_loss__a_h * d_a_h__d_z_h), axis=0)\n",
    "\n",
    "        return (d_loss__dw_out, d_loss__db_out,\n",
    "                d_loss__d_w_h, d_loss__d_b_h)"
   ]
  },
  {
   "cell_type": "code",
   "execution_count": 25,
   "metadata": {
    "id": "PsqTmxJcpSBS"
   },
   "outputs": [],
   "source": [
    "model = NeuralNetMLP(num_features=28*28,\n",
    "                     num_hidden=50,\n",
    "                     num_classes=10)"
   ]
  },
  {
   "cell_type": "markdown",
   "metadata": {
    "id": "Gkhj4ZlnpSBS"
   },
   "source": [
    "## 신경망 훈련 루프 코딩"
   ]
  },
  {
   "cell_type": "markdown",
   "metadata": {
    "id": "-m5Dy-afpSBS"
   },
   "source": [
    "데이터 로더 정의하기:"
   ]
  },
  {
   "cell_type": "code",
   "execution_count": 26,
   "metadata": {
    "colab": {
     "base_uri": "https://localhost:8080/"
    },
    "id": "CtexqH_DpSBS",
    "outputId": "7fb17804-d58f-4c2a-c9ac-2c0547541cd7"
   },
   "outputs": [
    {
     "name": "stdout",
     "output_type": "stream",
     "text": [
      "(100, 784)\n",
      "(100,)\n"
     ]
    }
   ],
   "source": [
    "import numpy as np\n",
    "\n",
    "num_epochs = 50\n",
    "minibatch_size = 100\n",
    "\n",
    "\n",
    "def minibatch_generator(X, y, minibatch_size):\n",
    "    indices = np.arange(X.shape[0])\n",
    "    np.random.shuffle(indices)\n",
    "\n",
    "    for start_idx in range(0, indices.shape[0] - minibatch_size\n",
    "                           + 1, minibatch_size):\n",
    "        batch_idx = indices[start_idx:start_idx + minibatch_size]\n",
    "\n",
    "        yield X[batch_idx], y[batch_idx]\n",
    "\n",
    "\n",
    "# 훈련 에포크를 반복합니다.\n",
    "for i in range(num_epochs):\n",
    "\n",
    "    # 미니 배치를 반복합니다.\n",
    "    minibatch_gen = minibatch_generator(\n",
    "        X_train, y_train, minibatch_size)\n",
    "\n",
    "    for X_train_mini, y_train_mini in minibatch_gen:\n",
    "\n",
    "        break\n",
    "\n",
    "    break\n",
    "\n",
    "print(X_train_mini.shape)\n",
    "print(y_train_mini.shape)"
   ]
  },
  {
   "cell_type": "markdown",
   "metadata": {
    "id": "9VotcHV2pSBS"
   },
   "source": [
    "손실 및 정확도를 계산하는 함수 정의하기"
   ]
  },
  {
   "cell_type": "code",
   "execution_count": 27,
   "metadata": {
    "colab": {
     "base_uri": "https://localhost:8080/"
    },
    "id": "EKLYnmbmpSBT",
    "outputId": "d32f0cce-89f7-4714-ea99-0d77af63026d"
   },
   "outputs": [
    {
     "name": "stdout",
     "output_type": "stream",
     "text": [
      "검증 세트 MSE: 0.3\n",
      "검증 세트 정확도: 9.4%\n"
     ]
    }
   ],
   "source": [
    "def mse_loss(targets, probas, num_labels=10):\n",
    "    onehot_targets = int_to_onehot(targets, num_labels=num_labels)\n",
    "    return np.mean((onehot_targets - probas)**2)\n",
    "\n",
    "\n",
    "def accuracy(targets, predicted_labels):\n",
    "    return np.mean(predicted_labels == targets)\n",
    "\n",
    "\n",
    "_, probas = model.forward(X_valid)\n",
    "mse = mse_loss(y_valid, probas)\n",
    "\n",
    "predicted_labels = np.argmax(probas, axis=1)\n",
    "acc = accuracy(y_valid, predicted_labels)\n",
    "\n",
    "print(f'검증 세트 MSE: {mse:.1f}')\n",
    "print(f'검증 세트 정확도: {acc*100:.1f}%')"
   ]
  },
  {
   "cell_type": "code",
   "execution_count": 28,
   "metadata": {
    "id": "eUFKR6zjpSBT"
   },
   "outputs": [],
   "source": [
    "def compute_mse_and_acc(nnet, X, y, num_labels=10, minibatch_size=100):\n",
    "    mse, correct_pred, num_examples = 0., 0, 0\n",
    "    minibatch_gen = minibatch_generator(X, y, minibatch_size)\n",
    "\n",
    "    for i, (features, targets) in enumerate(minibatch_gen):\n",
    "\n",
    "        _, probas = nnet.forward(features)\n",
    "        predicted_labels = np.argmax(probas, axis=1)\n",
    "\n",
    "        onehot_targets = int_to_onehot(targets, num_labels=num_labels)\n",
    "        loss = np.mean((onehot_targets - probas)**2)\n",
    "        correct_pred += (predicted_labels == targets).sum()\n",
    "\n",
    "        num_examples += targets.shape[0]\n",
    "        mse += loss\n",
    "\n",
    "    mse = mse/i\n",
    "    acc = correct_pred/num_examples\n",
    "    return mse, acc"
   ]
  },
  {
   "cell_type": "code",
   "execution_count": 29,
   "metadata": {
    "colab": {
     "base_uri": "https://localhost:8080/"
    },
    "id": "asqF8Y_rpSBT",
    "outputId": "fdd56195-27aa-4542-ff22-2aaf0c4b389b"
   },
   "outputs": [
    {
     "name": "stdout",
     "output_type": "stream",
     "text": [
      "검증 세트 MSE: 0.3\n",
      "검증 세트 정확도: 9.4%\n"
     ]
    }
   ],
   "source": [
    "mse, acc = compute_mse_and_acc(model, X_valid, y_valid)\n",
    "print(f'검증 세트 MSE: {mse:.1f}')\n",
    "print(f'검증 세트 정확도: {acc*100:.1f}%')"
   ]
  },
  {
   "cell_type": "code",
   "execution_count": 30,
   "metadata": {
    "id": "j3Oc9hj9pSBT"
   },
   "outputs": [],
   "source": [
    "def train(model, X_train, y_train, X_valid, y_valid, num_epochs,\n",
    "          learning_rate=0.1):\n",
    "\n",
    "    epoch_loss = []\n",
    "    epoch_train_acc = []\n",
    "    epoch_valid_acc = []\n",
    "\n",
    "    for e in range(num_epochs):\n",
    "\n",
    "        # 미니 배치를 반복합니다.\n",
    "        minibatch_gen = minibatch_generator(\n",
    "            X_train, y_train, minibatch_size)\n",
    "\n",
    "        for X_train_mini, y_train_mini in minibatch_gen:\n",
    "\n",
    "            #### 출력 계산 ####\n",
    "            a_h, a_out = model.forward(X_train_mini)\n",
    "\n",
    "            #### 그레이디언트 계산 ####\n",
    "            d_loss__d_w_out, d_loss__d_b_out, d_loss__d_w_h, d_loss__d_b_h = \\\n",
    "                model.backward(X_train_mini, a_h, a_out, y_train_mini)\n",
    "\n",
    "            #### 가중치 업데이트 ####\n",
    "            model.weight_h -= learning_rate * d_loss__d_w_h\n",
    "            model.bias_h -= learning_rate * d_loss__d_b_h\n",
    "            model.weight_out -= learning_rate * d_loss__d_w_out\n",
    "            model.bias_out -= learning_rate * d_loss__d_b_out\n",
    "\n",
    "        #### 에포크 로깅 ####\n",
    "        train_mse, train_acc = compute_mse_and_acc(model, X_train, y_train)\n",
    "        valid_mse, valid_acc = compute_mse_and_acc(model, X_valid, y_valid)\n",
    "        train_acc, valid_acc = train_acc*100, valid_acc*100\n",
    "        epoch_train_acc.append(train_acc)\n",
    "        epoch_valid_acc.append(valid_acc)\n",
    "        epoch_loss.append(train_mse)\n",
    "        print(f'에포크: {e+1:03d}/{num_epochs:03d} '\n",
    "              f'| 훈련 MSE: {train_mse:.2f} '\n",
    "              f'| 훈련 정확도: {train_acc:.2f}% '\n",
    "              f'| 검증 정확도: {valid_acc:.2f}%')\n",
    "\n",
    "    return epoch_loss, epoch_train_acc, epoch_valid_acc"
   ]
  },
  {
   "cell_type": "code",
   "execution_count": 31,
   "metadata": {
    "colab": {
     "base_uri": "https://localhost:8080/"
    },
    "id": "ozaKc_fkpSBT",
    "outputId": "85f52fc7-38ab-456b-9c67-bae40abeebb5"
   },
   "outputs": [
    {
     "name": "stdout",
     "output_type": "stream",
     "text": [
      "에포크: 001/050 | 훈련 MSE: 0.05 | 훈련 정확도: 76.15% | 검증 정확도: 75.98%\n",
      "에포크: 002/050 | 훈련 MSE: 0.03 | 훈련 정확도: 85.45% | 검증 정확도: 85.04%\n",
      "에포크: 003/050 | 훈련 MSE: 0.02 | 훈련 정확도: 87.82% | 검증 정확도: 87.60%\n",
      "에포크: 004/050 | 훈련 MSE: 0.02 | 훈련 정확도: 89.36% | 검증 정확도: 89.28%\n",
      "에포크: 005/050 | 훈련 MSE: 0.02 | 훈련 정확도: 90.21% | 검증 정확도: 90.04%\n",
      "에포크: 006/050 | 훈련 MSE: 0.02 | 훈련 정확도: 90.67% | 검증 정확도: 90.54%\n",
      "에포크: 007/050 | 훈련 MSE: 0.02 | 훈련 정확도: 91.12% | 검증 정확도: 90.82%\n",
      "에포크: 008/050 | 훈련 MSE: 0.02 | 훈련 정확도: 91.43% | 검증 정확도: 91.26%\n",
      "에포크: 009/050 | 훈련 MSE: 0.01 | 훈련 정확도: 91.84% | 검증 정확도: 91.50%\n",
      "에포크: 010/050 | 훈련 MSE: 0.01 | 훈련 정확도: 92.04% | 검증 정확도: 91.84%\n",
      "에포크: 011/050 | 훈련 MSE: 0.01 | 훈련 정확도: 92.30% | 검증 정확도: 92.08%\n",
      "에포크: 012/050 | 훈련 MSE: 0.01 | 훈련 정확도: 92.51% | 검증 정확도: 92.24%\n",
      "에포크: 013/050 | 훈련 MSE: 0.01 | 훈련 정확도: 92.65% | 검증 정확도: 92.30%\n",
      "에포크: 014/050 | 훈련 MSE: 0.01 | 훈련 정확도: 92.80% | 검증 정확도: 92.60%\n",
      "에포크: 015/050 | 훈련 MSE: 0.01 | 훈련 정확도: 93.04% | 검증 정확도: 92.78%\n",
      "에포크: 016/050 | 훈련 MSE: 0.01 | 훈련 정확도: 93.14% | 검증 정확도: 92.68%\n",
      "에포크: 017/050 | 훈련 MSE: 0.01 | 훈련 정확도: 93.28% | 검증 정확도: 92.96%\n",
      "에포크: 018/050 | 훈련 MSE: 0.01 | 훈련 정확도: 93.40% | 검증 정확도: 93.00%\n",
      "에포크: 019/050 | 훈련 MSE: 0.01 | 훈련 정확도: 93.47% | 검증 정확도: 93.08%\n",
      "에포크: 020/050 | 훈련 MSE: 0.01 | 훈련 정확도: 93.67% | 검증 정확도: 93.38%\n",
      "에포크: 021/050 | 훈련 MSE: 0.01 | 훈련 정확도: 93.70% | 검증 정확도: 93.48%\n",
      "에포크: 022/050 | 훈련 MSE: 0.01 | 훈련 정확도: 93.82% | 검증 정확도: 93.54%\n",
      "에포크: 023/050 | 훈련 MSE: 0.01 | 훈련 정확도: 93.99% | 검증 정확도: 93.66%\n",
      "에포크: 024/050 | 훈련 MSE: 0.01 | 훈련 정확도: 94.07% | 검증 정확도: 93.80%\n",
      "에포크: 025/050 | 훈련 MSE: 0.01 | 훈련 정확도: 94.10% | 검증 정확도: 93.60%\n",
      "에포크: 026/050 | 훈련 MSE: 0.01 | 훈련 정확도: 94.30% | 검증 정확도: 93.94%\n",
      "에포크: 027/050 | 훈련 MSE: 0.01 | 훈련 정확도: 94.32% | 검증 정확도: 94.04%\n",
      "에포크: 028/050 | 훈련 MSE: 0.01 | 훈련 정확도: 94.41% | 검증 정확도: 94.08%\n",
      "에포크: 029/050 | 훈련 MSE: 0.01 | 훈련 정확도: 94.48% | 검증 정확도: 93.98%\n",
      "에포크: 030/050 | 훈련 MSE: 0.01 | 훈련 정확도: 94.54% | 검증 정확도: 94.12%\n",
      "에포크: 031/050 | 훈련 MSE: 0.01 | 훈련 정확도: 94.64% | 검증 정확도: 94.10%\n",
      "에포크: 032/050 | 훈련 MSE: 0.01 | 훈련 정확도: 94.69% | 검증 정확도: 94.24%\n",
      "에포크: 033/050 | 훈련 MSE: 0.01 | 훈련 정확도: 94.74% | 검증 정확도: 94.00%\n",
      "에포크: 034/050 | 훈련 MSE: 0.01 | 훈련 정확도: 94.84% | 검증 정확도: 94.16%\n",
      "에포크: 035/050 | 훈련 MSE: 0.01 | 훈련 정확도: 94.87% | 검증 정확도: 94.28%\n",
      "에포크: 036/050 | 훈련 MSE: 0.01 | 훈련 정확도: 94.95% | 검증 정확도: 94.18%\n",
      "에포크: 037/050 | 훈련 MSE: 0.01 | 훈련 정확도: 95.02% | 검증 정확도: 94.26%\n",
      "에포크: 038/050 | 훈련 MSE: 0.01 | 훈련 정확도: 95.11% | 검증 정확도: 94.36%\n",
      "에포크: 039/050 | 훈련 MSE: 0.01 | 훈련 정확도: 95.17% | 검증 정확도: 94.26%\n",
      "에포크: 040/050 | 훈련 MSE: 0.01 | 훈련 정확도: 95.18% | 검증 정확도: 94.30%\n",
      "에포크: 041/050 | 훈련 MSE: 0.01 | 훈련 정확도: 95.25% | 검증 정확도: 94.48%\n",
      "에포크: 042/050 | 훈련 MSE: 0.01 | 훈련 정확도: 95.28% | 검증 정확도: 94.40%\n",
      "에포크: 043/050 | 훈련 MSE: 0.01 | 훈련 정확도: 95.36% | 검증 정확도: 94.34%\n",
      "에포크: 044/050 | 훈련 MSE: 0.01 | 훈련 정확도: 95.39% | 검증 정확도: 94.52%\n",
      "에포크: 045/050 | 훈련 MSE: 0.01 | 훈련 정확도: 95.45% | 검증 정확도: 94.52%\n",
      "에포크: 046/050 | 훈련 MSE: 0.01 | 훈련 정확도: 95.49% | 검증 정확도: 94.56%\n",
      "에포크: 047/050 | 훈련 MSE: 0.01 | 훈련 정확도: 95.54% | 검증 정확도: 94.64%\n",
      "에포크: 048/050 | 훈련 MSE: 0.01 | 훈련 정확도: 95.57% | 검증 정확도: 94.60%\n",
      "에포크: 049/050 | 훈련 MSE: 0.01 | 훈련 정확도: 95.57% | 검증 정확도: 94.66%\n",
      "에포크: 050/050 | 훈련 MSE: 0.01 | 훈련 정확도: 95.61% | 검증 정확도: 94.78%\n"
     ]
    }
   ],
   "source": [
    "np.random.seed(123) # 훈련 세트 셔플링을 위해\n",
    "\n",
    "epoch_loss, epoch_train_acc, epoch_valid_acc = train(\n",
    "    model, X_train, y_train, X_valid, y_valid,\n",
    "    num_epochs=50, learning_rate=0.1)"
   ]
  },
  {
   "cell_type": "markdown",
   "metadata": {
    "id": "gVqEZYvwpSBU"
   },
   "source": [
    "## 신경망 모델의 성능 평가"
   ]
  },
  {
   "cell_type": "code",
   "execution_count": 32,
   "metadata": {
    "colab": {
     "base_uri": "https://localhost:8080/",
     "height": 449
    },
    "id": "D624lfGHpSBU",
    "outputId": "a4bfe693-a1fa-4b3b-9c93-acb6a57b5cde"
   },
   "outputs": [
    {
     "data": {
      "image/png": "[encoded data removed]",
      "text/plain": [
       "<Figure size 640x480 with 1 Axes>"
      ]
     },
     "metadata": {},
     "output_type": "display_data"
    }
   ],
   "source": [
    "plt.plot(range(len(epoch_loss)), epoch_loss)\n",
    "plt.ylabel('Mean squared error')\n",
    "plt.xlabel('Epoch')\n",
    "#plt.savefig('figures/11_07.png', dpi=300)\n",
    "plt.show()"
   ]
  },
  {
   "cell_type": "code",
   "execution_count": 33,
   "metadata": {
    "colab": {
     "base_uri": "https://localhost:8080/",
     "height": 449
    },
    "id": "_MesuCu-pSBU",
    "outputId": "0ec2c70e-8216-4a2d-8dd9-e0a3d8a4e2ee"
   },
   "outputs": [
    {
     "data": {
      "image/png": "[encoded data removed]",
      "text/plain": [
       "<Figure size 640x480 with 1 Axes>"
      ]
     },
     "metadata": {},
     "output_type": "display_data"
    }
   ],
   "source": [
    "plt.plot(range(len(epoch_train_acc)), epoch_train_acc,\n",
    "         label='Training')\n",
    "plt.plot(range(len(epoch_valid_acc)), epoch_valid_acc,\n",
    "         label='Validation')\n",
    "plt.ylabel('Accuracy')\n",
    "plt.xlabel('Epochs')\n",
    "plt.legend(loc='lower right')\n",
    "#plt.savefig('figures/11_08.png', dpi=300)\n",
    "plt.show()"
   ]
  },
  {
   "cell_type": "code",
   "execution_count": 34,
   "metadata": {
    "colab": {
     "base_uri": "https://localhost:8080/"
    },
    "id": "BoyZIaNBpSBU",
    "outputId": "47ee94bf-ad4c-4769-b9b0-b1d102f8dc06"
   },
   "outputs": [
    {
     "name": "stdout",
     "output_type": "stream",
     "text": [
      "테스트 정확도: 94.54%\n"
     ]
    }
   ],
   "source": [
    "test_mse, test_acc = compute_mse_and_acc(model, X_test, y_test)\n",
    "print(f'테스트 정확도: {test_acc*100:.2f}%')"
   ]
  },
  {
   "cell_type": "markdown",
   "metadata": {
    "id": "et6RsGN2pSBU"
   },
   "source": [
    "예측 실패 샘플 출력하기:"
   ]
  },
  {
   "cell_type": "code",
   "execution_count": 35,
   "metadata": {
    "id": "MarutMilpSBU"
   },
   "outputs": [],
   "source": [
    "X_test_subset = X_test[:1000, :]\n",
    "y_test_subset = y_test[:1000]\n",
    "\n",
    "_, probas = model.forward(X_test_subset)\n",
    "test_pred = np.argmax(probas, axis=1)\n",
    "\n",
    "misclassified_images = X_test_subset[y_test_subset != test_pred][:25]\n",
    "misclassified_labels = test_pred[y_test_subset != test_pred][:25]\n",
    "correct_labels = y_test_subset[y_test_subset != test_pred][:25]"
   ]
  },
  {
   "cell_type": "code",
   "execution_count": 36,
   "metadata": {
    "colab": {
     "base_uri": "https://localhost:8080/",
     "height": 806
    },
    "id": "g_UFm0NqpSBU",
    "outputId": "603485cf-3c05-454e-8051-4361322063ac"
   },
   "outputs": [
    {
     "data": {
      "image/png": "[encoded data removed]",
      "text/plain": [
       "<Figure size 800x800 with 25 Axes>"
      ]
     },
     "metadata": {},
     "output_type": "display_data"
    }
   ],
   "source": [
    "fig, ax = plt.subplots(nrows=5, ncols=5,\n",
    "                       sharex=True, sharey=True, figsize=(8, 8))\n",
    "ax = ax.flatten()\n",
    "for i in range(25):\n",
    "    img = misclassified_images[i].reshape(28, 28)\n",
    "    ax[i].imshow(img, cmap='Greys', interpolation='nearest')\n",
    "    ax[i].set_title(f'{i+1}) '\n",
    "                    f'True: {correct_labels[i]}\\n'\n",
    "                    f'Predicted: {misclassified_labels[i]}')\n",
    "\n",
    "ax[0].set_xticks([])\n",
    "ax[0].set_yticks([])\n",
    "plt.tight_layout()\n",
    "#plt.savefig('figures/11_09.png', dpi=300)\n",
    "plt.show()"
   ]
  },
  {
   "cell_type": "markdown",
   "metadata": {
    "id": "5b4AJ9q_pSBV"
   },
   "source": [
    "<br>\n",
    "<br>"
   ]
  },
  {
   "cell_type": "markdown",
   "metadata": {
    "id": "q1jQdNgfpSBV"
   },
   "source": [
    "# 인공 신경망 훈련"
   ]
  },
  {
   "cell_type": "markdown",
   "metadata": {
    "id": "CKX9SqJBpSBV"
   },
   "source": [
    "..."
   ]
  },
  {
   "cell_type": "markdown",
   "metadata": {
    "id": "8WQzeu_VpSBV"
   },
   "source": [
    "## 손실 함수 계산"
   ]
  },
  {
   "cell_type": "code",
   "execution_count": 37,
   "metadata": {
    "colab": {
     "base_uri": "https://localhost:8080/",
     "height": 329
    },
    "id": "moyH5t2rpSBV",
    "outputId": "c6569ac0-b1e0-4e8a-bf0a-647b45d5a036"
   },
   "outputs": [
    {
     "data": {
      "text/html": [
       "<img src=\"https://raw.githubusercontent.com/rickiepark/ml-with-pytorch/main/ch11/figures/11_10.png\" width=\"300\"/>"
      ],
      "text/plain": [
       "<IPython.core.display.Image object>"
      ]
     },
     "execution_count": 37,
     "metadata": {},
     "output_type": "execute_result"
    }
   ],
   "source": [
    "Image(url='https://raw.githubusercontent.com/rickiepark/ml-with-pytorch/main/ch11/figures/11_10.png', width=300)"
   ]
  },
  {
   "cell_type": "markdown",
   "metadata": {
    "id": "ztimUW9zpSBV"
   },
   "source": [
    "<br>\n",
    "<br>"
   ]
  },
  {
   "cell_type": "markdown",
   "metadata": {
    "id": "r1N_T2d_pSBV"
   },
   "source": [
    "## 역전파 알고리즘 이해"
   ]
  },
  {
   "cell_type": "markdown",
   "metadata": {
    "id": "GYjiZNNnpSBV"
   },
   "source": [
    "..."
   ]
  },
  {
   "cell_type": "markdown",
   "metadata": {
    "id": "yqwBA6TrpSBV"
   },
   "source": [
    "## 역전파 알고리즘으로 신경망 훈련"
   ]
  },
  {
   "cell_type": "code",
   "execution_count": 38,
   "metadata": {
    "colab": {
     "base_uri": "https://localhost:8080/",
     "height": 257
    },
    "id": "u9LaqZWbpSBV",
    "outputId": "17985493-15fe-47ab-e823-07c95db7cb8f"
   },
   "outputs": [
    {
     "data": {
      "text/html": [
       "<img src=\"https://raw.githubusercontent.com/rickiepark/ml-with-pytorch/main/ch11/figures/11_11.png\" width=\"400\"/>"
      ],
      "text/plain": [
       "<IPython.core.display.Image object>"
      ]
     },
     "execution_count": 38,
     "metadata": {},
     "output_type": "execute_result"
    }
   ],
   "source": [
    "Image(url='https://raw.githubusercontent.com/rickiepark/ml-with-pytorch/main/ch11/figures/11_11.png', width=400)"
   ]
  },
  {
   "cell_type": "code",
   "execution_count": 39,
   "metadata": {
    "colab": {
     "base_uri": "https://localhost:8080/",
     "height": 185
    },
    "id": "xbasKpibpSBW",
    "outputId": "98d6b0fc-25ba-4ad0-d261-2a861581a130"
   },
   "outputs": [
    {
     "data": {
      "text/html": [
       "<img src=\"https://raw.githubusercontent.com/rickiepark/ml-with-pytorch/main/ch11/figures/11_12.png\" width=\"500\"/>"
      ],
      "text/plain": [
       "<IPython.core.display.Image object>"
      ]
     },
     "execution_count": 39,
     "metadata": {},
     "output_type": "execute_result"
    }
   ],
   "source": [
    "Image(url='https://raw.githubusercontent.com/rickiepark/ml-with-pytorch/main/ch11/figures/11_12.png', width=500)"
   ]
  },
  {
   "cell_type": "code",
   "execution_count": 40,
   "metadata": {
    "colab": {
     "base_uri": "https://localhost:8080/",
     "height": 200
    },
    "id": "LgK-dKtVpSBW",
    "outputId": "eb67147f-8390-45a2-b643-0cfe622f238c"
   },
   "outputs": [
    {
     "data": {
      "text/html": [
       "<img src=\"https://raw.githubusercontent.com/rickiepark/ml-with-pytorch/main/ch11/figures/11_13.png\" width=\"500\"/>"
      ],
      "text/plain": [
       "<IPython.core.display.Image object>"
      ]
     },
     "execution_count": 40,
     "metadata": {},
     "output_type": "execute_result"
    }
   ],
   "source": [
    "Image(url='https://raw.githubusercontent.com/rickiepark/ml-with-pytorch/main/ch11/figures/11_13.png', width=500)"
   ]
  },
  {
   "cell_type": "markdown",
   "metadata": {
    "id": "UXUg7a1HpSBW"
   },
   "source": [
    "<br>\n",
    "<br>"
   ]
  },
  {
   "cell_type": "markdown",
   "metadata": {
    "id": "G4y3LAhypSBW"
   },
   "source": [
    "# 신경망의 수렴"
   ]
  },
  {
   "cell_type": "code",
   "execution_count": 41,
   "metadata": {
    "colab": {
     "base_uri": "https://localhost:8080/",
     "height": 318
    },
    "id": "SjlUpsP6pSBW",
    "outputId": "c41fdb95-ba3c-4da7-9bf4-9b5a53b2523a"
   },
   "outputs": [
    {
     "data": {
      "text/html": [
       "<img src=\"https://raw.githubusercontent.com/rickiepark/ml-with-pytorch/main/ch11/figures/11_14.png\" width=\"500\"/>"
      ],
      "text/plain": [
       "<IPython.core.display.Image object>"
      ]
     },
     "execution_count": 41,
     "metadata": {},
     "output_type": "execute_result"
    }
   ],
   "source": [
    "Image(url='https://raw.githubusercontent.com/rickiepark/ml-with-pytorch/main/ch11/figures/11_14.png', width=500)"
   ]
  },
  {
   "cell_type": "markdown",
   "metadata": {
    "id": "vxUEJYEIpSBW"
   },
   "source": [
    "<br>\n",
    "<br>"
   ]
  },
  {
   "cell_type": "markdown",
   "metadata": {
    "id": "kieQxwjgpSBW"
   },
   "source": [
    "..."
   ]
  },
  {
   "cell_type": "markdown",
   "metadata": {
    "id": "pijfQFUqpSBW"
   },
   "source": [
    "# 요약"
   ]
  },
  {
   "cell_type": "markdown",
   "metadata": {
    "id": "_gj5fh91pSBX"
   },
   "source": [
    "..."
   ]
  }
 ],
 "metadata": {
  "anaconda-cloud": {},
  "colab": {
   "provenance": []
  },
  "kernelspec": {
   "display_name": "Python 3 (ipykernel)",
   "language": "python",
   "name": "python3"
  },
  "language_info": {
   "codemirror_mode": {
    "name": "ipython",
    "version": 3
   },
   "file_extension": ".py",
   "mimetype": "text/x-python",
   "name": "python",
   "nbconvert_exporter": "python",
   "pygments_lexer": "ipython3",
   "version": "3.11.12"
  }
 },
 "nbformat": 4,
 "nbformat_minor": 4
}
