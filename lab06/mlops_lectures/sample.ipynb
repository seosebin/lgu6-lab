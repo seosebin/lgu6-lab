{
 "cells": [
  {
   "cell_type": "markdown",
   "id": "0a6ba31f-8e3f-4b47-bbf2-d7de8689c5e9",
   "metadata": {},
   "source": [
    "# Scikit Learn 방식"
   ]
  },
  {
   "cell_type": "code",
   "execution_count": 1,
   "id": "055d4d5a-fe5e-4da6-be5e-7f57cbe1b849",
   "metadata": {},
   "outputs": [
    {
     "data": {
      "text/plain": [
       "'3.1.0'"
      ]
     },
     "execution_count": 1,
     "metadata": {},
     "output_type": "execute_result"
    }
   ],
   "source": [
    "import mlflow\n",
    "mlflow.__version__"
   ]
  },
  {
   "cell_type": "code",
   "execution_count": 7,
   "id": "24800251-3431-43bb-b62b-162ea9dd983d",
   "metadata": {},
   "outputs": [],
   "source": [
    "import mlflow.sklearn\n",
    "from sklearn.ensemble import RandomForestClassifier\n",
    "from sklearn.datasets import load_iris\n",
    "from sklearn.model_selection import train_test_split\n",
    "from sklearn.metrics import accuracy_score\n",
    "\n",
    "mlflow.set_tracking_uri('http://127.0.0.1:5000') # HTTP 기반 tracking uri"
   ]
  },
  {
   "cell_type": "code",
   "execution_count": 12,
   "id": "e6c64961-96a2-4dec-9fcc-79771e0b779f",
   "metadata": {},
   "outputs": [
    {
     "name": "stderr",
     "output_type": "stream",
     "text": [
      "2025/06/11 15:19:32 WARNING mlflow.models.model: `artifact_path` is deprecated. Please use `name` instead.\n",
      "2025/06/11 15:19:34 WARNING mlflow.utils.environment: Failed to resolve installed pip version. ``pip`` will be added to conda.yaml environment spec without a version specifier.\n",
      "2025/06/11 15:19:34 WARNING mlflow.models.model: Model logged without a signature and input example. Please set `input_example` parameter when logging the model to auto infer the model signature.\n"
     ]
    },
    {
     "name": "stdout",
     "output_type": "stream",
     "text": [
      "logged model accuracy 1.0\n",
      "🏃 View run unique-bear-168 at: http://127.0.0.1:5000/#/experiments/0/runs/4ed22ae1163844b584fd30a81adee69c\n",
      "🧪 View experiment at: http://127.0.0.1:5000/#/experiments/0\n"
     ]
    }
   ],
   "source": [
    "iris = load_iris()\n",
    "X_train, X_test, y_train, y_test = train_test_split(\n",
    "    iris.data, iris.target, test_size=0.2, random_state=42\n",
    ")\n",
    "\n",
    "with mlflow.start_run():\n",
    "    # 모델 학습\n",
    "    clf = RandomForestClassifier(n_estimators=100, max_depth=3, random_state=42)\n",
    "    clf.fit(X_train, y_train)\n",
    "\n",
    "    # 예측 및 평가\n",
    "    y_pred = clf.predict(X_test)\n",
    "    acc = accuracy_score(y_test, y_pred)\n",
    "\n",
    "    # 매트릭, 모델 로깅, mlflow 문법\n",
    "    mlflow.log_param('n_estimators', 100)\n",
    "    mlflow.log_param('max_depth', 3)\n",
    "    mlflow.log_metric('accuracy', acc)\n",
    "\n",
    "    mlflow.sklearn.log_model(clf, 'model')\n",
    "    print('logged model accuracy', acc)"
   ]
  },
  {
   "cell_type": "code",
   "execution_count": null,
   "id": "2876f4ff-f5cf-42f6-9d97-134fdc848162",
   "metadata": {},
   "outputs": [],
   "source": []
  }
 ],
 "metadata": {
  "kernelspec": {
   "display_name": "Python 3 (ipykernel)",
   "language": "python",
   "name": "python3"
  },
  "language_info": {
   "codemirror_mode": {
    "name": "ipython",
    "version": 3
   },
   "file_extension": ".py",
   "mimetype": "text/x-python",
   "name": "python",
   "nbconvert_exporter": "python",
   "pygments_lexer": "ipython3",
   "version": "3.11.12"
  }
 },
 "nbformat": 4,
 "nbformat_minor": 5
}
