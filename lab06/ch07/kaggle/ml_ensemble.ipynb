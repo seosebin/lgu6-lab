{
 "cells": [
  {
   "cell_type": "markdown",
   "id": "afc64550-49a2-4473-b24c-a05c29e3ba39",
   "metadata": {},
   "source": [
    "# 코드 리뷰 "
   ]
  },
  {
   "cell_type": "code",
   "execution_count": 2,
   "id": "4d881db4-a5be-4515-a848-e30b9efa0310",
   "metadata": {},
   "outputs": [
    {
     "name": "stdout",
     "output_type": "stream",
     "text": [
      "각 모델 트레이닝\n"
     ]
    }
   ],
   "source": [
    "import pandas as pd\n",
    "import numpy as np\n",
    "from sklearn.model_selection import train_test_split, cross_val_score\n",
    "from sklearn.impute import SimpleImputer\n",
    "from sklearn.preprocessing import OneHotEncoder, StandardScaler\n",
    "from sklearn.compose import ColumnTransformer\n",
    "from sklearn.pipeline import Pipeline\n",
    "from sklearn.linear_model import Ridge, Lasso, ElasticNet\n",
    "from sklearn.ensemble import RandomForestRegressor, StackingRegressor\n",
    "from sklearn.metrics import mean_squared_error, make_scorer\n",
    "from sklearn.model_selection import RandomizedSearchCV\n",
    "from skopt import BayesSearchCV\n",
    "import xgboost as xgb\n",
    "import lightgbm as lgb\n",
    "import warnings\n",
    "import joblib\n",
    "import os\n",
    "import json\n",
    "from datetime import datetime\n",
    "\n",
    "# LightGBM 경고 메시지 무시\n",
    "warnings.filterwarnings('ignore', category=UserWarning, module='lightgbm')\n",
    "\n",
    "# 1. 데이터 준비\n",
    "train = pd.read_csv(\"train.csv\")\n",
    "test = pd.read_csv(\"test.csv\")\n",
    "\n",
    "# EDA에서 추출된 주요 변수\n",
    "main_features = [\n",
    "    'OverallQual', 'GrLivArea', 'GarageCars', 'GarageArea', 'TotalBsmtSF',\n",
    "    '1stFlrSF', 'FullBath', 'TotRmsAbvGrd', 'YearBuilt', 'YearRemodAdd',\n",
    "    'GarageYrBlt', 'MasVnrArea', 'Fireplaces', 'BsmtFinSF1', 'LotFrontage',\n",
    "    'WoodDeckSF', '2ndFlrSF', 'OpenPorchSF', 'HalfBath', 'LotArea',\n",
    "    'Neighborhood', 'ExterQual', 'KitchenQual', 'BsmtQual', 'GarageType',\n",
    "    'SaleCondition'\n",
    "]\n",
    "\n",
    "# 학습/검증 데이터 분리\n",
    "X = train[main_features]\n",
    "y = train['SalePrice']\n",
    "X_train, X_val, y_train, y_val = train_test_split(X, y, test_size=0.2, random_state=42)\n",
    "\n",
    "# 수치형/범주형 분리\n",
    "numeric_feats = X.select_dtypes(include=['int64', 'float64']).columns.tolist()\n",
    "categorical_feats = X.select_dtypes(include=['object']).columns.tolist()\n",
    "\n",
    "# 2. 전처리 파이프라인\n",
    "numeric_transformer = Pipeline([\n",
    "    ('imputer', SimpleImputer(strategy='mean')),\n",
    "    ('scaler', StandardScaler())\n",
    "])\n",
    "\n",
    "categorical_transformer = Pipeline([\n",
    "    ('imputer', SimpleImputer(strategy='most_frequent')),\n",
    "    ('encoder', OneHotEncoder(handle_unknown='ignore', sparse_output=False))\n",
    "])\n",
    "\n",
    "preprocessor = ColumnTransformer([\n",
    "    ('num', numeric_transformer, numeric_feats),\n",
    "    ('cat', categorical_transformer, categorical_feats)\n",
    "])\n",
    "\n",
    "# 3. 개별 모델 정의\n",
    "base_models = {\n",
    "    'Ridge': Ridge(alpha=1.0),\n",
    "    'Lasso': Lasso(alpha=1.0),\n",
    "    'ElasticNet': ElasticNet(alpha=1.0, l1_ratio=0.5),\n",
    "    'XGBoost': xgb.XGBRegressor(\n",
    "        n_estimators=500,\n",
    "        max_depth=5,\n",
    "        learning_rate=0.1,\n",
    "        subsample=0.8,\n",
    "        colsample_bytree=0.8,\n",
    "        tree_method='hist',\n",
    "        random_state=42\n",
    "    ),\n",
    "    'LightGBM': lgb.LGBMRegressor(\n",
    "        n_estimators=500,\n",
    "        max_depth=5,\n",
    "        learning_rate=0.1,\n",
    "        subsample=0.8,\n",
    "        colsample_bytree=0.8,\n",
    "        random_state=42,\n",
    "        verbose=-1\n",
    "    )\n",
    "}\n",
    "\n",
    "print(\"각 모델 트레이닝\")"
   ]
  },
  {
   "cell_type": "markdown",
   "id": "aaaf91b5-b36e-4ade-82f3-fe79875988dc",
   "metadata": {},
   "source": [
    "# 개별 모델 학습 및 평가"
   ]
  },
  {
   "cell_type": "code",
   "execution_count": 9,
   "id": "e2adc580-c508-4a45-83f2-cc703e6f57e5",
   "metadata": {},
   "outputs": [
    {
     "name": "stderr",
     "output_type": "stream",
     "text": [
      "C:\\Users\\Admin\\Desktop\\lgu6P_ml_dl\\.venv\\Lib\\site-packages\\sklearn\\linear_model\\_coordinate_descent.py:695: ConvergenceWarning: Objective did not converge. You might want to increase the number of iterations, check the scale of the features or consider increasing regularisation. Duality gap: 1.166e+10, tolerance: 6.967e+08\n",
      "  model = cd_fast.enet_coordinate_descent(\n",
      "C:\\Users\\Admin\\Desktop\\lgu6P_ml_dl\\.venv\\Lib\\site-packages\\sklearn\\utils\\validation.py:2739: UserWarning: X does not have valid feature names, but LGBMRegressor was fitted with feature names\n",
      "  warnings.warn(\n"
     ]
    }
   ],
   "source": [
    "individual_results = {}\n",
    "trained_models = {}\n",
    "\n",
    "for name, model in base_models.items():\n",
    "    # print(name, model)\n",
    "    # print(f\"\\nTraining {name}...\")\n",
    "    pipe = Pipeline([\n",
    "        ('preprocessor', preprocessor), \n",
    "        ('reg', model)\n",
    "    ])\n",
    "\n",
    "    # 학습 \n",
    "    pipe.fit(X_train, y_train)\n",
    "    # print(f\"\\nTraining {name} Completed...!!\")\n",
    "\n",
    "    # 검증\n",
    "    y_val_pred = pipe.predict(X_val) # 이 코드와 수요일 코드 비교 하면서 얼마나 코드가 간결해졌는지 반드시 확인\n",
    "    val_rmse = np.sqrt(mean_squared_error(y_val, y_val_pred))\n",
    "    # print(f\"{name} 모델 RMSE : {val_rmse}\")\n",
    "    individual_results[name] = val_rmse\n",
    "    trained_models[name] = pipe"
   ]
  },
  {
   "cell_type": "markdown",
   "id": "94897c72-e198-4004-a75c-2e589ded113e",
   "metadata": {},
   "source": [
    "# 스태킹 앙상블 모델"
   ]
  },
  {
   "cell_type": "code",
   "execution_count": 17,
   "id": "482349b0-fafa-474a-897b-b1a8b7392dcc",
   "metadata": {},
   "outputs": [],
   "source": [
    "# 현재 상태는 딕셔너리\n",
    "# StackingRegressor 클래스가 요구하는 입력 방식은 리스트, 리스트 내부는 튜플 형태로 구성\n",
    "# 튜플 형태 (모델의 이름, 모델의 객체)"
   ]
  },
  {
   "cell_type": "code",
   "execution_count": 22,
   "id": "788434b9-d87f-4765-91cb-7c51a8228937",
   "metadata": {},
   "outputs": [
    {
     "name": "stderr",
     "output_type": "stream",
     "text": [
      "C:\\Users\\Admin\\Desktop\\lgu6P_ml_dl\\.venv\\Lib\\site-packages\\sklearn\\utils\\validation.py:2739: UserWarning: X does not have valid feature names, but LGBMRegressor was fitted with feature names\n",
      "  warnings.warn(\n"
     ]
    },
    {
     "data": {
      "text/plain": [
       "np.float64(28165.657335583746)"
      ]
     },
     "execution_count": 22,
     "metadata": {},
     "output_type": "execute_result"
    }
   ],
   "source": [
    "stacking_models = list(trained_models.values())\n",
    "stacking_names = list(trained_models.keys())\n",
    "estimators = list(zip(stacking_names, stacking_models))  # 00 클래스의 매개변수 이름\n",
    "\n",
    "stacking_regressor = StackingRegressor(\n",
    "    estimators = estimators, \n",
    "    final_estimator = Ridge(alpha=1.0),\n",
    "    cv=5, \n",
    "    n_jobs=-1\n",
    ")\n",
    "\n",
    "stacking_regressor.fit(X_train, y_train)\n",
    "\n",
    "# 앙상블 모델 검증\n",
    "y_val_pred = stacking_regressor.predict(X_val)\n",
    "ensemble_rmse = np.sqrt(mean_squared_error(y_val, y_val_pred))\n",
    "ensemble_rmse"
   ]
  },
  {
   "cell_type": "markdown",
   "id": "31a28354-fd04-4f66-980f-4899b1b8dc65",
   "metadata": {},
   "source": [
    "# 모델 테스트"
   ]
  },
  {
   "cell_type": "code",
   "execution_count": 24,
   "id": "addfcb53-cedb-47fa-ac27-1a61429b9388",
   "metadata": {},
   "outputs": [
    {
     "name": "stderr",
     "output_type": "stream",
     "text": [
      "C:\\Users\\Admin\\Desktop\\lgu6P_ml_dl\\.venv\\Lib\\site-packages\\sklearn\\utils\\validation.py:2739: UserWarning: X does not have valid feature names, but LGBMRegressor was fitted with feature names\n",
      "  warnings.warn(\n"
     ]
    },
    {
     "data": {
      "text/html": [
       "<div>\n",
       "<style scoped>\n",
       "    .dataframe tbody tr th:only-of-type {\n",
       "        vertical-align: middle;\n",
       "    }\n",
       "\n",
       "    .dataframe tbody tr th {\n",
       "        vertical-align: top;\n",
       "    }\n",
       "\n",
       "    .dataframe thead th {\n",
       "        text-align: right;\n",
       "    }\n",
       "</style>\n",
       "<table border=\"1\" class=\"dataframe\">\n",
       "  <thead>\n",
       "    <tr style=\"text-align: right;\">\n",
       "      <th></th>\n",
       "      <th>Id</th>\n",
       "      <th>SalePrice</th>\n",
       "    </tr>\n",
       "  </thead>\n",
       "  <tbody>\n",
       "    <tr>\n",
       "      <th>0</th>\n",
       "      <td>1461</td>\n",
       "      <td>129808.364039</td>\n",
       "    </tr>\n",
       "    <tr>\n",
       "      <th>1</th>\n",
       "      <td>1462</td>\n",
       "      <td>164551.512067</td>\n",
       "    </tr>\n",
       "    <tr>\n",
       "      <th>2</th>\n",
       "      <td>1463</td>\n",
       "      <td>186657.585677</td>\n",
       "    </tr>\n",
       "    <tr>\n",
       "      <th>3</th>\n",
       "      <td>1464</td>\n",
       "      <td>190667.914572</td>\n",
       "    </tr>\n",
       "    <tr>\n",
       "      <th>4</th>\n",
       "      <td>1465</td>\n",
       "      <td>206828.676687</td>\n",
       "    </tr>\n",
       "    <tr>\n",
       "      <th>...</th>\n",
       "      <td>...</td>\n",
       "      <td>...</td>\n",
       "    </tr>\n",
       "    <tr>\n",
       "      <th>1454</th>\n",
       "      <td>2915</td>\n",
       "      <td>68641.914990</td>\n",
       "    </tr>\n",
       "    <tr>\n",
       "      <th>1455</th>\n",
       "      <td>2916</td>\n",
       "      <td>72949.239007</td>\n",
       "    </tr>\n",
       "    <tr>\n",
       "      <th>1456</th>\n",
       "      <td>2917</td>\n",
       "      <td>160327.211971</td>\n",
       "    </tr>\n",
       "    <tr>\n",
       "      <th>1457</th>\n",
       "      <td>2918</td>\n",
       "      <td>112886.382235</td>\n",
       "    </tr>\n",
       "    <tr>\n",
       "      <th>1458</th>\n",
       "      <td>2919</td>\n",
       "      <td>212435.850063</td>\n",
       "    </tr>\n",
       "  </tbody>\n",
       "</table>\n",
       "<p>1459 rows × 2 columns</p>\n",
       "</div>"
      ],
      "text/plain": [
       "        Id      SalePrice\n",
       "0     1461  129808.364039\n",
       "1     1462  164551.512067\n",
       "2     1463  186657.585677\n",
       "3     1464  190667.914572\n",
       "4     1465  206828.676687\n",
       "...    ...            ...\n",
       "1454  2915   68641.914990\n",
       "1455  2916   72949.239007\n",
       "1456  2917  160327.211971\n",
       "1457  2918  112886.382235\n",
       "1458  2919  212435.850063\n",
       "\n",
       "[1459 rows x 2 columns]"
      ]
     },
     "execution_count": 24,
     "metadata": {},
     "output_type": "execute_result"
    }
   ],
   "source": [
    "X_test = test[main_features]\n",
    "test_predictions = stacking_regressor.predict(X_test)\n",
    "pd.DataFrame({\n",
    "    'Id' : test['Id'], \n",
    "    'SalePrice' : test_predictions\n",
    "})"
   ]
  },
  {
   "cell_type": "markdown",
   "id": "2e08ff89-3f8d-4d9d-9b25-ecbd48846b90",
   "metadata": {},
   "source": [
    "# 다음 시간 미션\n",
    "- 타이타닉 데이터 활용해서 분류 모델 만들기\n",
    "- Stacking 방식으로"
   ]
  }
 ],
 "metadata": {
  "kernelspec": {
   "display_name": "Python 3 (ipykernel)",
   "language": "python",
   "name": "python3"
  },
  "language_info": {
   "codemirror_mode": {
    "name": "ipython",
    "version": 3
   },
   "file_extension": ".py",
   "mimetype": "text/x-python",
   "name": "python",
   "nbconvert_exporter": "python",
   "pygments_lexer": "ipython3",
   "version": "3.11.12"
  }
 },
 "nbformat": 4,
 "nbformat_minor": 5
}
