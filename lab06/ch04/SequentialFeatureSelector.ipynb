{
  "cells": [
    {
      "cell_type": "markdown",
      "metadata": {
        "id": "d4mVCowCdEq5"
      },
      "source": [
        "# 머신 러닝 교과서 - 파이토치편"
      ]
    },
    {
      "cell_type": "markdown",
      "metadata": {
        "id": "mQMd36_KdEq8"
      },
      "source": [
        "<table align=\"left\"><tr><td>\n",
        "<a href=\"https://colab.research.google.com/github/rickiepark/ml-with-pytorch/blob/main/ch04/SequentialFeatureSelector.ipynb\" target=\"_parent\"><img src=\"https://colab.research.google.com/assets/colab-badge.svg\" alt=\"코랩에서 실행하기\"/></a>\n",
        "</td></tr></table>"
      ]
    },
    {
      "cell_type": "markdown",
      "metadata": {
        "id": "mq6v8pNYdEq7"
      },
      "source": [
        "# 4장 - 좋은 훈련 데이터셋 만들기 – 데이터 전처리"
      ]
    },
    {
      "cell_type": "markdown",
      "metadata": {
        "id": "8Os-4JDvScgV"
      },
      "source": [
        "## 4.5.4 순차 특성 선택 알고리즘"
      ]
    },
    {
      "cell_type": "markdown",
      "metadata": {
        "id": "B2ogTR9QScgZ"
      },
      "source": [
        "4.5절에서 사용하는 데이터셋을 로드합니다."
      ]
    },
    {
      "cell_type": "code",
      "execution_count": 1,
      "metadata": {
        "execution": {
          "iopub.execute_input": "2021-10-23T05:54:53.082464Z",
          "iopub.status.busy": "2021-10-23T05:54:53.081101Z",
          "iopub.status.idle": "2021-10-23T05:54:53.658104Z",
          "shell.execute_reply": "2021-10-23T05:54:53.658587Z"
        },
        "id": "LKqSVFwhScga"
      },
      "outputs": [],
      "source": [
        "import numpy as np\n",
        "import pandas as pd\n",
        "import matplotlib.pyplot as plt"
      ]
    },
    {
      "cell_type": "code",
      "execution_count": 2,
      "metadata": {
        "execution": {
          "iopub.execute_input": "2021-10-23T05:54:53.663305Z",
          "iopub.status.busy": "2021-10-23T05:54:53.662136Z",
          "iopub.status.idle": "2021-10-23T05:54:54.332303Z",
          "shell.execute_reply": "2021-10-23T05:54:54.331553Z"
        },
        "id": "l6Z2jGnUScga"
      },
      "outputs": [],
      "source": [
        "df_wine = pd.read_csv('https://archive.ics.uci.edu/'\n",
        "                      'ml/machine-learning-databases/wine/wine.data',\n",
        "                      header=None)\n",
        "\n",
        "df_wine.columns = ['Class label', 'Alcohol', 'Malic acid', 'Ash',\n",
        "                   'Alcalinity of ash', 'Magnesium', 'Total phenols',\n",
        "                   'Flavanoids', 'Nonflavanoid phenols', 'Proanthocyanins',\n",
        "                   'Color intensity', 'Hue', 'OD280/OD315 of diluted wines',\n",
        "                   'Proline']"
      ]
    },
    {
      "cell_type": "code",
      "execution_count": 3,
      "metadata": {
        "execution": {
          "iopub.execute_input": "2021-10-23T05:54:54.340837Z",
          "iopub.status.busy": "2021-10-23T05:54:54.339340Z",
          "iopub.status.idle": "2021-10-23T05:54:54.676341Z",
          "shell.execute_reply": "2021-10-23T05:54:54.675507Z"
        },
        "id": "-drOG_MMScga"
      },
      "outputs": [],
      "source": [
        "from sklearn.model_selection import train_test_split\n",
        "from sklearn.preprocessing import StandardScaler\n",
        "\n",
        "X, y = df_wine.iloc[:, 1:].values, df_wine.iloc[:, 0].values\n",
        "\n",
        "X_train, X_test, y_train, y_test =\\\n",
        "    train_test_split(X, y,\n",
        "                     test_size=0.3,\n",
        "                     random_state=0,\n",
        "                     stratify=y)\n",
        "\n",
        "stdsc = StandardScaler()\n",
        "X_train_std = stdsc.fit_transform(X_train)\n",
        "X_test_std = stdsc.transform(X_test)"
      ]
    },
    {
      "cell_type": "markdown",
      "metadata": {
        "id": "Gj1VsXpgScga"
      },
      "source": [
        "`SequentialFeatureSelector`를 임포트하고 최근접 이웃 분류기 객체를 준비합니다."
      ]
    },
    {
      "cell_type": "code",
      "execution_count": 4,
      "metadata": {
        "execution": {
          "iopub.execute_input": "2021-10-23T05:54:54.682705Z",
          "iopub.status.busy": "2021-10-23T05:54:54.681592Z",
          "iopub.status.idle": "2021-10-23T05:54:54.713407Z",
          "shell.execute_reply": "2021-10-23T05:54:54.713923Z"
        },
        "id": "vGEcLkkUScgb"
      },
      "outputs": [],
      "source": [
        "from sklearn.feature_selection import SequentialFeatureSelector\n",
        "from sklearn.neighbors import KNeighborsClassifier\n",
        "\n",
        "knn = KNeighborsClassifier(n_neighbors=5)"
      ]
    },
    {
      "cell_type": "markdown",
      "metadata": {
        "id": "0ghi7Y2DScgb"
      },
      "source": [
        "사용할 모델 객체를 첫 번째 매개변수로 전달합니다. 선택할 특성의 개수는 `n_features_to_select`에서 지정합니다. 기본값은 입력 특성의 절반입니다. 0~1 사이 실수를 지정하면 선택할 특성의 비율로 인식합니다.\n",
        "\n",
        "`direction` 매개변수로 특성 선택 방향(전진 또는 후진)을 선택합니다. 기본값은 전진을 의미하는 `'forward'`이고 후진을 선택하려면 `'backward'`로 지정합니다.\n",
        "\n",
        "이 클래스는 특성을 선택하기 위해 교차 검증을 사용합니다. `cv` 매개변수에서 교차 검증 횟수를 지정할 수 있습니다. 기본값은 5입니다. 회귀 모델일 경우 `KFold`, 분류 모델일 경우 `StratifiedKFold`를 사용하여 폴드를 나눕니다.\n",
        "\n",
        "이 클래스는 하나의 특성을 선택할 때마다 현재 남은 특성 개수(m)에 대해 교차 검증을 수행하므로 `m * cv`개의 모델을 만듭니다. 이렇게 단계마다 많은 모델을 만들기 때문에 일반적으로 `RFE`나 `SelectFromModel`보다 느립니다. `n_jobs` 매개변수를 1 이상으로 지정하여 여러 코어를 사용하는 것이 좋습니다."
      ]
    },
    {
      "cell_type": "code",
      "execution_count": 5,
      "metadata": {
        "execution": {
          "iopub.execute_input": "2021-10-23T05:54:54.718556Z",
          "iopub.status.busy": "2021-10-23T05:54:54.717509Z",
          "iopub.status.idle": "2021-10-23T05:55:07.167604Z",
          "shell.execute_reply": "2021-10-23T05:55:07.166601Z"
        },
        "id": "SPaLDZt6Scgb"
      },
      "outputs": [],
      "source": [
        "scores = []\n",
        "for n_features in range(1, 13):\n",
        "    sfs = SequentialFeatureSelector(knn, n_features_to_select=n_features, n_jobs=-1)\n",
        "    sfs.fit(X_train_std, y_train)\n",
        "    f_mask = sfs.support_\n",
        "    knn.fit(X_train_std[:, f_mask], y_train)\n",
        "    scores.append(knn.score(X_train_std[:, f_mask], y_train))"
      ]
    },
    {
      "cell_type": "code",
      "execution_count": 6,
      "metadata": {
        "colab": {
          "base_uri": "https://localhost:8080/",
          "height": 487
        },
        "execution": {
          "iopub.execute_input": "2021-10-23T05:55:07.188033Z",
          "iopub.status.busy": "2021-10-23T05:55:07.186998Z",
          "iopub.status.idle": "2021-10-23T05:55:07.392649Z",
          "shell.execute_reply": "2021-10-23T05:55:07.393200Z"
        },
        "id": "o7y0RoNAScgb",
        "outputId": "f15db59a-1134-4406-e816-095ae25411ba",
        "scrolled": true
      },
      "outputs": [
        {
          "output_type": "display_data",
          "data": {
            "text/plain": [
              "<Figure size 640x480 with 1 Axes>"
            ],
            "image/png": "[encoded data removed]"
          },
          "metadata": {}
        }
      ],
      "source": [
        "plt.plot(range(1, 13), scores, marker='o')\n",
        "plt.ylim([0.7, 1.02])\n",
        "plt.ylabel('Accuracy')\n",
        "plt.xlabel('Number of features')\n",
        "plt.grid()\n",
        "plt.tight_layout()\n",
        "# plt.savefig('images/04_sfs.png', dpi=300)\n",
        "plt.show()"
      ]
    },
    {
      "cell_type": "code",
      "execution_count": 7,
      "metadata": {
        "colab": {
          "base_uri": "https://localhost:8080/",
          "height": 117
        },
        "execution": {
          "iopub.execute_input": "2021-10-23T05:55:07.399571Z",
          "iopub.status.busy": "2021-10-23T05:55:07.398721Z",
          "iopub.status.idle": "2021-10-23T05:55:08.427688Z",
          "shell.execute_reply": "2021-10-23T05:55:08.426653Z"
        },
        "id": "0Bt-QBgtScgc",
        "outputId": "0dc974ba-c82a-4c44-d19d-f6ef67ae716f"
      },
      "outputs": [
        {
          "output_type": "execute_result",
          "data": {
            "text/plain": [
              "SequentialFeatureSelector(estimator=KNeighborsClassifier(),\n",
              "                          n_features_to_select=7, n_jobs=-1)"
            ],
            "text/html": [
              "<style>#sk-container-id-1 {color: black;background-color: white;}#sk-container-id-1 pre{padding: 0;}#sk-container-id-1 div.sk-toggleable {background-color: white;}#sk-container-id-1 label.sk-toggleable__label {cursor: pointer;display: block;width: 100%;margin-bottom: 0;padding: 0.3em;box-sizing: border-box;text-align: center;}#sk-container-id-1 label.sk-toggleable__label-arrow:before {content: \"▸\";float: left;margin-right: 0.25em;color: #696969;}#sk-container-id-1 label.sk-toggleable__label-arrow:hover:before {color: black;}#sk-container-id-1 div.sk-estimator:hover label.sk-toggleable__label-arrow:before {color: black;}#sk-container-id-1 div.sk-toggleable__content {max-height: 0;max-width: 0;overflow: hidden;text-align: left;background-color: #f0f8ff;}#sk-container-id-1 div.sk-toggleable__content pre {margin: 0.2em;color: black;border-radius: 0.25em;background-color: #f0f8ff;}#sk-container-id-1 input.sk-toggleable__control:checked~div.sk-toggleable__content {max-height: 200px;max-width: 100%;overflow: auto;}#sk-container-id-1 input.sk-toggleable__control:checked~label.sk-toggleable__label-arrow:before {content: \"▾\";}#sk-container-id-1 div.sk-estimator input.sk-toggleable__control:checked~label.sk-toggleable__label {background-color: #d4ebff;}#sk-container-id-1 div.sk-label input.sk-toggleable__control:checked~label.sk-toggleable__label {background-color: #d4ebff;}#sk-container-id-1 input.sk-hidden--visually {border: 0;clip: rect(1px 1px 1px 1px);clip: rect(1px, 1px, 1px, 1px);height: 1px;margin: -1px;overflow: hidden;padding: 0;position: absolute;width: 1px;}#sk-container-id-1 div.sk-estimator {font-family: monospace;background-color: #f0f8ff;border: 1px dotted black;border-radius: 0.25em;box-sizing: border-box;margin-bottom: 0.5em;}#sk-container-id-1 div.sk-estimator:hover {background-color: #d4ebff;}#sk-container-id-1 div.sk-parallel-item::after {content: \"\";width: 100%;border-bottom: 1px solid gray;flex-grow: 1;}#sk-container-id-1 div.sk-label:hover label.sk-toggleable__label {background-color: #d4ebff;}#sk-container-id-1 div.sk-serial::before {content: \"\";position: absolute;border-left: 1px solid gray;box-sizing: border-box;top: 0;bottom: 0;left: 50%;z-index: 0;}#sk-container-id-1 div.sk-serial {display: flex;flex-direction: column;align-items: center;background-color: white;padding-right: 0.2em;padding-left: 0.2em;position: relative;}#sk-container-id-1 div.sk-item {position: relative;z-index: 1;}#sk-container-id-1 div.sk-parallel {display: flex;align-items: stretch;justify-content: center;background-color: white;position: relative;}#sk-container-id-1 div.sk-item::before, #sk-container-id-1 div.sk-parallel-item::before {content: \"\";position: absolute;border-left: 1px solid gray;box-sizing: border-box;top: 0;bottom: 0;left: 50%;z-index: -1;}#sk-container-id-1 div.sk-parallel-item {display: flex;flex-direction: column;z-index: 1;position: relative;background-color: white;}#sk-container-id-1 div.sk-parallel-item:first-child::after {align-self: flex-end;width: 50%;}#sk-container-id-1 div.sk-parallel-item:last-child::after {align-self: flex-start;width: 50%;}#sk-container-id-1 div.sk-parallel-item:only-child::after {width: 0;}#sk-container-id-1 div.sk-dashed-wrapped {border: 1px dashed gray;margin: 0 0.4em 0.5em 0.4em;box-sizing: border-box;padding-bottom: 0.4em;background-color: white;}#sk-container-id-1 div.sk-label label {font-family: monospace;font-weight: bold;display: inline-block;line-height: 1.2em;}#sk-container-id-1 div.sk-label-container {text-align: center;}#sk-container-id-1 div.sk-container {/* jupyter's `normalize.less` sets `[hidden] { display: none; }` but bootstrap.min.css set `[hidden] { display: none !important; }` so we also need the `!important` here to be able to override the default hidden behavior on the sphinx rendered scikit-learn.org. See: https://github.com/scikit-learn/scikit-learn/issues/21755 */display: inline-block !important;position: relative;}#sk-container-id-1 div.sk-text-repr-fallback {display: none;}</style><div id=\"sk-container-id-1\" class=\"sk-top-container\"><div class=\"sk-text-repr-fallback\"><pre>SequentialFeatureSelector(estimator=KNeighborsClassifier(),\n",
              "                          n_features_to_select=7, n_jobs=-1)</pre><b>In a Jupyter environment, please rerun this cell to show the HTML representation or trust the notebook. <br />On GitHub, the HTML representation is unable to render, please try loading this page with nbviewer.org.</b></div><div class=\"sk-container\" hidden><div class=\"sk-item sk-dashed-wrapped\"><div class=\"sk-label-container\"><div class=\"sk-label sk-toggleable\"><input class=\"sk-toggleable__control sk-hidden--visually\" id=\"sk-estimator-id-1\" type=\"checkbox\" ><label for=\"sk-estimator-id-1\" class=\"sk-toggleable__label sk-toggleable__label-arrow\">SequentialFeatureSelector</label><div class=\"sk-toggleable__content\"><pre>SequentialFeatureSelector(estimator=KNeighborsClassifier(),\n",
              "                          n_features_to_select=7, n_jobs=-1)</pre></div></div></div><div class=\"sk-parallel\"><div class=\"sk-parallel-item\"><div class=\"sk-item\"><div class=\"sk-label-container\"><div class=\"sk-label sk-toggleable\"><input class=\"sk-toggleable__control sk-hidden--visually\" id=\"sk-estimator-id-2\" type=\"checkbox\" ><label for=\"sk-estimator-id-2\" class=\"sk-toggleable__label sk-toggleable__label-arrow\">estimator: KNeighborsClassifier</label><div class=\"sk-toggleable__content\"><pre>KNeighborsClassifier()</pre></div></div></div><div class=\"sk-serial\"><div class=\"sk-item\"><div class=\"sk-estimator sk-toggleable\"><input class=\"sk-toggleable__control sk-hidden--visually\" id=\"sk-estimator-id-3\" type=\"checkbox\" ><label for=\"sk-estimator-id-3\" class=\"sk-toggleable__label sk-toggleable__label-arrow\">KNeighborsClassifier</label><div class=\"sk-toggleable__content\"><pre>KNeighborsClassifier()</pre></div></div></div></div></div></div></div></div></div></div>"
            ]
          },
          "metadata": {},
          "execution_count": 7
        }
      ],
      "source": [
        "sfs = SequentialFeatureSelector(knn, n_features_to_select=7, n_jobs=-1)\n",
        "sfs.fit(X_train_std, y_train)"
      ]
    },
    {
      "cell_type": "code",
      "execution_count": 8,
      "metadata": {
        "colab": {
          "base_uri": "https://localhost:8080/"
        },
        "execution": {
          "iopub.execute_input": "2021-10-23T05:55:08.434633Z",
          "iopub.status.busy": "2021-10-23T05:55:08.433618Z",
          "iopub.status.idle": "2021-10-23T05:55:08.438283Z",
          "shell.execute_reply": "2021-10-23T05:55:08.438766Z"
        },
        "id": "xHezF2ZrScgd",
        "outputId": "467d2e28-8a57-479e-e6cb-bb608e6b4449",
        "scrolled": true
      },
      "outputs": [
        {
          "output_type": "stream",
          "name": "stdout",
          "text": [
            "7\n"
          ]
        },
        {
          "output_type": "execute_result",
          "data": {
            "text/plain": [
              "Index(['Alcohol', 'Ash', 'Magnesium', 'Flavanoids', 'Color intensity', 'Hue',\n",
              "       'Proline'],\n",
              "      dtype='object')"
            ]
          },
          "metadata": {},
          "execution_count": 8
        }
      ],
      "source": [
        "print(sfs.n_features_to_select_)\n",
        "f_mask = sfs.support_\n",
        "df_wine.columns[1:][f_mask]"
      ]
    },
    {
      "cell_type": "code",
      "execution_count": 9,
      "metadata": {
        "colab": {
          "base_uri": "https://localhost:8080/"
        },
        "execution": {
          "iopub.execute_input": "2021-10-23T05:55:08.446050Z",
          "iopub.status.busy": "2021-10-23T05:55:08.445302Z",
          "iopub.status.idle": "2021-10-23T05:55:08.455316Z",
          "shell.execute_reply": "2021-10-23T05:55:08.455825Z"
        },
        "id": "76DLeStyScgd",
        "outputId": "3048c141-e7d0-4f0a-d848-391f9b547741",
        "scrolled": true
      },
      "outputs": [
        {
          "output_type": "stream",
          "name": "stdout",
          "text": [
            "훈련 정확도: 0.9838709677419355\n",
            "테스트 정확도: 0.9814814814814815\n"
          ]
        }
      ],
      "source": [
        "knn.fit(X_train_std[:, f_mask], y_train)\n",
        "print('훈련 정확도:', knn.score(X_train_std[:, f_mask], y_train))\n",
        "print('테스트 정확도:', knn.score(X_test_std[:, f_mask], y_test))"
      ]
    }
  ],
  "metadata": {
    "colab": {
      "name": "SequentialFeatureSelector.ipynb",
      "provenance": []
    },
    "kernelspec": {
      "display_name": "Python 3",
      "language": "python",
      "name": "python3"
    },
    "language_info": {
      "codemirror_mode": {
        "name": "ipython",
        "version": 3
      },
      "file_extension": ".py",
      "mimetype": "text/x-python",
      "name": "python",
      "nbconvert_exporter": "python",
      "pygments_lexer": "ipython3",
      "version": "3.7.3"
    }
  },
  "nbformat": 4,
  "nbformat_minor": 0
}