{
 "cells": [
  {
   "cell_type": "markdown",
   "id": "edb47277-4249-4c8b-b222-ae37c9495c86",
   "metadata": {},
   "source": [
    "# 교차 검증, 하이퍼파라미터 튜닝\n",
    "- 가장 좋은 모델 선정"
   ]
  },
  {
   "cell_type": "code",
   "execution_count": 1,
   "id": "5395ec58-5148-4ff4-a805-94be35a19040",
   "metadata": {},
   "outputs": [
    {
     "data": {
      "text/plain": [
       "'1.6.1'"
      ]
     },
     "execution_count": 1,
     "metadata": {},
     "output_type": "execute_result"
    }
   ],
   "source": [
    "import sklearn\n",
    "sklearn.__version__"
   ]
  },
  {
   "cell_type": "code",
   "execution_count": 2,
   "id": "3505009d-a075-41d3-9674-e116a1baca1e",
   "metadata": {},
   "outputs": [
    {
     "data": {
      "text/plain": [
       "Survived\n",
       "0    549\n",
       "1    342\n",
       "Name: count, dtype: int64"
      ]
     },
     "execution_count": 2,
     "metadata": {},
     "output_type": "execute_result"
    }
   ],
   "source": [
    "# 필요한 라이브러리 임포트\n",
    "import pandas as pd  # 데이터 처리를 위한 pandas\n",
    "import numpy as np   # 수치 계산을 위한 numpy\n",
    "from sklearn.ensemble import RandomForestClassifier  # 랜덤 포레스트 분류기\n",
    "from sklearn.svm import SVC  # 서포트 벡터 머신\n",
    "from sklearn.linear_model import LogisticRegression  # 로지스틱 회귀\n",
    "from sklearn.model_selection import train_test_split, cross_val_score  # 데이터 분할 및 교차 검증\n",
    "from sklearn.metrics import accuracy_score  # 정확도 평가 지표\n",
    "\n",
    "# 데이터 가져오기\n",
    "data = pd.read_csv(\"train.csv\")\n",
    "data.head()\n",
    "\n",
    "# 모델링에 사용할 특성(feature)과 타겟(taarget) 변수 선택\n",
    "features = ['Pclass', 'Sex', 'Age', 'SibSp', 'Parch', 'Fare', 'Embarked']  # 승객 등급, 성별, 나이, 동반자 수, 요금, 탑승 항구\n",
    "target = 'Survived'  # 생존 여부 (0: 사망, 1: 생존)\n",
    "data['Survived'].value_counts() # 비율이 5:5 (x) ==> 클래스 불균형, Class Imbalanced"
   ]
  },
  {
   "cell_type": "code",
   "execution_count": 3,
   "id": "494a7426-877a-4c09-8891-f2dac14867a4",
   "metadata": {},
   "outputs": [
    {
     "name": "stdout",
     "output_type": "stream",
     "text": [
      "<class 'pandas.core.frame.DataFrame'>\n",
      "RangeIndex: 891 entries, 0 to 890\n",
      "Data columns (total 12 columns):\n",
      " #   Column       Non-Null Count  Dtype  \n",
      "---  ------       --------------  -----  \n",
      " 0   PassengerId  891 non-null    int64  \n",
      " 1   Survived     891 non-null    int64  \n",
      " 2   Pclass       891 non-null    int64  \n",
      " 3   Name         891 non-null    object \n",
      " 4   Sex          891 non-null    object \n",
      " 5   Age          714 non-null    float64\n",
      " 6   SibSp        891 non-null    int64  \n",
      " 7   Parch        891 non-null    int64  \n",
      " 8   Ticket       891 non-null    object \n",
      " 9   Fare         891 non-null    float64\n",
      " 10  Cabin        204 non-null    object \n",
      " 11  Embarked     889 non-null    object \n",
      "dtypes: float64(2), int64(5), object(5)\n",
      "memory usage: 83.7+ KB\n"
     ]
    }
   ],
   "source": [
    "# 결측치 확인\n",
    "data.info()"
   ]
  },
  {
   "cell_type": "markdown",
   "id": "4794cf1a-b52b-45d3-b1a1-796082026084",
   "metadata": {},
   "source": [
    "# 데이터 전처리\n",
    "- 고려사항 : 전체 데이터에 해도 무방한가? 아니면 훈련데이터에만 적용해야 하는가?\n",
    "  + 전체 데이터에 해도 무방한가? 아니면 훈련데이터에만 적용해야 하는가?\n",
    "  + 범주 데이터는 두가지 선택지 : One-Hot Encoder, Label Encoder (0, 1, 2) / 탐색적 데이터 분석 & 사회적인 통념"
   ]
  },
  {
   "cell_type": "code",
   "execution_count": 4,
   "id": "fa826e47-f72a-4971-968e-80b855d53061",
   "metadata": {},
   "outputs": [
    {
     "data": {
      "text/plain": [
       "(0      0\n",
       " 1      1\n",
       " 2      1\n",
       " 3      1\n",
       " 4      0\n",
       "       ..\n",
       " 886    0\n",
       " 887    1\n",
       " 888    1\n",
       " 889    0\n",
       " 890    0\n",
       " Name: Sex, Length: 891, dtype: int64,\n",
       " 0      2.0\n",
       " 1      0.0\n",
       " 2      2.0\n",
       " 3      2.0\n",
       " 4      2.0\n",
       "       ... \n",
       " 886    2.0\n",
       " 887    2.0\n",
       " 888    2.0\n",
       " 889    0.0\n",
       " 890    1.0\n",
       " Name: Embarked, Length: 891, dtype: float64)"
      ]
     },
     "execution_count": 4,
     "metadata": {},
     "output_type": "execute_result"
    }
   ],
   "source": [
    "# data['Sex'].unique()\n",
    "data['Sex'] = data['Sex'].map({'male' : 0, 'female' : 1}) # 성별, 남성=0, 여성=1\n",
    "data['Embarked'] = data['Embarked'].map({'C' : 0, 'Q' : 1, 'S' : 2}) # 성별, 남성=0, 여성=1\n",
    "data['Sex'], data['Embarked']"
   ]
  },
  {
   "cell_type": "code",
   "execution_count": 5,
   "id": "ccb4ad69-5f15-4eb9-b8c3-8a905c94465f",
   "metadata": {},
   "outputs": [
    {
     "data": {
      "text/plain": [
       "Embarked\n",
       "2.0    644\n",
       "0.0    168\n",
       "1.0     77\n",
       "Name: count, dtype: int64"
      ]
     },
     "execution_count": 5,
     "metadata": {},
     "output_type": "execute_result"
    }
   ],
   "source": [
    "data['Embarked'].value_counts()"
   ]
  },
  {
   "cell_type": "markdown",
   "id": "3e0155cc-62a1-48ba-93a0-4e7f015c275e",
   "metadata": {},
   "source": [
    "# 데이터셋 분리"
   ]
  },
  {
   "cell_type": "code",
   "execution_count": 6,
   "id": "41cc82d5-71a4-4145-b117-50fc21885a02",
   "metadata": {},
   "outputs": [
    {
     "data": {
      "text/plain": [
       "((668, 7), (223, 7), (668,), (223,))"
      ]
     },
     "execution_count": 6,
     "metadata": {},
     "output_type": "execute_result"
    }
   ],
   "source": [
    "# 현재 고려하지 않은 feature 3개 : ID, Name, Cabin \n",
    "# -> ID 같은 유일값으로는 규칙을 찾을 수 없음 그래서 제외\n",
    "# -> 결측치의 경우에는 채워서 평균을 구하는데 Cabin의 경우 결측치가 많아서 제외\n",
    "features = ['Pclass', 'Sex', 'Age', 'SibSp', 'Parch', 'Fare', 'Embarked']  # 승객 등급, 성별, 나이, 동반자 수, 요금, 탑승 항구\n",
    "target = 'Survived'  # 생존 여부 (0: 사망, 1: 생존)\n",
    "\n",
    "X = data[features] # 특성 데이터\n",
    "y = data[target] # 타겟 데이터\n",
    "\n",
    "X_train, X_test, y_train, y_test = train_test_split(\n",
    "    X, y, random_state=42, stratify=y # 층화추출\n",
    ") \n",
    "\n",
    "X_train.shape, X_test.shape, y_train.shape, y_test.shape"
   ]
  },
  {
   "cell_type": "markdown",
   "id": "026ff239-b757-45d9-9faa-2241e0c8b8fd",
   "metadata": {},
   "source": [
    "# 피처 엔지니어링"
   ]
  },
  {
   "cell_type": "code",
   "execution_count": 7,
   "id": "b253c4f4-a6bf-41df-93ad-325292b9409d",
   "metadata": {},
   "outputs": [
    {
     "name": "stdout",
     "output_type": "stream",
     "text": [
      "<class 'pandas.core.frame.DataFrame'>\n",
      "Index: 668 entries, 486 to 821\n",
      "Data columns (total 7 columns):\n",
      " #   Column    Non-Null Count  Dtype  \n",
      "---  ------    --------------  -----  \n",
      " 0   Pclass    668 non-null    int64  \n",
      " 1   Sex       668 non-null    int64  \n",
      " 2   Age       537 non-null    float64\n",
      " 3   SibSp     668 non-null    int64  \n",
      " 4   Parch     668 non-null    int64  \n",
      " 5   Fare      668 non-null    float64\n",
      " 6   Embarked  666 non-null    float64\n",
      "dtypes: float64(3), int64(4)\n",
      "memory usage: 41.8 KB\n"
     ]
    }
   ],
   "source": [
    "X_train.info()"
   ]
  },
  {
   "cell_type": "code",
   "execution_count": 8,
   "id": "0003fb32-bb5b-4e8f-bb94-5aab71dd5260",
   "metadata": {
    "scrolled": true
   },
   "outputs": [],
   "source": [
    "# 훈련데이터의 정보를 이용해서 테스트 데이터에 적용\n",
    "# 훈련데이터에서 결측치를 채울 대표값 계산\n",
    "age_mean = round(X_train['Age'].mean(),0)      # 승객 등급의 최빈값\n",
    "embarked_mode = X_train['Embarked'].mode()  # 탑승 항구의 최빈값\n",
    "\n",
    "# 훈련셋에서 결측치를 채울 대표값 계산\n",
    "age_mean = X_train['Age'].mean()  # 나이의 평균값\n",
    "fare_mean = X_train['Fare'].mean()  # 요금의 평균값\n",
    "pclass_mode = X_train['Pclass'].mode()[0]  # 승객 등급의 최빈값\n",
    "embarked_mode = X_train['Embarked'].mode()[0]  # 탑승 항구의 최빈값\n",
    "\n",
    "# 훈련데이터 적용\n",
    "X_train['Age'] = X_train['Age'].fillna(age_mean)\n",
    "X_train['Embarked'] = X_train['Embarked'].fillna(embarked_mode)\n",
    "\n",
    "# 테스트데이터 적용\n",
    "X_test['Age'] = X_test['Age'].fillna(age_mean)\n",
    "X_test['Embarked'] = X_test['Embarked'].fillna(embarked_mode)"
   ]
  },
  {
   "cell_type": "code",
   "execution_count": 9,
   "id": "c8f9ce39-c8e0-44ed-9eeb-1c7a6f1ebe20",
   "metadata": {},
   "outputs": [
    {
     "name": "stdout",
     "output_type": "stream",
     "text": [
      "<class 'pandas.core.frame.DataFrame'>\n",
      "Index: 668 entries, 486 to 821\n",
      "Data columns (total 7 columns):\n",
      " #   Column    Non-Null Count  Dtype  \n",
      "---  ------    --------------  -----  \n",
      " 0   Pclass    668 non-null    int64  \n",
      " 1   Sex       668 non-null    int64  \n",
      " 2   Age       668 non-null    float64\n",
      " 3   SibSp     668 non-null    int64  \n",
      " 4   Parch     668 non-null    int64  \n",
      " 5   Fare      668 non-null    float64\n",
      " 6   Embarked  668 non-null    float64\n",
      "dtypes: float64(3), int64(4)\n",
      "memory usage: 41.8 KB\n"
     ]
    }
   ],
   "source": [
    "X_train.info()"
   ]
  },
  {
   "cell_type": "code",
   "execution_count": 10,
   "id": "4f226454-50bd-474d-b788-8abb633be4c0",
   "metadata": {},
   "outputs": [
    {
     "name": "stdout",
     "output_type": "stream",
     "text": [
      "<class 'pandas.core.frame.DataFrame'>\n",
      "Index: 223 entries, 157 to 639\n",
      "Data columns (total 7 columns):\n",
      " #   Column    Non-Null Count  Dtype  \n",
      "---  ------    --------------  -----  \n",
      " 0   Pclass    223 non-null    int64  \n",
      " 1   Sex       223 non-null    int64  \n",
      " 2   Age       223 non-null    float64\n",
      " 3   SibSp     223 non-null    int64  \n",
      " 4   Parch     223 non-null    int64  \n",
      " 5   Fare      223 non-null    float64\n",
      " 6   Embarked  223 non-null    float64\n",
      "dtypes: float64(3), int64(4)\n",
      "memory usage: 13.9 KB\n"
     ]
    }
   ],
   "source": [
    "X_test.info()"
   ]
  },
  {
   "cell_type": "markdown",
   "id": "e4dd66b4-4b87-4f08-96a2-8b772279eee8",
   "metadata": {},
   "source": [
    "- 정규화, 표준화, One-Hot Encoding 고려해야하나, 여기서는 안함\n",
    "  + 이유 : 연속형 데이터로 볼만한 것아 없음 / 이산형 데이터(Count 데이터)가 대부분"
   ]
  },
  {
   "cell_type": "markdown",
   "id": "4e4df4b6-9f60-44c2-9747-64f4568bdd26",
   "metadata": {},
   "source": [
    "# 모델링\n",
    "- 각 모델별 하이퍼파라미터 후보군 정의\n",
    "- 교차 검증\n",
    "- 가장 최고의 모델을 선정"
   ]
  },
  {
   "cell_type": "code",
   "execution_count": 11,
   "id": "3c0687c4-6140-4a4a-8540-5ff289bde6ed",
   "metadata": {},
   "outputs": [
    {
     "name": "stdout",
     "output_type": "stream",
     "text": [
      "\n",
      "--- Testing RandomForest ---\n",
      "Params: {'n_estimators': 100, 'max_depth': None}, CV Accuracy: 0.8234\n",
      "Params: {'n_estimators': 200, 'max_depth': 5}, CV Accuracy: 0.8264\n",
      "Params: {'n_estimators': 300, 'max_depth': 10}, CV Accuracy: 0.8368\n",
      "\n",
      "--- Testing SVM ---\n",
      "Params: {'C': 1.0, 'kernel': 'rbf'}, CV Accuracy: 0.6931\n",
      "Params: {'C': 0.5, 'kernel': 'linear'}, CV Accuracy: 0.7934\n",
      "\n",
      "--- Testing LogisticRegression ---\n",
      "Params: {'C': 1.0, 'max_iter': 1000}, CV Accuracy: 0.8024\n",
      "Params: {'C': 0.1, 'max_iter': 1000}, CV Accuracy: 0.8099\n",
      "\n",
      "Best Model: RandomForest\n",
      "Best CV Score: 0.8368\n",
      "Test Set Accuracy: 0.7713\n"
     ]
    }
   ],
   "source": [
    "# 사용할 모델 정의\n",
    "models = {\n",
    "    'RandomForest': RandomForestClassifier(random_state=42),   # 랜덤 포레스트 분류기\n",
    "    'SVM': SVC(random_state=42, probability=True),             # 서포트 벡터 머신\n",
    "    'LogisticRegression': LogisticRegression(random_state=42)  # 로지스틱 회귀\n",
    "}\n",
    "\n",
    "# 각 모델별 하이퍼파라미터 후보군 정의\n",
    "param_grid = {\n",
    "    'RandomForest': [\n",
    "        {'n_estimators': 100, 'max_depth': None},  # 트리 100개, 깊이 제한 없음\n",
    "        {'n_estimators': 200, 'max_depth': 5},      # 트리 200개, 최대 깊이 5\n",
    "        {'n_estimators': 300, 'max_depth': 10}      # 트리 200개, 최대 깊이 5\n",
    "    ],\n",
    "    'SVM': [\n",
    "        {'C': 1.0, 'kernel': 'rbf'},    # RBF 커널, C=1.0\n",
    "        {'C': 0.5, 'kernel': 'linear'}  # 선형 커널, C=0.5\n",
    "    ],\n",
    "    'LogisticRegression': [\n",
    "        {'C': 1.0, 'max_iter': 1000},  # 기본 설정\n",
    "        {'C': 0.1, 'max_iter': 1000}   # 더 강한 정규화\n",
    "    ]\n",
    "}\n",
    "\n",
    "# 교차 검증을 통한 최적 모델 선택\n",
    "best_score = 0 # 최고 성능 점수\n",
    "best_model_name = None # 최고 성능 모델 이름\n",
    "best_model = None # 최고 성능 모델 객체 \n",
    "\n",
    "\n",
    "# 각 모델과 하이퍼파라미터 조합에 대해 교차검증 수행\n",
    "for model_name, model in models.items():\n",
    "    print(f\"\\n--- Testing {model_name} ---\")\n",
    "    for params in param_grid[model_name]:\n",
    "        model.set_params(**params)  # 하이퍼파라미터 설정\n",
    "        cv_scores = cross_val_score(model, X_train, y_train, cv=5, scoring='accuracy')  # 5-fold 교차검증\n",
    "        mean_cv = np.mean(cv_scores)  # 평균 교차검증 점수\n",
    "        print(f\"Params: {params}, CV Accuracy: {mean_cv:.4f}\")\n",
    "        \n",
    "        # 최고 성능 모델 업데이트\n",
    "        if mean_cv > best_score:\n",
    "            best_score = mean_cv\n",
    "            best_model_name = model_name\n",
    "            best_model = model.set_params(**params)\n",
    "\n",
    "# 최종 선택된 모델로 테스트셋 평가\n",
    "best_model.fit(X_train, y_train)  # 최적 모델 학습\n",
    "y_pred = best_model.predict(X_test)  # 테스트셋 예측\n",
    "test_acc = accuracy_score(y_test, y_pred)  # 테스트셋 정확도 계산\n",
    "\n",
    "# 최종 결과 출력\n",
    "print(f\"\\nBest Model: {best_model_name}\")\n",
    "print(f\"Best CV Score: {best_score:.4f}\")\n",
    "print(f\"Test Set Accuracy: {test_acc:.4f}\")"
   ]
  },
  {
   "cell_type": "markdown",
   "id": "705fc4b4-5e86-4dea-a1d8-fa0107f4a108",
   "metadata": {},
   "source": [
    "# 전처리 정보 저장 & 모델 저장 내보내기"
   ]
  },
  {
   "cell_type": "code",
   "execution_count": 12,
   "id": "e2e9e644-563a-4a18-b941-82f773a3fc9d",
   "metadata": {},
   "outputs": [
    {
     "name": "stdout",
     "output_type": "stream",
     "text": [
      "\n",
      "Best Model: RandomForest\n",
      "Best CV Score: 0.8368\n",
      "Test Set Accuracy: 0.7713\n",
      "\n",
      "Model and preprocessing information have been saved.\n"
     ]
    }
   ],
   "source": [
    "import joblib # 모델 저장을 위한 라이브러리\n",
    "import json # 전처리 정보 저장을 위한 json\n",
    "\n",
    "# 전처리 정보 저장\n",
    "preprocessing_info = {\n",
    "    'age_mean': float(age_mean),\n",
    "    'fare_mean': float(fare_mean),\n",
    "    'pclass_mode': int(pclass_mode),\n",
    "    'embarked_mode': int(embarked_mode),\n",
    "    'features': features,\n",
    "    'sex_mapping': {'male': 0, 'female': 1},\n",
    "    'embarked_mapping': {'C': 0, 'Q': 1, 'S': 2}\n",
    "}\n",
    "\n",
    "# 모델과 전처리 정보 저장\n",
    "joblib.dump(best_model, 'titanic_model.joblib')\n",
    "\n",
    "# 훈련데이터의 정보를 추가했음\n",
    "with open('preprocessing_info.json', 'w') as f:\n",
    "    json.dump(preprocessing_info, f)\n",
    "\n",
    "# 최종 결과 출력\n",
    "print(f\"\\nBest Model: {best_model_name}\")\n",
    "print(f\"Best CV Score: {best_score:.4f}\")\n",
    "print(f\"Test Set Accuracy: {test_acc:.4f}\")\n",
    "print(\"\\nModel and preprocessing information have been saved.\")"
   ]
  },
  {
   "cell_type": "markdown",
   "id": "c3cd2468-1a35-4d5b-b9b6-7e48bad2667a",
   "metadata": {},
   "source": [
    "전체 모델 만들기 복습 및 Predict Calorie Expenditure 캐글 대회 데이터에도 적용\n",
    "- 코드 추가할 것 : 교차 검증 시, 시간 측정 하기\n",
    "- 하이퍼파라미터 튜닝 갯수를 늘릴 때 마다 시간이 제법 많이 소요됨 확인"
   ]
  }
 ],
 "metadata": {
  "kernelspec": {
   "display_name": "Python 3 (ipykernel)",
   "language": "python",
   "name": "python3"
  },
  "language_info": {
   "codemirror_mode": {
    "name": "ipython",
    "version": 3
   },
   "file_extension": ".py",
   "mimetype": "text/x-python",
   "name": "python",
   "nbconvert_exporter": "python",
   "pygments_lexer": "ipython3",
   "version": "3.11.12"
  }
 },
 "nbformat": 4,
 "nbformat_minor": 5
}
