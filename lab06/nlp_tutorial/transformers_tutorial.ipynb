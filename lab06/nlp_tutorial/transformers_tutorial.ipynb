{
 "cells": [
  {
   "cell_type": "markdown",
   "id": "9f9f1eb5-cd41-4c35-92c6-41a8a6311719",
   "metadata": {},
   "source": [
    "# Bert 방식\n",
    "- Bert 사전학습 모델 사용"
   ]
  },
  {
   "cell_type": "markdown",
   "id": "118061a7-2704-4354-91c8-9bfcbfecff1a",
   "metadata": {},
   "source": [
    "# 라이브러리 확인"
   ]
  },
  {
   "cell_type": "code",
   "execution_count": 1,
   "id": "5212c641-ae38-4c58-86ac-7193135f6062",
   "metadata": {},
   "outputs": [
    {
     "name": "stderr",
     "output_type": "stream",
     "text": [
      "C:\\Users\\Admin\\Desktop\\ml_dl\\.venv\\Lib\\site-packages\\tqdm\\auto.py:21: TqdmWarning: IProgress not found. Please update jupyter and ipywidgets. See https://ipywidgets.readthedocs.io/en/stable/user_install.html\n",
      "  from .autonotebook import tqdm as notebook_tqdm\n"
     ]
    },
    {
     "data": {
      "text/plain": [
       "('4.52.4', '2.7.1+cu118')"
      ]
     },
     "execution_count": 1,
     "metadata": {},
     "output_type": "execute_result"
    }
   ],
   "source": [
    "import transformers, torch\n",
    "transformers.__version__, torch.__version__"
   ]
  },
  {
   "cell_type": "code",
   "execution_count": 2,
   "id": "cf3bcd5b-3546-4b4b-9e35-d710612cdfa3",
   "metadata": {},
   "outputs": [
    {
     "name": "stderr",
     "output_type": "stream",
     "text": [
      "\u001b[2mUsing Python 3.11.12 environment at: C:\\Users\\Admin\\Desktop\\ml_dl\\.venv\u001b[0m\n",
      "\u001b[2mAudited \u001b[1m1 package\u001b[0m \u001b[2min 7ms\u001b[0m\u001b[0m\n"
     ]
    }
   ],
   "source": [
    "!uv pip install accelerate"
   ]
  },
  {
   "cell_type": "code",
   "execution_count": 3,
   "id": "3c586a22-48b1-4a64-8157-a0c2607599b9",
   "metadata": {},
   "outputs": [],
   "source": [
    "# 필요한 라이브러리 임포트\n",
    "import pandas as pd  # 데이터 처리를 위한 pandas\n",
    "import numpy as np  # 수치 연산을 위한 numpy\n",
    "import torch  # 딥러닝 프레임워크\n",
    "from torch.utils.data import Dataset  # 커스텀 데이터셋 생성을 위한 클래스\n",
    "from sklearn.model_selection import train_test_split  # 데이터 분할\n",
    "from sklearn.metrics import accuracy_score  # 정확도 계산\n",
    "from transformers import AutoTokenizer, AutoModelForSequenceClassification, Trainer, TrainingArguments, TrainerCallback  # BERT 모델 관련\n",
    "from datetime import datetime  # 시간 기록\n",
    "import matplotlib.pyplot as plt  # 시각화\n",
    "from transformers import EarlyStoppingCallback  # 조기 종료"
   ]
  },
  {
   "cell_type": "markdown",
   "id": "ab6c8e17-3281-457b-97a8-b235b2a1c13d",
   "metadata": {},
   "source": [
    "# 기본값 설정"
   ]
  },
  {
   "cell_type": "code",
   "execution_count": 4,
   "id": "9a76d89a-b893-4b3d-8fb4-7fdd579707e7",
   "metadata": {},
   "outputs": [
    {
     "name": "stdout",
     "output_type": "stream",
     "text": [
      "Using device: cuda\n"
     ]
    },
    {
     "data": {
      "text/plain": [
       "'submission_bert-base-uncased_20250613_113141.csv'"
      ]
     },
     "execution_count": 4,
     "metadata": {},
     "output_type": "execute_result"
    }
   ],
   "source": [
    "device = torch.device('cuda' if torch.cuda.is_available() else 'cpu')\n",
    "print(f\"Using device: {device}\")\n",
    "\n",
    "current_time = datetime.now().strftime('%Y%m%d_%H%M%S')\n",
    "model_name = \"bert-base-uncased\"\n",
    "submission_filename = f\"submission_{model_name}_{current_time}.csv\"\n",
    "submission_filename"
   ]
  },
  {
   "cell_type": "markdown",
   "id": "3c669545-6c6e-4aed-92e9-6a7fd725a14c",
   "metadata": {},
   "source": [
    "# 데이터 불러오기"
   ]
  },
  {
   "cell_type": "code",
   "execution_count": 5,
   "id": "3f4b1843-5002-4634-bf60-7313da26459b",
   "metadata": {},
   "outputs": [],
   "source": [
    "train_df = pd.read_csv(\"kaggle/train.csv\")\n",
    "test_df = pd.read_csv(\"kaggle/test.csv\")"
   ]
  },
  {
   "cell_type": "code",
   "execution_count": 6,
   "id": "349df9f9-34f9-4f27-ae05-187da3882f57",
   "metadata": {},
   "outputs": [
    {
     "data": {
      "text/html": [
       "<div>\n",
       "<style scoped>\n",
       "    .dataframe tbody tr th:only-of-type {\n",
       "        vertical-align: middle;\n",
       "    }\n",
       "\n",
       "    .dataframe tbody tr th {\n",
       "        vertical-align: top;\n",
       "    }\n",
       "\n",
       "    .dataframe thead th {\n",
       "        text-align: right;\n",
       "    }\n",
       "</style>\n",
       "<table border=\"1\" class=\"dataframe\">\n",
       "  <thead>\n",
       "    <tr style=\"text-align: right;\">\n",
       "      <th></th>\n",
       "      <th>id</th>\n",
       "      <th>keyword</th>\n",
       "      <th>location</th>\n",
       "      <th>text</th>\n",
       "      <th>target</th>\n",
       "    </tr>\n",
       "  </thead>\n",
       "  <tbody>\n",
       "    <tr>\n",
       "      <th>0</th>\n",
       "      <td>1</td>\n",
       "      <td>NaN</td>\n",
       "      <td>NaN</td>\n",
       "      <td>Our Deeds are the Reason of this #earthquake M...</td>\n",
       "      <td>1</td>\n",
       "    </tr>\n",
       "  </tbody>\n",
       "</table>\n",
       "</div>"
      ],
      "text/plain": [
       "   id keyword location                                               text  \\\n",
       "0   1     NaN      NaN  Our Deeds are the Reason of this #earthquake M...   \n",
       "\n",
       "   target  \n",
       "0       1  "
      ]
     },
     "execution_count": 6,
     "metadata": {},
     "output_type": "execute_result"
    }
   ],
   "source": [
    "train_df.head(1)"
   ]
  },
  {
   "cell_type": "markdown",
   "id": "f9e284ee-8889-4a51-a1d0-5dd521f0cdba",
   "metadata": {},
   "source": [
    "# 커스텀 데이터셋 클래스 정의\n",
    "- 여기 파트는 내가 사용하고자 하는 모델에 따라서 변경 필요\n",
    "- ChatGPT 도움 필요\n",
    "- 어떤 과업을 할 것인지가 클래스의 주 내용은 달라질 수 밖에 없음 "
   ]
  },
  {
   "cell_type": "code",
   "execution_count": 7,
   "id": "3147e123-49f8-44e0-9a27-5b4d7f3283ae",
   "metadata": {},
   "outputs": [],
   "source": [
    "class DisasterDataset(Dataset):\n",
    "    def __init__(self, texts, labels=None, tokenizer=None, max_length=128):\n",
    "        self.encodings = tokenizer(texts, truncation=True, padding=True, max_length=max_length)\n",
    "        self.labels = labels\n",
    "\n",
    "    def __getitem__(self, idx):\n",
    "        # 각 데이터 포인트를 텐서로 변환\n",
    "        item = {key: torch.tensor(val[idx]) for key, val in self.encodings.items()}\n",
    "        if self.labels is not None:\n",
    "            item['labels'] = torch.tensor(self.labels[idx], dtype=torch.long)\n",
    "        return item\n",
    "\n",
    "    def __len__(self):\n",
    "        return len(self.encodings['input_ids'])"
   ]
  },
  {
   "cell_type": "markdown",
   "id": "cecbae05-c764-42bc-bc41-348f305c2111",
   "metadata": {},
   "source": [
    "# Bert 토크나이저와 모델 초기화"
   ]
  },
  {
   "cell_type": "code",
   "execution_count": 8,
   "id": "7598ee2b-87cc-4b9c-bc45-0a6ddc441605",
   "metadata": {},
   "outputs": [
    {
     "name": "stderr",
     "output_type": "stream",
     "text": [
      "Some weights of BertForSequenceClassification were not initialized from the model checkpoint at bert-base-uncased and are newly initialized: ['classifier.bias', 'classifier.weight']\n",
      "You should probably TRAIN this model on a down-stream task to be able to use it for predictions and inference.\n"
     ]
    }
   ],
   "source": [
    "tokenizer = AutoTokenizer.from_pretrained(model_name)\n",
    "model = AutoModelForSequenceClassification.from_pretrained(model_name, num_labels=2).to(device)"
   ]
  },
  {
   "cell_type": "markdown",
   "id": "fd0ca1dc-dd25-4136-bf74-81c07ddeecf2",
   "metadata": {},
   "source": [
    "# 데이터 분할"
   ]
  },
  {
   "cell_type": "code",
   "execution_count": 10,
   "id": "dab2e2a7-13bf-4c7d-b937-53a135785df4",
   "metadata": {},
   "outputs": [],
   "source": [
    "train_texts, val_texts, train_labels, val_labels = train_test_split(\n",
    "    train_df['text'].tolist(), train_df['target'].tolist(), test_size=0.2, random_state=42\n",
    ")\n",
    "\n",
    "train_dataset = DisasterDataset(train_texts, train_labels, tokenizer)\n",
    "val_dataset = DisasterDataset(val_texts, val_labels, tokenizer)"
   ]
  },
  {
   "cell_type": "markdown",
   "id": "f8eeb66c-2aba-4cd0-a767-64452cead23d",
   "metadata": {},
   "source": [
    "# 평가 지표 계산 함수 정의"
   ]
  },
  {
   "cell_type": "code",
   "execution_count": 11,
   "id": "d39eea58-3326-4ebf-9d6e-d493f82a5e7e",
   "metadata": {},
   "outputs": [],
   "source": [
    "def compute_metrics(p):\n",
    "    preds = np.argmax(p.predictions, axis=1)\n",
    "    return {'accuracy' : accuracy_score(p.label_ids, preds)}"
   ]
  },
  {
   "cell_type": "code",
   "execution_count": 12,
   "id": "abb57d11-480d-4acd-bbfc-7e9ded135d61",
   "metadata": {},
   "outputs": [],
   "source": [
    "# 학습 중 정확도 추적을 위한 콜백 클래스\n",
    "class TrainMetricsCallback(TrainerCallback):\n",
    "    def __init__(self):\n",
    "        self.train_log = []  # 학습 로그 저장\n",
    "\n",
    "    def on_log(self, args, state, control, logs=None, **kwargs):\n",
    "        if logs is not None and 'loss' in logs and state.is_world_process_zero:\n",
    "            # 현재 스텝의 학습 데이터에 대한 정확도 계산\n",
    "            trainer.model.eval()\n",
    "            with torch.no_grad():\n",
    "                preds = []\n",
    "                labels = []\n",
    "                for batch in torch.utils.data.DataLoader(train_dataset, batch_size=64):\n",
    "                    input_ids = batch['input_ids'].to(device)\n",
    "                    attention_mask = batch['attention_mask'].to(device)\n",
    "                    label = batch['labels'].to(device)\n",
    "                    output = trainer.model(input_ids=input_ids, attention_mask=attention_mask)\n",
    "                    pred = torch.argmax(output.logits, axis=1)\n",
    "                    preds.extend(pred.cpu().numpy())\n",
    "                    labels.extend(label.cpu().numpy())\n",
    "            acc = accuracy_score(labels, preds)\n",
    "            logs['train_accuracy'] = acc\n",
    "            self.train_log.append({'step': state.global_step, 'train_accuracy': acc})\n",
    "\n",
    "train_metrics_callback = TrainMetricsCallback()"
   ]
  },
  {
   "cell_type": "markdown",
   "id": "a9246d1f-d5fc-4e31-b93c-6d6873df53cc",
   "metadata": {},
   "source": [
    "# 학습 파라미터 설정\n",
    "- 반드시 기억해야 할 것 중 한 옵션은 **조기 종료**\n",
    "  + LightGBM, XGBoost, CatBoost에도 존재함.\n",
    "  + Pytorch 모델 만들 때도 필요함\n",
    "  + transfomers 모델 만들 때도 필요함"
   ]
  },
  {
   "cell_type": "code",
   "execution_count": 13,
   "id": "a3fafd7b-d4b4-4d83-99c8-b18f724082a7",
   "metadata": {},
   "outputs": [],
   "source": [
    "# ChatGPT 질의 할 때, 버전 반드시 알려주고 작업, 파라미터 입력 오류 방지\n",
    "# 최신 버전 링크 반드시 참조 시키기 : https://huggingface.co/docs/transformers/v4.52.3/en/main_classes/trainer#transformers.TrainingArguments\n",
    "training_args = TrainingArguments(\n",
    "    output_dir='./results',  # 결과 저장 경로\n",
    "    num_train_epochs=10,     # 최대 10 에포크\n",
    "    load_best_model_at_end=True,  # 최고 성능 모델 저장\n",
    "    metric_for_best_model=\"eval_accuracy\",  # 조기 종료 기준\n",
    "    greater_is_better=True,  # 높은 정확도가 좋음\n",
    "    per_device_train_batch_size=16,  # 학습 배치 크기\n",
    "    per_device_eval_batch_size=64,   # 평가 배치 크기\n",
    "    warmup_steps=500,  # 워밍업 스텝\n",
    "    weight_decay=0.01,  # 가중치 감쇠\n",
    "    logging_dir='./logs',  # 로그 저장 경로\n",
    "    logging_steps=50,  # 로깅 간격\n",
    "    eval_strategy=\"steps\",  # 평가 전략\n",
    "    eval_steps=50,  # 평가 간격\n",
    "    save_steps=500,  # 모델 저장 간격\n",
    "    fp16=True,  # 16비트 정밀도 사용\n",
    "    no_cuda=False,  # GPU 사용\n",
    "    report_to=\"none\",  # 외부 보고 비활성화\n",
    ")"
   ]
  },
  {
   "cell_type": "markdown",
   "id": "64e1d7a5-f280-4a96-8480-bfbc8a9994ab",
   "metadata": {},
   "source": [
    "# 모델링"
   ]
  },
  {
   "cell_type": "code",
   "execution_count": 14,
   "id": "a44ffb77-e7b4-494d-98a5-5d880b38f65a",
   "metadata": {},
   "outputs": [
    {
     "data": {
      "text/html": [
       "\n",
       "    <div>\n",
       "      \n",
       "      <progress value='650' max='3810' style='width:300px; height:20px; vertical-align: middle;'></progress>\n",
       "      [ 650/3810 02:27 < 12:01, 4.38 it/s, Epoch 1/10]\n",
       "    </div>\n",
       "    <table border=\"1\" class=\"dataframe\">\n",
       "  <thead>\n",
       " <tr style=\"text-align: left;\">\n",
       "      <th>Step</th>\n",
       "      <th>Training Loss</th>\n",
       "      <th>Validation Loss</th>\n",
       "      <th>Accuracy</th>\n",
       "    </tr>\n",
       "  </thead>\n",
       "  <tbody>\n",
       "    <tr>\n",
       "      <td>50</td>\n",
       "      <td>0.667600</td>\n",
       "      <td>0.630123</td>\n",
       "      <td>0.674984</td>\n",
       "    </tr>\n",
       "    <tr>\n",
       "      <td>100</td>\n",
       "      <td>0.591500</td>\n",
       "      <td>0.587348</td>\n",
       "      <td>0.715693</td>\n",
       "    </tr>\n",
       "    <tr>\n",
       "      <td>150</td>\n",
       "      <td>0.485900</td>\n",
       "      <td>0.435726</td>\n",
       "      <td>0.823375</td>\n",
       "    </tr>\n",
       "    <tr>\n",
       "      <td>200</td>\n",
       "      <td>0.448500</td>\n",
       "      <td>0.418094</td>\n",
       "      <td>0.833880</td>\n",
       "    </tr>\n",
       "    <tr>\n",
       "      <td>250</td>\n",
       "      <td>0.454500</td>\n",
       "      <td>0.533305</td>\n",
       "      <td>0.772160</td>\n",
       "    </tr>\n",
       "    <tr>\n",
       "      <td>300</td>\n",
       "      <td>0.457300</td>\n",
       "      <td>0.389893</td>\n",
       "      <td>0.841103</td>\n",
       "    </tr>\n",
       "    <tr>\n",
       "      <td>350</td>\n",
       "      <td>0.412800</td>\n",
       "      <td>0.408823</td>\n",
       "      <td>0.833880</td>\n",
       "    </tr>\n",
       "    <tr>\n",
       "      <td>400</td>\n",
       "      <td>0.382000</td>\n",
       "      <td>0.402853</td>\n",
       "      <td>0.843073</td>\n",
       "    </tr>\n",
       "    <tr>\n",
       "      <td>450</td>\n",
       "      <td>0.368300</td>\n",
       "      <td>0.440424</td>\n",
       "      <td>0.832567</td>\n",
       "    </tr>\n",
       "    <tr>\n",
       "      <td>500</td>\n",
       "      <td>0.370500</td>\n",
       "      <td>0.409196</td>\n",
       "      <td>0.848982</td>\n",
       "    </tr>\n",
       "    <tr>\n",
       "      <td>550</td>\n",
       "      <td>0.379600</td>\n",
       "      <td>0.454280</td>\n",
       "      <td>0.816152</td>\n",
       "    </tr>\n",
       "    <tr>\n",
       "      <td>600</td>\n",
       "      <td>0.363900</td>\n",
       "      <td>0.446206</td>\n",
       "      <td>0.824032</td>\n",
       "    </tr>\n",
       "    <tr>\n",
       "      <td>650</td>\n",
       "      <td>0.362500</td>\n",
       "      <td>0.462795</td>\n",
       "      <td>0.829941</td>\n",
       "    </tr>\n",
       "  </tbody>\n",
       "</table><p>"
      ],
      "text/plain": [
       "<IPython.core.display.HTML object>"
      ]
     },
     "metadata": {},
     "output_type": "display_data"
    },
    {
     "data": {
      "text/plain": [
       "TrainOutput(global_step=650, training_loss=0.4419203420785757, metrics={'train_runtime': 148.3987, 'train_samples_per_second': 410.381, 'train_steps_per_second': 25.674, 'total_flos': 448674238262880.0, 'train_loss': 0.4419203420785757, 'epoch': 1.7060367454068242})"
      ]
     },
     "execution_count": 14,
     "metadata": {},
     "output_type": "execute_result"
    }
   ],
   "source": [
    "trainer = Trainer(\n",
    "    model = model, \n",
    "    args = training_args, \n",
    "    train_dataset = train_dataset, \n",
    "    eval_dataset = val_dataset, \n",
    "    compute_metrics = compute_metrics, \n",
    "    callbacks = [\n",
    "        train_metrics_callback, \n",
    "        EarlyStoppingCallback(early_stopping_patience=3) # 3번 연속 성능 향상 없으면 중단\n",
    "    ]\n",
    ")\n",
    "\n",
    "trainer.train()"
   ]
  },
  {
   "cell_type": "markdown",
   "id": "3ae57905-1a65-4daa-8ac4-dc69c19df17b",
   "metadata": {},
   "source": [
    "# 모델 저장 & 토크나이저 저장"
   ]
  },
  {
   "cell_type": "code",
   "execution_count": 15,
   "id": "16cf6ff0-254e-4141-b5a2-4c1a7ee62203",
   "metadata": {},
   "outputs": [],
   "source": [
    "model.save_pretrained('./disater_model')"
   ]
  },
  {
   "cell_type": "code",
   "execution_count": 16,
   "id": "97b5fbf1-387c-47f7-beff-df16a37ba731",
   "metadata": {},
   "outputs": [
    {
     "data": {
      "text/plain": [
       "('./disater_model\\\\tokenizer_config.json',\n",
       " './disater_model\\\\special_tokens_map.json',\n",
       " './disater_model\\\\vocab.txt',\n",
       " './disater_model\\\\added_tokens.json',\n",
       " './disater_model\\\\tokenizer.json')"
      ]
     },
     "execution_count": 16,
     "metadata": {},
     "output_type": "execute_result"
    }
   ],
   "source": [
    "tokenizer.save_pretrained('./disater_model')"
   ]
  },
  {
   "cell_type": "markdown",
   "id": "e4d6be97-c08e-4cc5-94c6-68ad05184ba4",
   "metadata": {},
   "source": [
    "# 테스트 데이터 예측\n",
    "- 실제 확인 : 오히려 tf-idf, 로지스틱회귀분석 했을 때가 성능이 더 좋음\n",
    "- 과업의 범위 잘 설정하는 것 중요\n",
    "  + 작은 단위, 이진 분류, 정형데이터에 굳이, 복잡한 형태 딥러닝 사용할 필요 없음\n",
    "  + 큰 단위, 5개 이상 다중 분류, 비정형 데이터에는 딥러닝 모델 사용 필수"
   ]
  },
  {
   "cell_type": "code",
   "execution_count": 17,
   "id": "bd2e5d86-5a8c-41bc-9e70-6495f4a709ed",
   "metadata": {},
   "outputs": [
    {
     "data": {
      "text/html": [],
      "text/plain": [
       "<IPython.core.display.HTML object>"
      ]
     },
     "metadata": {},
     "output_type": "display_data"
    }
   ],
   "source": [
    "test_texts = test_df['text'].tolist()\n",
    "test_dataset = DisasterDataset(test_texts, tokenizer=tokenizer)\n",
    "predictions = trainer.predict(test_dataset)\n",
    "preds = np.argmax(predictions.predictions, axis=1)\n",
    "\n",
    "submission = pd.DataFrame({'id' : test_df['id'], 'target' : preds})\n",
    "submission.to_csv(submission_filename, index=False)"
   ]
  },
  {
   "cell_type": "markdown",
   "id": "7119e341-2933-4ff0-b90e-2ce19721aab9",
   "metadata": {},
   "source": [
    "# 학습 로그 확인"
   ]
  },
  {
   "cell_type": "code",
   "execution_count": 18,
   "id": "37d89a9a-9cb5-44e6-bcdd-126c89a24cdb",
   "metadata": {},
   "outputs": [
    {
     "data": {
      "image/png": "[encoded data removed]",
      "text/plain": [
       "<Figure size 1400x500 with 2 Axes>"
      ]
     },
     "metadata": {},
     "output_type": "display_data"
    }
   ],
   "source": [
    "# 학습 로그 정리\n",
    "log_df = pd.DataFrame(trainer.state.log_history)\n",
    "train_acc_df = pd.DataFrame(train_metrics_callback.train_log)\n",
    "log_df = log_df.merge(train_acc_df, on='step', how='left')\n",
    "\n",
    "# 로그 파일 저장\n",
    "log_df.to_csv(f'training_log_{model_name}_{current_time}.csv', index=False)\n",
    "\n",
    "# 필요한 컬럼만 추출하여 정리\n",
    "log_df_clean = log_df[['step', 'loss', 'eval_loss', 'eval_accuracy', 'train_accuracy']].copy()\n",
    "\n",
    "# 컬럼명 일관성 있게 변경\n",
    "log_df_clean.rename(columns={\n",
    "    'loss': 'train_loss',\n",
    "    'eval_loss': 'val_loss',\n",
    "    'eval_accuracy': 'val_accuracy'\n",
    "}, inplace=True)\n",
    "\n",
    "# 스텝별 평균 계산 (중복 로그 처리)\n",
    "summary_df = log_df_clean.groupby('step').mean().reset_index()\n",
    "\n",
    "# 누락된 컬럼 NaN으로 채우기\n",
    "for col in ['train_loss', 'val_loss', 'train_accuracy', 'val_accuracy']:\n",
    "    if col not in summary_df.columns:\n",
    "        summary_df[col] = np.nan\n",
    "\n",
    "# 학습 과정 시각화\n",
    "fig, (ax1, ax2) = plt.subplots(1, 2, figsize=(14, 5))\n",
    "\n",
    "# 손실 그래프\n",
    "ax1.plot(summary_df['step'], summary_df['train_loss'], label='Train Loss', linewidth=2)\n",
    "ax1.plot(summary_df['step'], summary_df['val_loss'], label='Val Loss', linewidth=2)\n",
    "ax1.set_title('Loss per Step')\n",
    "ax1.set_xlabel('Step')\n",
    "ax1.set_ylabel('Loss')\n",
    "ax1.grid(True)\n",
    "ax1.legend()\n",
    "\n",
    "# 정확도 그래프\n",
    "ax2.plot(summary_df['step'], summary_df['train_accuracy'], label='Train Accuracy', linewidth=2)\n",
    "ax2.plot(summary_df['step'], summary_df['val_accuracy'], label='Val Accuracy', linewidth=2)\n",
    "ax2.set_title('Accuracy per Step')\n",
    "ax2.set_xlabel('Step')\n",
    "ax2.set_ylabel('Accuracy')\n",
    "ax2.grid(True)\n",
    "ax2.legend()\n",
    "\n",
    "plt.tight_layout()\n",
    "plt.show()"
   ]
  }
 ],
 "metadata": {
  "kernelspec": {
   "display_name": "Python 3 (ipykernel)",
   "language": "python",
   "name": "python3"
  },
  "language_info": {
   "codemirror_mode": {
    "name": "ipython",
    "version": 3
   },
   "file_extension": ".py",
   "mimetype": "text/x-python",
   "name": "python",
   "nbconvert_exporter": "python",
   "pygments_lexer": "ipython3",
   "version": "3.11.12"
  }
 },
 "nbformat": 4,
 "nbformat_minor": 5
}
