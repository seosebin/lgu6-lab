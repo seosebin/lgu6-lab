{
 "cells": [
  {
   "cell_type": "markdown",
   "metadata": {
    "id": "c4Nznozcr3Mm"
   },
   "source": [
    "## I. 개요\n",
    "- 문서가 가지는 모든 단어(Words)를 문맥이나 순서를 무시하고 일괄적으로 단어에 대해 빈도 값을 부여하여 피처 값을 추출하는 모델을 말한다. \n",
    "- 아래와 같은 세 개의 문장이 있다고 가정해본다. \n",
    "  + Doc 1: I love dogs. \n",
    "  + Doc 2: I hate dogs and knitting. \n",
    "  + Doc 3: Knitting is my hobby and passion.\n",
    "- 위 문장을 각각의 행렬로 표현하면 아래와 같다. \n",
    "![](http://res.cloudinary.com/dyd911kmh/image/upload/f_auto,q_auto:best/v1535125878/NLTK5_obakq5.png)\n",
    "- `BOW` 모델의 장점은 쉽고 빠른 구축에 있기 때문에, 활용도는 높은 편이지만, BOW 기반의 NLP 연구는 잘 되지 않는다. \n",
    "  + 문맥 의미 부족\n",
    "  + 희소 행렬 문제, 위 그림에서 공백은 0을 의미하며, 이는 문장이 많으면 많을 수록 0의 값도 계속 늘어나는데, 이를 해결하기 위해 COO(Coordinate) 또는 CSR(Compressed Sparse Row)형식의 기법을 활용한다. \n",
    "\n"
   ]
  },
  {
   "cell_type": "markdown",
   "metadata": {
    "id": "PwLV9Ky7JiQl"
   },
   "source": [
    "## II. BOW 피처 벡터화\n",
    "- 피처 벡터화는 간단하게 말하면 문서 내 텍스트를 단어의 횟수나 정규화된 빈도 값으로 데이터 세트 모델로 변경하는 것을 말한다. \n",
    "- 보통 문서를 M이라고 하고, 단어를 N이라고 한다면, 행렬은 전체 문서의 개수 (M) X 전체 단어의 개수(N)으로 구성한다. \n",
    "- 일반적으로 BOW의 피처 벡터화는 두 가지 방식이 존재한다. \n",
    "  + 카운트 기반의 벡터화\n",
    "  + TF-IDF(Term Frequency - Inverse Document Prequency) 기반의 벡터화"
   ]
  },
  {
   "cell_type": "markdown",
   "metadata": {
    "id": "11Z0WtdPOO4x"
   },
   "source": [
    "### (1) 카운트 기반의 벡터화\n",
    "- 단어 피처에 값을 부여하는 경우를 말한다. 간단한 예시를 활용한다. "
   ]
  },
  {
   "cell_type": "code",
   "execution_count": 1,
   "metadata": {
    "colab": {
     "base_uri": "https://localhost:8080/"
    },
    "executionInfo": {
     "elapsed": 3093,
     "status": "ok",
     "timestamp": 1673856067307,
     "user": {
      "displayName": "Ji-hoon Jung",
      "userId": "03169308685755834042"
     },
     "user_tz": -540
    },
    "id": "5Oq0ajAjOVOz",
    "outputId": "656fb62e-14f3-40b1-8214-4842995deae9"
   },
   "outputs": [
    {
     "name": "stdout",
     "output_type": "stream",
     "text": [
      "[('i', 5), ('.', 3), (\"n't\", 3), ('fish', 2), ('that', 2), (',', 2), ('did', 2), ('yesterday', 1), ('went', 1), ('fishing', 1)]\n"
     ]
    },
    {
     "name": "stderr",
     "output_type": "stream",
     "text": [
      "[nltk_data] Downloading package punkt_tab to\n",
      "[nltk_data]     C:\\Users\\Admin\\AppData\\Roaming\\nltk_data...\n",
      "[nltk_data]   Package punkt_tab is already up-to-date!\n"
     ]
    }
   ],
   "source": [
    "from collections import Counter\n",
    "import nltk\n",
    "from nltk import word_tokenize\n",
    "nltk.download('punkt_tab')\n",
    "\n",
    "# 텍스트\n",
    "text = \"\"\"Yesterday I went fishing. I don't fish that often, \n",
    "so I didn't catch any fish. I was told I'd enjoy myself, \n",
    "but it didn't really seem that fun.\"\"\"\n",
    "\n",
    "# 토큰화\n",
    "tokens = word_tokenize(text)\n",
    "\n",
    "# 모든 단어를 소문자화\n",
    "lower_tokens = [t.lower() for t in tokens]\n",
    "\n",
    "# Counter화\n",
    "bow_simple = Counter(lower_tokens)\n",
    "\n",
    "# 상위 10개의 단어 추출\n",
    "print(bow_simple.most_common(10))"
   ]
  },
  {
   "cell_type": "markdown",
   "metadata": {
    "id": "qNkjzr3S1L5f"
   },
   "source": [
    "- 단어 피처에 값을 부여할 때 각 문서에서 해당 언어가 나타나는 횟수, 즉 `Count`를 부여하는 경우를 카운트 벡터화라고 한다."
   ]
  },
  {
   "cell_type": "markdown",
   "metadata": {
    "id": "-JReke9jQ1xQ"
   },
   "source": [
    "- 이러한 개념을 바탕으로 파이썬 머신러닝 패키지인 `sklearn`에서는 `CountVectorizer` 클래스를 별도로 구현하였다. "
   ]
  },
  {
   "cell_type": "code",
   "execution_count": 2,
   "metadata": {
    "colab": {
     "base_uri": "https://localhost:8080/"
    },
    "executionInfo": {
     "elapsed": 11,
     "status": "ok",
     "timestamp": 1673856067308,
     "user": {
      "displayName": "Ji-hoon Jung",
      "userId": "03169308685755834042"
     },
     "user_tz": -540
    },
    "id": "Ah-XJYaON13Y",
    "outputId": "801fd9f3-fb27-412a-ca25-fa2f66336f50"
   },
   "outputs": [
    {
     "data": {
      "text/plain": [
       "{'this': 8,\n",
       " 'is': 3,\n",
       " 'the': 6,\n",
       " 'first': 2,\n",
       " 'document': 1,\n",
       " 'second': 5,\n",
       " 'and': 0,\n",
       " 'third': 7,\n",
       " 'one': 4}"
      ]
     },
     "execution_count": 2,
     "metadata": {},
     "output_type": "execute_result"
    }
   ],
   "source": [
    "from sklearn.feature_extraction.text import CountVectorizer\n",
    "\n",
    "text = [\n",
    "    'This is the first document.',\n",
    "    'This is the second second document.',\n",
    "    'And the third one.',\n",
    "]\n",
    "vect = CountVectorizer()\n",
    "vect.fit(text)\n",
    "vect.vocabulary_"
   ]
  },
  {
   "cell_type": "code",
   "execution_count": 3,
   "metadata": {
    "colab": {
     "base_uri": "https://localhost:8080/"
    },
    "executionInfo": {
     "elapsed": 9,
     "status": "ok",
     "timestamp": 1673856067309,
     "user": {
      "displayName": "Ji-hoon Jung",
      "userId": "03169308685755834042"
     },
     "user_tz": -540
    },
    "id": "fDMNosCi2R_C",
    "outputId": "67aece33-f95c-40a7-cfc4-702ac976b3b1"
   },
   "outputs": [
    {
     "name": "stdout",
     "output_type": "stream",
     "text": [
      "['and' 'document' 'first' 'is' 'one' 'second' 'the' 'third' 'this']\n",
      "[[0 1 1 1 0 0 1 0 1]\n",
      " [0 1 0 1 0 2 1 0 1]\n",
      " [1 0 0 0 1 0 1 1 0]]\n"
     ]
    }
   ],
   "source": [
    "X = vect.fit_transform(text)\n",
    "print(vect.get_feature_names_out())\n",
    "print(X.toarray())"
   ]
  },
  {
   "cell_type": "markdown",
   "metadata": {
    "id": "Ed9euSkX1mM3"
   },
   "source": [
    "- `CountVectorizer` 클래스에는 소문자 일괄 변환, 토큰화, 스텁 워드 필터링 등의 텍스트 전처리도 함께 수행한다. \n",
    "- 입력 파라미터는 max_df, min_df, max_features, stop_words, n_gram_range, analyzer, token_pattern, tokenizer 등이 있다. \n",
    "  + 자세한 내용은 공식문서에서 확인한다. \n",
    "  + url: [sklearn.feature_extraction.text.CountVectorizer](https://scikit-learn.org/stable/modules/generated/sklearn.feature_extraction.text.CountVectorizer.html)"
   ]
  },
  {
   "cell_type": "markdown",
   "metadata": {
    "id": "1AbrNYdR3VOC"
   },
   "source": [
    "### (2) TF-IDF 기반의 벡터화\n",
    "- 카운트 기반의 벡터화의 문제점은 문서의 특징 보다는 언어의 특성상 문장에서 자주 사용될 수 밖에 없는 단어까지 높은 값을 부여하는 문제점을 보완한 방식이다. \n",
    "- 즉, 개별 문서에서 자주 나타나는 단어에 높은 가중치를 주지만, 전반적으로 자주 나타나는 단어(예: 많은, 빈번하게 당연히)에 대해서는 페널티를 부여해서 단어에 대한 가중치의 균형을 맞추는 것을 진행한다. \n",
    "- 만약, 문서 분류를 진행한다면, 카운트 기반의 벡터화 보다는 TF-IDF 기반의 방식을 사용하는 것이 더 좋은 예측 성능을 보장할 수 있다.\n",
    "  + TF-IDF의 공식은 gensim의 [정식 문서](https://radimrehurek.com/gensim/models/tfidfmodel.html)에서 참조한다. \n",
    "- 여기에서는 `gensim`을 사용해보자. \n",
    "- 새로운 데이터를 가져와서 텍스트 전처리부터 진행한다. "
   ]
  },
  {
   "cell_type": "code",
   "execution_count": 5,
   "metadata": {
    "colab": {
     "base_uri": "https://localhost:8080/"
    },
    "executionInfo": {
     "elapsed": 380,
     "status": "ok",
     "timestamp": 1673856069098,
     "user": {
      "displayName": "Ji-hoon Jung",
      "userId": "03169308685755834042"
     },
     "user_tz": -540
    },
    "id": "oHR5-FIl4Uis",
    "outputId": "6b0040ba-1e2c-4873-9b70-d7e7eec08b65"
   },
   "outputs": [
    {
     "data": {
      "text/plain": [
       "['When',\n",
       " 'the',\n",
       " 'screenwriter',\n",
       " 'John',\n",
       " 'Ridley',\n",
       " 'pitched',\n",
       " 'The',\n",
       " 'Other',\n",
       " 'History',\n",
       " 'of']"
      ]
     },
     "execution_count": 5,
     "metadata": {},
     "output_type": "execute_result"
    }
   ],
   "source": [
    "from gensim.corpora.dictionary import Dictionary\n",
    "from nltk.tokenize import word_tokenize\n",
    "my_documents = ['When the screenwriter John Ridley pitched “The Other History of the DC Universe,” a five-part comic book series that looks at pivotal events through the perspectives of several nonwhite DC heroes, he knew Black Lightning would be at its center. Ridley was 11 when he met the hero in 1977.',\n",
    "                'This was a Black man who ostensibly looked like me with his own series,” Mr. Ridley said during a recent interview. An added bonus',\n",
    "                'Mr. Ridley’s career includes writing for television and film, which earned him an Academy Award in 2014 for Best Adapted Screenplay for “12 Years a Slave.” But he is no stranger to comics. He wrote “The American Way,” which was published in 2006, about a group of heroes in the 1960s and their reaction to a Black member joining the team, and a sequel in 2017.'\n",
    "                ]\n",
    "punctuations= '?:!.,;“'\n",
    "tokens = []\n",
    "for sentence in my_documents:\n",
    "  sentence_words = word_tokenize(sentence)\n",
    "  for word in sentence_words:\n",
    "    if word in punctuations:\n",
    "      sentence_words.remove(word)\n",
    "  tokens.append(sentence_words)\n",
    "\n",
    "tokens[0][:10]"
   ]
  },
  {
   "cell_type": "markdown",
   "metadata": {
    "id": "KQFNTbA-7y1V"
   },
   "source": [
    "- 글의 출처: https://www.nytimes.com/2020/11/21/us/john-ridley-comic-book.html\n",
    "- 각 단어에 정수 인코딩을 하는 동시에 각 문서에서의 단어의 빈도수를 기록한다.\n",
    "- 먼저, `dictionary`의 키 값[15]를 확인하여 위 문장과 동일한지 다시 체크해본다.  \n",
    "- 각 단어를 word_id, word_frequency로 표현하였다. \n"
   ]
  },
  {
   "cell_type": "code",
   "execution_count": 6,
   "metadata": {
    "colab": {
     "base_uri": "https://localhost:8080/"
    },
    "executionInfo": {
     "elapsed": 5,
     "status": "ok",
     "timestamp": 1673856070512,
     "user": {
      "displayName": "Ji-hoon Jung",
      "userId": "03169308685755834042"
     },
     "user_tz": -540
    },
    "id": "sCBwRh_774N0",
    "outputId": "a947ba9d-8270-4b2c-f705-06b66dc129b7"
   },
   "outputs": [
    {
     "name": "stdout",
     "output_type": "stream",
     "text": [
      "five-part\n",
      "105\n",
      "Ridley\n",
      "[(2, 1), (8, 1), (9, 1), (12, 4), (20, 1)]\n"
     ]
    }
   ],
   "source": [
    "from gensim.corpora.dictionary import Dictionary\n",
    "\n",
    "dictionary = Dictionary(tokens)\n",
    "print(dictionary[19]) # key-value로 확인한다. \n",
    "print(len(dictionary)) # 학습된 단어의 수\n",
    "Ridley_id = dictionary.token2id.get(\"Ridley\")\n",
    "print(dictionary.get(Ridley_id))\n",
    "corpus = [dictionary.doc2bow(article) for article in tokens]\n",
    "print(corpus[2][:5])"
   ]
  },
  {
   "cell_type": "markdown",
   "metadata": {
    "id": "XtJ7wJAs_ycg"
   },
   "source": [
    "- corpus를 활용하여 Gensim Bag_or_Words를 만든다. \n",
    "- `defaultdict`를 사용하면 존재하지 않는 키에 기본값을 할당하는 사전을 초기화할 수 있다. 인수를 제공함으로써 존재하지 않는 모든 키에 자동으로 기본값이 0으로 할당되도록 할 수 있다. 이는 단어 수를 저장하는 데 매우 이상적이다. \n",
    "- `itertools.chain.from_iterable()`는 하나의 연속적인 시퀀스인 것처럼 일련의 시퀀스를 통해 반복할 수 있게 해준다. 이 기능을 사용하면 말뭉치 개체(목록 목록)를 통해 쉽게 반복할 수 있다."
   ]
  },
  {
   "cell_type": "code",
   "execution_count": 7,
   "metadata": {
    "colab": {
     "base_uri": "https://localhost:8080/"
    },
    "executionInfo": {
     "elapsed": 7,
     "status": "ok",
     "timestamp": 1673856072230,
     "user": {
      "displayName": "Ji-hoon Jung",
      "userId": "03169308685755834042"
     },
     "user_tz": -540
    },
    "id": "sqZ5IJyT_7xu",
    "outputId": "145e42f5-01f4-4bde-f5b8-8b8876eaf5b6"
   },
   "outputs": [
    {
     "name": "stdout",
     "output_type": "stream",
     "text": [
      "a 4\n",
      "in 4\n",
      "and 3\n",
      "for 3\n",
      "the 2\n",
      "\n",
      "\n",
      "a 7\n",
      "the 6\n",
      "in 5\n",
      "Ridley 4\n",
      "” 4\n"
     ]
    }
   ],
   "source": [
    "from collections import defaultdict\n",
    "import itertools\n",
    "\n",
    "doc = corpus[2]\n",
    "bow_doc = sorted(doc, key=lambda w: w[1], reverse=True)\n",
    "for word_id, word_count in bow_doc[:5]:\n",
    "    print(dictionary.get(word_id), word_count)\n",
    "\n",
    "\n",
    "total_word_count = defaultdict(int)\n",
    "for word_id, word_count in itertools.chain.from_iterable(corpus):\n",
    "    total_word_count[word_id] += word_count\n",
    "\n",
    "print(\"\\n\")\n",
    "# 단어수가 많은 순대로 재 정렬\n",
    "sorted_word_count = sorted(total_word_count.items(), key=lambda w: w[1], reverse=True) \n",
    "\n",
    "# 정렬된 단어를 내림차순으로 출력한다. \n",
    "for word_id, word_count in sorted_word_count[:5]:\n",
    "    print(dictionary.get(word_id), word_count)"
   ]
  },
  {
   "cell_type": "markdown",
   "metadata": {
    "id": "WBOGqz58FgLu"
   },
   "source": [
    "- 이제 TF-IDF 기반의 벡터화를 진행한다.\n",
    "- 아래 코드에서 `tfidf`는 일종의 모델링 이라고 생각하는 것이 좋다. \n",
    "  + `TfidfModel`에 관한 자세한 내용은 [공식문서](https://radimrehurek.com/gensim/models/tfidfmodel.html)를 참조한다. \n"
   ]
  },
  {
   "cell_type": "code",
   "execution_count": 8,
   "metadata": {
    "colab": {
     "base_uri": "https://localhost:8080/"
    },
    "executionInfo": {
     "elapsed": 327,
     "status": "ok",
     "timestamp": 1673856075418,
     "user": {
      "displayName": "Ji-hoon Jung",
      "userId": "03169308685755834042"
     },
     "user_tz": -540
    },
    "id": "F_lR1sisFnAV",
    "outputId": "6b6709ec-08a2-4ec7-add5-5995efe50c96"
   },
   "outputs": [
    {
     "name": "stdout",
     "output_type": "stream",
     "text": [
      "[(9, 0.04430091034557146), (20, 0.04430091034557146), (22, 0.04430091034557146), (23, 0.17720364138228584), (29, 0.04430091034557146)]\n",
      "and 0.3601014503954231\n",
      "for 0.3601014503954231\n",
      "to 0.24006763359694872\n",
      "which 0.24006763359694872\n",
      "in 0.17720364138228584\n"
     ]
    }
   ],
   "source": [
    "from gensim.models.tfidfmodel import TfidfModel\n",
    "\n",
    "tfidf = TfidfModel(corpus)\n",
    "tfidf_weights = tfidf[doc]\n",
    "\n",
    "# 빈번하게 자주 나오는 단어 출력\n",
    "print(tfidf_weights[:5])\n",
    "\n",
    "# Sort the weights from highest to lowest: sorted_tfidf_weights\n",
    "sorted_tfidf_weights = sorted(tfidf_weights, key=lambda w: w[1], reverse=True)\n",
    "\n",
    "# Print the top 5 weighted words\n",
    "for term_id, weight in sorted_tfidf_weights[:5]:\n",
    "    print(dictionary.get(term_id), weight)"
   ]
  },
  {
   "cell_type": "markdown",
   "metadata": {
    "id": "oBWtme-cBavk"
   },
   "source": [
    "- `and`, `for`, `to`와 같은 단어는 가장 자주 나오는 단어이지만, 중요하지 않은 단어다. \n"
   ]
  },
  {
   "cell_type": "markdown",
   "metadata": {
    "id": "8p4pD8fJ8I5_"
   },
   "source": [
    "## III. Reference\n",
    "- 권철민. (2020). 파이썬 머신러닝 완벽가이드. 경기, 파주: 위키북스\n",
    "- https://www.tutorialspoint.com/gensim/gensim_creating_tf_idf_matrix.htm"
   ]
  }
 ],
 "metadata": {
  "colab": {
   "authorship_tag": "ABX9TyPzlmAKLEQJZJYuKgD2IQYe",
   "provenance": [],
   "toc_visible": true
  },
  "kernelspec": {
   "display_name": "Python 3 (ipykernel)",
   "language": "python",
   "name": "python3"
  },
  "language_info": {
   "codemirror_mode": {
    "name": "ipython",
    "version": 3
   },
   "file_extension": ".py",
   "mimetype": "text/x-python",
   "name": "python",
   "nbconvert_exporter": "python",
   "pygments_lexer": "ipython3",
   "version": "3.11.12"
  }
 },
 "nbformat": 4,
 "nbformat_minor": 4
}
