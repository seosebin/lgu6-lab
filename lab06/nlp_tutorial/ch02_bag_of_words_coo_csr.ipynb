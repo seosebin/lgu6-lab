{
 "cells": [
  {
   "cell_type": "markdown",
   "metadata": {
    "id": "C0BvsH5e16Hj"
   },
   "source": [
    "## 개요\n",
    "- 피처 벡터화에 있어서의 희소행렬에 대해 배운다. \n",
    "- BOW 형태를 가진 언어 모델의 피처 벡터화는 대부분 희소 행렬이다. "
   ]
  },
  {
   "cell_type": "markdown",
   "metadata": {
    "id": "jr6DadS22zkW"
   },
   "source": [
    "## 희소행렬\n",
    "- 희소 행렬은 너무 많은 불필요한 0 값이 메모리 공간에 할당되어 메모리 공간을 많이 차지하는데 있다. \n",
    "- 다음 그림을 살펴보자. \n",
    "![](https://miro.medium.com/max/700/1*CpZ9fxPY5iSEzgdyS021_Q.png)\n",
    "- 이러한 희소 행렬을 물리적으로 적은 메모리 공간을 차지할 수 있도록 변환해야 하는데, 이 때, COO와 CSR 형식이 존재한다. \n"
   ]
  },
  {
   "cell_type": "markdown",
   "metadata": {
    "id": "xzCqHoGevGKA"
   },
   "source": [
    "### (1) 희소 행렬 - COO\n",
    "- COO(Coordinate: 좌표) 형식은 0이 아닌 데이터만 별도의 데이터 배열(Array)에 저장하고, 그 데이터가 가리키는 행과 열의 위치를 별도의 배열로 저장\n",
    "- 희소행렬 변환 위해 `Scipy`를 활용한다. \n"
   ]
  },
  {
   "cell_type": "code",
   "execution_count": 1,
   "metadata": {
    "colab": {
     "base_uri": "https://localhost:8080/"
    },
    "executionInfo": {
     "elapsed": 2182,
     "status": "ok",
     "timestamp": 1606272935598,
     "user": {
      "displayName": "Ji-hoon Jung",
      "photoUrl": "",
      "userId": "03169308685755834042"
     },
     "user_tz": -540
    },
    "id": "SpNcm-98moRn",
    "outputId": "18054fb5-8d86-41ff-e7da-a067674e938d"
   },
   "outputs": [
    {
     "data": {
      "text/plain": [
       "array([[3, 0, 1],\n",
       "       [0, 2, 0]])"
      ]
     },
     "execution_count": 1,
     "metadata": {
      "tags": []
     },
     "output_type": "execute_result"
    }
   ],
   "source": [
    "import numpy as np\n",
    "dense = np.array([[3, 0, 1], [0, 2, 0]])\n",
    "dense"
   ]
  },
  {
   "cell_type": "markdown",
   "metadata": {
    "id": "UweNavSJwqJc"
   },
   "source": [
    "- Scipy의 `coo_matrix` 클래스를 이용해 `COO`형식의 희소 행렬로 변환한다. "
   ]
  },
  {
   "cell_type": "code",
   "execution_count": 3,
   "metadata": {
    "colab": {
     "base_uri": "https://localhost:8080/"
    },
    "executionInfo": {
     "elapsed": 1125,
     "status": "ok",
     "timestamp": 1606230439948,
     "user": {
      "displayName": "Ji-hoon Jung",
      "photoUrl": "",
      "userId": "03169308685755834042"
     },
     "user_tz": -540
    },
    "id": "153Z3GDnwy97",
    "outputId": "852e9d15-2d3e-4d93-9ede-3875f72e5ad6"
   },
   "outputs": [
    {
     "data": {
      "text/plain": [
       "array([[3, 0, 1],\n",
       "       [0, 2, 0]])"
      ]
     },
     "execution_count": 3,
     "metadata": {
      "tags": []
     },
     "output_type": "execute_result"
    }
   ],
   "source": [
    "from scipy import sparse\n",
    "\n",
    "# 0이 아닌 데이터 추출\n",
    "data = np.array([3, 1, 2])\n",
    "\n",
    "# 행 위치와 열 위치를 각각 배열로 생성\n",
    "row_pos = np.array([0, 0, 1])\n",
    "col_pos = np.array([0, 2, 1])\n",
    "\n",
    "# sparse 패키지의 coo_matrix를 이용해 COO 형식으로 희소 행렬 생성\n",
    "sparse_coo = sparse.coo_matrix((data, (row_pos, col_pos)))\n",
    "sparse_coo.toarray()"
   ]
  },
  {
   "cell_type": "markdown",
   "metadata": {
    "id": "N7cVaUeLy68A"
   },
   "source": [
    "- 다시 원래의 데이터 행렬로 추출됨을 알 수 있음. "
   ]
  },
  {
   "cell_type": "markdown",
   "metadata": {
    "id": "DXpvg7t3zgvs"
   },
   "source": [
    "### (2) 희소 행렬 - CSR 형식\n",
    "- `CSR(Compressed Sparse Row)` 형식은 `COO` 형식이 행과 열의 위치를 나타내기 위해서 반복적인 위치 데이터를 사용해야 하는 문제점을 해결한 방식\n"
   ]
  },
  {
   "cell_type": "code",
   "execution_count": 5,
   "metadata": {
    "colab": {
     "base_uri": "https://localhost:8080/"
    },
    "executionInfo": {
     "elapsed": 930,
     "status": "ok",
     "timestamp": 1606231287416,
     "user": {
      "displayName": "Ji-hoon Jung",
      "photoUrl": "",
      "userId": "03169308685755834042"
     },
     "user_tz": -540
    },
    "id": "nFCA1BDb2ERZ",
    "outputId": "5cedc2d5-6d3d-4d56-f620-336ff6a40339"
   },
   "outputs": [
    {
     "name": "stdout",
     "output_type": "stream",
     "text": [
      "[[1 0 0 1 0 0]\n",
      " [0 0 2 0 0 1]\n",
      " [0 0 0 2 0 0]]\n",
      "  (0, 0)\t1\n",
      "  (0, 3)\t1\n",
      "  (1, 2)\t2\n",
      "  (1, 5)\t1\n",
      "  (2, 3)\t2\n",
      "[[1 0 0 1 0 0]\n",
      " [0 0 2 0 0 1]\n",
      " [0 0 0 2 0 0]]\n"
     ]
    }
   ],
   "source": [
    "from numpy import array\n",
    "from scipy.sparse import csr_matrix\n",
    "\n",
    "# 매트릭스\n",
    "A = array([[1, 0, 0, 1, 0, 0], [0, 0, 2, 0, 0, 1], [0, 0, 0, 2, 0, 0]])\n",
    "print(A)\n",
    "\n",
    "# CSR method\n",
    "S = csr_matrix(A)\n",
    "print(S)\n",
    "\n",
    "# reconstruct dense matrix\n",
    "B = S.todense()\n",
    "print(B)"
   ]
  },
  {
   "cell_type": "markdown",
   "metadata": {
    "id": "FOCK6f7dTh1w"
   },
   "source": [
    "- `COO`와 `CSR`이 어떻게 희소 행렬의 메모리를 줄일 수 있는지 예제를 통해서 살펴보았다. \n",
    "- 간단하게 정리를 하면 다음과 같다. "
   ]
  },
  {
   "cell_type": "code",
   "execution_count": 2,
   "metadata": {
    "colab": {
     "base_uri": "https://localhost:8080/"
    },
    "executionInfo": {
     "elapsed": 952,
     "status": "ok",
     "timestamp": 1606273038587,
     "user": {
      "displayName": "Ji-hoon Jung",
      "photoUrl": "",
      "userId": "03169308685755834042"
     },
     "user_tz": -540
    },
    "id": "ussVh1_KUq2A",
    "outputId": "a7ca8078-1764-4c03-96ba-b5d0096749a1"
   },
   "outputs": [
    {
     "name": "stdout",
     "output_type": "stream",
     "text": [
      "  (0, 0)\t1\n",
      "  (0, 3)\t1\n",
      "  (1, 2)\t2\n",
      "  (1, 5)\t1\n",
      "  (2, 3)\t2\n"
     ]
    }
   ],
   "source": [
    "from numpy import array\n",
    "from scipy import sparse\n",
    "dense = array([[1, 0, 0, 1, 0, 0], [0, 0, 2, 0, 0, 1], [0, 0, 0, 2, 0, 0]])\n",
    "\n",
    "coo = sparse.coo_matrix(dense)\n",
    "print(coo)"
   ]
  },
  {
   "cell_type": "code",
   "execution_count": 4,
   "metadata": {
    "colab": {
     "base_uri": "https://localhost:8080/"
    },
    "executionInfo": {
     "elapsed": 930,
     "status": "ok",
     "timestamp": 1606273062594,
     "user": {
      "displayName": "Ji-hoon Jung",
      "photoUrl": "",
      "userId": "03169308685755834042"
     },
     "user_tz": -540
    },
    "id": "Wnb2YqviVXI6",
    "outputId": "d5d7b47d-9bf4-4d6f-8b49-e688670bd74b"
   },
   "outputs": [
    {
     "name": "stdout",
     "output_type": "stream",
     "text": [
      "  (0, 0)\t1\n",
      "  (0, 3)\t1\n",
      "  (1, 2)\t2\n",
      "  (1, 5)\t1\n",
      "  (2, 3)\t2\n"
     ]
    }
   ],
   "source": [
    "csr = sparse.csr_matrix(dense)\n",
    "print(csr)"
   ]
  },
  {
   "cell_type": "markdown",
   "metadata": {
    "id": "QozsZgthVw0l"
   },
   "source": [
    "## 옵션 \n",
    "- 사이킷런의 `CountVectorizer`나 `TfidfVectorizer` 클래스로 변환된 피처 벡터화 행렬은 모두 `Scipy`의 `CSR`형태의 희소 행렬이다. \n",
    "> 'This implementation produces a sparse representation of the counts using scipy.sparse.csr_matrix.' from https://scikit-learn.org/stable/modules/generated/sklearn.feature_extraction.text.CountVectorizer.html\n",
    "\n",
    "- 따라서, 희소행렬의 문제점을 해결 할 때에는 `CSR` 방식을 써주는 것이 좋다. \n",
    "\n",
    "- 희소행렬에 대한 문제점에 대해 상세한 설명은 다음 글을 참고한다. \n",
    "  + [A Gentle Introduction to Sparse Matrices for Machine Learning](https://machinelearningmastery.com/sparse-matrices-for-machine-learning/)\n",
    "\n"
   ]
  },
  {
   "cell_type": "markdown",
   "metadata": {
    "id": "J7WwVcrnWZZc"
   },
   "source": [
    "## Reference\n",
    "- 권철민. (2020). 파이썬 머신러닝 완벽가이드. 경기, 파주: 위키북스\n"
   ]
  },
  {
   "cell_type": "markdown",
   "metadata": {
    "id": "fDWgT14nysiF"
   },
   "source": [
    "- "
   ]
  }
 ],
 "metadata": {
  "colab": {
   "authorship_tag": "ABX9TyMHEcJJF308brZcbVBHik81",
   "collapsed_sections": [],
   "name": "ch02_bag_of_words_coo_csr.ipynb",
   "provenance": [],
   "toc_visible": true
  },
  "kernelspec": {
   "display_name": "Python 3 (ipykernel)",
   "language": "python",
   "name": "python3"
  },
  "language_info": {
   "codemirror_mode": {
    "name": "ipython",
    "version": 3
   },
   "file_extension": ".py",
   "mimetype": "text/x-python",
   "name": "python",
   "nbconvert_exporter": "python",
   "pygments_lexer": "ipython3",
   "version": "3.11.12"
  }
 },
 "nbformat": 4,
 "nbformat_minor": 4
}
