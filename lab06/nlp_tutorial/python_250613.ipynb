{
 "cells": [
  {
   "cell_type": "markdown",
   "id": "5ea33d7e-ea47-4f90-8231-9f0e5ca3c091",
   "metadata": {},
   "source": [
    "# 감성지수 만들기\n",
    "- 긍정단어, 부정단어 점수화 "
   ]
  },
  {
   "cell_type": "markdown",
   "id": "a72d6320-a932-4486-a0a6-84369d273e0e",
   "metadata": {},
   "source": [
    "# 데이터 가져오기"
   ]
  },
  {
   "cell_type": "code",
   "execution_count": 1,
   "id": "a46972f4-7e5f-4b97-930b-e17fb9b6e675",
   "metadata": {},
   "outputs": [
    {
     "data": {
      "text/html": [
       "<div>\n",
       "<style scoped>\n",
       "    .dataframe tbody tr th:only-of-type {\n",
       "        vertical-align: middle;\n",
       "    }\n",
       "\n",
       "    .dataframe tbody tr th {\n",
       "        vertical-align: top;\n",
       "    }\n",
       "\n",
       "    .dataframe thead th {\n",
       "        text-align: right;\n",
       "    }\n",
       "</style>\n",
       "<table border=\"1\" class=\"dataframe\">\n",
       "  <thead>\n",
       "    <tr style=\"text-align: right;\">\n",
       "      <th></th>\n",
       "      <th>id</th>\n",
       "      <th>sentiment</th>\n",
       "      <th>review</th>\n",
       "    </tr>\n",
       "  </thead>\n",
       "  <tbody>\n",
       "    <tr>\n",
       "      <th>0</th>\n",
       "      <td>5814_8</td>\n",
       "      <td>1</td>\n",
       "      <td>With all this stuff going down at the moment w...</td>\n",
       "    </tr>\n",
       "    <tr>\n",
       "      <th>1</th>\n",
       "      <td>2381_9</td>\n",
       "      <td>1</td>\n",
       "      <td>\\The Classic War of the Worlds\\\" by Timothy Hi...</td>\n",
       "    </tr>\n",
       "    <tr>\n",
       "      <th>2</th>\n",
       "      <td>7759_3</td>\n",
       "      <td>0</td>\n",
       "      <td>The film starts with a manager (Nicholas Bell)...</td>\n",
       "    </tr>\n",
       "    <tr>\n",
       "      <th>3</th>\n",
       "      <td>3630_4</td>\n",
       "      <td>0</td>\n",
       "      <td>It must be assumed that those who praised this...</td>\n",
       "    </tr>\n",
       "    <tr>\n",
       "      <th>4</th>\n",
       "      <td>9495_8</td>\n",
       "      <td>1</td>\n",
       "      <td>Superbly trashy and wondrously unpretentious 8...</td>\n",
       "    </tr>\n",
       "  </tbody>\n",
       "</table>\n",
       "</div>"
      ],
      "text/plain": [
       "       id  sentiment                                             review\n",
       "0  5814_8          1  With all this stuff going down at the moment w...\n",
       "1  2381_9          1  \\The Classic War of the Worlds\\\" by Timothy Hi...\n",
       "2  7759_3          0  The film starts with a manager (Nicholas Bell)...\n",
       "3  3630_4          0  It must be assumed that those who praised this...\n",
       "4  9495_8          1  Superbly trashy and wondrously unpretentious 8..."
      ]
     },
     "execution_count": 1,
     "metadata": {},
     "output_type": "execute_result"
    }
   ],
   "source": [
    "import pandas as pd \n",
    "df = pd.read_csv(\"data/labeledTrainData.tsv\", sep=\"\\t\")\n",
    "df.head()"
   ]
  },
  {
   "cell_type": "markdown",
   "id": "9d5bfc8a-1c9c-4e82-aa24-49faf2a68d49",
   "metadata": {},
   "source": [
    "# 데이터 전처리"
   ]
  },
  {
   "cell_type": "code",
   "execution_count": 4,
   "id": "c86b3647-f53a-4ed3-ab4b-9478ff551989",
   "metadata": {},
   "outputs": [
    {
     "data": {
      "text/plain": [
       "array([1, 1, 0, ..., 0, 0, 1], shape=(25000,))"
      ]
     },
     "execution_count": 4,
     "metadata": {},
     "output_type": "execute_result"
    }
   ],
   "source": [
    "import torch\n",
    "from torch.utils.data import Dataset, DataLoader\n",
    "from sklearn.feature_extraction.text import CountVectorizer\n",
    "from sklearn.model_selection import train_test_split\n",
    "from sklearn.preprocessing import LabelEncoder\n",
    "import re\n",
    "import numpy as np\n",
    "\n",
    "# 텍스트 전처리 함수\n",
    "def clean_text(text):\n",
    "    text = re.sub(r'<.*?>', '', text)  # HTML 태그 제거\n",
    "    text = re.sub(r'[^a-zA-Z\\s]', '', text)  # 특수문자 제거\n",
    "    text = text.lower()\n",
    "    return text\n",
    "\n",
    "# 전처리 함수 적용\n",
    "df['clean_review'] = df['review'].apply(clean_text)\n",
    "\n",
    "# 벡터화\n",
    "vectorizer = CountVectorizer(max_features=5000, stop_words='english')\n",
    "X = vectorizer.fit_transform(df['clean_review']).toarray()\n",
    "y = df['sentiment'].values"
   ]
  },
  {
   "cell_type": "markdown",
   "id": "0a88891a-1d5b-4462-b7c7-8c6cd4b189e9",
   "metadata": {},
   "source": [
    "# 데이터셋 분리 "
   ]
  },
  {
   "cell_type": "code",
   "execution_count": 5,
   "id": "40d27e46-78dd-4f42-a176-3af6c6cb6484",
   "metadata": {},
   "outputs": [],
   "source": [
    "X_train, X_val, y_train, y_val = train_test_split(X, y, test_size=0.2, random_state=42)"
   ]
  },
  {
   "cell_type": "markdown",
   "id": "8adaee46-bdf5-4c0c-aed0-663c28d72b51",
   "metadata": {},
   "source": [
    "# 데이터셋 클래스 정의\n",
    "- 여기 부분이 가장 큰 난제가 될 것\n",
    "- 코드 리뷰 할 시, Dataset 클래스 어떤 형태로 만들었는지, 꼭 공부"
   ]
  },
  {
   "cell_type": "code",
   "execution_count": 6,
   "id": "7792031f-fd77-4c44-8211-ed05462a0898",
   "metadata": {},
   "outputs": [],
   "source": [
    "class ReviewDataset(Dataset):\n",
    "    def __init__(self, X, y):\n",
    "        self.X = torch.tensor(X, dtype=torch.float32)\n",
    "        self.y = torch.tensor(y, dtype=torch.float32).unsqueeze(1)\n",
    "\n",
    "    def __getitem__(self, idx):\n",
    "        return self.X[idx], self.y[idx]\n",
    "\n",
    "    def __len__(self):\n",
    "        return len(self.y)"
   ]
  },
  {
   "cell_type": "code",
   "execution_count": 9,
   "id": "b9d3ec35-3996-4823-be64-b3a39619b81c",
   "metadata": {},
   "outputs": [],
   "source": [
    "# text 데이터를 tensor로 변환해서 PyTorch 입력값으로 업로드 할 준비 시키기\n",
    "train_dataset = ReviewDataset(X_train, y_train)\n",
    "val_dataset = ReviewDataset(X_val, y_val)\n",
    "\n",
    "# 여기 부분은 transformers 라이브러리 비교\n",
    "train_loader = DataLoader(train_dataset, batch_size=64, shuffle=True)\n",
    "val_loader = DataLoader(val_dataset, batch_size=64)"
   ]
  },
  {
   "cell_type": "markdown",
   "id": "fdd1cade-65f8-4cb6-b276-ee1aae3e3e87",
   "metadata": {},
   "source": [
    "# 모델 만들기"
   ]
  },
  {
   "cell_type": "code",
   "execution_count": 11,
   "id": "e97c303a-6bbb-4d1b-aedd-f210acd327dc",
   "metadata": {},
   "outputs": [],
   "source": [
    "import torch.nn as nn\n",
    "\n",
    "# 단순한 이진 분류 모델 (Logistic Regression)\n",
    "class SentimentClassifier(nn.Module):\n",
    "    def __init__(self, input_dim):\n",
    "        super(SentimentClassifier, self).__init__()\n",
    "        self.linear = nn.Linear(input_dim, 1)\n",
    "    \n",
    "    def forward(self, x):\n",
    "        return torch.sigmoid(self.linear(x))\n",
    "\n",
    "# 모델 인스턴스 생성\n",
    "input_dim = X_train.shape[1]\n",
    "model = SentimentClassifier(input_dim)\n",
    "\n",
    "# 손실 함수 및 옵티마이저 설정\n",
    "criterion = nn.BCELoss()\n",
    "optimizer = torch.optim.Adam(model.parameters(), lr=0.001)"
   ]
  },
  {
   "cell_type": "markdown",
   "id": "aa0d51a4-9c2b-489e-94d6-9f1212968de4",
   "metadata": {},
   "source": [
    "# 모델 학습"
   ]
  },
  {
   "cell_type": "code",
   "execution_count": 12,
   "id": "4713eec2-a8de-4c48-aab4-c21b5532dccf",
   "metadata": {},
   "outputs": [
    {
     "name": "stdout",
     "output_type": "stream",
     "text": [
      "Epoch 1/5, Loss: 161.9813\n",
      "Epoch 2/5, Loss: 117.9460\n",
      "Epoch 3/5, Loss: 101.4444\n",
      "Epoch 4/5, Loss: 91.9213\n",
      "Epoch 5/5, Loss: 85.3685\n"
     ]
    }
   ],
   "source": [
    "# GPU 사용 가능 시\n",
    "device = torch.device('cuda' if torch.cuda.is_available() else 'cpu')\n",
    "model.to(device)\n",
    "\n",
    "# 학습 루프\n",
    "epochs = 5\n",
    "for epoch in range(epochs):\n",
    "    model.train()\n",
    "    total_loss = 0\n",
    "    for inputs, labels in train_loader:\n",
    "        inputs, labels = inputs.to(device), labels.to(device)\n",
    "        optimizer.zero_grad()\n",
    "        outputs = model(inputs)\n",
    "        loss = criterion(outputs, labels)\n",
    "        loss.backward()\n",
    "        optimizer.step()\n",
    "        total_loss += loss.item()\n",
    "\n",
    "    print(f\"Epoch {epoch+1}/{epochs}, Loss: {total_loss:.4f}\")"
   ]
  },
  {
   "cell_type": "markdown",
   "id": "367d59bd-a051-4311-abb7-265539a11996",
   "metadata": {},
   "source": [
    "# 모델 평가"
   ]
  },
  {
   "cell_type": "code",
   "execution_count": 14,
   "id": "9d3fd966-6882-424d-9808-ac49862db23f",
   "metadata": {},
   "outputs": [
    {
     "name": "stdout",
     "output_type": "stream",
     "text": [
      "0.8816\n"
     ]
    }
   ],
   "source": [
    "model.eval()\n",
    "correct = 0\n",
    "total = 0\n",
    "\n",
    "with torch.no_grad():\n",
    "    for inputs, labels in val_loader:\n",
    "        inputs, labels = inputs.to(device), labels.to(device)\n",
    "        outputs = model(inputs)\n",
    "        predicted = (outputs >= 0.5).float()\n",
    "        correct += (predicted == labels).sum().item()\n",
    "        total += labels.size(0)\n",
    "\n",
    "print(correct / total)"
   ]
  },
  {
   "cell_type": "markdown",
   "id": "8679097b-acf2-4f3c-ae38-2c4d79f6252a",
   "metadata": {},
   "source": [
    "# 각 단어별 가중치 확인"
   ]
  },
  {
   "cell_type": "code",
   "execution_count": 19,
   "id": "c3bcd471-bbaf-4850-becf-02f81f997909",
   "metadata": {},
   "outputs": [],
   "source": [
    "weights = model.linear.weight[0].detach().cpu().numpy() # GPU 텐서에서 CPU 텐서로 변환 ==> numpy 변환\n",
    "vocab = vectorizer.get_feature_names_out()\n",
    "word_weights = list(zip(vocab, weights))\n",
    "word_weights.sort(key=lambda x: x[1], reverse=True)"
   ]
  },
  {
   "cell_type": "code",
   "execution_count": 22,
   "id": "155ed7df-ebe0-41b8-9779-a728699ed0d6",
   "metadata": {},
   "outputs": [
    {
     "name": "stdout",
     "output_type": "stream",
     "text": [
      "excellent 0.5114949\n",
      "favorite 0.48127627\n",
      "superb 0.4601699\n"
     ]
    }
   ],
   "source": [
    "# 긍정적인 단어\n",
    "for word, weight in word_weights[:3]:\n",
    "    print(word, weight)"
   ]
  },
  {
   "cell_type": "code",
   "execution_count": 23,
   "id": "2e8e9dfc-2754-4309-94e3-a159f3137d38",
   "metadata": {},
   "outputs": [
    {
     "name": "stdout",
     "output_type": "stream",
     "text": [
      "awful -0.60033625\n",
      "worst -0.67975783\n",
      "waste -0.68052584\n"
     ]
    }
   ],
   "source": [
    "# \n",
    "for word, weight in word_weights[-3:]:\n",
    "    print(word, weight)"
   ]
  }
 ],
 "metadata": {
  "kernelspec": {
   "display_name": "Python 3 (ipykernel)",
   "language": "python",
   "name": "python3"
  },
  "language_info": {
   "codemirror_mode": {
    "name": "ipython",
    "version": 3
   },
   "file_extension": ".py",
   "mimetype": "text/x-python",
   "name": "python",
   "nbconvert_exporter": "python",
   "pygments_lexer": "ipython3",
   "version": "3.11.12"
  }
 },
 "nbformat": 4,
 "nbformat_minor": 5
}
