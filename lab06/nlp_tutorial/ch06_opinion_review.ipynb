{
 "cells": [
  {
   "cell_type": "markdown",
   "metadata": {
    "id": "C4aiCyQtD2j7"
   },
   "source": [
    "## 문서 군집화 개념\n",
    "- 문서 군집화(Document Clustering)는 비슷한 텍스트 구성의 문서를 군집화(`Clustering`)하는 것입니다. \n",
    "- 문서 군집화는 동일한 군집에 속하는 문서를 같은 카테고리 소속으로 분류할 수 있으므로 앞에서 소개한 텍스트 분류 기반의 문서 분류와 유사하다. \n",
    "- 데이터는 아래 링크를 통해서 다운로드 받는다. (Data Folder Link 클릭)\n",
    "  + https://archive.ics.uci.edu/dataset/191/opinosis+opinion+frasl+review\n"
   ]
  },
  {
   "cell_type": "markdown",
   "metadata": {
    "id": "CHlMzlc3ecpX"
   },
   "source": [
    "## 데이터 불러오기\n",
    "- 데이터 불러오는 코드를 진행합니다. \n",
    "- 기존 코드에서 약간의 코드를 수정하였습니다.\n",
    "- 기존 코드는 아래와 같습니다. \n",
    "\n",
    "```python\n",
    "for file_ in all_files:\n",
    "    # 개별 파일을 읽어서 DataFrame으로 생성 \n",
    "    df = pd.read_table(file_,index_col=None, header=0,encoding='latin1')\n",
    "    \n",
    "    # 절대경로로 주어진 file 명을 가공. 만일 Linux에서 수행시에는 아래 \\\\를 / 변경. 맨 마지막 .data 확장자도 제거\n",
    "    filename_ = file_.split('\\\\')[-1]\n",
    "    filename = filename_.split('.')[0]\n",
    "\n",
    "    #파일명 리스트와 파일내용 리스트에 파일명과 파일 내용을 추가. \n",
    "    filename_list.append(filename)\n",
    "    opinion_text.append(df.to_string())\n",
    "```\n",
    "\n",
    "- 제가 수정한 코드는 아래와 같습니다. \n",
    "\n",
    "```python\n",
    "for file_ in all_files:\n",
    "  # 개별 파일을 읽어서 데이터 프레임으로 생성\n",
    "  df = pd.read_table(file_, index_col=None, header=None, encoding='latin1')\n",
    "  # print(df.head())\n",
    "  df.columns = ['text']\n",
    "  # print(df.head())\n",
    "\n",
    "  # 절대 경로로 주어진 파일명을 가공. 리눅스에서 수행 시 \\\\를 /로 변경\n",
    "  # 맨 마지막 .data 확장자도 제거\n",
    "  filename_ = file_.split('/')[-1] # 만일 Linux에서 수행시에는 아래 \\\\를 / 변경. 맨 마지막 .data 확장자도 제거\n",
    "  filename = filename_.split('.')[0]\n",
    "\n",
    "  # 파일명 list와 파일 내용 list에 파일명과 파일 내용을 추가\n",
    "  filename_list.append(filename)\n",
    "  text_data = df.to_string()\n",
    "  opinion_text.append(df.text.to_string(index=None))\n",
    "```"
   ]
  },
  {
   "cell_type": "code",
   "execution_count": 3,
   "metadata": {
    "colab": {
     "base_uri": "https://localhost:8080/",
     "height": 258
    },
    "executionInfo": {
     "elapsed": 1443,
     "status": "ok",
     "timestamp": 1608033788084,
     "user": {
      "displayName": "Ji-hoon Jung",
      "photoUrl": "",
      "userId": "03169308685755834042"
     },
     "user_tz": -540
    },
    "id": "9BzWUJNKI_k0",
    "outputId": "a2098c08-8459-4e7f-e9ee-8e0f81b7aadc"
   },
   "outputs": [
    {
     "name": "stdout",
     "output_type": "stream",
     "text": [
      "전체 파일 개수: 51\n",
      "['data/OpinosisDataset1.0/topics\\\\accuracy_garmin_nuvi_255W_gps.txt.data', 'data/OpinosisDataset1.0/topics\\\\bathroom_bestwestern_hotel_sfo.txt.data']\n"
     ]
    },
    {
     "data": {
      "text/html": [
       "<div>\n",
       "<style scoped>\n",
       "    .dataframe tbody tr th:only-of-type {\n",
       "        vertical-align: middle;\n",
       "    }\n",
       "\n",
       "    .dataframe tbody tr th {\n",
       "        vertical-align: top;\n",
       "    }\n",
       "\n",
       "    .dataframe thead th {\n",
       "        text-align: right;\n",
       "    }\n",
       "</style>\n",
       "<table border=\"1\" class=\"dataframe\">\n",
       "  <thead>\n",
       "    <tr style=\"text-align: right;\">\n",
       "      <th></th>\n",
       "      <th>filename</th>\n",
       "      <th>opinion_text</th>\n",
       "    </tr>\n",
       "  </thead>\n",
       "  <tbody>\n",
       "    <tr>\n",
       "      <th>0</th>\n",
       "      <td>topics\\accuracy_garmin_nuvi_255W_gps</td>\n",
       "      <td>, and is very, very accura...</td>\n",
       "    </tr>\n",
       "    <tr>\n",
       "      <th>1</th>\n",
       "      <td>topics\\bathroom_bestwestern_hotel_sfo</td>\n",
       "      <td>The room was not overly big, but clean and v...</td>\n",
       "    </tr>\n",
       "    <tr>\n",
       "      <th>2</th>\n",
       "      <td>topics\\battery-life_amazon_kindle</td>\n",
       "      <td>After I plugged it in to my USB hub on my co...</td>\n",
       "    </tr>\n",
       "    <tr>\n",
       "      <th>3</th>\n",
       "      <td>topics\\battery-life_ipod_nano_8gb</td>\n",
       "      <td>short battery life  I moved up from an 8...</td>\n",
       "    </tr>\n",
       "    <tr>\n",
       "      <th>4</th>\n",
       "      <td>topics\\battery-life_netbook_1005ha</td>\n",
       "      <td>6GHz 533FSB cpu, glossy display, 3, Cell 23Wh...</td>\n",
       "    </tr>\n",
       "  </tbody>\n",
       "</table>\n",
       "</div>"
      ],
      "text/plain": [
       "                                filename  \\\n",
       "0   topics\\accuracy_garmin_nuvi_255W_gps   \n",
       "1  topics\\bathroom_bestwestern_hotel_sfo   \n",
       "2      topics\\battery-life_amazon_kindle   \n",
       "3      topics\\battery-life_ipod_nano_8gb   \n",
       "4     topics\\battery-life_netbook_1005ha   \n",
       "\n",
       "                                        opinion_text  \n",
       "0                      , and is very, very accura...  \n",
       "1    The room was not overly big, but clean and v...  \n",
       "2    After I plugged it in to my USB hub on my co...  \n",
       "3        short battery life  I moved up from an 8...  \n",
       "4   6GHz 533FSB cpu, glossy display, 3, Cell 23Wh...  "
      ]
     },
     "execution_count": 3,
     "metadata": {},
     "output_type": "execute_result"
    }
   ],
   "source": [
    "import pandas as pd\n",
    "import glob, os\n",
    "\n",
    "# 폴더 경로(디렉터리) 설정\n",
    "path = r'data/OpinosisDataset1.0/topics'\n",
    "\n",
    "all_files = glob.glob(os.path.join(path, \"*.data\"))\n",
    "print(\"전체 파일 개수:\", len(all_files))\n",
    "print(all_files[:2])\n",
    "\n",
    "filename_list = []\n",
    "opinion_text = []\n",
    "\n",
    "# 개별 파일의 파일명은 filename_list\n",
    "# 개별 파일의 파일 내용은 `DataFrame 로딩 후 다시 string으로 변환해 `opinion_text list`로 취합한다. \n",
    "\n",
    "for file_ in all_files:\n",
    "  # 개별 파일을 읽어서 데이터 프레임으로 생성\n",
    "  df = pd.read_table(file_, index_col=None, header=None, encoding='latin1')\n",
    "  # print(df.head())\n",
    "  df.columns = ['text']\n",
    "  # print(df.head())\n",
    "\n",
    "  # 절대 경로로 주어진 파일명을 가공. 리눅스에서 수행 시 \\\\를 /로 변경\n",
    "  # 맨 마지막 .data 확장자도 제거\n",
    "  filename_ = file_.split('/')[-1] # 만일 Linux에서 수행시에는 아래 \\\\를 / 변경. 맨 마지막 .data 확장자도 제거\n",
    "  filename = filename_.split('.')[0]\n",
    "\n",
    "  # 파일명 list와 파일 내용 list에 파일명과 파일 내용을 추가\n",
    "  filename_list.append(filename)\n",
    "  text_data = df.to_string()\n",
    "  opinion_text.append(df.text.to_string(index=None))\n",
    "\n",
    "# 파일명 list\n",
    "document_df = pd.DataFrame({'filename': filename_list, 'opinion_text': opinion_text})\n",
    "document_df.head()"
   ]
  },
  {
   "cell_type": "markdown",
   "metadata": {
    "id": "Fa7NCUvRfLbE"
   },
   "source": [
    "## TF-IDF 피처 벡터화된 행렬\n",
    "- 피처 벡터화된 행렬을 구한다. \n",
    "- 각 파일 이름(filename) 자체만으로 의견(opinion)의 텍스트(text)가 어떠한 제품/서비스에 대한 리뷰인지 잘 알 수 있다. \n",
    "- 이제 TF-IDF에 대해 피처 벡터화된 행렬을 구하도록 한다. "
   ]
  },
  {
   "cell_type": "code",
   "execution_count": 4,
   "metadata": {
    "colab": {
     "base_uri": "https://localhost:8080/"
    },
    "executionInfo": {
     "elapsed": 3634,
     "status": "ok",
     "timestamp": 1608033827645,
     "user": {
      "displayName": "Ji-hoon Jung",
      "photoUrl": "",
      "userId": "03169308685755834042"
     },
     "user_tz": -540
    },
    "id": "RligeQ1Hprp7",
    "outputId": "92a68e65-75c9-40c5-da65-fe33af90dd81"
   },
   "outputs": [
    {
     "name": "stderr",
     "output_type": "stream",
     "text": [
      "[nltk_data] Downloading package punkt to\n",
      "[nltk_data]     C:\\Users\\Admin\\AppData\\Roaming\\nltk_data...\n",
      "[nltk_data]   Package punkt is already up-to-date!\n",
      "[nltk_data] Downloading package wordnet to\n",
      "[nltk_data]     C:\\Users\\Admin\\AppData\\Roaming\\nltk_data...\n",
      "[nltk_data]   Package wordnet is already up-to-date!\n"
     ]
    }
   ],
   "source": [
    "from nltk.stem import WordNetLemmatizer\n",
    "import nltk\n",
    "import string\n",
    "\n",
    "nltk.download('punkt')\n",
    "nltk.download('wordnet')\n",
    "\n",
    "remove_punct_dict = dict((ord(punct), None) for punct in string.punctuation)\n",
    "lemmar = WordNetLemmatizer()\n",
    "\n",
    "def LemTokens(tokens):\n",
    "    return [lemmar.lemmatize(token) for token in tokens]\n",
    "\n",
    "def LemNormalize(text):\n",
    "    return LemTokens(nltk.word_tokenize(text.lower().translate(remove_punct_dict)))"
   ]
  },
  {
   "cell_type": "code",
   "execution_count": 5,
   "metadata": {
    "colab": {
     "base_uri": "https://localhost:8080/"
    },
    "executionInfo": {
     "elapsed": 2734,
     "status": "ok",
     "timestamp": 1608033898853,
     "user": {
      "displayName": "Ji-hoon Jung",
      "photoUrl": "",
      "userId": "03169308685755834042"
     },
     "user_tz": -540
    },
    "id": "98rzk6dmnslu",
    "outputId": "c3ac2a96-bd52-49f1-d0c1-c80ac79b6be6"
   },
   "outputs": [
    {
     "name": "stderr",
     "output_type": "stream",
     "text": [
      "C:\\Users\\Admin\\Desktop\\lgu6P\\lab06\\nlp_tutorial\\.venv\\Lib\\site-packages\\sklearn\\feature_extraction\\text.py:517: UserWarning: The parameter 'token_pattern' will not be used since 'tokenizer' is not None'\n",
      "  warnings.warn(\n",
      "C:\\Users\\Admin\\Desktop\\lgu6P\\lab06\\nlp_tutorial\\.venv\\Lib\\site-packages\\sklearn\\feature_extraction\\text.py:402: UserWarning: Your stop_words may be inconsistent with your preprocessing. Tokenizing the stop words generated tokens ['ha', 'u', 'wa'] not in stop_words.\n",
      "  warnings.warn(\n"
     ]
    }
   ],
   "source": [
    "from sklearn.feature_extraction.text import TfidfVectorizer\n",
    "\n",
    "tfidf_vect = TfidfVectorizer(tokenizer=LemNormalize, stop_words=\"english\", ngram_range=(1, 2), min_df=0.05, max_df=0.85)\n",
    "\n",
    "# opinion_text\n",
    "feature_vect = tfidf_vect.fit_transform(document_df['opinion_text'])"
   ]
  },
  {
   "cell_type": "markdown",
   "metadata": {
    "id": "7t9bt0hbqYFB"
   },
   "source": [
    "## K-Means 모형\n",
    "- TF-IDF 변환된 피처 벡터화 행렬 데이터에 대해 군집화를 수행하여 어떤 문서끼리 군집되는지 확인해본다. \n",
    "- 군집화 기법은 K-평균을 적용한다. \n",
    "  + 5개의 중심으로 어떻게 군집화되는지 확인해본다. \n",
    "- K-Means 알고리즘에 관한 설명이 필요하신 분은 다음 셀에서 확인하도록 한다. "
   ]
  },
  {
   "cell_type": "code",
   "execution_count": 6,
   "metadata": {
    "colab": {
     "base_uri": "https://localhost:8080/",
     "height": 336
    },
    "executionInfo": {
     "elapsed": 1080,
     "status": "ok",
     "timestamp": 1607586786333,
     "user": {
      "displayName": "Ji-hoon Jung",
      "photoUrl": "",
      "userId": "03169308685755834042"
     },
     "user_tz": -540
    },
    "id": "n7EY2p8Goj72",
    "outputId": "598f3352-221c-45ab-c717-d29b5e2220cb"
   },
   "outputs": [
    {
     "name": "stderr",
     "output_type": "stream",
     "text": [
      "C:\\Users\\Admin\\Desktop\\lgu6P\\lab06\\nlp_tutorial\\.venv\\Lib\\site-packages\\IPython\\core\\display.py:447: UserWarning: Consider using IPython.display.IFrame instead\n",
      "  warnings.warn(\"Consider using IPython.display.IFrame instead\")\n"
     ]
    },
    {
     "data": {
      "text/html": [
       "<iframe width=\"560\" height=\"315\" src=\"https://www.youtube.com/embed/4b5d3muPQmA\" frameborder=\"0\" allow=\"accelerometer; autoplay; clipboard-write; encrypted-media; gyroscope; picture-in-picture\" allowfullscreen></iframe>"
      ],
      "text/plain": [
       "<IPython.core.display.HTML object>"
      ]
     },
     "execution_count": 6,
     "metadata": {},
     "output_type": "execute_result"
    }
   ],
   "source": [
    "from IPython.display import HTML\n",
    "\n",
    "HTML('<iframe width=\"560\" height=\"315\" src=\"https://www.youtube.com/embed/4b5d3muPQmA\" frameborder=\"0\" allow=\"accelerometer; autoplay; clipboard-write; encrypted-media; gyroscope; picture-in-picture\" allowfullscreen></iframe>')"
   ]
  },
  {
   "cell_type": "code",
   "execution_count": 7,
   "metadata": {
    "executionInfo": {
     "elapsed": 1679,
     "status": "ok",
     "timestamp": 1608034005029,
     "user": {
      "displayName": "Ji-hoon Jung",
      "photoUrl": "",
      "userId": "03169308685755834042"
     },
     "user_tz": -540
    },
    "id": "7VLXT-tAvUTf"
   },
   "outputs": [],
   "source": [
    "from sklearn.cluster import KMeans\n",
    "\n",
    "# 5개의 집합으로 군집화 수행\n",
    "km_cluster = KMeans(n_clusters=5, max_iter=10000, random_state=0)\n",
    "km_cluster.fit(feature_vect)\n",
    "\n",
    "cluster_label = km_cluster.labels_\n",
    "cluster_centers = km_cluster.cluster_centers_"
   ]
  },
  {
   "cell_type": "markdown",
   "metadata": {
    "id": "TI3CUVfTwrcc"
   },
   "source": [
    "- 각 데이터별로 할당된 군집의 레이블을 파일명과 파일 내용을 가지고 있는 `document_df`에 `cluster_label` 칼럼을 추가해 저장한다. \n"
   ]
  },
  {
   "cell_type": "markdown",
   "metadata": {
    "id": "f-x5xdAKhOa5"
   },
   "source": [
    "## 모형 결과 확인\n",
    "- 각각의 모형에 대한 결과를 확인하도록 한다. "
   ]
  },
  {
   "cell_type": "code",
   "execution_count": 8,
   "metadata": {
    "colab": {
     "base_uri": "https://localhost:8080/",
     "height": 669
    },
    "executionInfo": {
     "elapsed": 1030,
     "status": "ok",
     "timestamp": 1608034060911,
     "user": {
      "displayName": "Ji-hoon Jung",
      "photoUrl": "",
      "userId": "03169308685755834042"
     },
     "user_tz": -540
    },
    "id": "-7lQ_Rjtw1ZZ",
    "outputId": "4d64c964-6176-4cdc-8a23-536451f41f8f"
   },
   "outputs": [
    {
     "data": {
      "text/html": [
       "<div>\n",
       "<style scoped>\n",
       "    .dataframe tbody tr th:only-of-type {\n",
       "        vertical-align: middle;\n",
       "    }\n",
       "\n",
       "    .dataframe tbody tr th {\n",
       "        vertical-align: top;\n",
       "    }\n",
       "\n",
       "    .dataframe thead th {\n",
       "        text-align: right;\n",
       "    }\n",
       "</style>\n",
       "<table border=\"1\" class=\"dataframe\">\n",
       "  <thead>\n",
       "    <tr style=\"text-align: right;\">\n",
       "      <th></th>\n",
       "      <th>filename</th>\n",
       "      <th>opinion_text</th>\n",
       "      <th>cluster_label</th>\n",
       "    </tr>\n",
       "  </thead>\n",
       "  <tbody>\n",
       "    <tr>\n",
       "      <th>0</th>\n",
       "      <td>topics\\accuracy_garmin_nuvi_255W_gps</td>\n",
       "      <td>, and is very, very accura...</td>\n",
       "      <td>2</td>\n",
       "    </tr>\n",
       "    <tr>\n",
       "      <th>1</th>\n",
       "      <td>topics\\bathroom_bestwestern_hotel_sfo</td>\n",
       "      <td>The room was not overly big, but clean and v...</td>\n",
       "      <td>1</td>\n",
       "    </tr>\n",
       "    <tr>\n",
       "      <th>2</th>\n",
       "      <td>topics\\battery-life_amazon_kindle</td>\n",
       "      <td>After I plugged it in to my USB hub on my co...</td>\n",
       "      <td>4</td>\n",
       "    </tr>\n",
       "    <tr>\n",
       "      <th>3</th>\n",
       "      <td>topics\\battery-life_ipod_nano_8gb</td>\n",
       "      <td>short battery life  I moved up from an 8...</td>\n",
       "      <td>4</td>\n",
       "    </tr>\n",
       "    <tr>\n",
       "      <th>4</th>\n",
       "      <td>topics\\battery-life_netbook_1005ha</td>\n",
       "      <td>6GHz 533FSB cpu, glossy display, 3, Cell 23Wh...</td>\n",
       "      <td>4</td>\n",
       "    </tr>\n",
       "    <tr>\n",
       "      <th>5</th>\n",
       "      <td>topics\\buttons_amazon_kindle</td>\n",
       "      <td>I thought it would be fitting to christen my ...</td>\n",
       "      <td>2</td>\n",
       "    </tr>\n",
       "    <tr>\n",
       "      <th>6</th>\n",
       "      <td>topics\\comfort_honda_accord_2008</td>\n",
       "      <td>Drivers seat not comfortable, the car itself...</td>\n",
       "      <td>3</td>\n",
       "    </tr>\n",
       "    <tr>\n",
       "      <th>7</th>\n",
       "      <td>topics\\comfort_toyota_camry_2007</td>\n",
       "      <td>Ride seems comfortable and gas mileage fairl...</td>\n",
       "      <td>3</td>\n",
       "    </tr>\n",
       "    <tr>\n",
       "      <th>8</th>\n",
       "      <td>topics\\directions_garmin_nuvi_255W_gps</td>\n",
       "      <td>You also get upscale features like spoken di...</td>\n",
       "      <td>2</td>\n",
       "    </tr>\n",
       "    <tr>\n",
       "      <th>9</th>\n",
       "      <td>topics\\display_garmin_nuvi_255W_gps</td>\n",
       "      <td>3 quot  widescreen display was a bon...</td>\n",
       "      <td>2</td>\n",
       "    </tr>\n",
       "    <tr>\n",
       "      <th>10</th>\n",
       "      <td>topics\\eyesight-issues_amazon_kindle</td>\n",
       "      <td>It feels as easy to read as the K1 but doesn...</td>\n",
       "      <td>2</td>\n",
       "    </tr>\n",
       "    <tr>\n",
       "      <th>11</th>\n",
       "      <td>topics\\features_windows7</td>\n",
       "      <td>I had to uninstall anti, virus and selected ...</td>\n",
       "      <td>4</td>\n",
       "    </tr>\n",
       "    <tr>\n",
       "      <th>12</th>\n",
       "      <td>topics\\fonts_amazon_kindle</td>\n",
       "      <td>Being able to change the font sizes is aweso...</td>\n",
       "      <td>0</td>\n",
       "    </tr>\n",
       "    <tr>\n",
       "      <th>13</th>\n",
       "      <td>topics\\food_holiday_inn_london</td>\n",
       "      <td>The room was packed to capacity with queues ...</td>\n",
       "      <td>1</td>\n",
       "    </tr>\n",
       "    <tr>\n",
       "      <th>14</th>\n",
       "      <td>topics\\food_swissotel_chicago</td>\n",
       "      <td>The food for our event was delicio...</td>\n",
       "      <td>1</td>\n",
       "    </tr>\n",
       "    <tr>\n",
       "      <th>15</th>\n",
       "      <td>topics\\free_bestwestern_hotel_sfo</td>\n",
       "      <td>The wine reception is a great idea as it is n...</td>\n",
       "      <td>1</td>\n",
       "    </tr>\n",
       "    <tr>\n",
       "      <th>16</th>\n",
       "      <td>topics\\gas_mileage_toyota_camry_2007</td>\n",
       "      <td>Ride seems comfortable and gas mileage fairl...</td>\n",
       "      <td>3</td>\n",
       "    </tr>\n",
       "    <tr>\n",
       "      <th>17</th>\n",
       "      <td>topics\\interior_honda_accord_2008</td>\n",
       "      <td>I love the new body style and the interior i...</td>\n",
       "      <td>3</td>\n",
       "    </tr>\n",
       "    <tr>\n",
       "      <th>18</th>\n",
       "      <td>topics\\interior_toyota_camry_2007</td>\n",
       "      <td>First of all, the interior has way too many ...</td>\n",
       "      <td>3</td>\n",
       "    </tr>\n",
       "    <tr>\n",
       "      <th>19</th>\n",
       "      <td>topics\\keyboard_netbook_1005ha</td>\n",
       "      <td>,  I think the new keyboard rivals the great ...</td>\n",
       "      <td>2</td>\n",
       "    </tr>\n",
       "  </tbody>\n",
       "</table>\n",
       "</div>"
      ],
      "text/plain": [
       "                                  filename  \\\n",
       "0     topics\\accuracy_garmin_nuvi_255W_gps   \n",
       "1    topics\\bathroom_bestwestern_hotel_sfo   \n",
       "2        topics\\battery-life_amazon_kindle   \n",
       "3        topics\\battery-life_ipod_nano_8gb   \n",
       "4       topics\\battery-life_netbook_1005ha   \n",
       "5             topics\\buttons_amazon_kindle   \n",
       "6         topics\\comfort_honda_accord_2008   \n",
       "7         topics\\comfort_toyota_camry_2007   \n",
       "8   topics\\directions_garmin_nuvi_255W_gps   \n",
       "9      topics\\display_garmin_nuvi_255W_gps   \n",
       "10    topics\\eyesight-issues_amazon_kindle   \n",
       "11                topics\\features_windows7   \n",
       "12              topics\\fonts_amazon_kindle   \n",
       "13          topics\\food_holiday_inn_london   \n",
       "14           topics\\food_swissotel_chicago   \n",
       "15       topics\\free_bestwestern_hotel_sfo   \n",
       "16    topics\\gas_mileage_toyota_camry_2007   \n",
       "17       topics\\interior_honda_accord_2008   \n",
       "18       topics\\interior_toyota_camry_2007   \n",
       "19          topics\\keyboard_netbook_1005ha   \n",
       "\n",
       "                                         opinion_text  cluster_label  \n",
       "0                       , and is very, very accura...              2  \n",
       "1     The room was not overly big, but clean and v...              1  \n",
       "2     After I plugged it in to my USB hub on my co...              4  \n",
       "3         short battery life  I moved up from an 8...              4  \n",
       "4    6GHz 533FSB cpu, glossy display, 3, Cell 23Wh...              4  \n",
       "5    I thought it would be fitting to christen my ...              2  \n",
       "6     Drivers seat not comfortable, the car itself...              3  \n",
       "7     Ride seems comfortable and gas mileage fairl...              3  \n",
       "8     You also get upscale features like spoken di...              2  \n",
       "9             3 quot  widescreen display was a bon...              2  \n",
       "10    It feels as easy to read as the K1 but doesn...              2  \n",
       "11    I had to uninstall anti, virus and selected ...              4  \n",
       "12    Being able to change the font sizes is aweso...              0  \n",
       "13    The room was packed to capacity with queues ...              1  \n",
       "14              The food for our event was delicio...              1  \n",
       "15   The wine reception is a great idea as it is n...              1  \n",
       "16    Ride seems comfortable and gas mileage fairl...              3  \n",
       "17    I love the new body style and the interior i...              3  \n",
       "18    First of all, the interior has way too many ...              3  \n",
       "19   ,  I think the new keyboard rivals the great ...              2  "
      ]
     },
     "execution_count": 8,
     "metadata": {},
     "output_type": "execute_result"
    }
   ],
   "source": [
    "document_df['cluster_label'] = cluster_label\n",
    "document_df.head(20)"
   ]
  },
  {
   "cell_type": "markdown",
   "metadata": {
    "id": "4_nLhdPjBOcH"
   },
   "source": [
    "- 각 데이터별로 할당된 군집의 레이블을 파일명과 파일 내용을 가지고 있는 document_df DataFrame에 `cluster_label` 컬람을 추가해 저장합니다. \n",
    "- 각 파일명은 의견 리뷰에 대한 주제를 나타냅니다. \n",
    "- 판다스 DataFrame의 `sort_values(by=칼럼명)`을 수행하면 인자로 입력된 `칼럼명`으로 데이터를 정렬할 수 있다."
   ]
  },
  {
   "cell_type": "code",
   "execution_count": 9,
   "metadata": {
    "colab": {
     "base_uri": "https://localhost:8080/",
     "height": 359
    },
    "executionInfo": {
     "elapsed": 1037,
     "status": "ok",
     "timestamp": 1608034080798,
     "user": {
      "displayName": "Ji-hoon Jung",
      "photoUrl": "",
      "userId": "03169308685755834042"
     },
     "user_tz": -540
    },
    "id": "RZfWabz2XhLR",
    "outputId": "9366c329-d689-437a-b8eb-a38c4e14fe11"
   },
   "outputs": [
    {
     "data": {
      "text/html": [
       "<div>\n",
       "<style scoped>\n",
       "    .dataframe tbody tr th:only-of-type {\n",
       "        vertical-align: middle;\n",
       "    }\n",
       "\n",
       "    .dataframe tbody tr th {\n",
       "        vertical-align: top;\n",
       "    }\n",
       "\n",
       "    .dataframe thead th {\n",
       "        text-align: right;\n",
       "    }\n",
       "</style>\n",
       "<table border=\"1\" class=\"dataframe\">\n",
       "  <thead>\n",
       "    <tr style=\"text-align: right;\">\n",
       "      <th></th>\n",
       "      <th>filename</th>\n",
       "      <th>opinion_text</th>\n",
       "      <th>cluster_label</th>\n",
       "    </tr>\n",
       "  </thead>\n",
       "  <tbody>\n",
       "    <tr>\n",
       "      <th>12</th>\n",
       "      <td>topics\\fonts_amazon_kindle</td>\n",
       "      <td>Being able to change the font sizes is aweso...</td>\n",
       "      <td>0</td>\n",
       "    </tr>\n",
       "    <tr>\n",
       "      <th>23</th>\n",
       "      <td>topics\\navigation_amazon_kindle</td>\n",
       "      <td>In fact, the entire navigation structure has...</td>\n",
       "      <td>0</td>\n",
       "    </tr>\n",
       "    <tr>\n",
       "      <th>27</th>\n",
       "      <td>topics\\price_amazon_kindle</td>\n",
       "      <td>If a case was included, as with the Kindle 1...</td>\n",
       "      <td>0</td>\n",
       "    </tr>\n",
       "    <tr>\n",
       "      <th>28</th>\n",
       "      <td>topics\\price_holiday_inn_london</td>\n",
       "      <td>All in all, a normal chain hotel on a nice lo...</td>\n",
       "      <td>0</td>\n",
       "    </tr>\n",
       "  </tbody>\n",
       "</table>\n",
       "</div>"
      ],
      "text/plain": [
       "                           filename  \\\n",
       "12       topics\\fonts_amazon_kindle   \n",
       "23  topics\\navigation_amazon_kindle   \n",
       "27       topics\\price_amazon_kindle   \n",
       "28  topics\\price_holiday_inn_london   \n",
       "\n",
       "                                         opinion_text  cluster_label  \n",
       "12    Being able to change the font sizes is aweso...              0  \n",
       "23    In fact, the entire navigation structure has...              0  \n",
       "27    If a case was included, as with the Kindle 1...              0  \n",
       "28   All in all, a normal chain hotel on a nice lo...              0  "
      ]
     },
     "execution_count": 9,
     "metadata": {},
     "output_type": "execute_result"
    }
   ],
   "source": [
    "document_df[document_df['cluster_label']==0].sort_values(by='filename')"
   ]
  },
  {
   "cell_type": "markdown",
   "metadata": {
    "id": "JmqcWEaQbYZZ"
   },
   "source": [
    "- `cluster #0`는 토요타와 혼다 등 자동차로 분류가 된 것으로 확인할 수 있다. "
   ]
  },
  {
   "cell_type": "code",
   "execution_count": 10,
   "metadata": {
    "colab": {
     "base_uri": "https://localhost:8080/",
     "height": 390
    },
    "executionInfo": {
     "elapsed": 1033,
     "status": "ok",
     "timestamp": 1608034114623,
     "user": {
      "displayName": "Ji-hoon Jung",
      "photoUrl": "",
      "userId": "03169308685755834042"
     },
     "user_tz": -540
    },
    "id": "qW9A6JbPVtmZ",
    "outputId": "efe76e09-b6fb-4c7d-f53f-b4122c60eec1"
   },
   "outputs": [
    {
     "data": {
      "text/html": [
       "<div>\n",
       "<style scoped>\n",
       "    .dataframe tbody tr th:only-of-type {\n",
       "        vertical-align: middle;\n",
       "    }\n",
       "\n",
       "    .dataframe tbody tr th {\n",
       "        vertical-align: top;\n",
       "    }\n",
       "\n",
       "    .dataframe thead th {\n",
       "        text-align: right;\n",
       "    }\n",
       "</style>\n",
       "<table border=\"1\" class=\"dataframe\">\n",
       "  <thead>\n",
       "    <tr style=\"text-align: right;\">\n",
       "      <th></th>\n",
       "      <th>filename</th>\n",
       "      <th>opinion_text</th>\n",
       "      <th>cluster_label</th>\n",
       "    </tr>\n",
       "  </thead>\n",
       "  <tbody>\n",
       "    <tr>\n",
       "      <th>1</th>\n",
       "      <td>topics\\bathroom_bestwestern_hotel_sfo</td>\n",
       "      <td>The room was not overly big, but clean and v...</td>\n",
       "      <td>1</td>\n",
       "    </tr>\n",
       "    <tr>\n",
       "      <th>13</th>\n",
       "      <td>topics\\food_holiday_inn_london</td>\n",
       "      <td>The room was packed to capacity with queues ...</td>\n",
       "      <td>1</td>\n",
       "    </tr>\n",
       "    <tr>\n",
       "      <th>14</th>\n",
       "      <td>topics\\food_swissotel_chicago</td>\n",
       "      <td>The food for our event was delicio...</td>\n",
       "      <td>1</td>\n",
       "    </tr>\n",
       "    <tr>\n",
       "      <th>15</th>\n",
       "      <td>topics\\free_bestwestern_hotel_sfo</td>\n",
       "      <td>The wine reception is a great idea as it is n...</td>\n",
       "      <td>1</td>\n",
       "    </tr>\n",
       "    <tr>\n",
       "      <th>20</th>\n",
       "      <td>topics\\location_bestwestern_hotel_sfo</td>\n",
       "      <td>Good Value good location ,  ideal choi...</td>\n",
       "      <td>1</td>\n",
       "    </tr>\n",
       "    <tr>\n",
       "      <th>21</th>\n",
       "      <td>topics\\location_holiday_inn_london</td>\n",
       "      <td>Great location for tube and we crammed in a ...</td>\n",
       "      <td>1</td>\n",
       "    </tr>\n",
       "    <tr>\n",
       "      <th>24</th>\n",
       "      <td>topics\\parking_bestwestern_hotel_sfo</td>\n",
       "      <td>Parking was expensive but I think this is co...</td>\n",
       "      <td>1</td>\n",
       "    </tr>\n",
       "    <tr>\n",
       "      <th>32</th>\n",
       "      <td>topics\\room_holiday_inn_london</td>\n",
       "      <td>We arrived at 23,30 hours and they could not ...</td>\n",
       "      <td>1</td>\n",
       "    </tr>\n",
       "    <tr>\n",
       "      <th>30</th>\n",
       "      <td>topics\\rooms_bestwestern_hotel_sfo</td>\n",
       "      <td>Great Location ,  Nice   Rooms ,  Helpless Co...</td>\n",
       "      <td>1</td>\n",
       "    </tr>\n",
       "    <tr>\n",
       "      <th>31</th>\n",
       "      <td>topics\\rooms_swissotel_chicago</td>\n",
       "      <td>The Swissotel is one of our favorite hotels i...</td>\n",
       "      <td>1</td>\n",
       "    </tr>\n",
       "    <tr>\n",
       "      <th>38</th>\n",
       "      <td>topics\\service_bestwestern_hotel_sfo</td>\n",
       "      <td>Both of us having worked in tourism for over...</td>\n",
       "      <td>1</td>\n",
       "    </tr>\n",
       "    <tr>\n",
       "      <th>39</th>\n",
       "      <td>topics\\service_holiday_inn_london</td>\n",
       "      <td>not customer, oriented hotelvery low service ...</td>\n",
       "      <td>1</td>\n",
       "    </tr>\n",
       "    <tr>\n",
       "      <th>40</th>\n",
       "      <td>topics\\service_swissotel_hotel_chicago</td>\n",
       "      <td>Mediocre room and service for a very extrava...</td>\n",
       "      <td>1</td>\n",
       "    </tr>\n",
       "    <tr>\n",
       "      <th>45</th>\n",
       "      <td>topics\\staff_bestwestern_hotel_sfo</td>\n",
       "      <td>Staff are friendly and helpful...</td>\n",
       "      <td>1</td>\n",
       "    </tr>\n",
       "    <tr>\n",
       "      <th>46</th>\n",
       "      <td>topics\\staff_swissotel_chicago</td>\n",
       "      <td>The staff at Swissotel were not particularly...</td>\n",
       "      <td>1</td>\n",
       "    </tr>\n",
       "  </tbody>\n",
       "</table>\n",
       "</div>"
      ],
      "text/plain": [
       "                                  filename  \\\n",
       "1    topics\\bathroom_bestwestern_hotel_sfo   \n",
       "13          topics\\food_holiday_inn_london   \n",
       "14           topics\\food_swissotel_chicago   \n",
       "15       topics\\free_bestwestern_hotel_sfo   \n",
       "20   topics\\location_bestwestern_hotel_sfo   \n",
       "21      topics\\location_holiday_inn_london   \n",
       "24    topics\\parking_bestwestern_hotel_sfo   \n",
       "32          topics\\room_holiday_inn_london   \n",
       "30      topics\\rooms_bestwestern_hotel_sfo   \n",
       "31          topics\\rooms_swissotel_chicago   \n",
       "38    topics\\service_bestwestern_hotel_sfo   \n",
       "39       topics\\service_holiday_inn_london   \n",
       "40  topics\\service_swissotel_hotel_chicago   \n",
       "45      topics\\staff_bestwestern_hotel_sfo   \n",
       "46          topics\\staff_swissotel_chicago   \n",
       "\n",
       "                                         opinion_text  cluster_label  \n",
       "1     The room was not overly big, but clean and v...              1  \n",
       "13    The room was packed to capacity with queues ...              1  \n",
       "14              The food for our event was delicio...              1  \n",
       "15   The wine reception is a great idea as it is n...              1  \n",
       "20          Good Value good location ,  ideal choi...              1  \n",
       "21    Great location for tube and we crammed in a ...              1  \n",
       "24    Parking was expensive but I think this is co...              1  \n",
       "32   We arrived at 23,30 hours and they could not ...              1  \n",
       "30   Great Location ,  Nice   Rooms ,  Helpless Co...              1  \n",
       "31   The Swissotel is one of our favorite hotels i...              1  \n",
       "38    Both of us having worked in tourism for over...              1  \n",
       "39   not customer, oriented hotelvery low service ...              1  \n",
       "40    Mediocre room and service for a very extrava...              1  \n",
       "45                  Staff are friendly and helpful...              1  \n",
       "46    The staff at Swissotel were not particularly...              1  "
      ]
     },
     "execution_count": 10,
     "metadata": {},
     "output_type": "execute_result"
    }
   ],
   "source": [
    "document_df[document_df['cluster_label']==1].sort_values(by='filename')"
   ]
  },
  {
   "cell_type": "markdown",
   "metadata": {
    "id": "tos85w_FbrvY"
   },
   "source": [
    "- 이번에는 호텔에 관한 리뷰로 되어 있는 것을 확인할 수 있다. "
   ]
  },
  {
   "cell_type": "code",
   "execution_count": 11,
   "metadata": {
    "colab": {
     "base_uri": "https://localhost:8080/",
     "height": 204
    },
    "executionInfo": {
     "elapsed": 1493,
     "status": "ok",
     "timestamp": 1608034145623,
     "user": {
      "displayName": "Ji-hoon Jung",
      "photoUrl": "",
      "userId": "03169308685755834042"
     },
     "user_tz": -540
    },
    "id": "-2Vcel3VbytQ",
    "outputId": "0298fc9c-c219-42b7-bed1-7609736cd330"
   },
   "outputs": [
    {
     "data": {
      "text/html": [
       "<div>\n",
       "<style scoped>\n",
       "    .dataframe tbody tr th:only-of-type {\n",
       "        vertical-align: middle;\n",
       "    }\n",
       "\n",
       "    .dataframe tbody tr th {\n",
       "        vertical-align: top;\n",
       "    }\n",
       "\n",
       "    .dataframe thead th {\n",
       "        text-align: right;\n",
       "    }\n",
       "</style>\n",
       "<table border=\"1\" class=\"dataframe\">\n",
       "  <thead>\n",
       "    <tr style=\"text-align: right;\">\n",
       "      <th></th>\n",
       "      <th>filename</th>\n",
       "      <th>opinion_text</th>\n",
       "      <th>cluster_label</th>\n",
       "    </tr>\n",
       "  </thead>\n",
       "  <tbody>\n",
       "    <tr>\n",
       "      <th>0</th>\n",
       "      <td>topics\\accuracy_garmin_nuvi_255W_gps</td>\n",
       "      <td>, and is very, very accura...</td>\n",
       "      <td>2</td>\n",
       "    </tr>\n",
       "    <tr>\n",
       "      <th>5</th>\n",
       "      <td>topics\\buttons_amazon_kindle</td>\n",
       "      <td>I thought it would be fitting to christen my ...</td>\n",
       "      <td>2</td>\n",
       "    </tr>\n",
       "    <tr>\n",
       "      <th>8</th>\n",
       "      <td>topics\\directions_garmin_nuvi_255W_gps</td>\n",
       "      <td>You also get upscale features like spoken di...</td>\n",
       "      <td>2</td>\n",
       "    </tr>\n",
       "    <tr>\n",
       "      <th>9</th>\n",
       "      <td>topics\\display_garmin_nuvi_255W_gps</td>\n",
       "      <td>3 quot  widescreen display was a bon...</td>\n",
       "      <td>2</td>\n",
       "    </tr>\n",
       "    <tr>\n",
       "      <th>10</th>\n",
       "      <td>topics\\eyesight-issues_amazon_kindle</td>\n",
       "      <td>It feels as easy to read as the K1 but doesn...</td>\n",
       "      <td>2</td>\n",
       "    </tr>\n",
       "    <tr>\n",
       "      <th>19</th>\n",
       "      <td>topics\\keyboard_netbook_1005ha</td>\n",
       "      <td>,  I think the new keyboard rivals the great ...</td>\n",
       "      <td>2</td>\n",
       "    </tr>\n",
       "    <tr>\n",
       "      <th>33</th>\n",
       "      <td>topics\\satellite_garmin_nuvi_255W_gps</td>\n",
       "      <td>It's fast to acquire satellit...</td>\n",
       "      <td>2</td>\n",
       "    </tr>\n",
       "    <tr>\n",
       "      <th>34</th>\n",
       "      <td>topics\\screen_garmin_nuvi_255W_gps</td>\n",
       "      <td>It is easy to read and when touching the sc...</td>\n",
       "      <td>2</td>\n",
       "    </tr>\n",
       "    <tr>\n",
       "      <th>35</th>\n",
       "      <td>topics\\screen_ipod_nano_8gb</td>\n",
       "      <td>As always, the video screen is sharp and bri...</td>\n",
       "      <td>2</td>\n",
       "    </tr>\n",
       "    <tr>\n",
       "      <th>36</th>\n",
       "      <td>topics\\screen_netbook_1005ha</td>\n",
       "      <td>Keep in mind that once you get in a room ful...</td>\n",
       "      <td>2</td>\n",
       "    </tr>\n",
       "    <tr>\n",
       "      <th>41</th>\n",
       "      <td>topics\\size_asus_netbook_1005ha</td>\n",
       "      <td>A few other things I'd like to point out is ...</td>\n",
       "      <td>2</td>\n",
       "    </tr>\n",
       "    <tr>\n",
       "      <th>43</th>\n",
       "      <td>topics\\speed_garmin_nuvi_255W_gps</td>\n",
       "      <td>Another feature on the 255w is a display of t...</td>\n",
       "      <td>2</td>\n",
       "    </tr>\n",
       "    <tr>\n",
       "      <th>48</th>\n",
       "      <td>topics\\updates_garmin_nuvi_255W_gps</td>\n",
       "      <td>Another thing to consider was that I paid $50...</td>\n",
       "      <td>2</td>\n",
       "    </tr>\n",
       "    <tr>\n",
       "      <th>49</th>\n",
       "      <td>topics\\video_ipod_nano_8gb</td>\n",
       "      <td>I bought the 8, gig Ipod Nano that has the bu...</td>\n",
       "      <td>2</td>\n",
       "    </tr>\n",
       "    <tr>\n",
       "      <th>50</th>\n",
       "      <td>topics\\voice_garmin_nuvi_255W_gps</td>\n",
       "      <td>The voice prompts and maps are wonderful es...</td>\n",
       "      <td>2</td>\n",
       "    </tr>\n",
       "  </tbody>\n",
       "</table>\n",
       "</div>"
      ],
      "text/plain": [
       "                                  filename  \\\n",
       "0     topics\\accuracy_garmin_nuvi_255W_gps   \n",
       "5             topics\\buttons_amazon_kindle   \n",
       "8   topics\\directions_garmin_nuvi_255W_gps   \n",
       "9      topics\\display_garmin_nuvi_255W_gps   \n",
       "10    topics\\eyesight-issues_amazon_kindle   \n",
       "19          topics\\keyboard_netbook_1005ha   \n",
       "33   topics\\satellite_garmin_nuvi_255W_gps   \n",
       "34      topics\\screen_garmin_nuvi_255W_gps   \n",
       "35             topics\\screen_ipod_nano_8gb   \n",
       "36            topics\\screen_netbook_1005ha   \n",
       "41         topics\\size_asus_netbook_1005ha   \n",
       "43       topics\\speed_garmin_nuvi_255W_gps   \n",
       "48     topics\\updates_garmin_nuvi_255W_gps   \n",
       "49              topics\\video_ipod_nano_8gb   \n",
       "50       topics\\voice_garmin_nuvi_255W_gps   \n",
       "\n",
       "                                         opinion_text  cluster_label  \n",
       "0                       , and is very, very accura...              2  \n",
       "5    I thought it would be fitting to christen my ...              2  \n",
       "8     You also get upscale features like spoken di...              2  \n",
       "9             3 quot  widescreen display was a bon...              2  \n",
       "10    It feels as easy to read as the K1 but doesn...              2  \n",
       "19   ,  I think the new keyboard rivals the great ...              2  \n",
       "33                   It's fast to acquire satellit...              2  \n",
       "34     It is easy to read and when touching the sc...              2  \n",
       "35    As always, the video screen is sharp and bri...              2  \n",
       "36    Keep in mind that once you get in a room ful...              2  \n",
       "41    A few other things I'd like to point out is ...              2  \n",
       "43   Another feature on the 255w is a display of t...              2  \n",
       "48   Another thing to consider was that I paid $50...              2  \n",
       "49   I bought the 8, gig Ipod Nano that has the bu...              2  \n",
       "50     The voice prompts and maps are wonderful es...              2  "
      ]
     },
     "execution_count": 11,
     "metadata": {},
     "output_type": "execute_result"
    }
   ],
   "source": [
    "document_df[document_df['cluster_label']==2].sort_values(by='filename')"
   ]
  },
  {
   "cell_type": "markdown",
   "metadata": {
    "id": "CE36AWD-b2wV"
   },
   "source": [
    "- 이번에도 마찬가지로 호텔과 관련된 리뷰로 확인되고 있습니다."
   ]
  },
  {
   "cell_type": "code",
   "execution_count": 12,
   "metadata": {
    "colab": {
     "base_uri": "https://localhost:8080/",
     "height": 297
    },
    "executionInfo": {
     "elapsed": 1574,
     "status": "ok",
     "timestamp": 1607583809521,
     "user": {
      "displayName": "Ji-hoon Jung",
      "photoUrl": "",
      "userId": "03169308685755834042"
     },
     "user_tz": -540
    },
    "id": "lvQjWsOwb1oc",
    "outputId": "a3db2fc5-94f3-4e9e-c119-949e3b61ecae"
   },
   "outputs": [
    {
     "data": {
      "text/html": [
       "<div>\n",
       "<style scoped>\n",
       "    .dataframe tbody tr th:only-of-type {\n",
       "        vertical-align: middle;\n",
       "    }\n",
       "\n",
       "    .dataframe tbody tr th {\n",
       "        vertical-align: top;\n",
       "    }\n",
       "\n",
       "    .dataframe thead th {\n",
       "        text-align: right;\n",
       "    }\n",
       "</style>\n",
       "<table border=\"1\" class=\"dataframe\">\n",
       "  <thead>\n",
       "    <tr style=\"text-align: right;\">\n",
       "      <th></th>\n",
       "      <th>filename</th>\n",
       "      <th>opinion_text</th>\n",
       "      <th>cluster_label</th>\n",
       "    </tr>\n",
       "  </thead>\n",
       "  <tbody>\n",
       "    <tr>\n",
       "      <th>6</th>\n",
       "      <td>topics\\comfort_honda_accord_2008</td>\n",
       "      <td>Drivers seat not comfortable, the car itself...</td>\n",
       "      <td>3</td>\n",
       "    </tr>\n",
       "    <tr>\n",
       "      <th>7</th>\n",
       "      <td>topics\\comfort_toyota_camry_2007</td>\n",
       "      <td>Ride seems comfortable and gas mileage fairl...</td>\n",
       "      <td>3</td>\n",
       "    </tr>\n",
       "    <tr>\n",
       "      <th>16</th>\n",
       "      <td>topics\\gas_mileage_toyota_camry_2007</td>\n",
       "      <td>Ride seems comfortable and gas mileage fairl...</td>\n",
       "      <td>3</td>\n",
       "    </tr>\n",
       "    <tr>\n",
       "      <th>17</th>\n",
       "      <td>topics\\interior_honda_accord_2008</td>\n",
       "      <td>I love the new body style and the interior i...</td>\n",
       "      <td>3</td>\n",
       "    </tr>\n",
       "    <tr>\n",
       "      <th>18</th>\n",
       "      <td>topics\\interior_toyota_camry_2007</td>\n",
       "      <td>First of all, the interior has way too many ...</td>\n",
       "      <td>3</td>\n",
       "    </tr>\n",
       "    <tr>\n",
       "      <th>22</th>\n",
       "      <td>topics\\mileage_honda_accord_2008</td>\n",
       "      <td>It's quiet, get good gas mileage and looks c...</td>\n",
       "      <td>3</td>\n",
       "    </tr>\n",
       "    <tr>\n",
       "      <th>29</th>\n",
       "      <td>topics\\quality_toyota_camry_2007</td>\n",
       "      <td>I previously owned a Toyota 4Runner which ha...</td>\n",
       "      <td>3</td>\n",
       "    </tr>\n",
       "    <tr>\n",
       "      <th>37</th>\n",
       "      <td>topics\\seats_honda_accord_2008</td>\n",
       "      <td>Front seats are very uncomfortab...</td>\n",
       "      <td>3</td>\n",
       "    </tr>\n",
       "  </tbody>\n",
       "</table>\n",
       "</div>"
      ],
      "text/plain": [
       "                                filename  \\\n",
       "6       topics\\comfort_honda_accord_2008   \n",
       "7       topics\\comfort_toyota_camry_2007   \n",
       "16  topics\\gas_mileage_toyota_camry_2007   \n",
       "17     topics\\interior_honda_accord_2008   \n",
       "18     topics\\interior_toyota_camry_2007   \n",
       "22      topics\\mileage_honda_accord_2008   \n",
       "29      topics\\quality_toyota_camry_2007   \n",
       "37        topics\\seats_honda_accord_2008   \n",
       "\n",
       "                                         opinion_text  cluster_label  \n",
       "6     Drivers seat not comfortable, the car itself...              3  \n",
       "7     Ride seems comfortable and gas mileage fairl...              3  \n",
       "16    Ride seems comfortable and gas mileage fairl...              3  \n",
       "17    I love the new body style and the interior i...              3  \n",
       "18    First of all, the interior has way too many ...              3  \n",
       "22    It's quiet, get good gas mileage and looks c...              3  \n",
       "29    I previously owned a Toyota 4Runner which ha...              3  \n",
       "37                Front seats are very uncomfortab...              3  "
      ]
     },
     "execution_count": 12,
     "metadata": {},
     "output_type": "execute_result"
    }
   ],
   "source": [
    "document_df[document_df['cluster_label']==3].sort_values(by='filename')"
   ]
  },
  {
   "cell_type": "markdown",
   "metadata": {
    "id": "YCxc1WI_b1EI"
   },
   "source": [
    "- 주로 차량용 네비게이션으로 군집이 구성되어 있음을 확인할 수 있다. \n"
   ]
  },
  {
   "cell_type": "code",
   "execution_count": 13,
   "metadata": {
    "colab": {
     "base_uri": "https://localhost:8080/",
     "height": 576
    },
    "executionInfo": {
     "elapsed": 1259,
     "status": "ok",
     "timestamp": 1608034178483,
     "user": {
      "displayName": "Ji-hoon Jung",
      "photoUrl": "",
      "userId": "03169308685755834042"
     },
     "user_tz": -540
    },
    "id": "2ppKCNifdw9A",
    "outputId": "5e2748be-5723-4fc3-9c8f-662814f37edf"
   },
   "outputs": [
    {
     "data": {
      "text/html": [
       "<div>\n",
       "<style scoped>\n",
       "    .dataframe tbody tr th:only-of-type {\n",
       "        vertical-align: middle;\n",
       "    }\n",
       "\n",
       "    .dataframe tbody tr th {\n",
       "        vertical-align: top;\n",
       "    }\n",
       "\n",
       "    .dataframe thead th {\n",
       "        text-align: right;\n",
       "    }\n",
       "</style>\n",
       "<table border=\"1\" class=\"dataframe\">\n",
       "  <thead>\n",
       "    <tr style=\"text-align: right;\">\n",
       "      <th></th>\n",
       "      <th>filename</th>\n",
       "      <th>opinion_text</th>\n",
       "      <th>cluster_label</th>\n",
       "    </tr>\n",
       "  </thead>\n",
       "  <tbody>\n",
       "    <tr>\n",
       "      <th>2</th>\n",
       "      <td>topics\\battery-life_amazon_kindle</td>\n",
       "      <td>After I plugged it in to my USB hub on my co...</td>\n",
       "      <td>4</td>\n",
       "    </tr>\n",
       "    <tr>\n",
       "      <th>3</th>\n",
       "      <td>topics\\battery-life_ipod_nano_8gb</td>\n",
       "      <td>short battery life  I moved up from an 8...</td>\n",
       "      <td>4</td>\n",
       "    </tr>\n",
       "    <tr>\n",
       "      <th>4</th>\n",
       "      <td>topics\\battery-life_netbook_1005ha</td>\n",
       "      <td>6GHz 533FSB cpu, glossy display, 3, Cell 23Wh...</td>\n",
       "      <td>4</td>\n",
       "    </tr>\n",
       "    <tr>\n",
       "      <th>11</th>\n",
       "      <td>topics\\features_windows7</td>\n",
       "      <td>I had to uninstall anti, virus and selected ...</td>\n",
       "      <td>4</td>\n",
       "    </tr>\n",
       "    <tr>\n",
       "      <th>25</th>\n",
       "      <td>topics\\performance_honda_accord_2008</td>\n",
       "      <td>Very happy with my 08 Accord, performance is ...</td>\n",
       "      <td>4</td>\n",
       "    </tr>\n",
       "    <tr>\n",
       "      <th>26</th>\n",
       "      <td>topics\\performance_netbook_1005ha</td>\n",
       "      <td>The Eee Super Hybrid Engine utility lets use...</td>\n",
       "      <td>4</td>\n",
       "    </tr>\n",
       "    <tr>\n",
       "      <th>42</th>\n",
       "      <td>topics\\sound_ipod_nano_8gb</td>\n",
       "      <td>headphone jack i got a clear case for it and...</td>\n",
       "      <td>4</td>\n",
       "    </tr>\n",
       "    <tr>\n",
       "      <th>44</th>\n",
       "      <td>topics\\speed_windows7</td>\n",
       "      <td>Windows 7 is quite simply faster, more stable...</td>\n",
       "      <td>4</td>\n",
       "    </tr>\n",
       "    <tr>\n",
       "      <th>47</th>\n",
       "      <td>topics\\transmission_toyota_camry_2007</td>\n",
       "      <td>After slowing down, transmission has to be  ...</td>\n",
       "      <td>4</td>\n",
       "    </tr>\n",
       "  </tbody>\n",
       "</table>\n",
       "</div>"
      ],
      "text/plain": [
       "                                 filename  \\\n",
       "2       topics\\battery-life_amazon_kindle   \n",
       "3       topics\\battery-life_ipod_nano_8gb   \n",
       "4      topics\\battery-life_netbook_1005ha   \n",
       "11               topics\\features_windows7   \n",
       "25   topics\\performance_honda_accord_2008   \n",
       "26      topics\\performance_netbook_1005ha   \n",
       "42             topics\\sound_ipod_nano_8gb   \n",
       "44                  topics\\speed_windows7   \n",
       "47  topics\\transmission_toyota_camry_2007   \n",
       "\n",
       "                                         opinion_text  cluster_label  \n",
       "2     After I plugged it in to my USB hub on my co...              4  \n",
       "3         short battery life  I moved up from an 8...              4  \n",
       "4    6GHz 533FSB cpu, glossy display, 3, Cell 23Wh...              4  \n",
       "11    I had to uninstall anti, virus and selected ...              4  \n",
       "25   Very happy with my 08 Accord, performance is ...              4  \n",
       "26    The Eee Super Hybrid Engine utility lets use...              4  \n",
       "42    headphone jack i got a clear case for it and...              4  \n",
       "44   Windows 7 is quite simply faster, more stable...              4  \n",
       "47    After slowing down, transmission has to be  ...              4  "
      ]
     },
     "execution_count": 13,
     "metadata": {},
     "output_type": "execute_result"
    }
   ],
   "source": [
    "document_df[document_df['cluster_label']==4].sort_values(by='filename')"
   ]
  },
  {
   "cell_type": "markdown",
   "metadata": {
    "id": "eHzmuLg9d0Hu"
   },
   "source": [
    "- 킨들, 아이팟, 넷북 등 주로 포터블 전자기기에 대한 리뷰로 군집화된 것을 확인할 수 있다. \n"
   ]
  },
  {
   "cell_type": "markdown",
   "metadata": {
    "id": "1SMsp1yYhTpE"
   },
   "source": [
    "## K-Means 모형 업데이트\n",
    "- 이번에는 군집을 3개로 좁혀서 실행하도록 합니다. 기존 코드와 큰 차이점은 없습니다. "
   ]
  },
  {
   "cell_type": "code",
   "execution_count": 14,
   "metadata": {
    "executionInfo": {
     "elapsed": 1388,
     "status": "ok",
     "timestamp": 1608034189662,
     "user": {
      "displayName": "Ji-hoon Jung",
      "photoUrl": "",
      "userId": "03169308685755834042"
     },
     "user_tz": -540
    },
    "id": "52rMP2tCeR77"
   },
   "outputs": [],
   "source": [
    "from sklearn.cluster import KMeans\n",
    "\n",
    "# 5개의 집합으로 군집화 수행\n",
    "km_cluster = KMeans(n_clusters=3, max_iter=10000, random_state=0)\n",
    "km_cluster.fit(feature_vect)\n",
    "\n",
    "cluster_label = km_cluster.labels_\n",
    "cluster_centers = km_cluster.cluster_centers_\n",
    "\n",
    "document_df['cluster_label'] = cluster_label"
   ]
  },
  {
   "cell_type": "code",
   "execution_count": 15,
   "metadata": {
    "colab": {
     "base_uri": "https://localhost:8080/",
     "height": 359
    },
    "executionInfo": {
     "elapsed": 1084,
     "status": "ok",
     "timestamp": 1608034198812,
     "user": {
      "displayName": "Ji-hoon Jung",
      "photoUrl": "",
      "userId": "03169308685755834042"
     },
     "user_tz": -540
    },
    "id": "FH9nDfaqhEaI",
    "outputId": "24b321b3-a330-4393-e1ff-bc29138de505"
   },
   "outputs": [
    {
     "data": {
      "text/html": [
       "<div>\n",
       "<style scoped>\n",
       "    .dataframe tbody tr th:only-of-type {\n",
       "        vertical-align: middle;\n",
       "    }\n",
       "\n",
       "    .dataframe tbody tr th {\n",
       "        vertical-align: top;\n",
       "    }\n",
       "\n",
       "    .dataframe thead th {\n",
       "        text-align: right;\n",
       "    }\n",
       "</style>\n",
       "<table border=\"1\" class=\"dataframe\">\n",
       "  <thead>\n",
       "    <tr style=\"text-align: right;\">\n",
       "      <th></th>\n",
       "      <th>filename</th>\n",
       "      <th>opinion_text</th>\n",
       "      <th>cluster_label</th>\n",
       "    </tr>\n",
       "  </thead>\n",
       "  <tbody>\n",
       "    <tr>\n",
       "      <th>12</th>\n",
       "      <td>topics\\fonts_amazon_kindle</td>\n",
       "      <td>Being able to change the font sizes is aweso...</td>\n",
       "      <td>0</td>\n",
       "    </tr>\n",
       "    <tr>\n",
       "      <th>16</th>\n",
       "      <td>topics\\gas_mileage_toyota_camry_2007</td>\n",
       "      <td>Ride seems comfortable and gas mileage fairl...</td>\n",
       "      <td>0</td>\n",
       "    </tr>\n",
       "    <tr>\n",
       "      <th>22</th>\n",
       "      <td>topics\\mileage_honda_accord_2008</td>\n",
       "      <td>It's quiet, get good gas mileage and looks c...</td>\n",
       "      <td>0</td>\n",
       "    </tr>\n",
       "    <tr>\n",
       "      <th>23</th>\n",
       "      <td>topics\\navigation_amazon_kindle</td>\n",
       "      <td>In fact, the entire navigation structure has...</td>\n",
       "      <td>0</td>\n",
       "    </tr>\n",
       "    <tr>\n",
       "      <th>27</th>\n",
       "      <td>topics\\price_amazon_kindle</td>\n",
       "      <td>If a case was included, as with the Kindle 1...</td>\n",
       "      <td>0</td>\n",
       "    </tr>\n",
       "    <tr>\n",
       "      <th>28</th>\n",
       "      <td>topics\\price_holiday_inn_london</td>\n",
       "      <td>All in all, a normal chain hotel on a nice lo...</td>\n",
       "      <td>0</td>\n",
       "    </tr>\n",
       "    <tr>\n",
       "      <th>29</th>\n",
       "      <td>topics\\quality_toyota_camry_2007</td>\n",
       "      <td>I previously owned a Toyota 4Runner which ha...</td>\n",
       "      <td>0</td>\n",
       "    </tr>\n",
       "    <tr>\n",
       "      <th>44</th>\n",
       "      <td>topics\\speed_windows7</td>\n",
       "      <td>Windows 7 is quite simply faster, more stable...</td>\n",
       "      <td>0</td>\n",
       "    </tr>\n",
       "  </tbody>\n",
       "</table>\n",
       "</div>"
      ],
      "text/plain": [
       "                                filename  \\\n",
       "12            topics\\fonts_amazon_kindle   \n",
       "16  topics\\gas_mileage_toyota_camry_2007   \n",
       "22      topics\\mileage_honda_accord_2008   \n",
       "23       topics\\navigation_amazon_kindle   \n",
       "27            topics\\price_amazon_kindle   \n",
       "28       topics\\price_holiday_inn_london   \n",
       "29      topics\\quality_toyota_camry_2007   \n",
       "44                 topics\\speed_windows7   \n",
       "\n",
       "                                         opinion_text  cluster_label  \n",
       "12    Being able to change the font sizes is aweso...              0  \n",
       "16    Ride seems comfortable and gas mileage fairl...              0  \n",
       "22    It's quiet, get good gas mileage and looks c...              0  \n",
       "23    In fact, the entire navigation structure has...              0  \n",
       "27    If a case was included, as with the Kindle 1...              0  \n",
       "28   All in all, a normal chain hotel on a nice lo...              0  \n",
       "29    I previously owned a Toyota 4Runner which ha...              0  \n",
       "44   Windows 7 is quite simply faster, more stable...              0  "
      ]
     },
     "execution_count": 15,
     "metadata": {},
     "output_type": "execute_result"
    }
   ],
   "source": [
    "document_df[document_df['cluster_label']==0].sort_values(by='filename')"
   ]
  },
  {
   "cell_type": "code",
   "execution_count": 16,
   "metadata": {
    "colab": {
     "base_uri": "https://localhost:8080/",
     "height": 824
    },
    "executionInfo": {
     "elapsed": 1099,
     "status": "ok",
     "timestamp": 1608034202953,
     "user": {
      "displayName": "Ji-hoon Jung",
      "photoUrl": "",
      "userId": "03169308685755834042"
     },
     "user_tz": -540
    },
    "id": "G5Sl9xpphFrC",
    "outputId": "606863d0-e748-429a-ae0f-310b39ba4a3a"
   },
   "outputs": [
    {
     "data": {
      "text/html": [
       "<div>\n",
       "<style scoped>\n",
       "    .dataframe tbody tr th:only-of-type {\n",
       "        vertical-align: middle;\n",
       "    }\n",
       "\n",
       "    .dataframe tbody tr th {\n",
       "        vertical-align: top;\n",
       "    }\n",
       "\n",
       "    .dataframe thead th {\n",
       "        text-align: right;\n",
       "    }\n",
       "</style>\n",
       "<table border=\"1\" class=\"dataframe\">\n",
       "  <thead>\n",
       "    <tr style=\"text-align: right;\">\n",
       "      <th></th>\n",
       "      <th>filename</th>\n",
       "      <th>opinion_text</th>\n",
       "      <th>cluster_label</th>\n",
       "    </tr>\n",
       "  </thead>\n",
       "  <tbody>\n",
       "    <tr>\n",
       "      <th>1</th>\n",
       "      <td>topics\\bathroom_bestwestern_hotel_sfo</td>\n",
       "      <td>The room was not overly big, but clean and v...</td>\n",
       "      <td>1</td>\n",
       "    </tr>\n",
       "    <tr>\n",
       "      <th>6</th>\n",
       "      <td>topics\\comfort_honda_accord_2008</td>\n",
       "      <td>Drivers seat not comfortable, the car itself...</td>\n",
       "      <td>1</td>\n",
       "    </tr>\n",
       "    <tr>\n",
       "      <th>7</th>\n",
       "      <td>topics\\comfort_toyota_camry_2007</td>\n",
       "      <td>Ride seems comfortable and gas mileage fairl...</td>\n",
       "      <td>1</td>\n",
       "    </tr>\n",
       "    <tr>\n",
       "      <th>13</th>\n",
       "      <td>topics\\food_holiday_inn_london</td>\n",
       "      <td>The room was packed to capacity with queues ...</td>\n",
       "      <td>1</td>\n",
       "    </tr>\n",
       "    <tr>\n",
       "      <th>14</th>\n",
       "      <td>topics\\food_swissotel_chicago</td>\n",
       "      <td>The food for our event was delicio...</td>\n",
       "      <td>1</td>\n",
       "    </tr>\n",
       "    <tr>\n",
       "      <th>15</th>\n",
       "      <td>topics\\free_bestwestern_hotel_sfo</td>\n",
       "      <td>The wine reception is a great idea as it is n...</td>\n",
       "      <td>1</td>\n",
       "    </tr>\n",
       "    <tr>\n",
       "      <th>17</th>\n",
       "      <td>topics\\interior_honda_accord_2008</td>\n",
       "      <td>I love the new body style and the interior i...</td>\n",
       "      <td>1</td>\n",
       "    </tr>\n",
       "    <tr>\n",
       "      <th>18</th>\n",
       "      <td>topics\\interior_toyota_camry_2007</td>\n",
       "      <td>First of all, the interior has way too many ...</td>\n",
       "      <td>1</td>\n",
       "    </tr>\n",
       "    <tr>\n",
       "      <th>20</th>\n",
       "      <td>topics\\location_bestwestern_hotel_sfo</td>\n",
       "      <td>Good Value good location ,  ideal choi...</td>\n",
       "      <td>1</td>\n",
       "    </tr>\n",
       "    <tr>\n",
       "      <th>21</th>\n",
       "      <td>topics\\location_holiday_inn_london</td>\n",
       "      <td>Great location for tube and we crammed in a ...</td>\n",
       "      <td>1</td>\n",
       "    </tr>\n",
       "    <tr>\n",
       "      <th>24</th>\n",
       "      <td>topics\\parking_bestwestern_hotel_sfo</td>\n",
       "      <td>Parking was expensive but I think this is co...</td>\n",
       "      <td>1</td>\n",
       "    </tr>\n",
       "    <tr>\n",
       "      <th>32</th>\n",
       "      <td>topics\\room_holiday_inn_london</td>\n",
       "      <td>We arrived at 23,30 hours and they could not ...</td>\n",
       "      <td>1</td>\n",
       "    </tr>\n",
       "    <tr>\n",
       "      <th>30</th>\n",
       "      <td>topics\\rooms_bestwestern_hotel_sfo</td>\n",
       "      <td>Great Location ,  Nice   Rooms ,  Helpless Co...</td>\n",
       "      <td>1</td>\n",
       "    </tr>\n",
       "    <tr>\n",
       "      <th>31</th>\n",
       "      <td>topics\\rooms_swissotel_chicago</td>\n",
       "      <td>The Swissotel is one of our favorite hotels i...</td>\n",
       "      <td>1</td>\n",
       "    </tr>\n",
       "    <tr>\n",
       "      <th>37</th>\n",
       "      <td>topics\\seats_honda_accord_2008</td>\n",
       "      <td>Front seats are very uncomfortab...</td>\n",
       "      <td>1</td>\n",
       "    </tr>\n",
       "    <tr>\n",
       "      <th>38</th>\n",
       "      <td>topics\\service_bestwestern_hotel_sfo</td>\n",
       "      <td>Both of us having worked in tourism for over...</td>\n",
       "      <td>1</td>\n",
       "    </tr>\n",
       "    <tr>\n",
       "      <th>39</th>\n",
       "      <td>topics\\service_holiday_inn_london</td>\n",
       "      <td>not customer, oriented hotelvery low service ...</td>\n",
       "      <td>1</td>\n",
       "    </tr>\n",
       "    <tr>\n",
       "      <th>40</th>\n",
       "      <td>topics\\service_swissotel_hotel_chicago</td>\n",
       "      <td>Mediocre room and service for a very extrava...</td>\n",
       "      <td>1</td>\n",
       "    </tr>\n",
       "    <tr>\n",
       "      <th>45</th>\n",
       "      <td>topics\\staff_bestwestern_hotel_sfo</td>\n",
       "      <td>Staff are friendly and helpful...</td>\n",
       "      <td>1</td>\n",
       "    </tr>\n",
       "    <tr>\n",
       "      <th>46</th>\n",
       "      <td>topics\\staff_swissotel_chicago</td>\n",
       "      <td>The staff at Swissotel were not particularly...</td>\n",
       "      <td>1</td>\n",
       "    </tr>\n",
       "  </tbody>\n",
       "</table>\n",
       "</div>"
      ],
      "text/plain": [
       "                                  filename  \\\n",
       "1    topics\\bathroom_bestwestern_hotel_sfo   \n",
       "6         topics\\comfort_honda_accord_2008   \n",
       "7         topics\\comfort_toyota_camry_2007   \n",
       "13          topics\\food_holiday_inn_london   \n",
       "14           topics\\food_swissotel_chicago   \n",
       "15       topics\\free_bestwestern_hotel_sfo   \n",
       "17       topics\\interior_honda_accord_2008   \n",
       "18       topics\\interior_toyota_camry_2007   \n",
       "20   topics\\location_bestwestern_hotel_sfo   \n",
       "21      topics\\location_holiday_inn_london   \n",
       "24    topics\\parking_bestwestern_hotel_sfo   \n",
       "32          topics\\room_holiday_inn_london   \n",
       "30      topics\\rooms_bestwestern_hotel_sfo   \n",
       "31          topics\\rooms_swissotel_chicago   \n",
       "37          topics\\seats_honda_accord_2008   \n",
       "38    topics\\service_bestwestern_hotel_sfo   \n",
       "39       topics\\service_holiday_inn_london   \n",
       "40  topics\\service_swissotel_hotel_chicago   \n",
       "45      topics\\staff_bestwestern_hotel_sfo   \n",
       "46          topics\\staff_swissotel_chicago   \n",
       "\n",
       "                                         opinion_text  cluster_label  \n",
       "1     The room was not overly big, but clean and v...              1  \n",
       "6     Drivers seat not comfortable, the car itself...              1  \n",
       "7     Ride seems comfortable and gas mileage fairl...              1  \n",
       "13    The room was packed to capacity with queues ...              1  \n",
       "14              The food for our event was delicio...              1  \n",
       "15   The wine reception is a great idea as it is n...              1  \n",
       "17    I love the new body style and the interior i...              1  \n",
       "18    First of all, the interior has way too many ...              1  \n",
       "20          Good Value good location ,  ideal choi...              1  \n",
       "21    Great location for tube and we crammed in a ...              1  \n",
       "24    Parking was expensive but I think this is co...              1  \n",
       "32   We arrived at 23,30 hours and they could not ...              1  \n",
       "30   Great Location ,  Nice   Rooms ,  Helpless Co...              1  \n",
       "31   The Swissotel is one of our favorite hotels i...              1  \n",
       "37                Front seats are very uncomfortab...              1  \n",
       "38    Both of us having worked in tourism for over...              1  \n",
       "39   not customer, oriented hotelvery low service ...              1  \n",
       "40    Mediocre room and service for a very extrava...              1  \n",
       "45                  Staff are friendly and helpful...              1  \n",
       "46    The staff at Swissotel were not particularly...              1  "
      ]
     },
     "execution_count": 16,
     "metadata": {},
     "output_type": "execute_result"
    }
   ],
   "source": [
    "document_df[document_df['cluster_label']==1].sort_values(by='filename')"
   ]
  },
  {
   "cell_type": "code",
   "execution_count": 17,
   "metadata": {
    "colab": {
     "base_uri": "https://localhost:8080/",
     "height": 545
    },
    "executionInfo": {
     "elapsed": 990,
     "status": "ok",
     "timestamp": 1608034207985,
     "user": {
      "displayName": "Ji-hoon Jung",
      "photoUrl": "",
      "userId": "03169308685755834042"
     },
     "user_tz": -540
    },
    "id": "N21ZsEUKhGms",
    "outputId": "a1f7c226-a213-48b3-b5b0-b4d5fc045b86"
   },
   "outputs": [
    {
     "data": {
      "text/html": [
       "<div>\n",
       "<style scoped>\n",
       "    .dataframe tbody tr th:only-of-type {\n",
       "        vertical-align: middle;\n",
       "    }\n",
       "\n",
       "    .dataframe tbody tr th {\n",
       "        vertical-align: top;\n",
       "    }\n",
       "\n",
       "    .dataframe thead th {\n",
       "        text-align: right;\n",
       "    }\n",
       "</style>\n",
       "<table border=\"1\" class=\"dataframe\">\n",
       "  <thead>\n",
       "    <tr style=\"text-align: right;\">\n",
       "      <th></th>\n",
       "      <th>filename</th>\n",
       "      <th>opinion_text</th>\n",
       "      <th>cluster_label</th>\n",
       "    </tr>\n",
       "  </thead>\n",
       "  <tbody>\n",
       "    <tr>\n",
       "      <th>0</th>\n",
       "      <td>topics\\accuracy_garmin_nuvi_255W_gps</td>\n",
       "      <td>, and is very, very accura...</td>\n",
       "      <td>2</td>\n",
       "    </tr>\n",
       "    <tr>\n",
       "      <th>2</th>\n",
       "      <td>topics\\battery-life_amazon_kindle</td>\n",
       "      <td>After I plugged it in to my USB hub on my co...</td>\n",
       "      <td>2</td>\n",
       "    </tr>\n",
       "    <tr>\n",
       "      <th>3</th>\n",
       "      <td>topics\\battery-life_ipod_nano_8gb</td>\n",
       "      <td>short battery life  I moved up from an 8...</td>\n",
       "      <td>2</td>\n",
       "    </tr>\n",
       "    <tr>\n",
       "      <th>4</th>\n",
       "      <td>topics\\battery-life_netbook_1005ha</td>\n",
       "      <td>6GHz 533FSB cpu, glossy display, 3, Cell 23Wh...</td>\n",
       "      <td>2</td>\n",
       "    </tr>\n",
       "    <tr>\n",
       "      <th>5</th>\n",
       "      <td>topics\\buttons_amazon_kindle</td>\n",
       "      <td>I thought it would be fitting to christen my ...</td>\n",
       "      <td>2</td>\n",
       "    </tr>\n",
       "    <tr>\n",
       "      <th>8</th>\n",
       "      <td>topics\\directions_garmin_nuvi_255W_gps</td>\n",
       "      <td>You also get upscale features like spoken di...</td>\n",
       "      <td>2</td>\n",
       "    </tr>\n",
       "    <tr>\n",
       "      <th>9</th>\n",
       "      <td>topics\\display_garmin_nuvi_255W_gps</td>\n",
       "      <td>3 quot  widescreen display was a bon...</td>\n",
       "      <td>2</td>\n",
       "    </tr>\n",
       "    <tr>\n",
       "      <th>10</th>\n",
       "      <td>topics\\eyesight-issues_amazon_kindle</td>\n",
       "      <td>It feels as easy to read as the K1 but doesn...</td>\n",
       "      <td>2</td>\n",
       "    </tr>\n",
       "    <tr>\n",
       "      <th>11</th>\n",
       "      <td>topics\\features_windows7</td>\n",
       "      <td>I had to uninstall anti, virus and selected ...</td>\n",
       "      <td>2</td>\n",
       "    </tr>\n",
       "    <tr>\n",
       "      <th>19</th>\n",
       "      <td>topics\\keyboard_netbook_1005ha</td>\n",
       "      <td>,  I think the new keyboard rivals the great ...</td>\n",
       "      <td>2</td>\n",
       "    </tr>\n",
       "    <tr>\n",
       "      <th>25</th>\n",
       "      <td>topics\\performance_honda_accord_2008</td>\n",
       "      <td>Very happy with my 08 Accord, performance is ...</td>\n",
       "      <td>2</td>\n",
       "    </tr>\n",
       "    <tr>\n",
       "      <th>26</th>\n",
       "      <td>topics\\performance_netbook_1005ha</td>\n",
       "      <td>The Eee Super Hybrid Engine utility lets use...</td>\n",
       "      <td>2</td>\n",
       "    </tr>\n",
       "    <tr>\n",
       "      <th>33</th>\n",
       "      <td>topics\\satellite_garmin_nuvi_255W_gps</td>\n",
       "      <td>It's fast to acquire satellit...</td>\n",
       "      <td>2</td>\n",
       "    </tr>\n",
       "    <tr>\n",
       "      <th>34</th>\n",
       "      <td>topics\\screen_garmin_nuvi_255W_gps</td>\n",
       "      <td>It is easy to read and when touching the sc...</td>\n",
       "      <td>2</td>\n",
       "    </tr>\n",
       "    <tr>\n",
       "      <th>35</th>\n",
       "      <td>topics\\screen_ipod_nano_8gb</td>\n",
       "      <td>As always, the video screen is sharp and bri...</td>\n",
       "      <td>2</td>\n",
       "    </tr>\n",
       "    <tr>\n",
       "      <th>36</th>\n",
       "      <td>topics\\screen_netbook_1005ha</td>\n",
       "      <td>Keep in mind that once you get in a room ful...</td>\n",
       "      <td>2</td>\n",
       "    </tr>\n",
       "    <tr>\n",
       "      <th>41</th>\n",
       "      <td>topics\\size_asus_netbook_1005ha</td>\n",
       "      <td>A few other things I'd like to point out is ...</td>\n",
       "      <td>2</td>\n",
       "    </tr>\n",
       "    <tr>\n",
       "      <th>42</th>\n",
       "      <td>topics\\sound_ipod_nano_8gb</td>\n",
       "      <td>headphone jack i got a clear case for it and...</td>\n",
       "      <td>2</td>\n",
       "    </tr>\n",
       "    <tr>\n",
       "      <th>43</th>\n",
       "      <td>topics\\speed_garmin_nuvi_255W_gps</td>\n",
       "      <td>Another feature on the 255w is a display of t...</td>\n",
       "      <td>2</td>\n",
       "    </tr>\n",
       "    <tr>\n",
       "      <th>47</th>\n",
       "      <td>topics\\transmission_toyota_camry_2007</td>\n",
       "      <td>After slowing down, transmission has to be  ...</td>\n",
       "      <td>2</td>\n",
       "    </tr>\n",
       "    <tr>\n",
       "      <th>48</th>\n",
       "      <td>topics\\updates_garmin_nuvi_255W_gps</td>\n",
       "      <td>Another thing to consider was that I paid $50...</td>\n",
       "      <td>2</td>\n",
       "    </tr>\n",
       "    <tr>\n",
       "      <th>49</th>\n",
       "      <td>topics\\video_ipod_nano_8gb</td>\n",
       "      <td>I bought the 8, gig Ipod Nano that has the bu...</td>\n",
       "      <td>2</td>\n",
       "    </tr>\n",
       "    <tr>\n",
       "      <th>50</th>\n",
       "      <td>topics\\voice_garmin_nuvi_255W_gps</td>\n",
       "      <td>The voice prompts and maps are wonderful es...</td>\n",
       "      <td>2</td>\n",
       "    </tr>\n",
       "  </tbody>\n",
       "</table>\n",
       "</div>"
      ],
      "text/plain": [
       "                                  filename  \\\n",
       "0     topics\\accuracy_garmin_nuvi_255W_gps   \n",
       "2        topics\\battery-life_amazon_kindle   \n",
       "3        topics\\battery-life_ipod_nano_8gb   \n",
       "4       topics\\battery-life_netbook_1005ha   \n",
       "5             topics\\buttons_amazon_kindle   \n",
       "8   topics\\directions_garmin_nuvi_255W_gps   \n",
       "9      topics\\display_garmin_nuvi_255W_gps   \n",
       "10    topics\\eyesight-issues_amazon_kindle   \n",
       "11                topics\\features_windows7   \n",
       "19          topics\\keyboard_netbook_1005ha   \n",
       "25    topics\\performance_honda_accord_2008   \n",
       "26       topics\\performance_netbook_1005ha   \n",
       "33   topics\\satellite_garmin_nuvi_255W_gps   \n",
       "34      topics\\screen_garmin_nuvi_255W_gps   \n",
       "35             topics\\screen_ipod_nano_8gb   \n",
       "36            topics\\screen_netbook_1005ha   \n",
       "41         topics\\size_asus_netbook_1005ha   \n",
       "42              topics\\sound_ipod_nano_8gb   \n",
       "43       topics\\speed_garmin_nuvi_255W_gps   \n",
       "47   topics\\transmission_toyota_camry_2007   \n",
       "48     topics\\updates_garmin_nuvi_255W_gps   \n",
       "49              topics\\video_ipod_nano_8gb   \n",
       "50       topics\\voice_garmin_nuvi_255W_gps   \n",
       "\n",
       "                                         opinion_text  cluster_label  \n",
       "0                       , and is very, very accura...              2  \n",
       "2     After I plugged it in to my USB hub on my co...              2  \n",
       "3         short battery life  I moved up from an 8...              2  \n",
       "4    6GHz 533FSB cpu, glossy display, 3, Cell 23Wh...              2  \n",
       "5    I thought it would be fitting to christen my ...              2  \n",
       "8     You also get upscale features like spoken di...              2  \n",
       "9             3 quot  widescreen display was a bon...              2  \n",
       "10    It feels as easy to read as the K1 but doesn...              2  \n",
       "11    I had to uninstall anti, virus and selected ...              2  \n",
       "19   ,  I think the new keyboard rivals the great ...              2  \n",
       "25   Very happy with my 08 Accord, performance is ...              2  \n",
       "26    The Eee Super Hybrid Engine utility lets use...              2  \n",
       "33                   It's fast to acquire satellit...              2  \n",
       "34     It is easy to read and when touching the sc...              2  \n",
       "35    As always, the video screen is sharp and bri...              2  \n",
       "36    Keep in mind that once you get in a room ful...              2  \n",
       "41    A few other things I'd like to point out is ...              2  \n",
       "42    headphone jack i got a clear case for it and...              2  \n",
       "43   Another feature on the 255w is a display of t...              2  \n",
       "47    After slowing down, transmission has to be  ...              2  \n",
       "48   Another thing to consider was that I paid $50...              2  \n",
       "49   I bought the 8, gig Ipod Nano that has the bu...              2  \n",
       "50     The voice prompts and maps are wonderful es...              2  "
      ]
     },
     "execution_count": 17,
     "metadata": {},
     "output_type": "execute_result"
    }
   ],
   "source": [
    "document_df[document_df['cluster_label']==2].sort_values(by='filename')"
   ]
  },
  {
   "cell_type": "markdown",
   "metadata": {
    "id": "_CaJt4l7hdZz"
   },
   "source": [
    "- 위 3개의 군집별로 겹치지 않게 잘 리뷰된 것을 확인할 수 있다. "
   ]
  },
  {
   "cell_type": "markdown",
   "metadata": {
    "id": "VQbPhE2GlVJK"
   },
   "source": [
    "## 군집별 핵심 단어 추출하기\n",
    "- 각 군집(`Cluster`)에 속한 문서들 중 핵심 단어들을 추출하도록 한다. \n",
    "- KMeans 객체는 각 군집을 구성하는 단어 피처가 군집의 중심(`Centroid`)를 기준으로 얼마나 가깝게 위치해 있는 `clusters_centers_`라는 속성으로 제공한다. \n"
   ]
  },
  {
   "cell_type": "code",
   "execution_count": 18,
   "metadata": {
    "colab": {
     "base_uri": "https://localhost:8080/"
    },
    "executionInfo": {
     "elapsed": 820,
     "status": "ok",
     "timestamp": 1608034264112,
     "user": {
      "displayName": "Ji-hoon Jung",
      "photoUrl": "",
      "userId": "03169308685755834042"
     },
     "user_tz": -540
    },
    "id": "el-ph373pAxu",
    "outputId": "ac564c5d-391f-446c-88a0-ad9e6bfff9a9"
   },
   "outputs": [
    {
     "name": "stdout",
     "output_type": "stream",
     "text": [
      "cluster_centers shape : (3, 2139)\n",
      "[[0.00890621 0.00890621 0.00671821 ... 0.         0.00270803 0.        ]\n",
      " [0.         0.         0.00465216 ... 0.00261946 0.00172148 0.        ]\n",
      " [0.01700607 0.01700607 0.00134152 ... 0.         0.         0.0051629 ]]\n"
     ]
    }
   ],
   "source": [
    "cluster_centers = km_cluster.cluster_centers_\n",
    "print('cluster_centers shape :', cluster_centers.shape)\n",
    "print(cluster_centers)"
   ]
  },
  {
   "cell_type": "markdown",
   "metadata": {
    "id": "6p2fd-XkpK-H"
   },
   "source": [
    "- 위 결과값을 보면, (3, 2409) 배열이다. \n",
    "- 이 뜻은 군집이 3개, word 피처가 2409개로 구성되어 있음을 의미한다. \n",
    "- get_cluster_details() 함수를 구성하도록 한다. "
   ]
  },
  {
   "cell_type": "code",
   "execution_count": 21,
   "metadata": {
    "executionInfo": {
     "elapsed": 864,
     "status": "ok",
     "timestamp": 1608034308023,
     "user": {
      "displayName": "Ji-hoon Jung",
      "photoUrl": "",
      "userId": "03169308685755834042"
     },
     "user_tz": -540
    },
    "id": "OuAYx6Y3povz"
   },
   "outputs": [],
   "source": [
    "# 군집별 top n 핵심단어, 그 단어의 중심 위치 상대값, 대상 파일명들을 반환함. \n",
    "def get_cluster_details(cluster_model, cluster_data, feature_names, clusters_num, top_n_features=10):\n",
    "    cluster_details = {}\n",
    "    \n",
    "    # cluster_centers array 의 값이 큰 순으로 정렬된 index 값을 반환\n",
    "    # 군집 중심점(centroid)별 할당된 word 피처들의 거리값이 큰 순으로 값을 구하기 위함.  \n",
    "    centroid_feature_ordered_ind = cluster_model.cluster_centers_.argsort()[:,::-1]\n",
    "    \n",
    "    #개별 군집별로 iteration하면서 핵심단어, 그 단어의 중심 위치 상대값, 대상 파일명 입력\n",
    "    for cluster_num in range(clusters_num):\n",
    "        # 개별 군집별 정보를 담을 데이터 초기화. \n",
    "        cluster_details[cluster_num] = {}\n",
    "        cluster_details[cluster_num]['cluster'] = cluster_num\n",
    "        \n",
    "        # cluster_centers_.argsort()[:,::-1] 로 구한 index 를 이용하여 top n 피처 단어를 구함. \n",
    "        top_feature_indexes = centroid_feature_ordered_ind[cluster_num, :top_n_features]\n",
    "        top_features = [ feature_names[ind] for ind in top_feature_indexes ]\n",
    "        \n",
    "        # top_feature_indexes를 이용해 해당 피처 단어의 중심 위치 상댓값 구함 \n",
    "        top_feature_values = cluster_model.cluster_centers_[cluster_num, top_feature_indexes].tolist()\n",
    "        \n",
    "        # cluster_details 딕셔너리 객체에 개별 군집별 핵심 단어와 중심위치 상대값, 그리고 해당 파일명 입력\n",
    "        cluster_details[cluster_num]['top_features'] = top_features\n",
    "        cluster_details[cluster_num]['top_features_value'] = top_feature_values\n",
    "        filenames = cluster_data[cluster_data['cluster_label'] == cluster_num]['filename']\n",
    "        filenames = filenames.values.tolist()\n",
    "        cluster_details[cluster_num]['filenames'] = filenames\n",
    "        \n",
    "    return cluster_details"
   ]
  },
  {
   "cell_type": "markdown",
   "metadata": {
    "id": "GMJBDc53pvf9"
   },
   "source": [
    "- 먼저, `ndarray`의 `argsort()[:,::-1]`를 이용하면 cluster_centers 배열 내 값이 큰 순으로 정렬된 위치 인덱스 값을 반환한다.\n",
    "  + 큰 값을 가진 배열 내 위치 인덱스 값을 반환하는 것임을 유의한다. \n",
    "- 이 위치 인덱스 값이 필요한 이유는 핵심 단어 피처의 이름을 출력하기 위한 것이다.  \n",
    "- 이 위치 인덱스 값이 필요한 이유는 핵심 단어 피처의 이름을 출력하기 위한 것이다. \n",
    "- `cluster_centers_` 배열 내에서 가장 값이 큰 데이터의 위치 인덱스를 추출한 뒤 해당 인덱스를 이용해 핵심 단어 이름과 그 때의 상대 위치 값을 추출해 `cluster_details`라는 `Dict` 객체 변수에 기록하고 반환하는 것이 `get_cluster_details()` 함수의 주요 로직이다. \n",
    "- 이번에는 개별 군집번호, 핵심 단어, 핵심 단어 중심 위치 상대값, 파일명 속성 값 정보를 출력하도록 해본다.  "
   ]
  },
  {
   "cell_type": "code",
   "execution_count": 22,
   "metadata": {
    "executionInfo": {
     "elapsed": 887,
     "status": "ok",
     "timestamp": 1608034312149,
     "user": {
      "displayName": "Ji-hoon Jung",
      "photoUrl": "",
      "userId": "03169308685755834042"
     },
     "user_tz": -540
    },
    "id": "ooVUa0rFtBx7"
   },
   "outputs": [],
   "source": [
    "def print_cluster_details(cluster_details):\n",
    "  for cluster_num, cluster_detail in cluster_details.items():\n",
    "    print('### Cluster {0}'.format(cluster_num))\n",
    "    print('Top features:', cluster_detail['top_features'])\n",
    "    print('Reveiws 파일명 :', cluster_detail['filenames'][:7])\n",
    "    print('==========================')"
   ]
  },
  {
   "cell_type": "markdown",
   "metadata": {
    "id": "RXKtZBk2tlys"
   },
   "source": [
    "- 이제 위에서 생성한 함수를 적용해보독 합니다. "
   ]
  },
  {
   "cell_type": "code",
   "execution_count": 24,
   "metadata": {
    "colab": {
     "base_uri": "https://localhost:8080/"
    },
    "executionInfo": {
     "elapsed": 873,
     "status": "ok",
     "timestamp": 1608034319495,
     "user": {
      "displayName": "Ji-hoon Jung",
      "photoUrl": "",
      "userId": "03169308685755834042"
     },
     "user_tz": -540
    },
    "id": "eYbWmm9DtuH0",
    "outputId": "fac09077-4a35-4fed-bf87-5d925381fdc2"
   },
   "outputs": [
    {
     "name": "stdout",
     "output_type": "stream",
     "text": [
      "### Cluster 0\n",
      "Top features: ['mileage', 'price', 'gas', 'gas mileage', 'font', 'faster', 'kindle', 'book', 'quality', 'navigation']\n",
      "Reveiws 파일명 : ['topics\\\\fonts_amazon_kindle', 'topics\\\\gas_mileage_toyota_camry_2007', 'topics\\\\mileage_honda_accord_2008', 'topics\\\\navigation_amazon_kindle', 'topics\\\\price_amazon_kindle', 'topics\\\\price_holiday_inn_london', 'topics\\\\quality_toyota_camry_2007']\n",
      "==========================\n",
      "### Cluster 1\n",
      "Top features: ['room', 'service', 'hotel', 'staff', 'location', 'interior', 'food', 'seat', 'comfortable', 'clean']\n",
      "Reveiws 파일명 : ['topics\\\\bathroom_bestwestern_hotel_sfo', 'topics\\\\comfort_honda_accord_2008', 'topics\\\\comfort_toyota_camry_2007', 'topics\\\\food_holiday_inn_london', 'topics\\\\food_swissotel_chicago', 'topics\\\\free_bestwestern_hotel_sfo', 'topics\\\\interior_honda_accord_2008']\n",
      "==========================\n",
      "### Cluster 2\n",
      "Top features: ['screen', 'battery', 'life', 'battery life', 'keyboard', 'performance', 'voice', 'video', 'size', 'feature']\n",
      "Reveiws 파일명 : ['topics\\\\accuracy_garmin_nuvi_255W_gps', 'topics\\\\battery-life_amazon_kindle', 'topics\\\\battery-life_ipod_nano_8gb', 'topics\\\\battery-life_netbook_1005ha', 'topics\\\\buttons_amazon_kindle', 'topics\\\\directions_garmin_nuvi_255W_gps', 'topics\\\\display_garmin_nuvi_255W_gps']\n",
      "==========================\n"
     ]
    }
   ],
   "source": [
    "feature_names = tfidf_vect.get_feature_names_out()\n",
    "cluster_details = get_cluster_details(cluster_model=km_cluster, \n",
    "                                      cluster_data=document_df, \n",
    "                                      feature_names = feature_names, \n",
    "                                      clusters_num = 3, \n",
    "                                      top_n_features=10)\n",
    "\n",
    "print_cluster_details(cluster_details)"
   ]
  },
  {
   "cell_type": "markdown",
   "metadata": {
    "id": "GguengY9uSfo"
   },
   "source": [
    "- 위 결과에 대한 해석은 각자에게 맡기도록 한다. "
   ]
  }
 ],
 "metadata": {
  "colab": {
   "authorship_tag": "ABX9TyPTI0P3LUGDsg1e+1nmf5r1",
   "name": "ch06_opinion_review.ipynb",
   "provenance": [],
   "toc_visible": true
  },
  "kernelspec": {
   "display_name": "Python 3 (ipykernel)",
   "language": "python",
   "name": "python3"
  },
  "language_info": {
   "codemirror_mode": {
    "name": "ipython",
    "version": 3
   },
   "file_extension": ".py",
   "mimetype": "text/x-python",
   "name": "python",
   "nbconvert_exporter": "python",
   "pygments_lexer": "ipython3",
   "version": "3.11.12"
  }
 },
 "nbformat": 4,
 "nbformat_minor": 4
}
