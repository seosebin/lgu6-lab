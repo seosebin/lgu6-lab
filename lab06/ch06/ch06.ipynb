{
 "cells": [
  {
   "cell_type": "markdown",
   "metadata": {
    "id": "jH8USg1FgX_i",
    "tags": []
   },
   "source": [
    "# 머신 러닝 교과서 - 파이토치편"
   ]
  },
  {
   "cell_type": "markdown",
   "metadata": {
    "id": "tXCHN5PygX_n"
   },
   "source": [
    "<table align=\"left\"><tr><td>\n",
    "<a href=\"https://colab.research.google.com/github/rickiepark/ml-with-pytorch/blob/main/ch06/ch06.ipynb\" target=\"_parent\"><img src=\"https://colab.research.google.com/assets/colab-badge.svg\" alt=\"코랩에서 실행하기\"/></a>\n",
    "</td></tr></table>"
   ]
  },
  {
   "cell_type": "markdown",
   "metadata": {
    "id": "SLerMWcogX_o"
   },
   "source": [
    "## 패키지 버전 체크\n"
   ]
  },
  {
   "cell_type": "markdown",
   "metadata": {
    "id": "SdTzJOgDgX_o"
   },
   "source": [
    "check_packages.py 스크립트에서 로드하기 위해 폴더를 추가합니다:\n",
    "\n"
   ]
  },
  {
   "cell_type": "code",
   "execution_count": 1,
   "metadata": {
    "colab": {
     "base_uri": "https://localhost:8080/"
    },
    "id": "jNvrFM39gX_p",
    "outputId": "89163a52-2452-45d2-9883-7e8e2970c844"
   },
   "outputs": [],
   "source": [
    "import sys\n",
    "\n",
    "# 코랩의 경우 깃허브 저장소로부터 python_environment_check.py를 다운로드 합니다.\n",
    "if 'google.colab' in sys.modules:\n",
    "    !wget https://raw.githubusercontent.com/rickiepark/ml-with-pytorch/main/python_environment_check.py\n",
    "else:\n",
    "    sys.path.insert(0, '..')"
   ]
  },
  {
   "cell_type": "code",
   "execution_count": 2,
   "metadata": {},
   "outputs": [
    {
     "name": "stdout",
     "output_type": "stream",
     "text": [
      "[OK] Your Python version is 3.11.12 (main, Apr  9 2025, 04:03:34) [MSC v.1943 64 bit (AMD64)]\n"
     ]
    }
   ],
   "source": [
    "import sys\n",
    "sys.path.append('..')  # 상위 디렉토리 추가\n",
    "\n",
    "from python_environment_check import check_packages"
   ]
  },
  {
   "cell_type": "markdown",
   "metadata": {
    "id": "i-lVF97IgX_r"
   },
   "source": [
    "권장 패키지 버전을 확인하세요:"
   ]
  },
  {
   "cell_type": "code",
   "execution_count": 3,
   "metadata": {
    "colab": {
     "base_uri": "https://localhost:8080/"
    },
    "id": "A2HIZC38gX_r",
    "outputId": "1608f259-cafb-446a-9297-003aa548b24a",
    "tags": []
   },
   "outputs": [
    {
     "name": "stdout",
     "output_type": "stream",
     "text": [
      "[OK] numpy 2.2.6\n",
      "[OK] matplotlib 3.10.3\n",
      "[OK] sklearn 1.6.1\n",
      "[OK] pandas 2.2.3\n"
     ]
    }
   ],
   "source": [
    "from python_environment_check import check_packages\n",
    "\n",
    "\n",
    "d = {\n",
    "    'numpy': '1.21.2',\n",
    "    'matplotlib': '3.4.3',\n",
    "    'sklearn': '1.0',\n",
    "    'pandas': '1.3.2'\n",
    "}\n",
    "check_packages(d)"
   ]
  },
  {
   "cell_type": "markdown",
   "metadata": {
    "id": "uY_cMJ4QgX_t"
   },
   "source": [
    "# 6장 - 모델 평가와 하이퍼파라미터 튜닝의 모범 사례\n"
   ]
  },
  {
   "cell_type": "markdown",
   "metadata": {
    "id": "-6mN69FrgX_t"
   },
   "source": [
    "### 목차\n",
    "\n"
   ]
  },
  {
   "cell_type": "markdown",
   "metadata": {
    "id": "iIVQZrDIgX_t"
   },
   "source": [
    "- 파이프라인을 사용한 효율적인 워크플로\n",
    "  - 위스콘신 유방암 데이터셋\n",
    "  - 파이프라인으로 변환기와 추정기 연결\n",
    "- k-겹 교차 검증을 사용한 모델 성능 평가\n",
    "  - 홀드아웃 방법\n",
    "  - k-겹 교차 검증\n",
    "- 학습 곡선과 검증 곡선을 사용한 알고리즘 디버깅\n",
    "  - 학습 곡선으로 편향과 분산 문제 분석\n",
    "  - 검증 곡선으로 과대적합과 과소적합 조사\n",
    "- 그리드 서치를 사용한 머신 러닝 모델 세부 튜닝\n",
    "  - 그리드 서치를 사용한 하이퍼파라미터 튜닝\n",
    "  - 랜덤 서치로 하이퍼파라미터 설정을 더 넓게 탐색하기\n",
    "  - SH 방식을 사용한 자원 효율적인 하이퍼파라미터 탐색\n",
    "  - 중첩 교차 검증을 사용한 알고리즘 선택\n",
    "- 여러 가지 성능 평가 지표\n",
    "  - 오차 행렬\n",
    "  - 분류 모델의 정밀도와 재현율 최적화\n",
    "  - ROC 곡선 그리기\n",
    "  - 다중 분류의 성능 지표\n",
    "  - 불균형한 클래스 다루기\n",
    "- 요약"
   ]
  },
  {
   "cell_type": "code",
   "execution_count": 4,
   "metadata": {
    "id": "rn3fVddagX_u"
   },
   "outputs": [],
   "source": [
    "from IPython.display import Image\n",
    "%matplotlib inline"
   ]
  },
  {
   "cell_type": "markdown",
   "metadata": {
    "id": "YkDbt7gUgX_u"
   },
   "source": [
    "# 파이프라인을 사용한 효율적인 워크플로\n"
   ]
  },
  {
   "cell_type": "markdown",
   "metadata": {
    "id": "D7FeelA5gX_u"
   },
   "source": [
    "## 위스콘신 유방암 데이터셋\n"
   ]
  },
  {
   "cell_type": "code",
   "execution_count": 5,
   "metadata": {
    "colab": {
     "base_uri": "https://localhost:8080/",
     "height": 255
    },
    "id": "ndElN_PcgX_u",
    "outputId": "b8e76589-ef69-415c-82cb-d22db714ae9e"
   },
   "outputs": [
    {
     "data": {
      "text/html": [
       "<div>\n",
       "<style scoped>\n",
       "    .dataframe tbody tr th:only-of-type {\n",
       "        vertical-align: middle;\n",
       "    }\n",
       "\n",
       "    .dataframe tbody tr th {\n",
       "        vertical-align: top;\n",
       "    }\n",
       "\n",
       "    .dataframe thead th {\n",
       "        text-align: right;\n",
       "    }\n",
       "</style>\n",
       "<table border=\"1\" class=\"dataframe\">\n",
       "  <thead>\n",
       "    <tr style=\"text-align: right;\">\n",
       "      <th></th>\n",
       "      <th>0</th>\n",
       "      <th>1</th>\n",
       "      <th>2</th>\n",
       "      <th>3</th>\n",
       "      <th>4</th>\n",
       "      <th>5</th>\n",
       "      <th>6</th>\n",
       "      <th>7</th>\n",
       "      <th>8</th>\n",
       "      <th>9</th>\n",
       "      <th>...</th>\n",
       "      <th>22</th>\n",
       "      <th>23</th>\n",
       "      <th>24</th>\n",
       "      <th>25</th>\n",
       "      <th>26</th>\n",
       "      <th>27</th>\n",
       "      <th>28</th>\n",
       "      <th>29</th>\n",
       "      <th>30</th>\n",
       "      <th>31</th>\n",
       "    </tr>\n",
       "  </thead>\n",
       "  <tbody>\n",
       "    <tr>\n",
       "      <th>0</th>\n",
       "      <td>842302</td>\n",
       "      <td>M</td>\n",
       "      <td>17.99</td>\n",
       "      <td>10.38</td>\n",
       "      <td>122.80</td>\n",
       "      <td>1001.0</td>\n",
       "      <td>0.11840</td>\n",
       "      <td>0.27760</td>\n",
       "      <td>0.3001</td>\n",
       "      <td>0.14710</td>\n",
       "      <td>...</td>\n",
       "      <td>25.38</td>\n",
       "      <td>17.33</td>\n",
       "      <td>184.60</td>\n",
       "      <td>2019.0</td>\n",
       "      <td>0.1622</td>\n",
       "      <td>0.6656</td>\n",
       "      <td>0.7119</td>\n",
       "      <td>0.2654</td>\n",
       "      <td>0.4601</td>\n",
       "      <td>0.11890</td>\n",
       "    </tr>\n",
       "    <tr>\n",
       "      <th>1</th>\n",
       "      <td>842517</td>\n",
       "      <td>M</td>\n",
       "      <td>20.57</td>\n",
       "      <td>17.77</td>\n",
       "      <td>132.90</td>\n",
       "      <td>1326.0</td>\n",
       "      <td>0.08474</td>\n",
       "      <td>0.07864</td>\n",
       "      <td>0.0869</td>\n",
       "      <td>0.07017</td>\n",
       "      <td>...</td>\n",
       "      <td>24.99</td>\n",
       "      <td>23.41</td>\n",
       "      <td>158.80</td>\n",
       "      <td>1956.0</td>\n",
       "      <td>0.1238</td>\n",
       "      <td>0.1866</td>\n",
       "      <td>0.2416</td>\n",
       "      <td>0.1860</td>\n",
       "      <td>0.2750</td>\n",
       "      <td>0.08902</td>\n",
       "    </tr>\n",
       "    <tr>\n",
       "      <th>2</th>\n",
       "      <td>84300903</td>\n",
       "      <td>M</td>\n",
       "      <td>19.69</td>\n",
       "      <td>21.25</td>\n",
       "      <td>130.00</td>\n",
       "      <td>1203.0</td>\n",
       "      <td>0.10960</td>\n",
       "      <td>0.15990</td>\n",
       "      <td>0.1974</td>\n",
       "      <td>0.12790</td>\n",
       "      <td>...</td>\n",
       "      <td>23.57</td>\n",
       "      <td>25.53</td>\n",
       "      <td>152.50</td>\n",
       "      <td>1709.0</td>\n",
       "      <td>0.1444</td>\n",
       "      <td>0.4245</td>\n",
       "      <td>0.4504</td>\n",
       "      <td>0.2430</td>\n",
       "      <td>0.3613</td>\n",
       "      <td>0.08758</td>\n",
       "    </tr>\n",
       "    <tr>\n",
       "      <th>3</th>\n",
       "      <td>84348301</td>\n",
       "      <td>M</td>\n",
       "      <td>11.42</td>\n",
       "      <td>20.38</td>\n",
       "      <td>77.58</td>\n",
       "      <td>386.1</td>\n",
       "      <td>0.14250</td>\n",
       "      <td>0.28390</td>\n",
       "      <td>0.2414</td>\n",
       "      <td>0.10520</td>\n",
       "      <td>...</td>\n",
       "      <td>14.91</td>\n",
       "      <td>26.50</td>\n",
       "      <td>98.87</td>\n",
       "      <td>567.7</td>\n",
       "      <td>0.2098</td>\n",
       "      <td>0.8663</td>\n",
       "      <td>0.6869</td>\n",
       "      <td>0.2575</td>\n",
       "      <td>0.6638</td>\n",
       "      <td>0.17300</td>\n",
       "    </tr>\n",
       "    <tr>\n",
       "      <th>4</th>\n",
       "      <td>84358402</td>\n",
       "      <td>M</td>\n",
       "      <td>20.29</td>\n",
       "      <td>14.34</td>\n",
       "      <td>135.10</td>\n",
       "      <td>1297.0</td>\n",
       "      <td>0.10030</td>\n",
       "      <td>0.13280</td>\n",
       "      <td>0.1980</td>\n",
       "      <td>0.10430</td>\n",
       "      <td>...</td>\n",
       "      <td>22.54</td>\n",
       "      <td>16.67</td>\n",
       "      <td>152.20</td>\n",
       "      <td>1575.0</td>\n",
       "      <td>0.1374</td>\n",
       "      <td>0.2050</td>\n",
       "      <td>0.4000</td>\n",
       "      <td>0.1625</td>\n",
       "      <td>0.2364</td>\n",
       "      <td>0.07678</td>\n",
       "    </tr>\n",
       "  </tbody>\n",
       "</table>\n",
       "<p>5 rows × 32 columns</p>\n",
       "</div>"
      ],
      "text/plain": [
       "         0  1      2      3       4       5        6        7       8   \\\n",
       "0    842302  M  17.99  10.38  122.80  1001.0  0.11840  0.27760  0.3001   \n",
       "1    842517  M  20.57  17.77  132.90  1326.0  0.08474  0.07864  0.0869   \n",
       "2  84300903  M  19.69  21.25  130.00  1203.0  0.10960  0.15990  0.1974   \n",
       "3  84348301  M  11.42  20.38   77.58   386.1  0.14250  0.28390  0.2414   \n",
       "4  84358402  M  20.29  14.34  135.10  1297.0  0.10030  0.13280  0.1980   \n",
       "\n",
       "        9   ...     22     23      24      25      26      27      28      29  \\\n",
       "0  0.14710  ...  25.38  17.33  184.60  2019.0  0.1622  0.6656  0.7119  0.2654   \n",
       "1  0.07017  ...  24.99  23.41  158.80  1956.0  0.1238  0.1866  0.2416  0.1860   \n",
       "2  0.12790  ...  23.57  25.53  152.50  1709.0  0.1444  0.4245  0.4504  0.2430   \n",
       "3  0.10520  ...  14.91  26.50   98.87   567.7  0.2098  0.8663  0.6869  0.2575   \n",
       "4  0.10430  ...  22.54  16.67  152.20  1575.0  0.1374  0.2050  0.4000  0.1625   \n",
       "\n",
       "       30       31  \n",
       "0  0.4601  0.11890  \n",
       "1  0.2750  0.08902  \n",
       "2  0.3613  0.08758  \n",
       "3  0.6638  0.17300  \n",
       "4  0.2364  0.07678  \n",
       "\n",
       "[5 rows x 32 columns]"
      ]
     },
     "execution_count": 5,
     "metadata": {},
     "output_type": "execute_result"
    }
   ],
   "source": [
    "import pandas as pd\n",
    "\n",
    "df = pd.read_csv('https://archive.ics.uci.edu/ml/'\n",
    "                 'machine-learning-databases'\n",
    "                 '/breast-cancer-wisconsin/wdbc.data', header=None)\n",
    "\n",
    "# UCI 머신 러닝 저장소에서 유방암 데이터셋을 다운로드할 수 없을 때\n",
    "# 다음 주석을 해제하고 로컬 경로에서 데이터셋을 적재하세요:\n",
    "\n",
    "# df = pd.read_csv('wdbc.data', header=None)\n",
    "\n",
    "df.head()"
   ]
  },
  {
   "cell_type": "code",
   "execution_count": 6,
   "metadata": {
    "colab": {
     "base_uri": "https://localhost:8080/"
    },
    "id": "eUWum-xegX_v",
    "outputId": "ee34e44d-ba6d-43ae-89a0-36e9ea1734f1"
   },
   "outputs": [
    {
     "data": {
      "text/plain": [
       "(569, 32)"
      ]
     },
     "execution_count": 6,
     "metadata": {},
     "output_type": "execute_result"
    }
   ],
   "source": [
    "df.shape"
   ]
  },
  {
   "cell_type": "code",
   "execution_count": 7,
   "metadata": {
    "colab": {
     "base_uri": "https://localhost:8080/"
    },
    "id": "2S2fatgOgX_v",
    "outputId": "7f5ea500-e78f-41bd-991a-0d780bb6ef44"
   },
   "outputs": [
    {
     "data": {
      "text/plain": [
       "array(['B', 'M'], dtype=object)"
      ]
     },
     "execution_count": 7,
     "metadata": {},
     "output_type": "execute_result"
    }
   ],
   "source": [
    "from sklearn.preprocessing import LabelEncoder\n",
    "\n",
    "X = df.loc[:, 2:].values\n",
    "y = df.loc[:, 1].values\n",
    "le = LabelEncoder()\n",
    "y = le.fit_transform(y)\n",
    "le.classes_"
   ]
  },
  {
   "cell_type": "code",
   "execution_count": 8,
   "metadata": {
    "colab": {
     "base_uri": "https://localhost:8080/"
    },
    "id": "QmA7qYC2gX_v",
    "outputId": "0b85201d-7f8f-412f-d187-50da070156e2"
   },
   "outputs": [
    {
     "data": {
      "text/plain": [
       "array([1, 0])"
      ]
     },
     "execution_count": 8,
     "metadata": {},
     "output_type": "execute_result"
    }
   ],
   "source": [
    "le.transform(['M', 'B'])"
   ]
  },
  {
   "cell_type": "code",
   "execution_count": 9,
   "metadata": {
    "id": "nDF9BeqRgX_w"
   },
   "outputs": [],
   "source": [
    "from sklearn.model_selection import train_test_split\n",
    "\n",
    "X_train, X_test, y_train, y_test = \\\n",
    "    train_test_split(X, y,\n",
    "                     test_size=0.20,\n",
    "                     stratify=y,\n",
    "                     random_state=1)"
   ]
  },
  {
   "cell_type": "markdown",
   "metadata": {
    "id": "sRv0KCb7gX_w"
   },
   "source": [
    "## 파이프라인으로 변환기와 추정기 연결\n"
   ]
  },
  {
   "cell_type": "code",
   "execution_count": 10,
   "metadata": {
    "colab": {
     "base_uri": "https://localhost:8080/"
    },
    "id": "8hdIsYHcgX_w",
    "outputId": "503e9834-9a2f-4dee-d9d9-f6af485c3762"
   },
   "outputs": [
    {
     "name": "stdout",
     "output_type": "stream",
     "text": [
      "테스트 정확도: 0.956\n"
     ]
    }
   ],
   "source": [
    "from sklearn.preprocessing import StandardScaler\n",
    "from sklearn.decomposition import PCA\n",
    "from sklearn.linear_model import LogisticRegression\n",
    "from sklearn.pipeline import make_pipeline\n",
    "\n",
    "pipe_lr = make_pipeline(StandardScaler(),\n",
    "                        PCA(n_components=2),\n",
    "                        LogisticRegression())\n",
    "\n",
    "pipe_lr.fit(X_train, y_train)\n",
    "y_pred = pipe_lr.predict(X_test)\n",
    "test_acc = pipe_lr.score(X_test, y_test)\n",
    "print(f'테스트 정확도: {test_acc:.3f}')"
   ]
  },
  {
   "cell_type": "code",
   "execution_count": 11,
   "metadata": {
    "colab": {
     "base_uri": "https://localhost:8080/",
     "height": 399
    },
    "id": "34FFxLbLgX_w",
    "outputId": "d459bf91-e80a-4304-d239-2e65688363a8"
   },
   "outputs": [
    {
     "data": {
      "text/html": [
       "<img src=\"https://raw.githubusercontent.com/rickiepark/ml-with-pytorch/main/ch06/figures/06_01.png\" width=\"500\"/>"
      ],
      "text/plain": [
       "<IPython.core.display.Image object>"
      ]
     },
     "execution_count": 11,
     "metadata": {},
     "output_type": "execute_result"
    }
   ],
   "source": [
    "Image(url='https://raw.githubusercontent.com/rickiepark/ml-with-pytorch/main/ch06/figures/06_01.png', width=500)"
   ]
  },
  {
   "cell_type": "markdown",
   "metadata": {
    "id": "j0Qt-AtQgX_x"
   },
   "source": [
    "# k-겹 교차 검증을 사용한 모델 성능 평가\n"
   ]
  },
  {
   "cell_type": "markdown",
   "metadata": {
    "id": "8MKjQY99gX_x"
   },
   "source": [
    "## 홀드아웃 방법\n"
   ]
  },
  {
   "cell_type": "code",
   "execution_count": 12,
   "metadata": {
    "colab": {
     "base_uri": "https://localhost:8080/",
     "height": 391
    },
    "id": "M0OS7VwrgX_x",
    "outputId": "3ca36f02-b1ba-41f0-ca44-c3e981939e5f"
   },
   "outputs": [
    {
     "data": {
      "text/html": [
       "<img src=\"https://raw.githubusercontent.com/rickiepark/ml-with-pytorch/main/ch06/figures/06_02.png\" width=\"500\"/>"
      ],
      "text/plain": [
       "<IPython.core.display.Image object>"
      ]
     },
     "execution_count": 12,
     "metadata": {},
     "output_type": "execute_result"
    }
   ],
   "source": [
    "Image(url='https://raw.githubusercontent.com/rickiepark/ml-with-pytorch/main/ch06/figures/06_02.png', width=500)"
   ]
  },
  {
   "cell_type": "markdown",
   "metadata": {
    "id": "vqzEualKgX_x"
   },
   "source": [
    "## k-겹 교차 검증\n"
   ]
  },
  {
   "cell_type": "code",
   "execution_count": 13,
   "metadata": {
    "colab": {
     "base_uri": "https://localhost:8080/",
     "height": 300
    },
    "id": "wBHWmreRgX_y",
    "outputId": "f5353c40-c687-447e-bdd0-a409939d708b"
   },
   "outputs": [
    {
     "data": {
      "text/html": [
       "<img src=\"https://raw.githubusercontent.com/rickiepark/ml-with-pytorch/main/ch06/figures/06_03.png\" width=\"500\"/>"
      ],
      "text/plain": [
       "<IPython.core.display.Image object>"
      ]
     },
     "execution_count": 13,
     "metadata": {},
     "output_type": "execute_result"
    }
   ],
   "source": [
    "Image(url='https://raw.githubusercontent.com/rickiepark/ml-with-pytorch/main/ch06/figures/06_03.png', width=500)"
   ]
  },
  {
   "cell_type": "code",
   "execution_count": 14,
   "metadata": {
    "colab": {
     "base_uri": "https://localhost:8080/"
    },
    "id": "AXn_SFzLgX_y",
    "outputId": "835175e6-bed7-4746-f59a-6b9a8da1360f"
   },
   "outputs": [
    {
     "name": "stdout",
     "output_type": "stream",
     "text": [
      "폴드: 01, 클래스 분포: [256 153], 정확도: 0.935\n",
      "폴드: 02, 클래스 분포: [256 153], 정확도: 0.935\n",
      "폴드: 03, 클래스 분포: [256 153], 정확도: 0.957\n",
      "폴드: 04, 클래스 분포: [256 153], 정확도: 0.957\n",
      "폴드: 05, 클래스 분포: [256 153], 정확도: 0.935\n",
      "폴드: 06, 클래스 분포: [257 153], 정확도: 0.956\n",
      "폴드: 07, 클래스 분포: [257 153], 정확도: 0.978\n",
      "폴드: 08, 클래스 분포: [257 153], 정확도: 0.933\n",
      "폴드: 09, 클래스 분포: [257 153], 정확도: 0.956\n",
      "폴드: 10, 클래스 분포: [257 153], 정확도: 0.956\n",
      "\n",
      "CV 정확도: 0.950 +/- 0.014\n"
     ]
    }
   ],
   "source": [
    "import numpy as np\n",
    "from sklearn.model_selection import StratifiedKFold\n",
    "\n",
    "\n",
    "kfold = StratifiedKFold(n_splits=10).split(X_train, y_train)\n",
    "\n",
    "scores = []\n",
    "for k, (train, test) in enumerate(kfold):\n",
    "    pipe_lr.fit(X_train[train], y_train[train])\n",
    "    score = pipe_lr.score(X_train[test], y_train[test])\n",
    "    scores.append(score)\n",
    "\n",
    "    print(f'폴드: {k+1:02d}, '\n",
    "          f'클래스 분포: {np.bincount(y_train[train])}, '\n",
    "          f'정확도: {score:.3f}')\n",
    "\n",
    "mean_acc = np.mean(scores)\n",
    "std_acc = np.std(scores)\n",
    "print(f'\\nCV 정확도: {mean_acc:.3f} +/- {std_acc:.3f}')"
   ]
  },
  {
   "cell_type": "code",
   "execution_count": 15,
   "metadata": {
    "colab": {
     "base_uri": "https://localhost:8080/"
    },
    "id": "YV0OW7GxgX_y",
    "outputId": "bdb57725-dec9-4562-e004-65650df4252e"
   },
   "outputs": [
    {
     "name": "stdout",
     "output_type": "stream",
     "text": [
      "CV 정확도 점수: [0.93478261 0.93478261 0.95652174 0.95652174 0.93478261 0.95555556\n",
      " 0.97777778 0.93333333 0.95555556 0.95555556]\n",
      "CV 정확도: 0.950 +/- 0.014\n"
     ]
    }
   ],
   "source": [
    "from sklearn.model_selection import cross_val_score\n",
    "\n",
    "scores = cross_val_score(estimator=pipe_lr,\n",
    "                         X=X_train,\n",
    "                         y=y_train,\n",
    "                         cv=10,\n",
    "                         n_jobs=1)\n",
    "print(f'CV 정확도 점수: {scores}')\n",
    "print(f'CV 정확도: {np.mean(scores):.3f} '\n",
    "      f'+/- {np.std(scores):.3f}')"
   ]
  },
  {
   "cell_type": "markdown",
   "metadata": {
    "id": "SrPA5q98gX_z"
   },
   "source": [
    "<역자 노트>\n",
    "\n",
    "---"
   ]
  },
  {
   "cell_type": "code",
   "execution_count": 16,
   "metadata": {
    "colab": {
     "base_uri": "https://localhost:8080/"
    },
    "id": "fvJ0QO3FgX_z",
    "outputId": "36215eee-00ae-4b6a-b5dc-5bf77955f6b9"
   },
   "outputs": [
    {
     "name": "stdout",
     "output_type": "stream",
     "text": [
      "CV 정확도 점수: [0.93478261 0.93478261 0.95652174 0.95652174 0.93478261 0.95555556\n",
      " 0.97777778 0.93333333 0.95555556 0.95555556]\n",
      "CV 정확도: 0.950 +/- 0.014\n"
     ]
    }
   ],
   "source": [
    "from sklearn.model_selection import cross_validate\n",
    "\n",
    "scores = cross_validate(estimator=pipe_lr,\n",
    "                        X=X_train,\n",
    "                        y=y_train,\n",
    "                        scoring=['accuracy'],\n",
    "                        cv=10,\n",
    "                        n_jobs=-1)\n",
    "print('CV 정확도 점수: %s' % scores['test_accuracy'])\n",
    "print('CV 정확도: %.3f +/- %.3f' % (np.mean(scores['test_accuracy']),\n",
    "                                 np.std(scores['test_accuracy'])))"
   ]
  },
  {
   "cell_type": "code",
   "execution_count": 17,
   "metadata": {
    "colab": {
     "base_uri": "https://localhost:8080/"
    },
    "id": "8n75wKdsgX_z",
    "outputId": "c8bcdb9e-d5f2-4be7-b027-0224c5eb2ef0"
   },
   "outputs": [
    {
     "data": {
      "text/plain": [
       "array([0, 0, 0, 0, 0, 0, 0, 1, 1, 1])"
      ]
     },
     "execution_count": 17,
     "metadata": {},
     "output_type": "execute_result"
    }
   ],
   "source": [
    "from sklearn.model_selection import cross_val_predict\n",
    "\n",
    "preds = cross_val_predict(estimator=pipe_lr,\n",
    "                          X=X_train,\n",
    "                          y=y_train,\n",
    "                          cv=10,\n",
    "                          n_jobs=-1)\n",
    "preds[:10]"
   ]
  },
  {
   "cell_type": "code",
   "execution_count": 18,
   "metadata": {
    "colab": {
     "base_uri": "https://localhost:8080/"
    },
    "id": "4rrcpBLfgX_z",
    "outputId": "fb793e3b-f805-407e-80e3-6d3107feab1a"
   },
   "outputs": [
    {
     "data": {
      "text/plain": [
       "array([[9.94012059e-01, 5.98794102e-03],\n",
       "       [7.64607902e-01, 2.35392098e-01],\n",
       "       [9.72784305e-01, 2.72156951e-02],\n",
       "       [8.41865784e-01, 1.58134216e-01],\n",
       "       [9.97161118e-01, 2.83888175e-03],\n",
       "       [9.99805436e-01, 1.94563743e-04],\n",
       "       [9.99329649e-01, 6.70351232e-04],\n",
       "       [2.09400816e-06, 9.99997906e-01],\n",
       "       [1.28535609e-01, 8.71464391e-01],\n",
       "       [7.71820369e-04, 9.99228180e-01]])"
      ]
     },
     "execution_count": 18,
     "metadata": {},
     "output_type": "execute_result"
    }
   ],
   "source": [
    "from sklearn.model_selection import cross_val_predict\n",
    "\n",
    "preds = cross_val_predict(estimator=pipe_lr,\n",
    "                          X=X_train,\n",
    "                          y=y_train,\n",
    "                          cv=10,\n",
    "                          method='predict_proba',\n",
    "                          n_jobs=-1)\n",
    "preds[:10]"
   ]
  },
  {
   "cell_type": "markdown",
   "metadata": {
    "id": "WRuCqgvYgX_z"
   },
   "source": [
    "---"
   ]
  },
  {
   "cell_type": "markdown",
   "metadata": {
    "id": "kRQa3ptUgX_0"
   },
   "source": [
    "# 학습 곡선과 검증 곡선을 사용한 알고리즘 디버깅\n"
   ]
  },
  {
   "cell_type": "markdown",
   "metadata": {
    "id": "sSXNgW4ngX_0"
   },
   "source": [
    "## 학습 곡선으로 편향과 분산 문제 분석\n"
   ]
  },
  {
   "cell_type": "code",
   "execution_count": 19,
   "metadata": {
    "colab": {
     "base_uri": "https://localhost:8080/",
     "height": 539
    },
    "id": "oO2TExC1gX_0",
    "outputId": "464bd460-6b2e-4f72-e4e3-afdd14b3818b"
   },
   "outputs": [
    {
     "data": {
      "text/html": [
       "<img src=\"https://raw.githubusercontent.com/rickiepark/ml-with-pytorch/main/ch06/figures/06_04.png\" width=\"600\"/>"
      ],
      "text/plain": [
       "<IPython.core.display.Image object>"
      ]
     },
     "execution_count": 19,
     "metadata": {},
     "output_type": "execute_result"
    }
   ],
   "source": [
    "Image(url='https://raw.githubusercontent.com/rickiepark/ml-with-pytorch/main/ch06/figures/06_04.png', width=600)"
   ]
  },
  {
   "cell_type": "code",
   "execution_count": 20,
   "metadata": {
    "colab": {
     "base_uri": "https://localhost:8080/",
     "height": 487
    },
    "id": "7QrW0DJOgX_0",
    "outputId": "ed3a01d7-30b3-4c5d-f0bb-b72c8c11bbca"
   },
   "outputs": [
    {
     "data": {
      "image/png": "[encoded data removed]",
      "text/plain": [
       "<Figure size 640x480 with 1 Axes>"
      ]
     },
     "metadata": {},
     "output_type": "display_data"
    }
   ],
   "source": [
    "import matplotlib.pyplot as plt\n",
    "from sklearn.model_selection import learning_curve\n",
    "\n",
    "\n",
    "pipe_lr = make_pipeline(StandardScaler(),\n",
    "                        LogisticRegression(penalty='l2', max_iter=10000))\n",
    "\n",
    "train_sizes, train_scores, test_scores =\\\n",
    "                learning_curve(estimator=pipe_lr,\n",
    "                               X=X_train,\n",
    "                               y=y_train,\n",
    "                               train_sizes=np.linspace(0.1, 1.0, 10),\n",
    "                               cv=10,\n",
    "                               n_jobs=1)\n",
    "\n",
    "train_mean = np.mean(train_scores, axis=1)\n",
    "train_std = np.std(train_scores, axis=1)\n",
    "test_mean = np.mean(test_scores, axis=1)\n",
    "test_std = np.std(test_scores, axis=1)\n",
    "\n",
    "plt.plot(train_sizes, train_mean,\n",
    "         color='blue', marker='o',\n",
    "         markersize=5, label='Training accuracy')\n",
    "\n",
    "plt.fill_between(train_sizes,\n",
    "                 train_mean + train_std,\n",
    "                 train_mean - train_std,\n",
    "                 alpha=0.15, color='blue')\n",
    "\n",
    "plt.plot(train_sizes, test_mean,\n",
    "         color='green', linestyle='--',\n",
    "         marker='s', markersize=5,\n",
    "         label='Validation accuracy')\n",
    "\n",
    "plt.fill_between(train_sizes,\n",
    "                 test_mean + test_std,\n",
    "                 test_mean - test_std,\n",
    "                 alpha=0.15, color='green')\n",
    "\n",
    "plt.grid()\n",
    "plt.xlabel('Number of training examples')\n",
    "plt.ylabel('Accuracy')\n",
    "plt.legend(loc='lower right')\n",
    "plt.ylim([0.8, 1.03])\n",
    "plt.tight_layout()\n",
    "# plt.savefig('figures/06_05.png', dpi=300)\n",
    "plt.show()"
   ]
  },
  {
   "cell_type": "markdown",
   "metadata": {
    "id": "Z6V37kJAkVUL"
   },
   "source": [
    "<역자 노트>\n",
    "\n",
    "---"
   ]
  },
  {
   "cell_type": "code",
   "execution_count": 21,
   "metadata": {
    "colab": {
     "base_uri": "https://localhost:8080/",
     "height": 449
    },
    "id": "D3X1JEUyg0bU",
    "outputId": "f077bed9-a3ba-473f-ca3e-bc4584e4633b"
   },
   "outputs": [
    {
     "data": {
      "image/png": "[encoded data removed]",
      "text/plain": [
       "<Figure size 640x480 with 1 Axes>"
      ]
     },
     "metadata": {},
     "output_type": "display_data"
    }
   ],
   "source": [
    "from sklearn.model_selection import LearningCurveDisplay\n",
    "\n",
    "display = LearningCurveDisplay(train_sizes=train_sizes,\n",
    "                               train_scores=train_scores,\n",
    "                               test_scores=test_scores,\n",
    "                               score_name=\"Accuracy\")\n",
    "display.plot(score_type='both')\n",
    "plt.legend(loc='lower right')\n",
    "plt.show()"
   ]
  },
  {
   "cell_type": "markdown",
   "metadata": {
    "id": "lO4wyPwukYSl"
   },
   "source": [
    "---"
   ]
  },
  {
   "cell_type": "markdown",
   "metadata": {
    "id": "yyrroxHZgX_0"
   },
   "source": [
    "## 검증 곡선으로 과대적합과 과소적합 조사\n"
   ]
  },
  {
   "cell_type": "code",
   "execution_count": 22,
   "metadata": {
    "colab": {
     "base_uri": "https://localhost:8080/",
     "height": 486
    },
    "id": "KL9I8er7gX_1",
    "outputId": "bcd8e9cf-fb4a-49d8-d3d6-28c3e1feff8f"
   },
   "outputs": [
    {
     "data": {
      "image/png": "[encoded data removed]",
      "text/plain": [
       "<Figure size 640x480 with 1 Axes>"
      ]
     },
     "metadata": {},
     "output_type": "display_data"
    }
   ],
   "source": [
    "from sklearn.model_selection import validation_curve\n",
    "\n",
    "\n",
    "param_range = [0.001, 0.01, 0.1, 1.0, 10.0, 100.0]\n",
    "train_scores, test_scores = validation_curve(\n",
    "                estimator=pipe_lr,\n",
    "                X=X_train,\n",
    "                y=y_train,\n",
    "                param_name='logisticregression__C',\n",
    "                param_range=param_range,\n",
    "                cv=10)\n",
    "\n",
    "train_mean = np.mean(train_scores, axis=1)\n",
    "train_std = np.std(train_scores, axis=1)\n",
    "test_mean = np.mean(test_scores, axis=1)\n",
    "test_std = np.std(test_scores, axis=1)\n",
    "\n",
    "plt.plot(param_range, train_mean,\n",
    "         color='blue', marker='o',\n",
    "         markersize=5, label='Training accuracy')\n",
    "\n",
    "plt.fill_between(param_range, train_mean + train_std,\n",
    "                 train_mean - train_std, alpha=0.15,\n",
    "                 color='blue')\n",
    "\n",
    "plt.plot(param_range, test_mean,\n",
    "         color='green', linestyle='--',\n",
    "         marker='s', markersize=5,\n",
    "         label='Validation accuracy')\n",
    "\n",
    "plt.fill_between(param_range,\n",
    "                 test_mean + test_std,\n",
    "                 test_mean - test_std,\n",
    "                 alpha=0.15, color='green')\n",
    "\n",
    "plt.grid()\n",
    "plt.xscale('log')\n",
    "plt.legend(loc='lower right')\n",
    "plt.xlabel('Parameter C')\n",
    "plt.ylabel('Accuracy')\n",
    "plt.ylim([0.8, 1.0])\n",
    "plt.tight_layout()\n",
    "# plt.savefig('figures/06_06.png', dpi=300)\n",
    "plt.show()"
   ]
  },
  {
   "cell_type": "markdown",
   "metadata": {
    "id": "1opXUPPAgX_7"
   },
   "source": [
    "# 그리드 서치를 사용한 머신 러닝 모델 세부 튜닝\n"
   ]
  },
  {
   "cell_type": "markdown",
   "metadata": {
    "id": "_sq65BxqgX_7"
   },
   "source": [
    "## 그리드 서치를 사용한 하이퍼파라미터 튜닝\n"
   ]
  },
  {
   "cell_type": "code",
   "execution_count": 23,
   "metadata": {
    "colab": {
     "base_uri": "https://localhost:8080/"
    },
    "id": "unyUEamfgX_7",
    "outputId": "605d8fc8-0a28-4559-a5e6-f18446a13e57"
   },
   "outputs": [
    {
     "name": "stdout",
     "output_type": "stream",
     "text": [
      "0.9846859903381642\n",
      "{'svc__C': 100.0, 'svc__gamma': 0.001, 'svc__kernel': 'rbf'}\n"
     ]
    }
   ],
   "source": [
    "from sklearn.model_selection import GridSearchCV\n",
    "from sklearn.svm import SVC\n",
    "\n",
    "pipe_svc = make_pipeline(StandardScaler(),\n",
    "                         SVC(random_state=1))\n",
    "\n",
    "param_range = [0.0001, 0.001, 0.01, 0.1, 1.0, 10.0, 100.0, 1000.0]\n",
    "\n",
    "param_grid = [{'svc__C': param_range,\n",
    "               'svc__kernel': ['linear']},\n",
    "              {'svc__C': param_range,\n",
    "               'svc__gamma': param_range,\n",
    "               'svc__kernel': ['rbf']}]\n",
    "\n",
    "gs = GridSearchCV(estimator=pipe_svc,\n",
    "                  param_grid=param_grid,\n",
    "                  scoring='accuracy',\n",
    "                  refit=True,\n",
    "                  cv=10)\n",
    "gs = gs.fit(X_train, y_train)\n",
    "print(gs.best_score_)\n",
    "print(gs.best_params_)"
   ]
  },
  {
   "cell_type": "code",
   "execution_count": 24,
   "metadata": {
    "colab": {
     "base_uri": "https://localhost:8080/"
    },
    "id": "YBCFxuBSgX_7",
    "outputId": "740bf987-e4c9-4e3c-b284-ac54bd63b87d"
   },
   "outputs": [
    {
     "name": "stdout",
     "output_type": "stream",
     "text": [
      "테스트 정확도: 0.974\n"
     ]
    }
   ],
   "source": [
    "clf = gs.best_estimator_\n",
    "\n",
    "# refit=True로 지정했기 때문에 다시 fit() 메서드를 호출할 필요가 없습니다.\n",
    "# clf.fit(X_train, y_train)\n",
    "\n",
    "print(f'테스트 정확도: {clf.score(X_test, y_test):.3f}')"
   ]
  },
  {
   "cell_type": "markdown",
   "metadata": {
    "id": "i804co_xxWo-"
   },
   "source": [
    "<역자 노트>\n",
    "\n",
    "---"
   ]
  },
  {
   "cell_type": "code",
   "execution_count": 25,
   "metadata": {
    "colab": {
     "base_uri": "https://localhost:8080/"
    },
    "id": "6r0O2yyCxaSl",
    "outputId": "3a41d08e-4152-41e5-beb5-f7d114ada579"
   },
   "outputs": [
    {
     "data": {
      "text/plain": [
       "array([0.6405868 , 0.93643032, 0.97555012, 0.98777506, 0.98533007,\n",
       "       0.99266504, 0.99755501, 1.        , 0.62591687, 0.62591687,\n",
       "       0.62591687, 0.62591687, 0.62591687, 0.62591687, 0.62591687,\n",
       "       0.62591687, 0.62591687, 0.62591687, 0.62591687, 0.62591687,\n",
       "       0.62591687, 0.62591687, 0.62591687, 0.62591687, 0.62591687,\n",
       "       0.62591687, 0.62591687, 0.62591687, 0.62591687, 0.62591687,\n",
       "       0.62591687, 0.62591687, 0.62591687, 0.7799511 , 0.94621027,\n",
       "       0.96577017, 0.62591687, 0.62591687, 0.62591687, 0.62591687,\n",
       "       0.78484108, 0.94621027, 0.9804401 , 0.99266504, 1.        ,\n",
       "       1.        , 1.        , 1.        , 0.94621027, 0.97799511,\n",
       "       0.99266504, 1.        , 1.        , 1.        , 1.        ,\n",
       "       1.        , 0.97799511, 0.98777506, 0.99511002, 1.        ,\n",
       "       1.        , 1.        , 1.        , 1.        , 0.98533007,\n",
       "       0.99266504, 1.        , 1.        , 1.        , 1.        ,\n",
       "       1.        , 1.        ])"
      ]
     },
     "execution_count": 25,
     "metadata": {},
     "output_type": "execute_result"
    }
   ],
   "source": [
    "gs = GridSearchCV(estimator=pipe_svc,\n",
    "                  param_grid=param_grid,\n",
    "                  scoring='accuracy',\n",
    "                  cv=10,\n",
    "                  return_train_score=True,\n",
    "                  n_jobs=-1)\n",
    "gs = gs.fit(X_train, y_train)\n",
    "gs.cv_results_['split0_train_score']"
   ]
  },
  {
   "cell_type": "code",
   "execution_count": 26,
   "metadata": {
    "colab": {
     "base_uri": "https://localhost:8080/"
    },
    "id": "UHfJ2B7Lxf7k",
    "outputId": "a5dfdf8e-5793-4538-eba4-3e12f6f453d9"
   },
   "outputs": [
    {
     "data": {
      "text/plain": [
       "array([0.6402928 , 0.93724074, 0.97240801, 0.98510406, 0.98803447,\n",
       "       0.99145447, 0.99707019, 0.9992677 , 0.62637307, 0.62637307,\n",
       "       0.62637307, 0.62637307, 0.62637307, 0.62637307, 0.62637307,\n",
       "       0.62637307, 0.62637307, 0.62637307, 0.62637307, 0.62637307,\n",
       "       0.62637307, 0.62637307, 0.62637307, 0.62637307, 0.62637307,\n",
       "       0.62637307, 0.62637307, 0.62637307, 0.62637307, 0.62637307,\n",
       "       0.62637307, 0.62637307, 0.62637307, 0.77070249, 0.94700817,\n",
       "       0.97167094, 0.62637307, 0.62637307, 0.62637307, 0.62637307,\n",
       "       0.77949371, 0.94725326, 0.97704753, 0.99291848, 1.        ,\n",
       "       1.        , 1.        , 1.        , 0.94652096, 0.97753354,\n",
       "       0.99023257, 1.        , 1.        , 1.        , 1.        ,\n",
       "       1.        , 0.97680064, 0.98852287, 0.99755799, 1.        ,\n",
       "       1.        , 1.        , 1.        , 1.        , 0.98803387,\n",
       "       0.99291848, 1.        , 1.        , 1.        , 1.        ,\n",
       "       1.        , 1.        ])"
      ]
     },
     "execution_count": 26,
     "metadata": {},
     "output_type": "execute_result"
    }
   ],
   "source": [
    "gs.cv_results_['mean_train_score']"
   ]
  },
  {
   "cell_type": "code",
   "execution_count": 27,
   "metadata": {
    "colab": {
     "base_uri": "https://localhost:8080/"
    },
    "id": "Rgkd8JFKxjTO",
    "outputId": "bbbb9e60-a6c7-46a6-f500-428b40899c35"
   },
   "outputs": [
    {
     "data": {
      "text/plain": [
       "array([0.63043478, 0.89130435, 0.95652174, 0.97826087, 0.95652174,\n",
       "       0.93478261, 0.95652174, 0.93478261, 0.63043478, 0.63043478,\n",
       "       0.63043478, 0.63043478, 0.63043478, 0.63043478, 0.63043478,\n",
       "       0.63043478, 0.63043478, 0.63043478, 0.63043478, 0.63043478,\n",
       "       0.63043478, 0.63043478, 0.63043478, 0.63043478, 0.63043478,\n",
       "       0.63043478, 0.63043478, 0.63043478, 0.63043478, 0.63043478,\n",
       "       0.63043478, 0.63043478, 0.63043478, 0.69565217, 0.93478261,\n",
       "       0.95652174, 0.63043478, 0.63043478, 0.63043478, 0.63043478,\n",
       "       0.69565217, 0.93478261, 0.93478261, 1.        , 0.63043478,\n",
       "       0.63043478, 0.63043478, 0.63043478, 0.93478261, 0.97826087,\n",
       "       1.        , 1.        , 0.63043478, 0.63043478, 0.63043478,\n",
       "       0.63043478, 0.97826087, 0.97826087, 0.97826087, 1.        ,\n",
       "       0.63043478, 0.63043478, 0.63043478, 0.63043478, 0.97826087,\n",
       "       0.95652174, 0.95652174, 1.        , 0.63043478, 0.63043478,\n",
       "       0.63043478, 0.63043478])"
      ]
     },
     "execution_count": 27,
     "metadata": {},
     "output_type": "execute_result"
    }
   ],
   "source": [
    "gs.cv_results_['split0_test_score']"
   ]
  },
  {
   "cell_type": "code",
   "execution_count": 28,
   "metadata": {
    "colab": {
     "base_uri": "https://localhost:8080/"
    },
    "id": "0PAX_WPDxlrd",
    "outputId": "445ded97-7b74-4061-d0fc-39c294eba1d2"
   },
   "outputs": [
    {
     "name": "stdout",
     "output_type": "stream",
     "text": [
      "테스트 정확도: 0.974\n"
     ]
    }
   ],
   "source": [
    "print('테스트 정확도: %.3f' % gs.score(X_test, y_test))"
   ]
  },
  {
   "cell_type": "markdown",
   "metadata": {
    "id": "9B8DVj-xxorl"
   },
   "source": [
    "---"
   ]
  },
  {
   "cell_type": "markdown",
   "metadata": {
    "id": "gk3p2eEKgX_8"
   },
   "source": [
    "## 랜덤 서치로 하이퍼파라미터 설정을 더 넓게 탐색하기\n"
   ]
  },
  {
   "cell_type": "code",
   "execution_count": 29,
   "metadata": {
    "colab": {
     "base_uri": "https://localhost:8080/",
     "height": 295
    },
    "id": "v1RmIWeVgX_8",
    "outputId": "eaba873d-0d6b-449e-9cec-c7b75aac491d"
   },
   "outputs": [
    {
     "data": {
      "text/html": [
       "<img src=\"https://raw.githubusercontent.com/rickiepark/ml-with-pytorch/main/ch06/figures/06_11.png\" width=\"600\"/>"
      ],
      "text/plain": [
       "<IPython.core.display.Image object>"
      ]
     },
     "execution_count": 29,
     "metadata": {},
     "output_type": "execute_result"
    }
   ],
   "source": [
    "Image(url='https://raw.githubusercontent.com/rickiepark/ml-with-pytorch/main/ch06/figures/06_11.png', width=600)"
   ]
  },
  {
   "cell_type": "code",
   "execution_count": 30,
   "metadata": {
    "colab": {
     "base_uri": "https://localhost:8080/"
    },
    "id": "GxR5x8L_gX_8",
    "outputId": "fce1b718-ddf6-4a47-ed75-13bc8a76222f"
   },
   "outputs": [
    {
     "data": {
      "text/plain": [
       "array([8.30145146e-02, 1.10222804e+01, 1.00184520e-04, 1.30715777e-02,\n",
       "       1.06485687e-03, 4.42965766e-04, 2.01289666e-03, 2.62376594e-02,\n",
       "       5.98924832e-02, 5.91176467e-01])"
      ]
     },
     "execution_count": 30,
     "metadata": {},
     "output_type": "execute_result"
    }
   ],
   "source": [
    "import scipy.stats\n",
    "\n",
    "\n",
    "param_range = [0.0001, 0.001, 0.01, 0.1,\n",
    "               1.0, 10.0, 100.0, 1000.0]\n",
    "\n",
    "param_range = scipy.stats.loguniform(0.0001, 1000.0)\n",
    "\n",
    "np.random.seed(1)\n",
    "param_range.rvs(10)"
   ]
  },
  {
   "cell_type": "code",
   "execution_count": 31,
   "metadata": {
    "id": "IQ9PMP6WgX_8"
   },
   "outputs": [],
   "source": [
    "from sklearn.model_selection import RandomizedSearchCV\n",
    "\n",
    "\n",
    "pipe_svc = make_pipeline(\n",
    "    StandardScaler(),\n",
    "    SVC(random_state=1))\n",
    "\n",
    "param_grid = [{'svc__C': param_range,\n",
    "               'svc__kernel': ['linear']},\n",
    "              {'svc__C': param_range,\n",
    "               'svc__gamma': param_range,\n",
    "               'svc__kernel': ['rbf']}]\n",
    "\n",
    "rs = RandomizedSearchCV(estimator=pipe_svc,\n",
    "                        param_distributions=param_grid,\n",
    "                        scoring='accuracy',\n",
    "                        refit=True,\n",
    "                        n_iter=20,\n",
    "                        cv=10,\n",
    "                        random_state=1,\n",
    "                        n_jobs=-1)"
   ]
  },
  {
   "cell_type": "code",
   "execution_count": 32,
   "metadata": {
    "colab": {
     "base_uri": "https://localhost:8080/"
    },
    "id": "KjW5_KnOgX_9",
    "outputId": "7ec8f543-316d-4f83-ac79-cd5d0df31878",
    "scrolled": true
   },
   "outputs": [
    {
     "name": "stdout",
     "output_type": "stream",
     "text": [
      "0.9780676328502416\n"
     ]
    }
   ],
   "source": [
    "rs = rs.fit(X_train, y_train)\n",
    "print(rs.best_score_)"
   ]
  },
  {
   "cell_type": "code",
   "execution_count": 33,
   "metadata": {
    "colab": {
     "base_uri": "https://localhost:8080/"
    },
    "id": "BzHwSVbOgX_9",
    "outputId": "79c6d966-47c8-469c-fb55-988beafdc8d1"
   },
   "outputs": [
    {
     "name": "stdout",
     "output_type": "stream",
     "text": [
      "{'svc__C': np.float64(0.05971247755848463), 'svc__kernel': 'linear'}\n"
     ]
    }
   ],
   "source": [
    "print(rs.best_params_)"
   ]
  },
  {
   "cell_type": "markdown",
   "metadata": {
    "id": "p4Jcoi4XgX_9"
   },
   "source": [
    "## SH 방식을 사용한 자원 효율적인 하이퍼파라미터 탐색\n"
   ]
  },
  {
   "cell_type": "code",
   "execution_count": 34,
   "metadata": {
    "id": "qBSVmQIdgX_9"
   },
   "outputs": [],
   "source": [
    "from sklearn.experimental import enable_halving_search_cv\n",
    "from sklearn.model_selection import HalvingRandomSearchCV"
   ]
  },
  {
   "cell_type": "code",
   "execution_count": 35,
   "metadata": {
    "id": "W7Guq_LygX_9"
   },
   "outputs": [],
   "source": [
    "hs = HalvingRandomSearchCV(\n",
    "    pipe_svc,\n",
    "    param_distributions=param_grid,\n",
    "    n_candidates='exhaust',\n",
    "    resource='n_samples',\n",
    "    factor=1.5,\n",
    "    random_state=1,\n",
    "    n_jobs=-1)"
   ]
  },
  {
   "cell_type": "code",
   "execution_count": 36,
   "metadata": {
    "colab": {
     "base_uri": "https://localhost:8080/"
    },
    "id": "09dLKG0NgX_-",
    "outputId": "2d1c73ba-0761-468e-e687-7862a8bbaaa2"
   },
   "outputs": [
    {
     "name": "stdout",
     "output_type": "stream",
     "text": [
      "0.9617647058823529\n",
      "{'svc__C': np.float64(4.934834261073333), 'svc__kernel': 'linear'}\n"
     ]
    }
   ],
   "source": [
    "hs = hs.fit(X_train, y_train)\n",
    "print(hs.best_score_)\n",
    "print(hs.best_params_)"
   ]
  },
  {
   "cell_type": "code",
   "execution_count": 37,
   "metadata": {
    "colab": {
     "base_uri": "https://localhost:8080/"
    },
    "id": "p4MpN_iqgX_-",
    "outputId": "354a7eb9-0e9c-45bf-9edf-659157937f4f"
   },
   "outputs": [
    {
     "name": "stdout",
     "output_type": "stream",
     "text": [
      "테스트 정확도: 0.982\n"
     ]
    }
   ],
   "source": [
    "clf = hs.best_estimator_\n",
    "print(f'테스트 정확도: {hs.score(X_test, y_test):.3f}')"
   ]
  },
  {
   "cell_type": "markdown",
   "metadata": {
    "id": "jXWj44gtgX_-"
   },
   "source": [
    "## 중첩 교차 검증을 사용한 알고리즘 선택\n"
   ]
  },
  {
   "cell_type": "code",
   "execution_count": 38,
   "metadata": {
    "colab": {
     "base_uri": "https://localhost:8080/",
     "height": 454
    },
    "id": "fym9FSAZgX_-",
    "outputId": "997cdde6-33af-4201-850f-5142996faa7f"
   },
   "outputs": [
    {
     "data": {
      "text/html": [
       "<img src=\"https://raw.githubusercontent.com/rickiepark/ml-with-pytorch/main/ch06/figures/06_07.png\" width=\"500\"/>"
      ],
      "text/plain": [
       "<IPython.core.display.Image object>"
      ]
     },
     "execution_count": 38,
     "metadata": {},
     "output_type": "execute_result"
    }
   ],
   "source": [
    "Image(url='https://raw.githubusercontent.com/rickiepark/ml-with-pytorch/main/ch06/figures/06_07.png', width=500)"
   ]
  },
  {
   "cell_type": "code",
   "execution_count": 39,
   "metadata": {
    "colab": {
     "base_uri": "https://localhost:8080/"
    },
    "id": "Y0YyFTY1gX__",
    "outputId": "4e437957-1463-47ff-8d89-1bf550f154d2"
   },
   "outputs": [
    {
     "name": "stdout",
     "output_type": "stream",
     "text": [
      "CV 정확도: 0.974 +/- 0.015\n"
     ]
    }
   ],
   "source": [
    "param_range = [0.0001, 0.001, 0.01, 0.1,\n",
    "               1.0, 10.0, 100.0, 1000.0]\n",
    "param_grid = [{'svc__C': param_range,\n",
    "               'svc__kernel': ['linear']},\n",
    "              {'svc__C': param_range,\n",
    "               'svc__gamma': param_range,\n",
    "               'svc__kernel': ['rbf']}]\n",
    "gs = GridSearchCV(estimator=pipe_svc,\n",
    "                  param_grid=param_grid,\n",
    "                  scoring='accuracy',\n",
    "                  cv=2)\n",
    "\n",
    "scores = cross_val_score(gs, X_train, y_train,\n",
    "                         scoring='accuracy', cv=5)\n",
    "print(f'CV 정확도: {np.mean(scores):.3f} '\n",
    "      f'+/- {np.std(scores):.3f}')"
   ]
  },
  {
   "cell_type": "code",
   "execution_count": 40,
   "metadata": {
    "colab": {
     "base_uri": "https://localhost:8080/"
    },
    "id": "dpl-G0EHgX__",
    "outputId": "ae0ae187-b135-4355-c763-f3dd8bdf4aed"
   },
   "outputs": [
    {
     "name": "stdout",
     "output_type": "stream",
     "text": [
      "CV 정확도: 0.934 +/- 0.016\n"
     ]
    }
   ],
   "source": [
    "from sklearn.tree import DecisionTreeClassifier\n",
    "\n",
    "gs = GridSearchCV(estimator=DecisionTreeClassifier(random_state=0),\n",
    "                  param_grid=[{'max_depth': [1, 2, 3, 4, 5, 6, 7, None]}],\n",
    "                  scoring='accuracy',\n",
    "                  cv=2)\n",
    "\n",
    "scores = cross_val_score(gs, X_train, y_train,\n",
    "                         scoring='accuracy', cv=5)\n",
    "print(f'CV 정확도: {np.mean(scores):.3f} '\n",
    "      f'+/- {np.std(scores):.3f}')"
   ]
  },
  {
   "cell_type": "markdown",
   "metadata": {
    "id": "kvDI4dBMgX__"
   },
   "source": [
    "# 여러 가지 성능 평가 지표\n"
   ]
  },
  {
   "cell_type": "markdown",
   "metadata": {
    "id": "Cgvx_XTsgX__"
   },
   "source": [
    "## 오차 행렬\n"
   ]
  },
  {
   "cell_type": "code",
   "execution_count": 41,
   "metadata": {
    "colab": {
     "base_uri": "https://localhost:8080/",
     "height": 320
    },
    "id": "7Xch_JYAgX__",
    "outputId": "5a8cacc4-4344-4021-d649-1b3b291f5155"
   },
   "outputs": [
    {
     "data": {
      "text/html": [
       "<img src=\"https://raw.githubusercontent.com/rickiepark/ml-with-pytorch/main/ch06/figures/06_08.png\" width=\"300\"/>"
      ],
      "text/plain": [
       "<IPython.core.display.Image object>"
      ]
     },
     "execution_count": 41,
     "metadata": {},
     "output_type": "execute_result"
    }
   ],
   "source": [
    "Image(url='https://raw.githubusercontent.com/rickiepark/ml-with-pytorch/main/ch06/figures/06_08.png', width=300)"
   ]
  },
  {
   "cell_type": "code",
   "execution_count": 42,
   "metadata": {
    "colab": {
     "base_uri": "https://localhost:8080/"
    },
    "id": "UoXUFf_cgYAA",
    "outputId": "b3b7a0da-6aa0-4175-fff6-aa65a6f0620c"
   },
   "outputs": [
    {
     "name": "stdout",
     "output_type": "stream",
     "text": [
      "[[71  1]\n",
      " [ 2 40]]\n"
     ]
    }
   ],
   "source": [
    "from sklearn.metrics import confusion_matrix\n",
    "\n",
    "pipe_svc.fit(X_train, y_train)\n",
    "y_pred = pipe_svc.predict(X_test)\n",
    "confmat = confusion_matrix(y_true=y_test, y_pred=y_pred)\n",
    "print(confmat)"
   ]
  },
  {
   "cell_type": "code",
   "execution_count": 43,
   "metadata": {
    "colab": {
     "base_uri": "https://localhost:8080/",
     "height": 257
    },
    "id": "3uQl9VhXgYAA",
    "outputId": "cd079509-e6af-4f4e-a0e4-4b577f59d232"
   },
   "outputs": [
    {
     "data": {
      "image/png": "[encoded data removed]",
      "text/plain": [
       "<Figure size 250x250 with 1 Axes>"
      ]
     },
     "metadata": {},
     "output_type": "display_data"
    }
   ],
   "source": [
    "fig, ax = plt.subplots(figsize=(2.5, 2.5))\n",
    "ax.matshow(confmat, cmap=plt.cm.Blues, alpha=0.3)\n",
    "for i in range(confmat.shape[0]):\n",
    "    for j in range(confmat.shape[1]):\n",
    "        ax.text(x=j, y=i, s=confmat[i, j], va='center', ha='center')\n",
    "ax.xaxis.set_ticks_position('bottom')\n",
    "\n",
    "plt.xlabel('Predicted label')\n",
    "plt.ylabel('True label')\n",
    "\n",
    "plt.tight_layout()\n",
    "#plt.savefig('figures/06_09.png', dpi=300)\n",
    "plt.show()"
   ]
  },
  {
   "cell_type": "markdown",
   "metadata": {
    "id": "lPynGoV42uT9"
   },
   "source": [
    "<역자 노트>\n",
    "\n",
    "---"
   ]
  },
  {
   "cell_type": "code",
   "execution_count": 44,
   "metadata": {
    "colab": {
     "base_uri": "https://localhost:8080/",
     "height": 450
    },
    "id": "c985DCKt2ya6",
    "outputId": "dbca84b4-0bae-4a36-bf58-49deb6d4a84e"
   },
   "outputs": [
    {
     "data": {
      "image/png": "[encoded data removed]",
      "text/plain": [
       "<Figure size 640x480 with 2 Axes>"
      ]
     },
     "metadata": {},
     "output_type": "display_data"
    }
   ],
   "source": [
    "from sklearn.metrics import ConfusionMatrixDisplay\n",
    "ConfusionMatrixDisplay.from_estimator(pipe_svc, X_test, y_test)\n",
    "plt.show()"
   ]
  },
  {
   "cell_type": "code",
   "execution_count": 45,
   "metadata": {
    "colab": {
     "base_uri": "https://localhost:8080/",
     "height": 449
    },
    "id": "xi_4s0sK229G",
    "outputId": "00e55b24-8099-42ac-d4ef-694510cabb4e"
   },
   "outputs": [
    {
     "data": {
      "image/png": "[encoded data removed]",
      "text/plain": [
       "<Figure size 640x480 with 2 Axes>"
      ]
     },
     "metadata": {},
     "output_type": "display_data"
    }
   ],
   "source": [
    "ConfusionMatrixDisplay.from_estimator(pipe_svc, X_test, y_test,\n",
    "                                      normalize='all')\n",
    "plt.show()"
   ]
  },
  {
   "cell_type": "markdown",
   "metadata": {
    "id": "2X5tK9OH3sqI"
   },
   "source": [
    "---"
   ]
  },
  {
   "cell_type": "markdown",
   "metadata": {
    "id": "wCjNYSwfgYAA"
   },
   "source": [
    "### 추가 노트"
   ]
  },
  {
   "cell_type": "markdown",
   "metadata": {
    "id": "6tM7DSw1gYAA"
   },
   "source": [
    "앞서 클래스 레이블을 인코딩했기 때문에 *악성(malignant)* 종양이 \"양성\" 클래스(1), *양성(benign)* 종양이 \"음성\" 클래스(0)입니다:"
   ]
  },
  {
   "cell_type": "code",
   "execution_count": 46,
   "metadata": {
    "colab": {
     "base_uri": "https://localhost:8080/"
    },
    "id": "TPGwygORgYAA",
    "outputId": "d6b88b6f-325e-4226-e4ae-58aa50fa8db9"
   },
   "outputs": [
    {
     "data": {
      "text/plain": [
       "array([1, 0])"
      ]
     },
     "execution_count": 46,
     "metadata": {},
     "output_type": "execute_result"
    }
   ],
   "source": [
    "le.transform(['M', 'B'])"
   ]
  },
  {
   "cell_type": "code",
   "execution_count": 47,
   "metadata": {
    "colab": {
     "base_uri": "https://localhost:8080/"
    },
    "id": "2dDsOhRqgYAA",
    "outputId": "fa871bb7-1052-4282-add6-50345439e8dd"
   },
   "outputs": [
    {
     "name": "stdout",
     "output_type": "stream",
     "text": [
      "[[71  1]\n",
      " [ 2 40]]\n"
     ]
    }
   ],
   "source": [
    "confmat = confusion_matrix(y_true=y_test, y_pred=y_pred)\n",
    "print(confmat)"
   ]
  },
  {
   "cell_type": "markdown",
   "metadata": {
    "id": "jEAsk8DygYAB"
   },
   "source": [
    "그리고 다음처럼 오차 행렬을 출력했습니다:"
   ]
  },
  {
   "cell_type": "code",
   "execution_count": 48,
   "metadata": {
    "colab": {
     "base_uri": "https://localhost:8080/"
    },
    "id": "c-zMOLZLgYAB",
    "outputId": "1acaaea5-17cf-47aa-dd60-325346e3726e"
   },
   "outputs": [
    {
     "name": "stdout",
     "output_type": "stream",
     "text": [
      "[[71  1]\n",
      " [ 2 40]]\n"
     ]
    }
   ],
   "source": [
    "confmat = confusion_matrix(y_true=y_test, y_pred=y_pred)\n",
    "print(confmat)"
   ]
  },
  {
   "cell_type": "markdown",
   "metadata": {
    "id": "FWfdpCXugYAB"
   },
   "source": [
    "클래스 0으로 올바르게 예측된 (진짜) 클래스 0 샘플(진짜 음성)이 행렬의 왼쪽 위에 있는 값입니다(인덱스 0,0). 진짜 음성이 오른쪽 아래(인덱스 1,1)에 있고 진짜 양성이 왼쪽 위에 있도록 순서를 바꾸려면 다음처럼 `labels` 매개변수를 사용합니다:"
   ]
  },
  {
   "cell_type": "code",
   "execution_count": 49,
   "metadata": {
    "colab": {
     "base_uri": "https://localhost:8080/"
    },
    "id": "quQ6SeoVgYAB",
    "outputId": "7a142abc-8fcc-4b1d-fa64-235ffc7ad318"
   },
   "outputs": [
    {
     "name": "stdout",
     "output_type": "stream",
     "text": [
      "[[40  2]\n",
      " [ 1 71]]\n"
     ]
    }
   ],
   "source": [
    "confmat = confusion_matrix(y_true=y_test, y_pred=y_pred, labels=[1, 0])\n",
    "print(confmat)"
   ]
  },
  {
   "cell_type": "markdown",
   "metadata": {
    "id": "ffKsEEQYgYAC"
   },
   "source": [
    "결론:\n",
    "\n",
    "이 예에서 클래스 1(악성 종양)이 양성 클래스입니다. 모델은 71개의 샘플을 정확하게 클래스 0(진짜 음성)으로 분류했습니다. 40개의 샘플은 클래스 1(진짜 양성)로 올바르게 분류했습니다. 클래스 1에 해당하는 두 개의 샘플을 클래스 0(가짜 음성)으로 잘못 분류했고 양성 종양인 하나의 샘플을 악성 종양(가짜 양성)으로 잘못 분류했습니다."
   ]
  },
  {
   "cell_type": "markdown",
   "metadata": {
    "id": "oMqSJsw_gYAC"
   },
   "source": [
    "## 분류 모델의 정밀도와 재현율 최적화\n"
   ]
  },
  {
   "cell_type": "code",
   "execution_count": 50,
   "metadata": {
    "colab": {
     "base_uri": "https://localhost:8080/"
    },
    "id": "NikrJU68gYAC",
    "outputId": "41af4547-3235-49a0-d1d4-a22c187b1c4b"
   },
   "outputs": [
    {
     "name": "stdout",
     "output_type": "stream",
     "text": [
      "정밀도: 0.976\n",
      "재현율: 0.952\n",
      "F1: 0.964\n",
      "MCC: 0.943\n"
     ]
    }
   ],
   "source": [
    "from sklearn.metrics import precision_score, recall_score, f1_score\n",
    "from sklearn.metrics import matthews_corrcoef\n",
    "\n",
    "pre_val = precision_score(y_true=y_test, y_pred=y_pred)\n",
    "print(f'정밀도: {pre_val:.3f}')\n",
    "\n",
    "rec_val = recall_score(y_true=y_test, y_pred=y_pred)\n",
    "print(f'재현율: {rec_val:.3f}')\n",
    "\n",
    "f1_val = f1_score(y_true=y_test, y_pred=y_pred)\n",
    "print(f'F1: {f1_val:.3f}')\n",
    "\n",
    "mcc_val = matthews_corrcoef(y_true=y_test, y_pred=y_pred)\n",
    "print(f'MCC: {mcc_val:.3f}')"
   ]
  },
  {
   "cell_type": "code",
   "execution_count": 51,
   "metadata": {
    "colab": {
     "base_uri": "https://localhost:8080/"
    },
    "id": "doM541WYgYAC",
    "outputId": "87335dd3-8ce1-4dca-a7d0-17e1ac6ffb64"
   },
   "outputs": [
    {
     "name": "stdout",
     "output_type": "stream",
     "text": [
      "0.9861994953378878\n",
      "{'svc__C': 10.0, 'svc__gamma': 0.01, 'svc__kernel': 'rbf'}\n"
     ]
    }
   ],
   "source": [
    "from sklearn.metrics import make_scorer\n",
    "\n",
    "scorer = make_scorer(f1_score, pos_label=0)\n",
    "\n",
    "c_gamma_range = [0.01, 0.1, 1.0, 10.0]\n",
    "\n",
    "param_grid = [{'svc__C': c_gamma_range,\n",
    "               'svc__kernel': ['linear']},\n",
    "              {'svc__C': c_gamma_range,\n",
    "               'svc__gamma': c_gamma_range,\n",
    "               'svc__kernel': ['rbf']}]\n",
    "\n",
    "gs = GridSearchCV(estimator=pipe_svc,\n",
    "                  param_grid=param_grid,\n",
    "                  scoring=scorer,\n",
    "                  cv=10,\n",
    "                  n_jobs=-1)\n",
    "gs = gs.fit(X_train, y_train)\n",
    "print(gs.best_score_)\n",
    "print(gs.best_params_)"
   ]
  },
  {
   "cell_type": "markdown",
   "metadata": {
    "id": "Kg9fkLTqgYAD"
   },
   "source": [
    "## ROC 곡선 그리기\n"
   ]
  },
  {
   "cell_type": "code",
   "execution_count": 52,
   "metadata": {
    "colab": {
     "base_uri": "https://localhost:8080/",
     "height": 507
    },
    "id": "fX8HOQt2gYAD",
    "outputId": "2ea5782b-69d1-4929-fe6c-771cd1724296"
   },
   "outputs": [
    {
     "data": {
      "image/png": "[encoded data removed]",
      "text/plain": [
       "<Figure size 700x500 with 1 Axes>"
      ]
     },
     "metadata": {},
     "output_type": "display_data"
    }
   ],
   "source": [
    "from sklearn.metrics import roc_curve, auc\n",
    "from numpy import interp\n",
    "\n",
    "\n",
    "pipe_lr = make_pipeline(StandardScaler(),\n",
    "                        PCA(n_components=2),\n",
    "                        LogisticRegression(penalty='l2',\n",
    "                                           random_state=1,\n",
    "                                           solver='lbfgs',\n",
    "                                           C=100.0))\n",
    "\n",
    "X_train2 = X_train[:, [4, 14]]\n",
    "\n",
    "\n",
    "cv = list(StratifiedKFold(n_splits=3).split(X_train, y_train))\n",
    "\n",
    "fig = plt.figure(figsize=(7, 5))\n",
    "\n",
    "mean_tpr = 0.0\n",
    "mean_fpr = np.linspace(0, 1, 100)\n",
    "all_tpr = []\n",
    "\n",
    "for i, (train, test) in enumerate(cv):\n",
    "    probas = pipe_lr.fit(X_train2[train],\n",
    "                         y_train[train]).predict_proba(X_train2[test])\n",
    "\n",
    "    fpr, tpr, thresholds = roc_curve(y_train[test],\n",
    "                                     probas[:, 1],\n",
    "                                     pos_label=1)\n",
    "    mean_tpr += interp(mean_fpr, fpr, tpr)\n",
    "    mean_tpr[0] = 0.0\n",
    "    roc_auc = auc(fpr, tpr)\n",
    "    plt.plot(fpr,\n",
    "             tpr,\n",
    "             label=f'ROC fold {i+1} (area = {roc_auc:.2f})')\n",
    "\n",
    "plt.plot([0, 1],\n",
    "         [0, 1],\n",
    "         linestyle='--',\n",
    "         color=(0.6, 0.6, 0.6),\n",
    "         label='Random guessing (area = 0.5)')\n",
    "\n",
    "mean_tpr /= len(cv)\n",
    "mean_tpr[-1] = 1.0\n",
    "mean_auc = auc(mean_fpr, mean_tpr)\n",
    "plt.plot(mean_fpr, mean_tpr, 'k--',\n",
    "         label=f'Mean ROC (area = {mean_auc:.2f})', lw=2)\n",
    "plt.plot([0, 0, 1],\n",
    "         [0, 1, 1],\n",
    "         linestyle=':',\n",
    "         color='black',\n",
    "         label='Perfect performance (area = 1.0)')\n",
    "\n",
    "plt.xlim([-0.05, 1.05])\n",
    "plt.ylim([-0.05, 1.05])\n",
    "plt.xlabel('False positive rate')\n",
    "plt.ylabel('True positive rate')\n",
    "plt.legend(loc='lower right')\n",
    "\n",
    "plt.tight_layout()\n",
    "# plt.savefig('figures/06_10.png', dpi=300)\n",
    "plt.show()"
   ]
  },
  {
   "cell_type": "markdown",
   "metadata": {
    "id": "qpbTBvx1gYAD"
   },
   "source": [
    "<역자 노트>\n",
    "\n",
    "---"
   ]
  },
  {
   "cell_type": "code",
   "execution_count": 53,
   "metadata": {
    "colab": {
     "base_uri": "https://localhost:8080/",
     "height": 465
    },
    "id": "R5vEjfamgYAD",
    "outputId": "ca2dab1c-8ba0-4cad-b599-4273608de8da"
   },
   "outputs": [
    {
     "data": {
      "image/png": "[encoded data removed]",
      "text/plain": [
       "<Figure size 700x500 with 1 Axes>"
      ]
     },
     "metadata": {},
     "output_type": "display_data"
    }
   ],
   "source": [
    "from sklearn.metrics import RocCurveDisplay\n",
    "\n",
    "fig, ax = plt.subplots(figsize=(7, 5))\n",
    "\n",
    "mean_tpr = 0.0\n",
    "mean_fpr = np.linspace(0, 1, 100)\n",
    "\n",
    "for i, (train, test) in enumerate(cv):\n",
    "    pipe_lr.fit(X_train2[train], y_train[train])\n",
    "    roc_disp = RocCurveDisplay.from_estimator(pipe_lr,\n",
    "                                              X_train2[test], y_train[test],\n",
    "                                              name=f'Fold {i}', ax=ax)\n",
    "    mean_tpr += interp(mean_fpr, roc_disp.fpr, roc_disp.tpr)\n",
    "    mean_tpr[0] = 0.0\n",
    "\n",
    "plt.plot([0, 1], [0, 1],\n",
    "         linestyle='--', color=(0.6, 0.6, 0.6),\n",
    "         label='Random guessing')\n",
    "\n",
    "mean_tpr /= len(cv)\n",
    "mean_tpr[-1] = 1.0\n",
    "mean_auc = auc(mean_fpr, mean_tpr)\n",
    "plt.plot(mean_fpr, mean_tpr, 'k--',\n",
    "         label='Mean ROC (area = %0.2f)' % mean_auc, lw=2)\n",
    "\n",
    "plt.plot([0, 0, 1], [0, 1, 1],\n",
    "         linestyle=':', color='black',\n",
    "         label='Perfect performance')\n",
    "\n",
    "plt.xlim([-0.05, 1.05])\n",
    "plt.ylim([-0.05, 1.05])\n",
    "plt.xlabel('False positive rate')\n",
    "plt.ylabel('True positive rate')\n",
    "plt.legend(loc=\"lower right\")\n",
    "plt.show()"
   ]
  },
  {
   "cell_type": "code",
   "execution_count": 54,
   "metadata": {
    "colab": {
     "base_uri": "https://localhost:8080/",
     "height": 465
    },
    "id": "ZvgVMFUKgYAE",
    "outputId": "8fdde6ea-0c6d-4900-967c-98d5e100b5c4"
   },
   "outputs": [
    {
     "data": {
      "image/png": "[encoded data removed]",
      "text/plain": [
       "<Figure size 700x500 with 1 Axes>"
      ]
     },
     "metadata": {},
     "output_type": "display_data"
    }
   ],
   "source": [
    "from sklearn.metrics import PrecisionRecallDisplay\n",
    "\n",
    "fig, ax = plt.subplots(figsize=(7, 5))\n",
    "\n",
    "mean_precision = 0.0\n",
    "mean_recall = np.linspace(0, 1, 100)\n",
    "\n",
    "for i, (train, test) in enumerate(cv):\n",
    "    pipe_lr.fit(X_train2[train], y_train[train])\n",
    "    pr_disp = PrecisionRecallDisplay.from_estimator(\n",
    "        pipe_lr, X_train2[test], y_train[test],\n",
    "        name=f'Fold {i}', ax=ax)\n",
    "    mean_precision += interp(mean_recall, pr_disp.recall[::-1],\n",
    "                             pr_disp.precision[::-1])\n",
    "\n",
    "plt.plot([0, 1], [1, 0],\n",
    "         linestyle='--', color=(0.6, 0.6, 0.6),\n",
    "         label='Random guessing')\n",
    "\n",
    "mean_precision /= len(cv)\n",
    "mean_auc = auc(mean_recall, mean_precision)\n",
    "plt.plot(mean_recall, mean_precision, 'k--',\n",
    "         label='Mean ROC (area = %0.2f)' % mean_auc, lw=2)\n",
    "\n",
    "plt.plot([0, 1, 1], [1, 1, 0],\n",
    "         linestyle=':', color='black',\n",
    "         label='Perfect performance')\n",
    "\n",
    "plt.xlim([-0.05, 1.05])\n",
    "plt.ylim([-0.05, 1.05])\n",
    "plt.xlabel('Recall')\n",
    "plt.ylabel('Precision')\n",
    "plt.legend(loc=\"lower left\")\n",
    "plt.show()"
   ]
  },
  {
   "cell_type": "markdown",
   "metadata": {
    "id": "o4WV4T8UgYAE"
   },
   "source": [
    "---"
   ]
  },
  {
   "cell_type": "markdown",
   "metadata": {
    "id": "4VYJT4HEgYAE"
   },
   "source": [
    "## 다중 분류의 성능 지표\n"
   ]
  },
  {
   "cell_type": "code",
   "execution_count": 55,
   "metadata": {
    "id": "DtWgyNzUgYAE"
   },
   "outputs": [],
   "source": [
    "pre_scorer = make_scorer(score_func=precision_score,\n",
    "                         pos_label=1,\n",
    "                         greater_is_better=True,\n",
    "                         average='micro')"
   ]
  },
  {
   "cell_type": "markdown",
   "metadata": {
    "id": "T92usA_RgYAE"
   },
   "source": [
    "## 불균형한 클래스 다루기\n"
   ]
  },
  {
   "cell_type": "code",
   "execution_count": 56,
   "metadata": {
    "id": "GuP5cEWjgYAF"
   },
   "outputs": [],
   "source": [
    "X_imb = np.vstack((X[y == 0], X[y == 1][:40]))\n",
    "y_imb = np.hstack((y[y == 0], y[y == 1][:40]))"
   ]
  },
  {
   "cell_type": "code",
   "execution_count": 57,
   "metadata": {
    "colab": {
     "base_uri": "https://localhost:8080/"
    },
    "id": "8lHGVg8IgYAF",
    "outputId": "c06e4f92-5bba-44a8-87d1-6a56c1922939"
   },
   "outputs": [
    {
     "data": {
      "text/plain": [
       "np.float64(89.92443324937027)"
      ]
     },
     "execution_count": 57,
     "metadata": {},
     "output_type": "execute_result"
    }
   ],
   "source": [
    "y_pred = np.zeros(y_imb.shape[0])\n",
    "np.mean(y_pred == y_imb) * 100"
   ]
  },
  {
   "cell_type": "code",
   "execution_count": 58,
   "metadata": {
    "colab": {
     "base_uri": "https://localhost:8080/"
    },
    "id": "bdKurHnKgYAF",
    "outputId": "1a37c0b3-ccdd-4889-de3a-5c53314e0f84"
   },
   "outputs": [
    {
     "name": "stdout",
     "output_type": "stream",
     "text": [
      "샘플링하기 전 클래스 1의 샘플 개수: 40\n",
      "샘플링하기 후 클래스 1의 샘플 개수: 357\n"
     ]
    }
   ],
   "source": [
    "from sklearn.utils import resample\n",
    "\n",
    "print('샘플링하기 전 클래스 1의 샘플 개수:', X_imb[y_imb == 1].shape[0])\n",
    "\n",
    "X_upsampled, y_upsampled = resample(X_imb[y_imb == 1],\n",
    "                                    y_imb[y_imb == 1],\n",
    "                                    replace=True,\n",
    "                                    n_samples=X_imb[y_imb == 0].shape[0],\n",
    "                                    random_state=123)\n",
    "\n",
    "print('샘플링하기 후 클래스 1의 샘플 개수:', X_upsampled.shape[0])"
   ]
  },
  {
   "cell_type": "code",
   "execution_count": 59,
   "metadata": {
    "id": "tBVrRfnkgYAF"
   },
   "outputs": [],
   "source": [
    "X_bal = np.vstack((X[y == 0], X_upsampled))\n",
    "y_bal = np.hstack((y[y == 0], y_upsampled))"
   ]
  },
  {
   "cell_type": "code",
   "execution_count": 60,
   "metadata": {
    "colab": {
     "base_uri": "https://localhost:8080/"
    },
    "id": "aqdESLDtgYAF",
    "outputId": "1b00794b-47b6-4e18-9670-12ad53ef983f"
   },
   "outputs": [
    {
     "data": {
      "text/plain": [
       "np.float64(50.0)"
      ]
     },
     "execution_count": 60,
     "metadata": {},
     "output_type": "execute_result"
    }
   ],
   "source": [
    "y_pred = np.zeros(y_bal.shape[0])\n",
    "np.mean(y_pred == y_bal) * 100"
   ]
  },
  {
   "cell_type": "markdown",
   "metadata": {
    "id": "xuG7onkdgYAG"
   },
   "source": [
    "# 요약"
   ]
  }
 ],
 "metadata": {
  "anaconda-cloud": {},
  "colab": {
   "provenance": []
  },
  "kernelspec": {
   "display_name": "Python 3 (ipykernel)",
   "language": "python",
   "name": "python3"
  },
  "language_info": {
   "codemirror_mode": {
    "name": "ipython",
    "version": 3
   },
   "file_extension": ".py",
   "mimetype": "text/x-python",
   "name": "python",
   "nbconvert_exporter": "python",
   "pygments_lexer": "ipython3",
   "version": "3.11.12"
  },
  "toc": {
   "nav_menu": {},
   "number_sections": true,
   "sideBar": true,
   "skip_h1_title": false,
   "title_cell": "Table of Contents",
   "title_sidebar": "Contents",
   "toc_cell": false,
   "toc_position": {},
   "toc_section_display": true,
   "toc_window_display": false
  }
 },
 "nbformat": 4,
 "nbformat_minor": 4
}
