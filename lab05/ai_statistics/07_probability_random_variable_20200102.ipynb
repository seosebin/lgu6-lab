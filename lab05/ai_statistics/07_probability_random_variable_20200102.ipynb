{
 "cells": [
  {
   "cell_type": "markdown",
   "metadata": {},
   "source": [
    "# 파이썬 기반의 AI를 위한 기초수학, 확률및통계"
   ]
  },
  {
   "cell_type": "code",
   "execution_count": 25,
   "metadata": {},
   "outputs": [],
   "source": [
    "## 강봉주 \n",
    "## bonjour.kang@gmail.com\n",
    "##\n",
    "## 확률과 확률 변수\n",
    "##"
   ]
  },
  {
   "cell_type": "code",
   "execution_count": 26,
   "metadata": {},
   "outputs": [
    {
     "data": {
      "text/plain": [
       "'1.15.3'"
      ]
     },
     "execution_count": 26,
     "metadata": {},
     "output_type": "execute_result"
    }
   ],
   "source": [
    "# 필요한 패키지\n",
    "import numpy as np\n",
    "import scipy\n",
    "from scipy import linalg as la\n",
    "import matplotlib.pyplot as plt\n",
    "\n",
    "import scipy.stats as ss\n",
    "import sympy\n",
    "\n",
    "# 한글출력\n",
    "plt.rcParams['font.family'] = 'Malgun Gothic' #  Windows 'Malgun Gothic' \n",
    "plt.rcParams['axes.unicode_minus'] = False\n",
    "\n",
    "scipy.__version__"
   ]
  },
  {
   "cell_type": "markdown",
   "metadata": {},
   "source": [
    "## 확률 밀도 함수"
   ]
  },
  {
   "cell_type": "code",
   "execution_count": 27,
   "metadata": {},
   "outputs": [],
   "source": [
    "# 예제: 이산형 확률 밀도 함수\n",
    "# 이항 분포\n",
    "# 4번 시행에서 성공확률이 1/2인 경우\n",
    "# 𝐴={0, 1, 2}의 확률을 계산해보자"
   ]
  },
  {
   "cell_type": "code",
   "execution_count": 28,
   "metadata": {},
   "outputs": [
    {
     "data": {
      "text/plain": [
       "np.float64(0.6875)"
      ]
     },
     "execution_count": 28,
     "metadata": {},
     "output_type": "execute_result"
    }
   ],
   "source": [
    "# 해답\n",
    "import scipy.special\n",
    "A = [0, 1, 2]\n",
    "trials = 4\n",
    "event_prob = 1/2\n",
    "np.sum(scipy.special.comb(trials, A) * event_prob ** trials)"
   ]
  },
  {
   "cell_type": "code",
   "execution_count": 29,
   "metadata": {},
   "outputs": [
    {
     "data": {
      "text/latex": [
       "$\\displaystyle 1$"
      ],
      "text/plain": [
       "1"
      ]
     },
     "execution_count": 29,
     "metadata": {},
     "output_type": "execute_result"
    }
   ],
   "source": [
    "x = sympy.Symbol('x')\n",
    "PA = sympy.integrate(sympy.exp(-x), (x, 0, sympy.oo))\n",
    "PA"
   ]
  },
  {
   "cell_type": "code",
   "execution_count": 30,
   "metadata": {},
   "outputs": [
    {
     "data": {
      "text/latex": [
       "$\\displaystyle 1 - e^{-1}$"
      ],
      "text/plain": [
       "1 - exp(-1)"
      ]
     },
     "execution_count": 30,
     "metadata": {},
     "output_type": "execute_result"
    }
   ],
   "source": [
    "# 특정 이벤트의 확률 구하기\n",
    "x = sympy.Symbol('x')\n",
    "PA = sympy.integrate(sympy.exp(-x), (x, 0, 1))\n",
    "PA"
   ]
  },
  {
   "cell_type": "code",
   "execution_count": 31,
   "metadata": {},
   "outputs": [],
   "source": [
    "# 예제: 균등 분포의 분포함수\n",
    "# 1) 구간 [0, 1]에서 정의된 균등 분포의 분포 함수를\n",
    "# 정의하세요\n",
    "# 2) 분포 함수를 x값에 따른 그래프를 그리세요"
   ]
  },
  {
   "cell_type": "code",
   "execution_count": 32,
   "metadata": {},
   "outputs": [
    {
     "data": {
      "text/latex": [
       "$\\displaystyle x$"
      ],
      "text/plain": [
       "x"
      ]
     },
     "execution_count": 32,
     "metadata": {},
     "output_type": "execute_result"
    }
   ],
   "source": [
    "# 해답\n",
    "#1)\n",
    "a, b, x = sympy.symbols('a, b, x')\n",
    "x = sympy.Symbol('x')\n",
    "F = sympy.Lambda((x, a, b), x/(b-a))\n",
    "F(x, 0, 1)"
   ]
  },
  {
   "cell_type": "code",
   "execution_count": 33,
   "metadata": {},
   "outputs": [
    {
     "data": {
      "image/png": "[encoded data removed]",
      "text/plain": [
       "<Figure size 700x700 with 1 Axes>"
      ]
     },
     "metadata": {},
     "output_type": "display_data"
    }
   ],
   "source": [
    "# 2)\n",
    "x = np.linspace(0,1, 100)\n",
    "cdf_x = x\n",
    "\n",
    "fig, ax = plt.subplots(figsize=(7,7))\n",
    "ax.plot(x, cdf_x)\n",
    "ax.set_xlabel(\"균등확률변수값\")\n",
    "ax.set_ylabel(\"F(x)=Pr(X<=x)\")\n",
    "\n",
    "plt.tight_layout()"
   ]
  },
  {
   "cell_type": "code",
   "execution_count": 34,
   "metadata": {},
   "outputs": [
    {
     "data": {
      "text/latex": [
       "$\\displaystyle 0$"
      ],
      "text/plain": [
       "0"
      ]
     },
     "execution_count": 34,
     "metadata": {},
     "output_type": "execute_result"
    }
   ],
   "source": [
    "# 균등 분포의 기대값 구하기\n",
    "x = sympy.Symbol('x')\n",
    "mu = sympy.integrate(x*1/2, (x, -1, 1))\n",
    "mu"
   ]
  },
  {
   "cell_type": "code",
   "execution_count": 35,
   "metadata": {},
   "outputs": [
    {
     "data": {
      "text/latex": [
       "$\\displaystyle \\frac{1}{3}$"
      ],
      "text/plain": [
       "1/3"
      ]
     },
     "execution_count": 35,
     "metadata": {},
     "output_type": "execute_result"
    }
   ],
   "source": [
    "# 분산 구하기\n",
    "EX2 = sympy.integrate(x**2*1/2, (x, -1, 1))\n",
    "EX2"
   ]
  },
  {
   "cell_type": "code",
   "execution_count": 36,
   "metadata": {},
   "outputs": [
    {
     "data": {
      "text/latex": [
       "$\\displaystyle \\frac{1}{3}$"
      ],
      "text/plain": [
       "1/3"
      ]
     },
     "execution_count": 36,
     "metadata": {},
     "output_type": "execute_result"
    }
   ],
   "source": [
    "sigma2 = EX2 - mu**2\n",
    "sigma2"
   ]
  },
  {
   "cell_type": "code",
   "execution_count": 37,
   "metadata": {},
   "outputs": [
    {
     "data": {
      "text/latex": [
       "$\\displaystyle \\frac{\\sqrt{3}}{3}$"
      ],
      "text/plain": [
       "sqrt(3)/3"
      ]
     },
     "execution_count": 37,
     "metadata": {},
     "output_type": "execute_result"
    }
   ],
   "source": [
    "sigma = sympy.sqrt(sigma2)\n",
    "sigma"
   ]
  },
  {
   "cell_type": "code",
   "execution_count": 38,
   "metadata": {},
   "outputs": [
    {
     "data": {
      "text/latex": [
       "$\\displaystyle \\frac{a + b}{2}$"
      ],
      "text/plain": [
       "(a + b)/2"
      ]
     },
     "execution_count": 38,
     "metadata": {},
     "output_type": "execute_result"
    }
   ],
   "source": [
    "# 기대값\n",
    "import sympy\n",
    "\n",
    "a, b, x = sympy.symbols('a, b, x')\n",
    "mu = sympy.integrate(x/(b-a), (x, a, b))\n",
    "mu.simplify().together()"
   ]
  },
  {
   "cell_type": "code",
   "execution_count": 39,
   "metadata": {},
   "outputs": [
    {
     "data": {
      "text/latex": [
       "$\\displaystyle \\frac{a^{2} + a b + b^{2}}{3}$"
      ],
      "text/plain": [
       "(a**2 + a*b + b**2)/3"
      ]
     },
     "execution_count": 39,
     "metadata": {},
     "output_type": "execute_result"
    }
   ],
   "source": [
    "# 제곱 기대값\n",
    "EX2 = sympy.integrate(x**2/(b-a), (x, a, b))\n",
    "EX2.simplify().factor()"
   ]
  },
  {
   "cell_type": "code",
   "execution_count": 40,
   "metadata": {},
   "outputs": [
    {
     "data": {
      "text/latex": [
       "$\\displaystyle \\frac{\\left(a - b\\right)^{2}}{12}$"
      ],
      "text/plain": [
       "(a - b)**2/12"
      ]
     },
     "execution_count": 40,
     "metadata": {},
     "output_type": "execute_result"
    }
   ],
   "source": [
    "# 분산 계산\n",
    "sigma2 = EX2 - mu**2\n",
    "sigma2.simplify().factor()"
   ]
  },
  {
   "cell_type": "code",
   "execution_count": 41,
   "metadata": {},
   "outputs": [
    {
     "data": {
      "text/latex": [
       "$\\displaystyle \\left(\\mu + \\sigma^{2} t\\right) e^{\\mu t + \\frac{\\sigma^{2} t^{2}}{2}}$"
      ],
      "text/plain": [
       "(mu + sigma**2*t)*exp(mu*t + sigma**2*t**2/2)"
      ]
     },
     "execution_count": 41,
     "metadata": {},
     "output_type": "execute_result"
    }
   ],
   "source": [
    "# 적률 함수를 이용한 평균, 분산 구하기\n",
    "mu, sigma, t = sympy.symbols('mu, sigma, t')\n",
    "m_gen= sympy.exp(mu*t + (sigma**2 * t**2)/2)\n",
    "# 1차 적률 구하기\n",
    "m_gen.diff(t)"
   ]
  },
  {
   "cell_type": "code",
   "execution_count": 42,
   "metadata": {},
   "outputs": [
    {
     "data": {
      "text/latex": [
       "$\\displaystyle \\mu$"
      ],
      "text/plain": [
       "mu"
      ]
     },
     "execution_count": 42,
     "metadata": {},
     "output_type": "execute_result"
    }
   ],
   "source": [
    "# 1차 적률: t=0\n",
    "m_gen_func = sympy.Lambda(t, m_gen.diff(t))\n",
    "EX = m_gen_func(0)\n",
    "EX"
   ]
  },
  {
   "cell_type": "code",
   "execution_count": 43,
   "metadata": {},
   "outputs": [
    {
     "data": {
      "text/latex": [
       "$\\displaystyle \\left(\\sigma^{2} + \\left(\\mu + \\sigma^{2} t\\right)^{2}\\right) e^{t \\left(\\mu + \\frac{\\sigma^{2} t}{2}\\right)}$"
      ],
      "text/plain": [
       "(sigma**2 + (mu + sigma**2*t)**2)*exp(t*(mu + sigma**2*t/2))"
      ]
     },
     "execution_count": 43,
     "metadata": {},
     "output_type": "execute_result"
    }
   ],
   "source": [
    "# 2차 적률 구하기\n",
    "m_gen.diff(t, 2)"
   ]
  },
  {
   "cell_type": "code",
   "execution_count": 44,
   "metadata": {},
   "outputs": [
    {
     "data": {
      "text/latex": [
       "$\\displaystyle \\mu^{2} + \\sigma^{2}$"
      ],
      "text/plain": [
       "mu**2 + sigma**2"
      ]
     },
     "execution_count": 44,
     "metadata": {},
     "output_type": "execute_result"
    }
   ],
   "source": [
    "m_gen_func = sympy.Lambda(t, m_gen.diff(t, 2))\n",
    "# 2차 적률: t=0\n",
    "EX2 = m_gen_func(0)\n",
    "EX2"
   ]
  },
  {
   "cell_type": "code",
   "execution_count": 45,
   "metadata": {},
   "outputs": [
    {
     "data": {
      "text/latex": [
       "$\\displaystyle \\sigma^{2}$"
      ],
      "text/plain": [
       "sigma**2"
      ]
     },
     "execution_count": 45,
     "metadata": {},
     "output_type": "execute_result"
    }
   ],
   "source": [
    "# 분산\n",
    "EX2 - EX**2"
   ]
  },
  {
   "cell_type": "code",
   "execution_count": 46,
   "metadata": {},
   "outputs": [
    {
     "data": {
      "image/png": "[encoded data removed]",
      "text/plain": [
       "<Figure size 640x480 with 1 Axes>"
      ]
     },
     "metadata": {},
     "output_type": "display_data"
    }
   ],
   "source": [
    "import numpy as np\n",
    "import matplotlib.pyplot as plt\n",
    "from scipy.stats import norm\n",
    "\n",
    "# 평균 0, 표준편차 1인 정규분포\n",
    "x = np.linspace(-4, 4, 1000)\n",
    "pdf = norm.pdf(x, loc=0, scale=1)\n",
    "\n",
    "# 시각화\n",
    "plt.plot(x, pdf, label='PDF (μ=0, σ=1)')\n",
    "plt.title('확률밀도함수 (정규분포)')\n",
    "plt.xlabel('x')\n",
    "plt.ylabel('밀도')\n",
    "plt.grid(True)\n",
    "plt.legend()\n",
    "plt.show()"
   ]
  },
  {
   "cell_type": "code",
   "execution_count": 50,
   "metadata": {},
   "outputs": [
    {
     "ename": "TypeError",
     "evalue": "Cannot convert expression to float",
     "output_type": "error",
     "traceback": [
      "\u001b[31m---------------------------------------------------------------------------\u001b[39m",
      "\u001b[31mTypeError\u001b[39m                                 Traceback (most recent call last)",
      "\u001b[36mCell\u001b[39m\u001b[36m \u001b[39m\u001b[32mIn[50]\u001b[39m\u001b[32m, line 3\u001b[39m\n\u001b[32m      1\u001b[39m \u001b[38;5;66;03m# x축 범위와 PDF 계산\u001b[39;00m\n\u001b[32m      2\u001b[39m x = np.linspace(\u001b[32m150\u001b[39m, \u001b[32m190\u001b[39m, \u001b[32m100\u001b[39m)\n\u001b[32m----> \u001b[39m\u001b[32m3\u001b[39m pdf = \u001b[43mnorm\u001b[49m\u001b[43m.\u001b[49m\u001b[43mpdf\u001b[49m\u001b[43m(\u001b[49m\u001b[43mx\u001b[49m\u001b[43m,\u001b[49m\u001b[43m \u001b[49m\u001b[43mloc\u001b[49m\u001b[43m=\u001b[49m\u001b[43mmu\u001b[49m\u001b[43m,\u001b[49m\u001b[43m \u001b[49m\u001b[43mscale\u001b[49m\u001b[43m=\u001b[49m\u001b[43msigma\u001b[49m\u001b[43m)\u001b[49m\n\u001b[32m      5\u001b[39m \u001b[38;5;66;03m# 객체 지향 방식\u001b[39;00m\n\u001b[32m      6\u001b[39m fig, ax = plt.subplots(figsize=(\u001b[32m8\u001b[39m, \u001b[32m5\u001b[39m))\n",
      "\u001b[36mFile \u001b[39m\u001b[32m~\\Desktop\\ai_statistics\\.venv\\Lib\\site-packages\\scipy\\stats\\_distn_infrastructure.py:2046\u001b[39m, in \u001b[36mrv_continuous.pdf\u001b[39m\u001b[34m(self, x, *args, **kwds)\u001b[39m\n\u001b[32m   2044\u001b[39m args = \u001b[38;5;28mtuple\u001b[39m(\u001b[38;5;28mmap\u001b[39m(asarray, args))\n\u001b[32m   2045\u001b[39m dtyp = np.promote_types(x.dtype, np.float64)\n\u001b[32m-> \u001b[39m\u001b[32m2046\u001b[39m x = \u001b[43mnp\u001b[49m\u001b[43m.\u001b[49m\u001b[43masarray\u001b[49m\u001b[43m(\u001b[49m\u001b[43m(\u001b[49m\u001b[43mx\u001b[49m\u001b[43m \u001b[49m\u001b[43m-\u001b[49m\u001b[43m \u001b[49m\u001b[43mloc\u001b[49m\u001b[43m)\u001b[49m\u001b[43m/\u001b[49m\u001b[43mscale\u001b[49m\u001b[43m,\u001b[49m\u001b[43m \u001b[49m\u001b[43mdtype\u001b[49m\u001b[43m=\u001b[49m\u001b[43mdtyp\u001b[49m\u001b[43m)\u001b[49m\n\u001b[32m   2047\u001b[39m cond0 = \u001b[38;5;28mself\u001b[39m._argcheck(*args) & (scale > \u001b[32m0\u001b[39m)\n\u001b[32m   2048\u001b[39m cond1 = \u001b[38;5;28mself\u001b[39m._support_mask(x, *args) & (scale > \u001b[32m0\u001b[39m)\n",
      "\u001b[36mFile \u001b[39m\u001b[32m~\\Desktop\\ai_statistics\\.venv\\Lib\\site-packages\\sympy\\core\\expr.py:375\u001b[39m, in \u001b[36mExpr.__float__\u001b[39m\u001b[34m(self)\u001b[39m\n\u001b[32m    373\u001b[39m \u001b[38;5;28;01mif\u001b[39;00m result.is_number \u001b[38;5;129;01mand\u001b[39;00m result.as_real_imag()[\u001b[32m1\u001b[39m]:\n\u001b[32m    374\u001b[39m     \u001b[38;5;28;01mraise\u001b[39;00m \u001b[38;5;167;01mTypeError\u001b[39;00m(\u001b[33m\"\u001b[39m\u001b[33mCannot convert complex to float\u001b[39m\u001b[33m\"\u001b[39m)\n\u001b[32m--> \u001b[39m\u001b[32m375\u001b[39m \u001b[38;5;28;01mraise\u001b[39;00m \u001b[38;5;167;01mTypeError\u001b[39;00m(\u001b[33m\"\u001b[39m\u001b[33mCannot convert expression to float\u001b[39m\u001b[33m\"\u001b[39m)\n",
      "\u001b[31mTypeError\u001b[39m: Cannot convert expression to float"
     ]
    }
   ],
   "source": [
    "# x축 범위와 PDF 계산\n",
    "x = np.linspace(150, 190, 100)\n",
    "pdf = norm.pdf(x, loc=mu, scale=sigma)\n",
    "\n",
    "# 객체 지향 방식\n",
    "fig, ax = plt.subplots(figsize=(8, 5))\n",
    "\n",
    "# PDF 곡선\n",
    "ax.plot(x, pdf, label='정규분포 PDF')\n",
    "\n",
    "# 확률이 해당되는 구간 채우기\n",
    "ax.fill_between(x, pdf, where=(169.5 < x) & (x < 170.5), color='orange', alpha=0.5,\n",
    "                label='P(169.5 < x < 170.5)')\n",
    "\n",
    "# 제목 및 레이블 설정\n",
    "ax.set_title('키의 확률밀도함수 (N(170, 5²))')\n",
    "ax.set_xlabel('키 (cm)')\n",
    "ax.set_ylabel('밀도')\n",
    "ax.legend()\n",
    "ax.grid(True)\n",
    "\n",
    "# 그래프 출력\n",
    "plt.show()"
   ]
  },
  {
   "cell_type": "code",
   "execution_count": 51,
   "metadata": {},
   "outputs": [
    {
     "name": "stdout",
     "output_type": "stream",
     "text": [
      "기댓값 E[X]: 5.0\n",
      "분산 Var[X]: 8.3333\n"
     ]
    },
    {
     "data": {
      "image/png": "[encoded data removed]",
      "text/plain": [
       "<Figure size 800x400 with 1 Axes>"
      ]
     },
     "metadata": {},
     "output_type": "display_data"
    }
   ],
   "source": [
    "import numpy as np\n",
    "import matplotlib.pyplot as plt\n",
    "from scipy.stats import norm, uniform\n",
    "\n",
    "# 균등분포 정의, 0~10\n",
    "a = 0\n",
    "b = 10\n",
    "x = np.linspace(a - 1, b + 1, 1000) # 1000개의 데이터 의미\n",
    "pdf = uniform.pdf(x, loc = a, scale=(b-a))\n",
    "\n",
    "# 기댓값과 분산\n",
    "expected = (a + b) / 2\n",
    "variance = ((b - a) ** 2) / 12\n",
    "\n",
    "print(f\"기댓값 E[X]: {expected}\")\n",
    "print(f\"분산 Var[X]: {variance:.4f}\")\n",
    "\n",
    "# 시각화\n",
    "fig, ax = plt.subplots(figsize=(8, 4))\n",
    "ax.plot(x, pdf, label='PDF: Uniform(0, 10)', color='blue')\n",
    "ax.axvline(expected, color='red', linestyle='--', label=f'E[X] = {expected}')\n",
    "ax.set_title('연속 균등분포 PDF (Uniform(0, 10))')\n",
    "ax.set_xlabel('x')\n",
    "ax.set_ylabel('밀도')\n",
    "ax.set_ylim(0, 0.15)\n",
    "ax.legend()\n",
    "ax.grid(True)\n",
    "plt.show()"
   ]
  }
 ],
 "metadata": {
  "kernelspec": {
   "display_name": "Python 3 (ipykernel)",
   "language": "python",
   "name": "python3"
  },
  "language_info": {
   "codemirror_mode": {
    "name": "ipython",
    "version": 3
   },
   "file_extension": ".py",
   "mimetype": "text/x-python",
   "name": "python",
   "nbconvert_exporter": "python",
   "pygments_lexer": "ipython3",
   "version": "3.11.12"
  }
 },
 "nbformat": 4,
 "nbformat_minor": 4
}
