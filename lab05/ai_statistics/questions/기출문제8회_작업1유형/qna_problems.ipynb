{
 "cells": [
  {
   "cell_type": "markdown",
   "metadata": {},
   "source": [
    ">**기출문제 제8회**\n",
    ">>**01 작업형 제1유형**"
   ]
  },
  {
   "cell_type": "markdown",
   "metadata": {},
   "source": [
    "## 옵션 설정"
   ]
  },
  {
   "cell_type": "code",
   "execution_count": 1,
   "metadata": {},
   "outputs": [],
   "source": [
    "import pandas as pd\n",
    "import numpy as np\n",
    "pd.set_option('display.max_columns', None) # 모든 칼럼이 출력되게 조절"
   ]
  },
  {
   "cell_type": "markdown",
   "metadata": {},
   "source": [
    "## 문제 1. \n",
    "- 다음의 데이터는 대륙별 국가의 맥주소비량을 조사한 것이다. \n",
    "   + 평균 맥주소비량이 가장 많은 대륙을 구하시오.\n",
    "   + 이전 문제에서 구한 대륙에서 5번째로 전체 맥주소비량이 많은 나라를 구하시오. \n",
    "   + 이전 문제에서 구한 나라의 평균 맥주소비량을 구하시오. (소수점 첫째 자리에서 반올림)\n"
   ]
  },
  {
   "cell_type": "code",
   "execution_count": 9,
   "metadata": {},
   "outputs": [
    {
     "data": {
      "text/html": [
       "<div>\n",
       "<style scoped>\n",
       "    .dataframe tbody tr th:only-of-type {\n",
       "        vertical-align: middle;\n",
       "    }\n",
       "\n",
       "    .dataframe tbody tr th {\n",
       "        vertical-align: top;\n",
       "    }\n",
       "\n",
       "    .dataframe thead th {\n",
       "        text-align: right;\n",
       "    }\n",
       "</style>\n",
       "<table border=\"1\" class=\"dataframe\">\n",
       "  <thead>\n",
       "    <tr style=\"text-align: right;\">\n",
       "      <th></th>\n",
       "      <th>대륙</th>\n",
       "      <th>국가</th>\n",
       "      <th>맥주소비량</th>\n",
       "    </tr>\n",
       "  </thead>\n",
       "  <tbody>\n",
       "    <tr>\n",
       "      <th>0</th>\n",
       "      <td>AS</td>\n",
       "      <td>Afghanistan</td>\n",
       "      <td>102</td>\n",
       "    </tr>\n",
       "    <tr>\n",
       "      <th>1</th>\n",
       "      <td>AS</td>\n",
       "      <td>Afghanistan</td>\n",
       "      <td>435</td>\n",
       "    </tr>\n",
       "    <tr>\n",
       "      <th>2</th>\n",
       "      <td>AS</td>\n",
       "      <td>Afghanistan</td>\n",
       "      <td>348</td>\n",
       "    </tr>\n",
       "    <tr>\n",
       "      <th>3</th>\n",
       "      <td>AS</td>\n",
       "      <td>Afghanistan</td>\n",
       "      <td>270</td>\n",
       "    </tr>\n",
       "    <tr>\n",
       "      <th>4</th>\n",
       "      <td>AS</td>\n",
       "      <td>Afghanistan</td>\n",
       "      <td>106</td>\n",
       "    </tr>\n",
       "  </tbody>\n",
       "</table>\n",
       "</div>"
      ],
      "text/plain": [
       "   대륙           국가  맥주소비량\n",
       "0  AS  Afghanistan    102\n",
       "1  AS  Afghanistan    435\n",
       "2  AS  Afghanistan    348\n",
       "3  AS  Afghanistan    270\n",
       "4  AS  Afghanistan    106"
      ]
     },
     "execution_count": 9,
     "metadata": {},
     "output_type": "execute_result"
    }
   ],
   "source": [
    "data1 = pd.read_csv('8_1_1.csv') \n",
    "data1.head(5)"
   ]
  },
  {
   "cell_type": "code",
   "execution_count": 18,
   "metadata": {},
   "outputs": [
    {
     "name": "stdout",
     "output_type": "stream",
     "text": [
      "대륙: SA\n"
     ]
    }
   ],
   "source": [
    "# 코드"
   ]
  },
  {
   "cell_type": "code",
   "execution_count": 19,
   "metadata": {},
   "outputs": [
    {
     "name": "stdout",
     "output_type": "stream",
     "text": [
      "국가: Venezuela\n",
      "평균 맥주소비량: 253.0\n"
     ]
    }
   ],
   "source": [
    "# 코드"
   ]
  },
  {
   "cell_type": "markdown",
   "metadata": {},
   "source": [
    "## 문제 2. \n",
    "- 다음의 데이터는 국가별로 방문객 유형을 조사한 것이다. \n",
    "- 관광객비율이 두 번째로 높은 나라의 '관광' 수를 구하시오. \n",
    "   + 관광객비율=관광/합계(소수점 넷째 자리에서 반올림)\n",
    "   + 합계=관광+사무+공무+유학+기타\n",
    "- 관광 수가 두번째로 높은 나라의 '공무'수의 평균을 구하시오. (소수점 첫째 자리에서 반올림)\n",
    "- 이전에 구한 관광 수와 공무 수의 합계를 구하시오. "
   ]
  },
  {
   "cell_type": "code",
   "execution_count": 20,
   "metadata": {},
   "outputs": [
    {
     "data": {
      "text/html": [
       "<div>\n",
       "<style scoped>\n",
       "    .dataframe tbody tr th:only-of-type {\n",
       "        vertical-align: middle;\n",
       "    }\n",
       "\n",
       "    .dataframe tbody tr th {\n",
       "        vertical-align: top;\n",
       "    }\n",
       "\n",
       "    .dataframe thead th {\n",
       "        text-align: right;\n",
       "    }\n",
       "</style>\n",
       "<table border=\"1\" class=\"dataframe\">\n",
       "  <thead>\n",
       "    <tr style=\"text-align: right;\">\n",
       "      <th></th>\n",
       "      <th>국가</th>\n",
       "      <th>관광</th>\n",
       "      <th>사무</th>\n",
       "      <th>공무</th>\n",
       "      <th>유학</th>\n",
       "      <th>기타</th>\n",
       "    </tr>\n",
       "  </thead>\n",
       "  <tbody>\n",
       "    <tr>\n",
       "      <th>0</th>\n",
       "      <td>남아프리카공화국</td>\n",
       "      <td>9198</td>\n",
       "      <td>1415</td>\n",
       "      <td>234</td>\n",
       "      <td>178</td>\n",
       "      <td>340</td>\n",
       "    </tr>\n",
       "    <tr>\n",
       "      <th>1</th>\n",
       "      <td>스페인</td>\n",
       "      <td>7127</td>\n",
       "      <td>409</td>\n",
       "      <td>422</td>\n",
       "      <td>3489</td>\n",
       "      <td>193</td>\n",
       "    </tr>\n",
       "    <tr>\n",
       "      <th>2</th>\n",
       "      <td>싱가포르</td>\n",
       "      <td>9640</td>\n",
       "      <td>1751</td>\n",
       "      <td>508</td>\n",
       "      <td>3536</td>\n",
       "      <td>709</td>\n",
       "    </tr>\n",
       "    <tr>\n",
       "      <th>3</th>\n",
       "      <td>이탈리아</td>\n",
       "      <td>3358</td>\n",
       "      <td>1370</td>\n",
       "      <td>880</td>\n",
       "      <td>4620</td>\n",
       "      <td>459</td>\n",
       "    </tr>\n",
       "    <tr>\n",
       "      <th>4</th>\n",
       "      <td>일본</td>\n",
       "      <td>3980</td>\n",
       "      <td>160</td>\n",
       "      <td>64</td>\n",
       "      <td>204</td>\n",
       "      <td>303</td>\n",
       "    </tr>\n",
       "  </tbody>\n",
       "</table>\n",
       "</div>"
      ],
      "text/plain": [
       "         국가    관광    사무   공무    유학   기타\n",
       "0  남아프리카공화국  9198  1415  234   178  340\n",
       "1       스페인  7127   409  422  3489  193\n",
       "2      싱가포르  9640  1751  508  3536  709\n",
       "3      이탈리아  3358  1370  880  4620  459\n",
       "4        일본  3980   160   64   204  303"
      ]
     },
     "execution_count": 20,
     "metadata": {},
     "output_type": "execute_result"
    }
   ],
   "source": [
    "data2 = pd.read_csv('8_1_2.csv')\n",
    "data2.head()"
   ]
  },
  {
   "cell_type": "code",
   "execution_count": 22,
   "metadata": {},
   "outputs": [
    {
     "data": {
      "text/html": [
       "<div>\n",
       "<style scoped>\n",
       "    .dataframe tbody tr th:only-of-type {\n",
       "        vertical-align: middle;\n",
       "    }\n",
       "\n",
       "    .dataframe tbody tr th {\n",
       "        vertical-align: top;\n",
       "    }\n",
       "\n",
       "    .dataframe thead th {\n",
       "        text-align: right;\n",
       "    }\n",
       "</style>\n",
       "<table border=\"1\" class=\"dataframe\">\n",
       "  <thead>\n",
       "    <tr style=\"text-align: right;\">\n",
       "      <th></th>\n",
       "      <th>국가</th>\n",
       "      <th>관광</th>\n",
       "      <th>사무</th>\n",
       "      <th>공무</th>\n",
       "      <th>유학</th>\n",
       "      <th>기타</th>\n",
       "      <th>합계</th>\n",
       "    </tr>\n",
       "  </thead>\n",
       "  <tbody>\n",
       "    <tr>\n",
       "      <th>0</th>\n",
       "      <td>남아프리카공화국</td>\n",
       "      <td>9198</td>\n",
       "      <td>1415</td>\n",
       "      <td>234</td>\n",
       "      <td>178</td>\n",
       "      <td>340</td>\n",
       "      <td>11365</td>\n",
       "    </tr>\n",
       "    <tr>\n",
       "      <th>1</th>\n",
       "      <td>스페인</td>\n",
       "      <td>7127</td>\n",
       "      <td>409</td>\n",
       "      <td>422</td>\n",
       "      <td>3489</td>\n",
       "      <td>193</td>\n",
       "      <td>11640</td>\n",
       "    </tr>\n",
       "    <tr>\n",
       "      <th>2</th>\n",
       "      <td>싱가포르</td>\n",
       "      <td>9640</td>\n",
       "      <td>1751</td>\n",
       "      <td>508</td>\n",
       "      <td>3536</td>\n",
       "      <td>709</td>\n",
       "      <td>16144</td>\n",
       "    </tr>\n",
       "    <tr>\n",
       "      <th>3</th>\n",
       "      <td>이탈리아</td>\n",
       "      <td>3358</td>\n",
       "      <td>1370</td>\n",
       "      <td>880</td>\n",
       "      <td>4620</td>\n",
       "      <td>459</td>\n",
       "      <td>10687</td>\n",
       "    </tr>\n",
       "    <tr>\n",
       "      <th>4</th>\n",
       "      <td>일본</td>\n",
       "      <td>3980</td>\n",
       "      <td>160</td>\n",
       "      <td>64</td>\n",
       "      <td>204</td>\n",
       "      <td>303</td>\n",
       "      <td>4711</td>\n",
       "    </tr>\n",
       "  </tbody>\n",
       "</table>\n",
       "</div>"
      ],
      "text/plain": [
       "         국가    관광    사무   공무    유학   기타     합계\n",
       "0  남아프리카공화국  9198  1415  234   178  340  11365\n",
       "1       스페인  7127   409  422  3489  193  11640\n",
       "2      싱가포르  9640  1751  508  3536  709  16144\n",
       "3      이탈리아  3358  1370  880  4620  459  10687\n",
       "4        일본  3980   160   64   204  303   4711"
      ]
     },
     "execution_count": 22,
     "metadata": {},
     "output_type": "execute_result"
    }
   ],
   "source": [
    "# 각 국가별 합계 계산\n",
    "# 코드 "
   ]
  },
  {
   "cell_type": "code",
   "execution_count": 24,
   "metadata": {},
   "outputs": [
    {
     "data": {
      "text/html": [
       "<div>\n",
       "<style scoped>\n",
       "    .dataframe tbody tr th:only-of-type {\n",
       "        vertical-align: middle;\n",
       "    }\n",
       "\n",
       "    .dataframe tbody tr th {\n",
       "        vertical-align: top;\n",
       "    }\n",
       "\n",
       "    .dataframe thead th {\n",
       "        text-align: right;\n",
       "    }\n",
       "</style>\n",
       "<table border=\"1\" class=\"dataframe\">\n",
       "  <thead>\n",
       "    <tr style=\"text-align: right;\">\n",
       "      <th></th>\n",
       "      <th>국가</th>\n",
       "      <th>관광</th>\n",
       "      <th>사무</th>\n",
       "      <th>공무</th>\n",
       "      <th>유학</th>\n",
       "      <th>기타</th>\n",
       "      <th>합계</th>\n",
       "      <th>관광객비율</th>\n",
       "    </tr>\n",
       "  </thead>\n",
       "  <tbody>\n",
       "    <tr>\n",
       "      <th>0</th>\n",
       "      <td>남아프리카공화국</td>\n",
       "      <td>9198</td>\n",
       "      <td>1415</td>\n",
       "      <td>234</td>\n",
       "      <td>178</td>\n",
       "      <td>340</td>\n",
       "      <td>11365</td>\n",
       "      <td>0.809</td>\n",
       "    </tr>\n",
       "    <tr>\n",
       "      <th>1</th>\n",
       "      <td>스페인</td>\n",
       "      <td>7127</td>\n",
       "      <td>409</td>\n",
       "      <td>422</td>\n",
       "      <td>3489</td>\n",
       "      <td>193</td>\n",
       "      <td>11640</td>\n",
       "      <td>0.612</td>\n",
       "    </tr>\n",
       "    <tr>\n",
       "      <th>2</th>\n",
       "      <td>싱가포르</td>\n",
       "      <td>9640</td>\n",
       "      <td>1751</td>\n",
       "      <td>508</td>\n",
       "      <td>3536</td>\n",
       "      <td>709</td>\n",
       "      <td>16144</td>\n",
       "      <td>0.597</td>\n",
       "    </tr>\n",
       "    <tr>\n",
       "      <th>3</th>\n",
       "      <td>이탈리아</td>\n",
       "      <td>3358</td>\n",
       "      <td>1370</td>\n",
       "      <td>880</td>\n",
       "      <td>4620</td>\n",
       "      <td>459</td>\n",
       "      <td>10687</td>\n",
       "      <td>0.314</td>\n",
       "    </tr>\n",
       "    <tr>\n",
       "      <th>4</th>\n",
       "      <td>일본</td>\n",
       "      <td>3980</td>\n",
       "      <td>160</td>\n",
       "      <td>64</td>\n",
       "      <td>204</td>\n",
       "      <td>303</td>\n",
       "      <td>4711</td>\n",
       "      <td>0.845</td>\n",
       "    </tr>\n",
       "  </tbody>\n",
       "</table>\n",
       "</div>"
      ],
      "text/plain": [
       "         국가    관광    사무   공무    유학   기타     합계  관광객비율\n",
       "0  남아프리카공화국  9198  1415  234   178  340  11365  0.809\n",
       "1       스페인  7127   409  422  3489  193  11640  0.612\n",
       "2      싱가포르  9640  1751  508  3536  709  16144  0.597\n",
       "3      이탈리아  3358  1370  880  4620  459  10687  0.314\n",
       "4        일본  3980   160   64   204  303   4711  0.845"
      ]
     },
     "execution_count": 24,
     "metadata": {},
     "output_type": "execute_result"
    }
   ],
   "source": [
    "# 문제에 정의된 기준에 맞춰서 관광객비율 컬럼 생성 \n",
    "# 코드"
   ]
  },
  {
   "cell_type": "code",
   "execution_count": 32,
   "metadata": {},
   "outputs": [
    {
     "name": "stdout",
     "output_type": "stream",
     "text": [
      "7831\n"
     ]
    }
   ],
   "source": [
    "# 관광객비율이 두 번째로 높은 나라의 관광 수 계산 \n",
    "# 코드"
   ]
  },
  {
   "cell_type": "code",
   "execution_count": 29,
   "metadata": {},
   "outputs": [
    {
     "name": "stdout",
     "output_type": "stream",
     "text": [
      "이스라엘 494.0\n"
     ]
    }
   ],
   "source": [
    "# 관광 수가 두번째로 높은 나라의 '공무'수의 평균을 구하시오. (소수점 첫째 자리에서 반올림)\n",
    "# 코드드"
   ]
  },
  {
   "cell_type": "code",
   "execution_count": 33,
   "metadata": {},
   "outputs": [
    {
     "name": "stdout",
     "output_type": "stream",
     "text": [
      "관광 + 공무: 8325.0\n"
     ]
    }
   ],
   "source": [
    "# 관광 수와 공무 수의 합계\n",
    "# 코드드"
   ]
  },
  {
   "cell_type": "markdown",
   "metadata": {},
   "source": [
    "## 문제 3. \n",
    "- CO(GT), NMHC(GT) 컬럼에 대해서 Min-Max 정규화 실행\n",
    "- 스케일링된 CO(GT), NMHC(GT) 컬럼의 표준편차를 구하시오. \n",
    "- 소수점 셋째 자리에서 반올림\n",
    "- Min-Max 정규화 식 \n",
    "    + 정규화 식 : 데이터에서 최솟값을 뺀 값을 최댓값과 최솟값의 차이로 나누어 계산\n",
    "$$X_{norm} = \\frac{X - X_{min}}{X_{max} - X_{min}}$$\n"
   ]
  },
  {
   "cell_type": "code",
   "execution_count": 36,
   "metadata": {},
   "outputs": [
    {
     "data": {
      "text/html": [
       "<div>\n",
       "<style scoped>\n",
       "    .dataframe tbody tr th:only-of-type {\n",
       "        vertical-align: middle;\n",
       "    }\n",
       "\n",
       "    .dataframe tbody tr th {\n",
       "        vertical-align: top;\n",
       "    }\n",
       "\n",
       "    .dataframe thead th {\n",
       "        text-align: right;\n",
       "    }\n",
       "</style>\n",
       "<table border=\"1\" class=\"dataframe\">\n",
       "  <thead>\n",
       "    <tr style=\"text-align: right;\">\n",
       "      <th></th>\n",
       "      <th>Date</th>\n",
       "      <th>Time</th>\n",
       "      <th>CO(GT)</th>\n",
       "      <th>PT08.S1(CO)</th>\n",
       "      <th>NMHC(GT)</th>\n",
       "      <th>C6H6(GT)</th>\n",
       "    </tr>\n",
       "  </thead>\n",
       "  <tbody>\n",
       "    <tr>\n",
       "      <th>0</th>\n",
       "      <td>13/10/2004</td>\n",
       "      <td>06.00.00</td>\n",
       "      <td>-200.0</td>\n",
       "      <td>798.0</td>\n",
       "      <td>-200.0</td>\n",
       "      <td>2.2</td>\n",
       "    </tr>\n",
       "  </tbody>\n",
       "</table>\n",
       "</div>"
      ],
      "text/plain": [
       "         Date      Time  CO(GT)  PT08.S1(CO)  NMHC(GT)  C6H6(GT)\n",
       "0  13/10/2004  06.00.00  -200.0        798.0    -200.0       2.2"
      ]
     },
     "execution_count": 36,
     "metadata": {},
     "output_type": "execute_result"
    }
   ],
   "source": [
    "data3 = pd.read_csv('8_1_3.csv')\n",
    "data3.head(1)"
   ]
  },
  {
   "cell_type": "code",
   "execution_count": 37,
   "metadata": {},
   "outputs": [
    {
     "name": "stdout",
     "output_type": "stream",
     "text": [
      "CO(GT) 정규화 후 표준편차: 0.37\n",
      "NMHC(GT) 정규화 후 표준편차: 0.15\n"
     ]
    }
   ],
   "source": [
    "# 코드 "
   ]
  }
 ],
 "metadata": {
  "kernelspec": {
   "display_name": "venv",
   "language": "python",
   "name": "python3"
  },
  "language_info": {
   "codemirror_mode": {
    "name": "ipython",
    "version": 3
   },
   "file_extension": ".py",
   "mimetype": "text/x-python",
   "name": "python",
   "nbconvert_exporter": "python",
   "pygments_lexer": "ipython3",
   "version": "3.11.6"
  }
 },
 "nbformat": 4,
 "nbformat_minor": 2
}
