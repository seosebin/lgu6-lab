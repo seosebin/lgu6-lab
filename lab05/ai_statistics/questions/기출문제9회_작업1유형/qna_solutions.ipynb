{
 "cells": [
  {
   "cell_type": "markdown",
   "metadata": {},
   "source": [
    ">**기출문제 제9회**\n",
    ">>**01 작업형 제1유형**"
   ]
  },
  {
   "cell_type": "markdown",
   "metadata": {},
   "source": [
    "## 옵션 설정"
   ]
  },
  {
   "cell_type": "code",
   "execution_count": 1,
   "metadata": {},
   "outputs": [],
   "source": [
    "import pandas as pd\n",
    "import numpy as np\n",
    "pd.set_option('display.max_columns', None) # 모든 칼럼이 출력되게 조절"
   ]
  },
  {
   "cell_type": "markdown",
   "metadata": {},
   "source": [
    "## 문제 1. \n",
    "- 각 연도 및 성별의 총 대출액의 절댓값 차이를 구한다. \n",
    "- 절댓값 차이가 가장 큰 지역코드를 구하시오. \n"
   ]
  },
  {
   "cell_type": "code",
   "execution_count": 3,
   "metadata": {},
   "outputs": [
    {
     "data": {
      "text/html": [
       "<div>\n",
       "<style scoped>\n",
       "    .dataframe tbody tr th:only-of-type {\n",
       "        vertical-align: middle;\n",
       "    }\n",
       "\n",
       "    .dataframe tbody tr th {\n",
       "        vertical-align: top;\n",
       "    }\n",
       "\n",
       "    .dataframe thead th {\n",
       "        text-align: right;\n",
       "    }\n",
       "</style>\n",
       "<table border=\"1\" class=\"dataframe\">\n",
       "  <thead>\n",
       "    <tr style=\"text-align: right;\">\n",
       "      <th></th>\n",
       "      <th>year</th>\n",
       "      <th>gender</th>\n",
       "      <th>지역코드</th>\n",
       "      <th>금액1</th>\n",
       "      <th>금액2</th>\n",
       "    </tr>\n",
       "  </thead>\n",
       "  <tbody>\n",
       "    <tr>\n",
       "      <th>0</th>\n",
       "      <td>2018</td>\n",
       "      <td>0</td>\n",
       "      <td>143</td>\n",
       "      <td>70713</td>\n",
       "      <td>43210</td>\n",
       "    </tr>\n",
       "    <tr>\n",
       "      <th>1</th>\n",
       "      <td>2019</td>\n",
       "      <td>0</td>\n",
       "      <td>183</td>\n",
       "      <td>40306</td>\n",
       "      <td>39663</td>\n",
       "    </tr>\n",
       "    <tr>\n",
       "      <th>2</th>\n",
       "      <td>2017</td>\n",
       "      <td>0</td>\n",
       "      <td>129</td>\n",
       "      <td>26646</td>\n",
       "      <td>41631</td>\n",
       "    </tr>\n",
       "    <tr>\n",
       "      <th>3</th>\n",
       "      <td>2019</td>\n",
       "      <td>0</td>\n",
       "      <td>161</td>\n",
       "      <td>56843</td>\n",
       "      <td>12455</td>\n",
       "    </tr>\n",
       "    <tr>\n",
       "      <th>4</th>\n",
       "      <td>2019</td>\n",
       "      <td>0</td>\n",
       "      <td>174</td>\n",
       "      <td>26371</td>\n",
       "      <td>9014</td>\n",
       "    </tr>\n",
       "  </tbody>\n",
       "</table>\n",
       "</div>"
      ],
      "text/plain": [
       "   year  gender  지역코드    금액1    금액2\n",
       "0  2018       0   143  70713  43210\n",
       "1  2019       0   183  40306  39663\n",
       "2  2017       0   129  26646  41631\n",
       "3  2019       0   161  56843  12455\n",
       "4  2019       0   174  26371   9014"
      ]
     },
     "execution_count": 3,
     "metadata": {},
     "output_type": "execute_result"
    }
   ],
   "source": [
    "data1 = pd.read_csv('9_1_1.csv') \n",
    "data1.head(5)"
   ]
  },
  {
   "cell_type": "code",
   "execution_count": 33,
   "metadata": {},
   "outputs": [
    {
     "name": "stdout",
     "output_type": "stream",
     "text": [
      "gender\n",
      "0     168869.0\n",
      "1          0.0\n",
      "차이    168869.0\n",
      "Name: (2018, 143), dtype: float64\n",
      "143\n"
     ]
    }
   ],
   "source": [
    "# 금액1과 금액2을 합하여 총 대출액 구하기 \n",
    "data1['총대출액'] = data1['금액1'] + data1['금액2']\n",
    "\n",
    "# 연도, 성별, 지역코드별로 총대출액 합계 구하기\n",
    "grouped = data1.groupby(['year', 'gender', '지역코드'])['총대출액'].sum().reset_index()\n",
    "\n",
    "# 각 연도 및 성별에 따른 차이 계산 위해 피벗 테이블 생성\n",
    "data1_pivot = pd.pivot_table(grouped, \n",
    "                            values='총대출액',\n",
    "                            index=['year', '지역코드'],\n",
    "                            columns='gender',\n",
    "                            fill_value=0)\n",
    "\n",
    "# 성별에 따른 절댓값 차이 계산\n",
    "data1_pivot['차이'] = abs(data1_pivot[0] - data1_pivot[1])\n",
    "\n",
    "# 차이가 가장 큰 행 찾기\n",
    "max_diff_row = data1_pivot['차이'].idxmax()\n",
    "\n",
    "# 해당 행의 데이터 출력\n",
    "print(data1_pivot.loc[max_diff_row, :])\n",
    "\n",
    "# 지역코드\n",
    "answer = max_diff_row[1]  # (year, 지역코드) 튜플에서 지역코드 추출\n",
    "print(answer)\n"
   ]
  },
  {
   "cell_type": "markdown",
   "metadata": {},
   "source": [
    "## 문제 2. \n",
    "- 각 연도별 최대 검거율을 가진 범죄유형을 찾아서 해당 연도 및 유형의 검거건수들의 총합을 구하시오. \n",
    "- 검거율 = 검거건수 / 발생건수 "
   ]
  },
  {
   "cell_type": "code",
   "execution_count": 36,
   "metadata": {},
   "outputs": [
    {
     "data": {
      "text/html": [
       "<div>\n",
       "<style scoped>\n",
       "    .dataframe tbody tr th:only-of-type {\n",
       "        vertical-align: middle;\n",
       "    }\n",
       "\n",
       "    .dataframe tbody tr th {\n",
       "        vertical-align: top;\n",
       "    }\n",
       "\n",
       "    .dataframe thead th {\n",
       "        text-align: right;\n",
       "    }\n",
       "</style>\n",
       "<table border=\"1\" class=\"dataframe\">\n",
       "  <thead>\n",
       "    <tr style=\"text-align: right;\">\n",
       "      <th></th>\n",
       "      <th>연도</th>\n",
       "      <th>구분</th>\n",
       "      <th>범죄유형1</th>\n",
       "      <th>범죄유형2</th>\n",
       "      <th>범죄유형3</th>\n",
       "      <th>범죄유형4</th>\n",
       "      <th>범죄유형5</th>\n",
       "      <th>범죄유형6</th>\n",
       "      <th>범죄유형7</th>\n",
       "      <th>범죄유형8</th>\n",
       "      <th>범죄유형9</th>\n",
       "      <th>범죄유형10</th>\n",
       "    </tr>\n",
       "  </thead>\n",
       "  <tbody>\n",
       "    <tr>\n",
       "      <th>0</th>\n",
       "      <td>2000</td>\n",
       "      <td>발생건수</td>\n",
       "      <td>302</td>\n",
       "      <td>635</td>\n",
       "      <td>470</td>\n",
       "      <td>306</td>\n",
       "      <td>271</td>\n",
       "      <td>900</td>\n",
       "      <td>220</td>\n",
       "      <td>814</td>\n",
       "      <td>321</td>\n",
       "      <td>666</td>\n",
       "    </tr>\n",
       "  </tbody>\n",
       "</table>\n",
       "</div>"
      ],
      "text/plain": [
       "     연도    구분  범죄유형1  범죄유형2  범죄유형3  범죄유형4  범죄유형5  범죄유형6  범죄유형7  범죄유형8  범죄유형9  \\\n",
       "0  2000  발생건수    302    635    470    306    271    900    220    814    321   \n",
       "\n",
       "   범죄유형10  \n",
       "0     666  "
      ]
     },
     "execution_count": 36,
     "metadata": {},
     "output_type": "execute_result"
    }
   ],
   "source": [
    "data2 = pd.read_csv('9_1_2.csv')\n",
    "data2.head(1)"
   ]
  },
  {
   "cell_type": "code",
   "execution_count": 72,
   "metadata": {},
   "outputs": [
    {
     "name": "stdout",
     "output_type": "stream",
     "text": [
      "총 검거건수 합계 = 9879\n"
     ]
    }
   ],
   "source": [
    "# 검거건수와 발생건수 데이터 추출\n",
    "검거건수_df = data2[data2['구분'] == '검거건수'].set_index('연도')\n",
    "발생건수_df = data2[data2['구분'] == '발생건수'].set_index('연도')\n",
    "\n",
    "# 구분 열 제거\n",
    "검거건수_df = 검거건수_df.drop('구분', axis=1)\n",
    "발생건수_df = 발생건수_df.drop('구분', axis=1)\n",
    "\n",
    "# 검거율 계산\n",
    "검거율 = 검거건수_df / 발생건수_df\n",
    "\n",
    "# 각 연도별 최대 검거율을 가진 범죄유형 찾기\n",
    "최대검거율_범죄유형 = 검거율.idxmax(axis=1).reset_index().rename(columns={0: '범죄유형'})\n",
    "\n",
    "# 연도와 범죄유형에 해당하는 검거건수 찾기\n",
    "검거건수_데이터 = 검거건수_df.reset_index().melt(\n",
    "    id_vars='연도', \n",
    "    var_name='범죄유형', \n",
    "    value_name='검거건수'\n",
    ")\n",
    "\n",
    "# 최대 검거율 범죄유형과 검거건수 데이터 병합\n",
    "결과 = pd.merge(최대검거율_범죄유형, 검거건수_데이터, on=['연도', '범죄유형'])\n",
    "\n",
    "# 검거건수 합계 계산\n",
    "answer = 결과['검거건수'].sum()\n",
    "print('총 검거건수 합계 =', answer)\n"
   ]
  },
  {
   "cell_type": "code",
   "execution_count": 73,
   "metadata": {},
   "outputs": [
    {
     "name": "stdout",
     "output_type": "stream",
     "text": [
      "총 검거건수 합계 = 9879\n"
     ]
    }
   ],
   "source": [
    "# 데이터 준비\n",
    "발생건수_df = data2[data2['구분'] == '발생건수'].set_index('연도')\n",
    "검거건수_df = data2[data2['구분'] == '검거건수'].set_index('연도')\n",
    "\n",
    "# 필요없는 '구분' 열 제거\n",
    "발생건수_df = 발생건수_df.drop('구분', axis=1)\n",
    "검거건수_df = 검거건수_df.drop('구분', axis=1)\n",
    "\n",
    "# 데이터를 long 형식으로 변환\n",
    "발생건수_long = 발생건수_df.reset_index().melt(id_vars='연도', var_name='범죄유형', value_name='발생건수')\n",
    "검거건수_long = 검거건수_df.reset_index().melt(id_vars='연도', var_name='범죄유형', value_name='검거건수')\n",
    "\n",
    "# 두 데이터프레임 병합\n",
    "통합_df = pd.merge(발생건수_long, 검거건수_long, on=['연도', '범죄유형'])\n",
    "\n",
    "# 검거율 계산\n",
    "통합_df['검거율'] = 통합_df['검거건수'] / 통합_df['발생건수']\n",
    "\n",
    "# 연도별 그룹화하여 최대 검거율 찾기\n",
    "최대검거율_df = 통합_df.loc[통합_df.groupby('연도')['검거율'].idxmax()]\n",
    "\n",
    "# 검거건수 합계 계산\n",
    "answer = 최대검거율_df['검거건수'].sum()\n",
    "print('총 검거건수 합계 =', answer)\n"
   ]
  },
  {
   "cell_type": "markdown",
   "metadata": {},
   "source": [
    "## 문제 3. \n",
    "- 결측치 처리\n",
    "    + 평균 만족도 : 결측치는 평균만족도 컬럼의 전체 평균으로 채우시오. \n",
    "    + 근속연수 : 결측치는 각 부서와 등급별 평균 근속연수로 채우시도. (평균값의 소수점은 버림 처리)\n",
    "- 조건에 따른 평균 계산\n",
    "    + A : 부서가 'HR'이고 등급이 'A'인 사람들의 평균 근속연수를 계산하시오. \n",
    "    + B : 부서가 'Sales'이고 등급이 'B'인 사람들의 평균 교육참가횟수를 계산하시오. \n",
    "    + A와 B를 더한 값을 구하시오. "
   ]
  },
  {
   "cell_type": "code",
   "execution_count": 77,
   "metadata": {},
   "outputs": [
    {
     "data": {
      "text/html": [
       "<div>\n",
       "<style scoped>\n",
       "    .dataframe tbody tr th:only-of-type {\n",
       "        vertical-align: middle;\n",
       "    }\n",
       "\n",
       "    .dataframe tbody tr th {\n",
       "        vertical-align: top;\n",
       "    }\n",
       "\n",
       "    .dataframe thead th {\n",
       "        text-align: right;\n",
       "    }\n",
       "</style>\n",
       "<table border=\"1\" class=\"dataframe\">\n",
       "  <thead>\n",
       "    <tr style=\"text-align: right;\">\n",
       "      <th></th>\n",
       "      <th>부서</th>\n",
       "      <th>등급</th>\n",
       "      <th>평균만족도</th>\n",
       "      <th>근속연수</th>\n",
       "      <th>교육참가횟수</th>\n",
       "    </tr>\n",
       "  </thead>\n",
       "  <tbody>\n",
       "    <tr>\n",
       "      <th>0</th>\n",
       "      <td>Finance</td>\n",
       "      <td>C</td>\n",
       "      <td>4.023911</td>\n",
       "      <td>17.0</td>\n",
       "      <td>8.0</td>\n",
       "    </tr>\n",
       "  </tbody>\n",
       "</table>\n",
       "</div>"
      ],
      "text/plain": [
       "        부서 등급     평균만족도  근속연수  교육참가횟수\n",
       "0  Finance  C  4.023911  17.0     8.0"
      ]
     },
     "execution_count": 77,
     "metadata": {},
     "output_type": "execute_result"
    }
   ],
   "source": [
    "# 데이터 로드\n",
    "data3 = pd.read_csv('9_1_3.csv')\n",
    "data3.head(1)"
   ]
  },
  {
   "cell_type": "code",
   "execution_count": 79,
   "metadata": {},
   "outputs": [
    {
     "data": {
      "text/plain": [
       "부서         0\n",
       "등급         0\n",
       "평균만족도     10\n",
       "근속연수      10\n",
       "교육참가횟수     0\n",
       "dtype: int64"
      ]
     },
     "execution_count": 79,
     "metadata": {},
     "output_type": "execute_result"
    }
   ],
   "source": [
    "data3.isna().sum()"
   ]
  },
  {
   "cell_type": "code",
   "execution_count": 81,
   "metadata": {},
   "outputs": [
    {
     "data": {
      "text/plain": [
       "부서        0\n",
       "등급        0\n",
       "평균만족도     0\n",
       "근속연수      0\n",
       "교육참가횟수    0\n",
       "dtype: int64"
      ]
     },
     "execution_count": 81,
     "metadata": {},
     "output_type": "execute_result"
    }
   ],
   "source": [
    "# 결측치 처리\n",
    "# 1. 평균 만족도 결측치를 전체 평균으로 채우기\n",
    "평균_만족도 = data3['평균만족도'].mean()\n",
    "data3['평균만족도'] = data3['평균만족도'].fillna(평균_만족도)\n",
    "\n",
    "# 2. 근속연수 결측치를 각 부서와 등급별 평균으로 채우기\n",
    "# 부서와 등급별 평균 근속연수 계산 (소수점 버림)\n",
    "부서_등급별_평균 = data3.groupby(['부서', '등급'])['근속연수'].transform(lambda x: np.floor(x.mean()))\n",
    "\n",
    "# 결측치만 채우기 (transform 사용하여 반복문 없이 처리)\n",
    "mask = data3['근속연수'].isna()\n",
    "data3.loc[mask, '근속연수'] = 부서_등급별_평균[mask]\n",
    "\n",
    "data3.isna().sum()"
   ]
  },
  {
   "cell_type": "code",
   "execution_count": 82,
   "metadata": {},
   "outputs": [
    {
     "name": "stdout",
     "output_type": "stream",
     "text": [
      "HR 부서 A등급 평균 근속연수 = 17.625\n",
      "Sales 부서 B등급 평균 교육참가횟수 = 7.6\n",
      "A + B = 25.225\n"
     ]
    }
   ],
   "source": [
    "# A: 부서가 'HR'이고 등급이 'A'인 사람들의 평균 근속연수 계산\n",
    "A = data3[(data3['부서'] == 'HR') & (data3['등급'] == 'A')]['근속연수'].mean()\n",
    "\n",
    "# B: 부서가 'Sales'이고 등급이 'B'인 사람들의 평균 교육참가횟수 계산\n",
    "B = data3[(data3['부서'] == 'Sales') & (data3['등급'] == 'B')]['교육참가횟수'].mean()\n",
    "\n",
    "# A와 B를 더한 값 계산\n",
    "answer = A + B\n",
    "print('HR 부서 A등급 평균 근속연수 =', A)\n",
    "print('Sales 부서 B등급 평균 교육참가횟수 =', B)\n",
    "print('A + B =', answer)"
   ]
  }
 ],
 "metadata": {
  "kernelspec": {
   "display_name": "venv",
   "language": "python",
   "name": "python3"
  },
  "language_info": {
   "codemirror_mode": {
    "name": "ipython",
    "version": 3
   },
   "file_extension": ".py",
   "mimetype": "text/x-python",
   "name": "python",
   "nbconvert_exporter": "python",
   "pygments_lexer": "ipython3",
   "version": "3.11.6"
  }
 },
 "nbformat": 4,
 "nbformat_minor": 2
}
