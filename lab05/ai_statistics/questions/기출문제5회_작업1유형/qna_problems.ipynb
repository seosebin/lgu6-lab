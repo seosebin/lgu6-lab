{
 "cells": [
  {
   "cell_type": "markdown",
   "metadata": {},
   "source": [
    ">**기출문제 제5회**\n",
    ">>**01 작업형 제1유형**"
   ]
  },
  {
   "cell_type": "markdown",
   "metadata": {},
   "source": [
    "## 옵션 설정"
   ]
  },
  {
   "cell_type": "code",
   "execution_count": 1,
   "metadata": {},
   "outputs": [],
   "source": [
    "import pandas as pd\n",
    "import numpy as np\n",
    "pd.set_option('display.max_columns', None) # 모든 칼럼이 출력되게 조절"
   ]
  },
  {
   "cell_type": "markdown",
   "metadata": {},
   "source": [
    "## 문제 1. \n",
    "- 다음 데이터에서 conventional 컬럼의 특수문자를 제거하고, IQR(3분위수-1분위수)를 구하시오. \n",
    "- 소수점 첫째 자리에서 반올림"
   ]
  },
  {
   "cell_type": "code",
   "execution_count": 2,
   "metadata": {},
   "outputs": [
    {
     "data": {
      "text/html": [
       "<div>\n",
       "<style scoped>\n",
       "    .dataframe tbody tr th:only-of-type {\n",
       "        vertical-align: middle;\n",
       "    }\n",
       "\n",
       "    .dataframe tbody tr th {\n",
       "        vertical-align: top;\n",
       "    }\n",
       "\n",
       "    .dataframe thead th {\n",
       "        text-align: right;\n",
       "    }\n",
       "</style>\n",
       "<table border=\"1\" class=\"dataframe\">\n",
       "  <thead>\n",
       "    <tr style=\"text-align: right;\">\n",
       "      <th></th>\n",
       "      <th>minority</th>\n",
       "      <th>crime</th>\n",
       "      <th>poverty</th>\n",
       "      <th>language</th>\n",
       "      <th>highschool</th>\n",
       "      <th>housing</th>\n",
       "      <th>city</th>\n",
       "      <th>conventional</th>\n",
       "      <th>undercount</th>\n",
       "      <th>date</th>\n",
       "    </tr>\n",
       "  </thead>\n",
       "  <tbody>\n",
       "    <tr>\n",
       "      <th>0</th>\n",
       "      <td>26.1</td>\n",
       "      <td>49</td>\n",
       "      <td>18.9</td>\n",
       "      <td>0.2</td>\n",
       "      <td>43.5</td>\n",
       "      <td>7.6</td>\n",
       "      <td>state</td>\n",
       "      <td>*</td>\n",
       "      <td>-0.04</td>\n",
       "      <td>2023-01-01</td>\n",
       "    </tr>\n",
       "    <tr>\n",
       "      <th>1</th>\n",
       "      <td>5.7</td>\n",
       "      <td>62</td>\n",
       "      <td>10.7</td>\n",
       "      <td>1.7</td>\n",
       "      <td>17.5</td>\n",
       "      <td>23.6</td>\n",
       "      <td>state</td>\n",
       "      <td>&amp;</td>\n",
       "      <td>3.35</td>\n",
       "      <td>2023-01-02</td>\n",
       "    </tr>\n",
       "    <tr>\n",
       "      <th>2</th>\n",
       "      <td>18.9</td>\n",
       "      <td>81</td>\n",
       "      <td>13.2</td>\n",
       "      <td>3.2</td>\n",
       "      <td>27.6</td>\n",
       "      <td>8.1</td>\n",
       "      <td>state</td>\n",
       "      <td>*</td>\n",
       "      <td>2.48</td>\n",
       "      <td>2023-01-03</td>\n",
       "    </tr>\n",
       "    <tr>\n",
       "      <th>3</th>\n",
       "      <td>16.9</td>\n",
       "      <td>38</td>\n",
       "      <td>19.0</td>\n",
       "      <td>0.2</td>\n",
       "      <td>44.5</td>\n",
       "      <td>7.0</td>\n",
       "      <td>state</td>\n",
       "      <td>&amp;</td>\n",
       "      <td>-0.74</td>\n",
       "      <td>2023-01-04</td>\n",
       "    </tr>\n",
       "    <tr>\n",
       "      <th>4</th>\n",
       "      <td>24.3</td>\n",
       "      <td>73</td>\n",
       "      <td>10.4</td>\n",
       "      <td>5.0</td>\n",
       "      <td>26.0</td>\n",
       "      <td>11.8</td>\n",
       "      <td>state</td>\n",
       "      <td>4</td>\n",
       "      <td>3.60</td>\n",
       "      <td>2023-01-05</td>\n",
       "    </tr>\n",
       "  </tbody>\n",
       "</table>\n",
       "</div>"
      ],
      "text/plain": [
       "   minority  crime  poverty  language  highschool  housing   city  \\\n",
       "0      26.1     49     18.9       0.2        43.5      7.6  state   \n",
       "1       5.7     62     10.7       1.7        17.5     23.6  state   \n",
       "2      18.9     81     13.2       3.2        27.6      8.1  state   \n",
       "3      16.9     38     19.0       0.2        44.5      7.0  state   \n",
       "4      24.3     73     10.4       5.0        26.0     11.8  state   \n",
       "\n",
       "  conventional  undercount        date  \n",
       "0            *       -0.04  2023-01-01  \n",
       "1            &        3.35  2023-01-02  \n",
       "2            *        2.48  2023-01-03  \n",
       "3            &       -0.74  2023-01-04  \n",
       "4            4        3.60  2023-01-05  "
      ]
     },
     "execution_count": 2,
     "metadata": {},
     "output_type": "execute_result"
    }
   ],
   "source": [
    "# 코드"
   ]
  },
  {
   "cell_type": "code",
   "execution_count": 3,
   "metadata": {},
   "outputs": [
    {
     "data": {
      "text/html": [
       "<div>\n",
       "<style scoped>\n",
       "    .dataframe tbody tr th:only-of-type {\n",
       "        vertical-align: middle;\n",
       "    }\n",
       "\n",
       "    .dataframe tbody tr th {\n",
       "        vertical-align: top;\n",
       "    }\n",
       "\n",
       "    .dataframe thead th {\n",
       "        text-align: right;\n",
       "    }\n",
       "</style>\n",
       "<table border=\"1\" class=\"dataframe\">\n",
       "  <thead>\n",
       "    <tr style=\"text-align: right;\">\n",
       "      <th></th>\n",
       "      <th>minority</th>\n",
       "      <th>crime</th>\n",
       "      <th>poverty</th>\n",
       "      <th>language</th>\n",
       "      <th>highschool</th>\n",
       "      <th>housing</th>\n",
       "      <th>city</th>\n",
       "      <th>conventional</th>\n",
       "      <th>undercount</th>\n",
       "      <th>date</th>\n",
       "    </tr>\n",
       "  </thead>\n",
       "  <tbody>\n",
       "    <tr>\n",
       "      <th>0</th>\n",
       "      <td>26.1</td>\n",
       "      <td>49</td>\n",
       "      <td>18.9</td>\n",
       "      <td>0.2</td>\n",
       "      <td>43.5</td>\n",
       "      <td>7.6</td>\n",
       "      <td>state</td>\n",
       "      <td></td>\n",
       "      <td>-0.04</td>\n",
       "      <td>2023-01-01</td>\n",
       "    </tr>\n",
       "    <tr>\n",
       "      <th>1</th>\n",
       "      <td>5.7</td>\n",
       "      <td>62</td>\n",
       "      <td>10.7</td>\n",
       "      <td>1.7</td>\n",
       "      <td>17.5</td>\n",
       "      <td>23.6</td>\n",
       "      <td>state</td>\n",
       "      <td></td>\n",
       "      <td>3.35</td>\n",
       "      <td>2023-01-02</td>\n",
       "    </tr>\n",
       "    <tr>\n",
       "      <th>2</th>\n",
       "      <td>18.9</td>\n",
       "      <td>81</td>\n",
       "      <td>13.2</td>\n",
       "      <td>3.2</td>\n",
       "      <td>27.6</td>\n",
       "      <td>8.1</td>\n",
       "      <td>state</td>\n",
       "      <td></td>\n",
       "      <td>2.48</td>\n",
       "      <td>2023-01-03</td>\n",
       "    </tr>\n",
       "    <tr>\n",
       "      <th>3</th>\n",
       "      <td>16.9</td>\n",
       "      <td>38</td>\n",
       "      <td>19.0</td>\n",
       "      <td>0.2</td>\n",
       "      <td>44.5</td>\n",
       "      <td>7.0</td>\n",
       "      <td>state</td>\n",
       "      <td></td>\n",
       "      <td>-0.74</td>\n",
       "      <td>2023-01-04</td>\n",
       "    </tr>\n",
       "    <tr>\n",
       "      <th>4</th>\n",
       "      <td>24.3</td>\n",
       "      <td>73</td>\n",
       "      <td>10.4</td>\n",
       "      <td>5.0</td>\n",
       "      <td>26.0</td>\n",
       "      <td>11.8</td>\n",
       "      <td>state</td>\n",
       "      <td>4</td>\n",
       "      <td>3.60</td>\n",
       "      <td>2023-01-05</td>\n",
       "    </tr>\n",
       "  </tbody>\n",
       "</table>\n",
       "</div>"
      ],
      "text/plain": [
       "   minority  crime  poverty  language  highschool  housing   city  \\\n",
       "0      26.1     49     18.9       0.2        43.5      7.6  state   \n",
       "1       5.7     62     10.7       1.7        17.5     23.6  state   \n",
       "2      18.9     81     13.2       3.2        27.6      8.1  state   \n",
       "3      16.9     38     19.0       0.2        44.5      7.0  state   \n",
       "4      24.3     73     10.4       5.0        26.0     11.8  state   \n",
       "\n",
       "  conventional  undercount        date  \n",
       "0                    -0.04  2023-01-01  \n",
       "1                     3.35  2023-01-02  \n",
       "2                     2.48  2023-01-03  \n",
       "3                    -0.74  2023-01-04  \n",
       "4            4        3.60  2023-01-05  "
      ]
     },
     "execution_count": 3,
     "metadata": {},
     "output_type": "execute_result"
    }
   ],
   "source": [
    "# 영어, 숫자, 한국어를 제외한 모든 문자 제거 \n",
    "# 코드 "
   ]
  },
  {
   "cell_type": "code",
   "execution_count": 5,
   "metadata": {},
   "outputs": [
    {
     "name": "stdout",
     "output_type": "stream",
     "text": [
      "IQR: 8.75\n"
     ]
    }
   ],
   "source": [
    "# 코드"
   ]
  },
  {
   "cell_type": "markdown",
   "metadata": {},
   "source": [
    "## 문제 2. \n",
    "- 위 데이터에서 흑인 또는 히스패닉 비율(minority) / 빈곤율(poverty) > 2이며, 도시 유형(city)이 state인 도시의 범죄율(crime) 평균을 구하시오. \n",
    "- 소수점 첫째 자리에서 반올림"
   ]
  },
  {
   "cell_type": "code",
   "execution_count": 8,
   "metadata": {},
   "outputs": [
    {
     "name": "stdout",
     "output_type": "stream",
     "text": [
      "범죄율 평균: 61.0\n"
     ]
    }
   ],
   "source": [
    "# 코드"
   ]
  },
  {
   "cell_type": "markdown",
   "metadata": {},
   "source": [
    "## 문제 3. \n",
    "- 다음 데이터에서 2016년 9월 이후, 온도(actual)의 평균을 구하시오. (소수점 첫째 자리에서 반올림)\n"
   ]
  },
  {
   "cell_type": "code",
   "execution_count": 9,
   "metadata": {},
   "outputs": [
    {
     "data": {
      "text/html": [
       "<div>\n",
       "<style scoped>\n",
       "    .dataframe tbody tr th:only-of-type {\n",
       "        vertical-align: middle;\n",
       "    }\n",
       "\n",
       "    .dataframe tbody tr th {\n",
       "        vertical-align: top;\n",
       "    }\n",
       "\n",
       "    .dataframe thead th {\n",
       "        text-align: right;\n",
       "    }\n",
       "</style>\n",
       "<table border=\"1\" class=\"dataframe\">\n",
       "  <thead>\n",
       "    <tr style=\"text-align: right;\">\n",
       "      <th></th>\n",
       "      <th>year</th>\n",
       "      <th>month</th>\n",
       "      <th>day</th>\n",
       "      <th>week</th>\n",
       "      <th>temp_2</th>\n",
       "      <th>temp_1</th>\n",
       "      <th>average</th>\n",
       "      <th>actual</th>\n",
       "      <th>friend</th>\n",
       "    </tr>\n",
       "  </thead>\n",
       "  <tbody>\n",
       "    <tr>\n",
       "      <th>0</th>\n",
       "      <td>2016</td>\n",
       "      <td>1</td>\n",
       "      <td>1</td>\n",
       "      <td>Fri</td>\n",
       "      <td>45</td>\n",
       "      <td>45</td>\n",
       "      <td>45.6</td>\n",
       "      <td>45</td>\n",
       "      <td>29</td>\n",
       "    </tr>\n",
       "  </tbody>\n",
       "</table>\n",
       "</div>"
      ],
      "text/plain": [
       "   year  month  day week  temp_2  temp_1  average  actual  friend\n",
       "0  2016      1    1  Fri      45      45     45.6      45      29"
      ]
     },
     "execution_count": 9,
     "metadata": {},
     "output_type": "execute_result"
    }
   ],
   "source": [
    "# 코드 "
   ]
  },
  {
   "cell_type": "code",
   "execution_count": 10,
   "metadata": {},
   "outputs": [
    {
     "name": "stdout",
     "output_type": "stream",
     "text": [
      "2016년 9월 이후 온도 평균: 58.0\n"
     ]
    }
   ],
   "source": [
    "# 코드 "
   ]
  },
  {
   "cell_type": "code",
   "execution_count": 16,
   "metadata": {},
   "outputs": [
    {
     "name": "stdout",
     "output_type": "stream",
     "text": [
      "2016년 9월 이후 온도 평균: 58.0\n"
     ]
    }
   ],
   "source": [
    "# 코드"
   ]
  }
 ],
 "metadata": {
  "kernelspec": {
   "display_name": "Python 3 (ipykernel)",
   "language": "python",
   "name": "python3"
  },
  "language_info": {
   "codemirror_mode": {
    "name": "ipython",
    "version": 3
   },
   "file_extension": ".py",
   "mimetype": "text/x-python",
   "name": "python",
   "nbconvert_exporter": "python",
   "pygments_lexer": "ipython3",
   "version": "3.11.12"
  }
 },
 "nbformat": 4,
 "nbformat_minor": 4
}
