{
 "cells": [
  {
   "cell_type": "markdown",
   "metadata": {},
   "source": [
    ">**기출문제 제7회**\n",
    ">>**01 작업형 제1유형**"
   ]
  },
  {
   "cell_type": "markdown",
   "metadata": {},
   "source": [
    "## 옵션 설정"
   ]
  },
  {
   "cell_type": "code",
   "execution_count": 1,
   "metadata": {},
   "outputs": [],
   "source": [
    "import pandas as pd\n",
    "import numpy as np\n",
    "pd.set_option('display.max_columns', None) # 모든 칼럼이 출력되게 조절"
   ]
  },
  {
   "cell_type": "markdown",
   "metadata": {},
   "source": [
    "## 문제 1. \n",
    "- 각 제품보고서별 처리 시간(처리시각과 신고시각으 차이) 칼럼(초단위)을 생성 후 공장별 처리 시간의 평균을 산출하시오. \n",
    "- 산출된 결과를 바탕으로 평균 처리 시간이 3번째로 적은 공장명을 구하시오. "
   ]
  },
  {
   "cell_type": "code",
   "execution_count": 3,
   "metadata": {},
   "outputs": [
    {
     "data": {
      "text/html": [
       "<div>\n",
       "<style scoped>\n",
       "    .dataframe tbody tr th:only-of-type {\n",
       "        vertical-align: middle;\n",
       "    }\n",
       "\n",
       "    .dataframe tbody tr th {\n",
       "        vertical-align: top;\n",
       "    }\n",
       "\n",
       "    .dataframe thead th {\n",
       "        text-align: right;\n",
       "    }\n",
       "</style>\n",
       "<table border=\"1\" class=\"dataframe\">\n",
       "  <thead>\n",
       "    <tr style=\"text-align: right;\">\n",
       "      <th></th>\n",
       "      <th>제품보고서번호</th>\n",
       "      <th>공장명</th>\n",
       "      <th>결함유형</th>\n",
       "      <th>신고일자</th>\n",
       "      <th>신고시각</th>\n",
       "      <th>처리일자</th>\n",
       "      <th>처리시각</th>\n",
       "      <th>작업자직업명</th>\n",
       "      <th>사고발생장소</th>\n",
       "      <th>신고일시</th>\n",
       "      <th>처리일시</th>\n",
       "    </tr>\n",
       "  </thead>\n",
       "  <tbody>\n",
       "    <tr>\n",
       "      <th>0</th>\n",
       "      <td>202200000001M25795</td>\n",
       "      <td>공장B</td>\n",
       "      <td>기계 결함</td>\n",
       "      <td>20220722</td>\n",
       "      <td>205914</td>\n",
       "      <td>20221027</td>\n",
       "      <td>184738</td>\n",
       "      <td>기술자</td>\n",
       "      <td>라인5</td>\n",
       "      <td>2022-07-22 20:59:14</td>\n",
       "      <td>2022-10-27 18:47:38</td>\n",
       "    </tr>\n",
       "  </tbody>\n",
       "</table>\n",
       "</div>"
      ],
      "text/plain": [
       "              제품보고서번호  공장명   결함유형      신고일자    신고시각      처리일자    처리시각 작업자직업명  \\\n",
       "0  202200000001M25795  공장B  기계 결함  20220722  205914  20221027  184738    기술자   \n",
       "\n",
       "  사고발생장소                 신고일시                 처리일시  \n",
       "0    라인5  2022-07-22 20:59:14  2022-10-27 18:47:38  "
      ]
     },
     "execution_count": 3,
     "metadata": {},
     "output_type": "execute_result"
    }
   ],
   "source": [
    "data1 = pd.read_csv('7_1_1.csv') \n",
    "data1.head(1)"
   ]
  },
  {
   "cell_type": "code",
   "execution_count": 7,
   "metadata": {},
   "outputs": [
    {
     "name": "stdout",
     "output_type": "stream",
     "text": [
      "공장명\n",
      "공장B    9146906.92\n",
      "공장C    9178145.58\n",
      "공장D   11008063.38\n",
      "공장A   11730455.05\n",
      "공장E   12658950.29\n",
      "Name: 처리시간, dtype: float64\n",
      "\n",
      "3번째로 처리시간이 적은 공장: 공장D\n"
     ]
    }
   ],
   "source": [
    "# 코드"
   ]
  },
  {
   "cell_type": "markdown",
   "metadata": {},
   "source": [
    "## 문제 2. \n",
    "- STATION_ADDR1 변수에서 구 정보만 추출한 후, 마포구, 성동구의 평균 이동 거리 구하기 "
   ]
  },
  {
   "cell_type": "code",
   "execution_count": 8,
   "metadata": {},
   "outputs": [
    {
     "data": {
      "text/html": [
       "<div>\n",
       "<style scoped>\n",
       "    .dataframe tbody tr th:only-of-type {\n",
       "        vertical-align: middle;\n",
       "    }\n",
       "\n",
       "    .dataframe tbody tr th {\n",
       "        vertical-align: top;\n",
       "    }\n",
       "\n",
       "    .dataframe thead th {\n",
       "        text-align: right;\n",
       "    }\n",
       "</style>\n",
       "<table border=\"1\" class=\"dataframe\">\n",
       "  <thead>\n",
       "    <tr style=\"text-align: right;\">\n",
       "      <th></th>\n",
       "      <th>rent_date</th>\n",
       "      <th>rent_place</th>\n",
       "      <th>using_time</th>\n",
       "      <th>dist</th>\n",
       "      <th>bill_type</th>\n",
       "      <th>STATION_ADDR1</th>\n",
       "      <th>STATION_ID</th>\n",
       "      <th>STATION_LATITUDE</th>\n",
       "      <th>STATION_LONGITUDE</th>\n",
       "    </tr>\n",
       "  </thead>\n",
       "  <tbody>\n",
       "    <tr>\n",
       "      <th>0</th>\n",
       "      <td>2019-03-19 00:42:26</td>\n",
       "      <td>ST-920</td>\n",
       "      <td>6</td>\n",
       "      <td>1660</td>\n",
       "      <td>BIL_002</td>\n",
       "      <td>서울특별시 구로구 경인로40길 47</td>\n",
       "      <td>ST-920</td>\n",
       "      <td>37.49</td>\n",
       "      <td>126.86</td>\n",
       "    </tr>\n",
       "  </tbody>\n",
       "</table>\n",
       "</div>"
      ],
      "text/plain": [
       "             rent_date rent_place  using_time  dist bill_type  \\\n",
       "0  2019-03-19 00:42:26     ST-920           6  1660   BIL_002   \n",
       "\n",
       "         STATION_ADDR1 STATION_ID  STATION_LATITUDE  STATION_LONGITUDE  \n",
       "0  서울특별시 구로구 경인로40길 47     ST-920             37.49             126.86  "
      ]
     },
     "execution_count": 8,
     "metadata": {},
     "output_type": "execute_result"
    }
   ],
   "source": [
    "data2 = pd.read_csv('7_1_2.csv')\n",
    "data2.head(1)"
   ]
  },
  {
   "cell_type": "code",
   "execution_count": 11,
   "metadata": {},
   "outputs": [
    {
     "name": "stdout",
     "output_type": "stream",
     "text": [
      "마포구와 성동구의 평균 이동거리:\n",
      "구\n",
      "마포구   3045.88\n",
      "성동구   3202.31\n",
      "Name: dist, dtype: float64\n"
     ]
    }
   ],
   "source": [
    "# 코드"
   ]
  },
  {
   "cell_type": "markdown",
   "metadata": {},
   "source": [
    "## 문제 3. \n",
    "- 분기별 총 판매량(제품A~E 합계)의 월평균을 구하고, 월평균이 최대인 연도와 분기를 구하시오. "
   ]
  },
  {
   "cell_type": "code",
   "execution_count": 13,
   "metadata": {},
   "outputs": [
    {
     "data": {
      "text/html": [
       "<div>\n",
       "<style scoped>\n",
       "    .dataframe tbody tr th:only-of-type {\n",
       "        vertical-align: middle;\n",
       "    }\n",
       "\n",
       "    .dataframe tbody tr th {\n",
       "        vertical-align: top;\n",
       "    }\n",
       "\n",
       "    .dataframe thead th {\n",
       "        text-align: right;\n",
       "    }\n",
       "</style>\n",
       "<table border=\"1\" class=\"dataframe\">\n",
       "  <thead>\n",
       "    <tr style=\"text-align: right;\">\n",
       "      <th></th>\n",
       "      <th>기간</th>\n",
       "      <th>제품A</th>\n",
       "      <th>제품B</th>\n",
       "      <th>제품C</th>\n",
       "      <th>제품D</th>\n",
       "      <th>제품E</th>\n",
       "    </tr>\n",
       "  </thead>\n",
       "  <tbody>\n",
       "    <tr>\n",
       "      <th>0</th>\n",
       "      <td>2018년_1월</td>\n",
       "      <td>890</td>\n",
       "      <td>567</td>\n",
       "      <td>274</td>\n",
       "      <td>762</td>\n",
       "      <td>691</td>\n",
       "    </tr>\n",
       "  </tbody>\n",
       "</table>\n",
       "</div>"
      ],
      "text/plain": [
       "         기간  제품A  제품B  제품C  제품D  제품E\n",
       "0  2018년_1월  890  567  274  762  691"
      ]
     },
     "execution_count": 13,
     "metadata": {},
     "output_type": "execute_result"
    }
   ],
   "source": [
    "data3 = pd.read_csv('7_1_3.csv')\n",
    "data3.head(1)"
   ]
  },
  {
   "cell_type": "code",
   "execution_count": 17,
   "metadata": {},
   "outputs": [
    {
     "name": "stdout",
     "output_type": "stream",
     "text": [
      "분기별 총 판매량의 월평균이 가장 높은 연도와 분기:\n",
      "연도: 2018\n",
      "분기: 3\n"
     ]
    }
   ],
   "source": [
    "# 코드"
   ]
  }
 ],
 "metadata": {
  "kernelspec": {
   "display_name": "venv",
   "language": "python",
   "name": "python3"
  },
  "language_info": {
   "codemirror_mode": {
    "name": "ipython",
    "version": 3
   },
   "file_extension": ".py",
   "mimetype": "text/x-python",
   "name": "python",
   "nbconvert_exporter": "python",
   "pygments_lexer": "ipython3",
   "version": "3.13.2"
  }
 },
 "nbformat": 4,
 "nbformat_minor": 2
}
