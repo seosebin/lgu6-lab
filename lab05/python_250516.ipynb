{
 "cells": [
  {
   "cell_type": "markdown",
   "id": "f2603c8d-df3b-4f91-967a-b50772130337",
   "metadata": {},
   "source": [
    "# 환경설정"
   ]
  },
  {
   "cell_type": "code",
   "execution_count": 3,
   "id": "12474db7-00d4-4185-9e85-2ab51e837889",
   "metadata": {},
   "outputs": [
    {
     "data": {
      "text/plain": [
       "'2.2.3'"
      ]
     },
     "execution_count": 3,
     "metadata": {},
     "output_type": "execute_result"
    }
   ],
   "source": [
    "# 필요한 패키지\n",
    "import numpy as np\n",
    "import pandas as pd\n",
    "import matplotlib.pyplot as plt\n",
    "\n",
    "# 한글출력\n",
    "plt.rcParams['font.family'] = 'Malgun Gothic' #  Windows 'Malgun Gothic' \n",
    "plt.rcParams['axes.unicode_minus'] = False\n",
    "\n",
    "pd.__version__"
   ]
  },
  {
   "cell_type": "markdown",
   "id": "b1bb2d00-e5de-4da7-b6d0-555000b34b50",
   "metadata": {},
   "source": [
    "# 상관계수\n",
    "- 피어슨 상관계수 (두 연속형 변수)\n",
    "- 계수 ($$ 표시 latex(수식) 문법 적용)\n",
    "  + $r$ = +/-1 : 완벽한 상관관계를 가짐,\n",
    "  + $r$ = 0 : 두 변수 간에는 선형적 관계가 없음\n",
    "- 가설설정\n",
    "  + 귀무가설 : 상관계수가 0이다 (두 변수 간 상관관계가 없음)\n",
    "  + 대립가설 : 상관계수는 0이 아니다 (두 변수 간 상관관계가 있음"
   ]
  },
  {
   "cell_type": "code",
   "execution_count": 2,
   "id": "97b9baf2-b320-403a-a827-d4750330fc4f",
   "metadata": {},
   "outputs": [
    {
     "name": "stdout",
     "output_type": "stream",
     "text": [
      "0.9761870601839526 0.004395375691816597\n"
     ]
    }
   ],
   "source": [
    "import numpy as np\n",
    "import scipy.stats as stats # 수치해석, 통계 관련 라이브러리\n",
    "\n",
    "# 샘플 데이터\n",
    "x = np.array([10, 20, 30, 40, 50])\n",
    "y = np.array([5, 15, 30, 35, 40])\n",
    "\n",
    "coeff, p_value = stats.pearsonr(x, y)\n",
    "#      상관계수   p_value\n",
    "print(coeff,      p_value)"
   ]
  },
  {
   "cell_type": "markdown",
   "id": "7a78b040-b3c8-4c19-8cbb-c61fef2071c3",
   "metadata": {},
   "source": [
    "# 회귀분석\n",
    "- 통계적 접근 : 수많은 가정을 이해해야 함\n",
    "  + statsmodels 라이브러리 메인 활용\n",
    "- ML/DL 접근 : 수치 예측, 수치 예측이 가능한 모델이 상품화 할 수 있는가? (ML/DL)\n",
    "  + scikit-learn 라이브러리 활용"
   ]
  },
  {
   "cell_type": "markdown",
   "id": "356b3e07-2a06-4f3f-9167-2585fa850e2f",
   "metadata": {},
   "source": [
    "- 머신러닝/딥러닝 ==> 내부 알고리즘, 수식과 통계이론으로 정철된 분야\n",
    "- 머신러닝 학습하기 전에는 반드시 모든 데이터가 숫자로 구성이 되어 있어야 함"
   ]
  },
  {
   "cell_type": "code",
   "execution_count": 16,
   "id": "7b9da2d8-4efc-457b-96f5-5c5ad297e04e",
   "metadata": {},
   "outputs": [
    {
     "data": {
      "text/html": [
       "<div>\n",
       "<style scoped>\n",
       "    .dataframe tbody tr th:only-of-type {\n",
       "        vertical-align: middle;\n",
       "    }\n",
       "\n",
       "    .dataframe tbody tr th {\n",
       "        vertical-align: top;\n",
       "    }\n",
       "\n",
       "    .dataframe thead th {\n",
       "        text-align: right;\n",
       "    }\n",
       "</style>\n",
       "<table border=\"1\" class=\"dataframe\">\n",
       "  <thead>\n",
       "    <tr style=\"text-align: right;\">\n",
       "      <th></th>\n",
       "      <th>Sepal_Length</th>\n",
       "      <th>Sepal_Width</th>\n",
       "      <th>Petal_Length</th>\n",
       "      <th>Petal_Width</th>\n",
       "      <th>species</th>\n",
       "    </tr>\n",
       "  </thead>\n",
       "  <tbody>\n",
       "    <tr>\n",
       "      <th>0</th>\n",
       "      <td>5.1</td>\n",
       "      <td>3.5</td>\n",
       "      <td>1.4</td>\n",
       "      <td>0.2</td>\n",
       "      <td>setosa</td>\n",
       "    </tr>\n",
       "    <tr>\n",
       "      <th>1</th>\n",
       "      <td>4.9</td>\n",
       "      <td>3.0</td>\n",
       "      <td>1.4</td>\n",
       "      <td>0.2</td>\n",
       "      <td>setosa</td>\n",
       "    </tr>\n",
       "    <tr>\n",
       "      <th>2</th>\n",
       "      <td>4.7</td>\n",
       "      <td>3.2</td>\n",
       "      <td>1.3</td>\n",
       "      <td>0.2</td>\n",
       "      <td>setosa</td>\n",
       "    </tr>\n",
       "    <tr>\n",
       "      <th>3</th>\n",
       "      <td>4.6</td>\n",
       "      <td>3.1</td>\n",
       "      <td>1.5</td>\n",
       "      <td>0.2</td>\n",
       "      <td>setosa</td>\n",
       "    </tr>\n",
       "    <tr>\n",
       "      <th>4</th>\n",
       "      <td>5.0</td>\n",
       "      <td>3.6</td>\n",
       "      <td>1.4</td>\n",
       "      <td>0.2</td>\n",
       "      <td>setosa</td>\n",
       "    </tr>\n",
       "  </tbody>\n",
       "</table>\n",
       "</div>"
      ],
      "text/plain": [
       "   Sepal_Length  Sepal_Width  Petal_Length  Petal_Width species\n",
       "0           5.1          3.5           1.4          0.2  setosa\n",
       "1           4.9          3.0           1.4          0.2  setosa\n",
       "2           4.7          3.2           1.3          0.2  setosa\n",
       "3           4.6          3.1           1.5          0.2  setosa\n",
       "4           5.0          3.6           1.4          0.2  setosa"
      ]
     },
     "execution_count": 16,
     "metadata": {},
     "output_type": "execute_result"
    }
   ],
   "source": [
    "import numpy as np\n",
    "import pandas as pd\n",
    "from sklearn.datasets import load_iris\n",
    "\n",
    "df_iris = load_iris()\n",
    "\n",
    "# pandas dataFrame으로 변환\n",
    "iris = pd.DataFrame(data = df_iris.data, columns = df_iris.feature_names)\n",
    "iris.columns = ['Sepal_Length','Sepal_Width','Petal_Length','Petal_Width']\n",
    "\n",
    "# 타겟 클래스명 추가\n",
    "iris['species'] = df_iris.target\n",
    "\n",
    "# species 라벨을 실제 이름으로 변경\n",
    "# pandas 메서드, map() 활용\n",
    "# (0: setosa, 1: versicolor, 2: virginica)\n",
    "iris[\"species\"] = iris[\"species\"].map({0: \"setosa\", 1: \"versicolor\", 2: \"virginica\"})\n",
    "iris.head()"
   ]
  },
  {
   "cell_type": "markdown",
   "id": "5aaf2bc2-73de-4b1e-abbd-3d1f84d49c4c",
   "metadata": {},
   "source": [
    "## 통계적 관점에서의 회귀모델\n",
    "- statsmodels 라이브러리 활용\n",
    "- 링크 : 추가\n",
    "- 회귀모형\n",
    "  + 모형이 유의한가?, 기울기 관점에서 이해\n",
    "    - 1차함수, y = b0 + b1x1 + b2x2 + e\n",
    "  + 모형을 사용할 수 있는가?\n",
    "  + 가설설정\n",
    "    - 귀무가설 : 기울기가 0인가?\n",
    "    - 대립가설 : 기울기가 0이 아니다\n",
    "- 회귀식 자체에 대해서 살펴보는 통계량 F통계량 (F 통계량은 실전에서는 딱히 중요하지 않음)\n",
    "- 개별적인 필드(컬럼)에 관한 기울기 통계량 t통계량 (특정한 필드를 선정해야 해서, 이 통계량이 중요함)"
   ]
  },
  {
   "cell_type": "code",
   "execution_count": 17,
   "id": "dfe17875-6692-41a5-956e-b33958e49930",
   "metadata": {},
   "outputs": [
    {
     "name": "stdout",
     "output_type": "stream",
     "text": [
      "                            OLS Regression Results                            \n",
      "==============================================================================\n",
      "Dep. Variable:           Petal_Length   R-squared:                       0.949\n",
      "Model:                            OLS   Adj. R-squared:                  0.948\n",
      "Method:                 Least Squares   F-statistic:                     1354.\n",
      "Date:                Fri, 16 May 2025   Prob (F-statistic):           2.01e-95\n",
      "Time:                        09:49:03   Log-Likelihood:                -75.090\n",
      "No. Observations:                 150   AIC:                             156.2\n",
      "Df Residuals:                     147   BIC:                             165.2\n",
      "Df Model:                           2                                         \n",
      "Covariance Type:            nonrobust                                         \n",
      "================================================================================\n",
      "                   coef    std err          t      P>|t|      [0.025      0.975]\n",
      "--------------------------------------------------------------------------------\n",
      "Intercept       -1.5071      0.337     -4.473      0.000      -2.173      -0.841\n",
      "Petal_Width      1.7481      0.075     23.205      0.000       1.599       1.897\n",
      "Sepal_Length     0.5423      0.069      7.820      0.000       0.405       0.679\n",
      "==============================================================================\n",
      "Omnibus:                        1.243   Durbin-Watson:                   1.339\n",
      "Prob(Omnibus):                  0.537   Jarque-Bera (JB):                0.840\n",
      "Skew:                          -0.058   Prob(JB):                        0.657\n",
      "Kurtosis:                       3.348   Cond. No.                         64.7\n",
      "==============================================================================\n",
      "\n",
      "Notes:\n",
      "[1] Standard Errors assume that the covariance matrix of the errors is correctly specified.\n"
     ]
    }
   ],
   "source": [
    "import statsmodels.api as sm\n",
    "import statsmodels.formula.api as smf # 유쾌한 R 통계학, formula 형태로 모델 만듬\n",
    "\n",
    "# 방법 1.\n",
    "# 실제 프로젝트 할 때는 가장 어려운 것! y값을 정하는 것 ==> 프로젝트 주제\n",
    "model = smf.ols('Petal_Length ~ Petal_Width + Sepal_Length', data = iris).fit()\n",
    "print(model.summary())\n",
    "\n",
    "# 분석가 희망자들 : 아래 결과를 모두 이해하는 방향으로 공부\n",
    "# 데이터 엔지니어 : R-squared, 이것만 확인"
   ]
  },
  {
   "cell_type": "code",
   "execution_count": 18,
   "id": "5efeeb18-dde5-4f20-9830-7896fa1e900f",
   "metadata": {},
   "outputs": [
    {
     "name": "stdout",
     "output_type": "stream",
     "text": [
      "                 Generalized Linear Model Regression Results                  \n",
      "==============================================================================\n",
      "Dep. Variable:           Petal_Length   No. Observations:                  150\n",
      "Model:                            GLM   Df Residuals:                      147\n",
      "Model Family:                Gaussian   Df Model:                            2\n",
      "Link Function:               Identity   Scale:                         0.16260\n",
      "Method:                          IRLS   Log-Likelihood:                -75.090\n",
      "Date:                Fri, 16 May 2025   Deviance:                       23.902\n",
      "Time:                        10:06:29   Pearson chi2:                     23.9\n",
      "No. Iterations:                     3   Pseudo R-squ. (CS):              1.000\n",
      "Covariance Type:            nonrobust                                         \n",
      "================================================================================\n",
      "                   coef    std err          z      P>|z|      [0.025      0.975]\n",
      "--------------------------------------------------------------------------------\n",
      "Intercept       -1.5071      0.337     -4.473      0.000      -2.168      -0.847\n",
      "Petal_Width      1.7481      0.075     23.205      0.000       1.600       1.896\n",
      "Sepal_Length     0.5423      0.069      7.820      0.000       0.406       0.678\n",
      "================================================================================\n"
     ]
    }
   ],
   "source": [
    "# 벙법 2.                                                             # 다중선형회귀 모형\n",
    "model2 = smf.glm(\"Petal_Length ~ Petal_Width + Sepal_Length\", family = sm.families.Gaussian(), data = iris).fit()\n",
    "print(model2.summary())"
   ]
  },
  {
   "cell_type": "code",
   "execution_count": 19,
   "id": "4e13f765-f3e7-481d-9f1a-98052dd3f40b",
   "metadata": {},
   "outputs": [
    {
     "name": "stdout",
     "output_type": "stream",
     "text": [
      "                            OLS Regression Results                            \n",
      "==============================================================================\n",
      "Dep. Variable:           Petal_Length   R-squared:                       0.978\n",
      "Model:                            OLS   Adj. R-squared:                  0.977\n",
      "Method:                 Least Squares   F-statistic:                     1600.\n",
      "Date:                Fri, 16 May 2025   Prob (F-statistic):          8.06e-119\n",
      "Time:                        10:09:18   Log-Likelihood:                -11.867\n",
      "No. Observations:                 150   AIC:                             33.73\n",
      "Df Residuals:                     145   BIC:                             48.79\n",
      "Df Model:                           4                                         \n",
      "Covariance Type:            nonrobust                                         \n",
      "============================================================================================\n",
      "                               coef    std err          t      P>|t|      [0.025      0.975]\n",
      "--------------------------------------------------------------------------------------------\n",
      "Intercept                   -1.4596      0.224     -6.520      0.000      -1.902      -1.017\n",
      "C(species)[T.versicolor]     1.7315      0.128     13.567      0.000       1.479       1.984\n",
      "C(species)[T.virginica]      2.3047      0.198     11.617      0.000       1.913       2.697\n",
      "Petal_Width                  0.5064      0.115      4.393      0.000       0.279       0.734\n",
      "Sepal_Length                 0.5587      0.046     12.191      0.000       0.468       0.649\n",
      "==============================================================================\n",
      "Omnibus:                        1.189   Durbin-Watson:                   1.620\n",
      "Prob(Omnibus):                  0.552   Jarque-Bera (JB):                0.786\n",
      "Skew:                          -0.059   Prob(JB):                        0.675\n",
      "Kurtosis:                       3.335   Cond. No.                         72.1\n",
      "==============================================================================\n",
      "\n",
      "Notes:\n",
      "[1] Standard Errors assume that the covariance matrix of the errors is correctly specified.\n"
     ]
    }
   ],
   "source": [
    "# 방법 3. 범주형 데이터가 들어갈 경우 C()로 작성해서 해당 필드가 범주형 변수 명시, 자체적으로 인코딩이 됨\n",
    "model3 = smf.ols(\"Petal_Length ~ Petal_Width + Sepal_Length + C(species)\", data = iris).fit()\n",
    "print(model3.summary())"
   ]
  },
  {
   "cell_type": "code",
   "execution_count": 23,
   "id": "e00af8ad-f7e7-4bbc-95dd-fef479ee6a19",
   "metadata": {},
   "outputs": [
    {
     "name": "stdout",
     "output_type": "stream",
     "text": [
      "                            OLS Regression Results                            \n",
      "==============================================================================\n",
      "Dep. Variable:           Petal_Length   R-squared:                       0.949\n",
      "Model:                            OLS   Adj. R-squared:                  0.948\n",
      "Method:                 Least Squares   F-statistic:                     1354.\n",
      "Date:                Fri, 16 May 2025   Prob (F-statistic):           2.01e-95\n",
      "Time:                        10:44:31   Log-Likelihood:                -75.090\n",
      "No. Observations:                 150   AIC:                             156.2\n",
      "Df Residuals:                     147   BIC:                             165.2\n",
      "Df Model:                           2                                         \n",
      "Covariance Type:            nonrobust                                         \n",
      "================================================================================\n",
      "                   coef    std err          t      P>|t|      [0.025      0.975]\n",
      "--------------------------------------------------------------------------------\n",
      "const           -1.5071      0.337     -4.473      0.000      -2.173      -0.841\n",
      "Petal_Width      1.7481      0.075     23.205      0.000       1.599       1.897\n",
      "Sepal_Length     0.5423      0.069      7.820      0.000       0.405       0.679\n",
      "==============================================================================\n",
      "Omnibus:                        1.243   Durbin-Watson:                   1.339\n",
      "Prob(Omnibus):                  0.537   Jarque-Bera (JB):                0.840\n",
      "Skew:                          -0.058   Prob(JB):                        0.657\n",
      "Kurtosis:                       3.348   Cond. No.                         64.7\n",
      "==============================================================================\n",
      "\n",
      "Notes:\n",
      "[1] Standard Errors assume that the covariance matrix of the errors is correctly specified.\n"
     ]
    }
   ],
   "source": [
    "# 방법 4. 행렬 활용\n",
    "X = iris[['Petal_Width', 'Sepal_Length']]\n",
    "y = iris['Petal_Length']\n",
    "\n",
    "X = sm.add_constant(X)\n",
    "\n",
    "model4 = sm.OLS(y, X).fit()\n",
    "\n",
    "print(model4.summary())"
   ]
  },
  {
   "cell_type": "code",
   "execution_count": 31,
   "id": "a21b5d07-61b5-4c9e-b3fa-ef2de2dfc3ff",
   "metadata": {},
   "outputs": [
    {
     "name": "stdout",
     "output_type": "stream",
     "text": [
      "                            OLS Regression Results                            \n",
      "==============================================================================\n",
      "Dep. Variable:           Petal_Length   R-squared:                       0.949\n",
      "Model:                            OLS   Adj. R-squared:                  0.948\n",
      "Method:                 Least Squares   F-statistic:                     1354.\n",
      "Date:                Fri, 16 May 2025   Prob (F-statistic):           2.01e-95\n",
      "Time:                        11:26:45   Log-Likelihood:                -75.090\n",
      "No. Observations:                 150   AIC:                             156.2\n",
      "Df Residuals:                     147   BIC:                             165.2\n",
      "Df Model:                           2                                         \n",
      "Covariance Type:            nonrobust                                         \n",
      "================================================================================\n",
      "                   coef    std err          t      P>|t|      [0.025      0.975]\n",
      "--------------------------------------------------------------------------------\n",
      "const           -1.5071      0.337     -4.473      0.000      -2.173      -0.841\n",
      "Petal_Width      1.7481      0.075     23.205      0.000       1.599       1.897\n",
      "Sepal_Length     0.5423      0.069      7.820      0.000       0.405       0.679\n",
      "==============================================================================\n",
      "Omnibus:                        1.243   Durbin-Watson:                   1.339\n",
      "Prob(Omnibus):                  0.537   Jarque-Bera (JB):                0.840\n",
      "Skew:                          -0.058   Prob(JB):                        0.657\n",
      "Kurtosis:                       3.348   Cond. No.                         64.7\n",
      "==============================================================================\n",
      "\n",
      "Notes:\n",
      "[1] Standard Errors assume that the covariance matrix of the errors is correctly specified.\n"
     ]
    }
   ],
   "source": [
    "# 회귀계수에 따른 모델식\n",
    "print(model.summary())"
   ]
  },
  {
   "cell_type": "code",
   "execution_count": 36,
   "id": "ea50d118-b5cb-4cf2-891d-44a66b3de6b2",
   "metadata": {},
   "outputs": [
    {
     "data": {
      "text/plain": [
       "'Petal_Width'"
      ]
     },
     "execution_count": 36,
     "metadata": {},
     "output_type": "execute_result"
    }
   ],
   "source": [
    "# 회귀식\n",
    "# Petal_Length_result = -1.5071 + 1.7481xPetal_Width + 0.5423xSepal_Length\n",
    "# 만약에 필드가 10개 있는데, 그 중에서 p > 0.05이상인 필드가 3개 있음\n",
    "# 그럼 어떻게 해야할까?\n",
    "# 가장 좋은 모델을 선정하는 방법 (항상 AIC, BIC 같이 지표를 봐야함)\n",
    "# 잘못 알려진 사실 : A, B, C 컬럼을 한꺼번에 제거하고 나머지 7개를 활용하여 다시 모델을 만드는 방법\n",
    "# 제대로 하려면, A, B, C 중에서 t통계량이 가장 낮은 것을 제거하고, B, C 포함해서 9개 필드를 활용해서 모델을 다시 만들기\n",
    "# 그리고나서 기존모델과 새로운 모델 비교 (AIC, BIC, Adj. R-squared 같이 활용해서 종합적으로 판단\n",
    "# 최적의 조합을 찾는 것이 핵심 (현실 가능해야 하고, 현실 적용이 되어야 함)\n",
    "# 예시) 부동산 가격 예측 모델\n",
    "# 평수가 높으면 높을수록 가격이 올라간다는 명제, p-value 값이 매우 높게 나와도 현실적으로 활용\n",
    "# 회귀계수 추출\n",
    "model.params[1:]\n",
    "\n",
    "# 회귀계수가 가장 큰 변수 출력 (idxmax())\n",
    "model.params[1:].idxmax()"
   ]
  },
  {
   "cell_type": "code",
   "execution_count": 38,
   "id": "629e4a2a-cb2b-4d0a-8c14-218f2e4f135a",
   "metadata": {},
   "outputs": [
    {
     "name": "stdout",
     "output_type": "stream",
     "text": [
      "Intercept       -4.472752\n",
      "Petal_Width     23.205443\n",
      "Sepal_Length     7.819907\n",
      "dtype: float64\n",
      "Intercept       1.535178e-05\n",
      "Petal_Width     5.257543e-51\n",
      "Sepal_Length    9.414477e-13\n",
      "dtype: float64\n"
     ]
    }
   ],
   "source": [
    "t_values = model.tvalues\n",
    "print(t_values)\n",
    "\n",
    "p_values = model.pvalues\n",
    "print(p_values)"
   ]
  },
  {
   "cell_type": "code",
   "execution_count": 26,
   "id": "e106d4f5-2c97-42a5-854a-c2014ea359e4",
   "metadata": {},
   "outputs": [
    {
     "data": {
      "text/html": [
       "<div>\n",
       "<style scoped>\n",
       "    .dataframe tbody tr th:only-of-type {\n",
       "        vertical-align: middle;\n",
       "    }\n",
       "\n",
       "    .dataframe tbody tr th {\n",
       "        vertical-align: top;\n",
       "    }\n",
       "\n",
       "    .dataframe thead th {\n",
       "        text-align: right;\n",
       "    }\n",
       "</style>\n",
       "<table border=\"1\" class=\"dataframe\">\n",
       "  <thead>\n",
       "    <tr style=\"text-align: right;\">\n",
       "      <th></th>\n",
       "      <th>0</th>\n",
       "      <th>1</th>\n",
       "    </tr>\n",
       "  </thead>\n",
       "  <tbody>\n",
       "    <tr>\n",
       "      <th>const</th>\n",
       "      <td>-2.173050</td>\n",
       "      <td>-0.841227</td>\n",
       "    </tr>\n",
       "    <tr>\n",
       "      <th>Petal_Width</th>\n",
       "      <td>1.599230</td>\n",
       "      <td>1.896976</td>\n",
       "    </tr>\n",
       "    <tr>\n",
       "      <th>Sepal_Length</th>\n",
       "      <td>0.405218</td>\n",
       "      <td>0.679294</td>\n",
       "    </tr>\n",
       "  </tbody>\n",
       "</table>\n",
       "</div>"
      ],
      "text/plain": [
       "                     0         1\n",
       "const        -2.173050 -0.841227\n",
       "Petal_Width   1.599230  1.896976\n",
       "Sepal_Length  0.405218  0.679294"
      ]
     },
     "execution_count": 26,
     "metadata": {},
     "output_type": "execute_result"
    }
   ],
   "source": [
    "conf_intervals = model.conf_int() # 신뢰구간 추출\n",
    "conf_intervals"
   ]
  },
  {
   "cell_type": "code",
   "execution_count": 27,
   "id": "274007a0-f5c5-47a3-9cfd-f5b0f857e151",
   "metadata": {},
   "outputs": [
    {
     "data": {
      "text/html": [
       "<div>\n",
       "<style scoped>\n",
       "    .dataframe tbody tr th:only-of-type {\n",
       "        vertical-align: middle;\n",
       "    }\n",
       "\n",
       "    .dataframe tbody tr th {\n",
       "        vertical-align: top;\n",
       "    }\n",
       "\n",
       "    .dataframe thead th {\n",
       "        text-align: right;\n",
       "    }\n",
       "</style>\n",
       "<table border=\"1\" class=\"dataframe\">\n",
       "  <thead>\n",
       "    <tr style=\"text-align: right;\">\n",
       "      <th></th>\n",
       "      <th>0</th>\n",
       "      <th>1</th>\n",
       "    </tr>\n",
       "  </thead>\n",
       "  <tbody>\n",
       "    <tr>\n",
       "      <th>const</th>\n",
       "      <td>-2.064903</td>\n",
       "      <td>-0.949373</td>\n",
       "    </tr>\n",
       "    <tr>\n",
       "      <th>Petal_Width</th>\n",
       "      <td>1.623408</td>\n",
       "      <td>1.872798</td>\n",
       "    </tr>\n",
       "    <tr>\n",
       "      <th>Sepal_Length</th>\n",
       "      <td>0.427473</td>\n",
       "      <td>0.657038</td>\n",
       "    </tr>\n",
       "  </tbody>\n",
       "</table>\n",
       "</div>"
      ],
      "text/plain": [
       "                     0         1\n",
       "const        -2.064903 -0.949373\n",
       "Petal_Width   1.623408  1.872798\n",
       "Sepal_Length  0.427473  0.657038"
      ]
     },
     "execution_count": 27,
     "metadata": {},
     "output_type": "execute_result"
    }
   ],
   "source": [
    "conf_intervals = model.conf_int(alpha = 0.10) # 신뢰구간 추출\n",
    "conf_intervals"
   ]
  },
  {
   "cell_type": "markdown",
   "id": "67b079da-e61a-4315-bf9c-f05d41f72cf2",
   "metadata": {},
   "source": [
    "### 모델 평가 지표\n",
    "- 결정계수 (SST = SSR + SSE)\n",
    "  + 회귀제곱합(SSR)만 집중적으로 공부해서 이해가 되면 OK\n",
    "- F통계량"
   ]
  },
  {
   "cell_type": "code",
   "execution_count": 40,
   "id": "170a98e4-370c-4fe5-922a-dc30e1176f1f",
   "metadata": {},
   "outputs": [
    {
     "data": {
      "text/plain": [
       "(np.float64(0.9485236349446816), np.float64(0.947823276236446))"
      ]
     },
     "execution_count": 40,
     "metadata": {},
     "output_type": "execute_result"
    }
   ],
   "source": [
    "# 결정계수     수정된 결정계수\n",
    "model.rsquared, model.rsquared_adj"
   ]
  },
  {
   "cell_type": "markdown",
   "id": "b83cc253-9671-4230-b410-44c4d2aa6327",
   "metadata": {},
   "source": [
    "### 모델 비교"
   ]
  },
  {
   "cell_type": "code",
   "execution_count": 39,
   "id": "71f607ed-838a-4f02-8e62-a139f45a29a6",
   "metadata": {},
   "outputs": [
    {
     "data": {
      "text/plain": [
       "(np.float64(206.35386357991936),\n",
       " np.float64(156.17922963502622),\n",
       " np.float64(33.733547285926875),\n",
       " np.float64(206.35386357991936),\n",
       " np.float64(165.21113551731497),\n",
       " np.float64(165.21113551731497))"
      ]
     },
     "execution_count": 39,
     "metadata": {},
     "output_type": "execute_result"
    }
   ],
   "source": [
    "model0 = smf.ols(\"Petal_Length ~ Petal_Width\", data = iris).fit()\n",
    "model = smf.ols(\"Petal_Length ~ Petal_Width + Sepal_Length\", data = iris).fit()\n",
    "model3 = smf.ols(\"Petal_Length ~ Petal_Width + Sepal_Length + C(species)\", data = iris).fit()\n",
    "\n",
    "# 두 모델을 비교할 때, 어느 것이 좋은 모델이냐?\n",
    "\n",
    "model0.aic, model.aic, model3.aic, model0.aic, model.bic, model.bic"
   ]
  },
  {
   "cell_type": "markdown",
   "id": "0d010b4c-8f19-401f-905e-f871e49c6c92",
   "metadata": {},
   "source": [
    "### 범주형 데이터가 있을 때 해석 방법\n",
    "- 계수 해석 방법\n",
    "- 모든 값들이 출력이 안됨. setosa가 제외 됨\n",
    "- https://dschloe.github.io/python/2024/01/statsmodels_category_variable_regression/\n",
    "\n",
    " <!-- P>|t| (p-value)값이 크면 기존과 크게 다른 점이 없다? -->"
   ]
  },
  {
   "cell_type": "code",
   "execution_count": 34,
   "id": "e16268f3-8122-4f2d-9b26-e91e1aeeef51",
   "metadata": {},
   "outputs": [
    {
     "name": "stdout",
     "output_type": "stream",
     "text": [
      "                            OLS Regression Results                            \n",
      "==============================================================================\n",
      "Dep. Variable:           Petal_Length   R-squared:                       0.949\n",
      "Model:                            OLS   Adj. R-squared:                  0.948\n",
      "Method:                 Least Squares   F-statistic:                     1354.\n",
      "Date:                Fri, 16 May 2025   Prob (F-statistic):           2.01e-95\n",
      "Time:                        11:28:44   Log-Likelihood:                -75.090\n",
      "No. Observations:                 150   AIC:                             156.2\n",
      "Df Residuals:                     147   BIC:                             165.2\n",
      "Df Model:                           2                                         \n",
      "Covariance Type:            nonrobust                                         \n",
      "================================================================================\n",
      "                   coef    std err          t      P>|t|      [0.025      0.975]\n",
      "--------------------------------------------------------------------------------\n",
      "Intercept       -1.5071      0.337     -4.473      0.000      -2.173      -0.841\n",
      "Petal_Width      1.7481      0.075     23.205      0.000       1.599       1.897\n",
      "Sepal_Length     0.5423      0.069      7.820      0.000       0.405       0.679\n",
      "==============================================================================\n",
      "Omnibus:                        1.243   Durbin-Watson:                   1.339\n",
      "Prob(Omnibus):                  0.537   Jarque-Bera (JB):                0.840\n",
      "Skew:                          -0.058   Prob(JB):                        0.657\n",
      "Kurtosis:                       3.348   Cond. No.                         64.7\n",
      "==============================================================================\n",
      "\n",
      "Notes:\n",
      "[1] Standard Errors assume that the covariance matrix of the errors is correctly specified.\n"
     ]
    }
   ],
   "source": [
    "print(model.summary())"
   ]
  },
  {
   "cell_type": "markdown",
   "id": "b15ece94-8fe7-4343-b009-d8b1d522fc43",
   "metadata": {},
   "source": [
    "### 위 모형을 사용할 수 있는가?\n",
    "- 독립성 가정 체크 (더빈-왓슨 통계량)\n",
    "  + d = 2 : 잔차 간의 자기 상관이 존재하지 않음\n",
    "  + d < 2 or d > 2 : 잔차 간의 자기 상관이 존재\n",
    "- 잔차의 정규성 체크\n",
    "  + 샤피로 월크스 검정, 앤더슨-달링 테스트(자주 사용 X)\n",
    "- 잔차의 등분산성 체크\n",
    "  + Breusch-Pagen 검정\n",
    "- 다중공선성 체크 (VIF)\n",
    "  + 수치 데이터가 100개가 존재함, 상관관계 매트릭스, 0.95. 0.99\n",
    "  + 매출 예측 모델\n",
    "    + VIF가 10이상이면 다른 독립변수들간의 선형적인 관계가 높음 ==> 해당 필드 제거 후, 모델 다시 만들기\n",
    "    + 독립변수 : 광고비, 클릭률, 전환율, 광고노출율\n",
    "    + 종속변수 : 매출"
   ]
  },
  {
   "cell_type": "code",
   "execution_count": 41,
   "id": "65968bd8-4631-49b9-af0f-ffc8120c57e1",
   "metadata": {},
   "outputs": [
    {
     "name": "stdout",
     "output_type": "stream",
     "text": [
      "Durbin-Watson statistic:    1.339\n"
     ]
    }
   ],
   "source": [
    "# 더빈 왓슨 \n",
    "dw_stat = model.summary( ).tables[2].data[0][3]\n",
    "print(f'Durbin-Watson statistic: {dw_stat}')"
   ]
  },
  {
   "cell_type": "code",
   "execution_count": 42,
   "id": "aa05bbb0-f610-4b9b-9d34-2c813a4db6ca",
   "metadata": {},
   "outputs": [
    {
     "name": "stdout",
     "output_type": "stream",
     "text": [
      "1.339118544138463\n"
     ]
    }
   ],
   "source": [
    "from statsmodels.stats.stattools import durbin_watson\n",
    "dw_stat = durbin_watson(model.resid)\n",
    "print(dw_stat)"
   ]
  },
  {
   "cell_type": "code",
   "execution_count": 43,
   "id": "78cc2e58-3d6d-4314-9220-d4912fd36222",
   "metadata": {},
   "outputs": [
    {
     "name": "stdout",
     "output_type": "stream",
     "text": [
      "Anderson-Darling Test Statistic: 0.2799444785279661\n",
      "Critical Values: [0.562 0.64  0.767 0.895 1.065]\n",
      "Significance Levels: [15.  10.   5.   2.5  1. ]\n"
     ]
    }
   ],
   "source": [
    "# 잔차 계산\n",
    "from scipy.stats import anderson\n",
    "residuals = model.resid\n",
    "\n",
    "# 엔더슨-달링 테스트\n",
    "ad_stat, ad_critical_values, ad_significance_level = anderson(residuals, dist = 'norm')\n",
    "print(f'Anderson-Darling Test Statistic: {ad_stat}')\n",
    "print(f'Critical Values: {ad_critical_values}') # (15%, 10%, 5%, 2.5%, 1%)에 대한 임곗값\n",
    "print(f'Significance Levels: {ad_significance_level}')"
   ]
  },
  {
   "cell_type": "code",
   "execution_count": 44,
   "id": "cd580542-33e3-4a25-98f7-2b956ae31d66",
   "metadata": {},
   "outputs": [
    {
     "name": "stdout",
     "output_type": "stream",
     "text": [
      "Shapiro-Wilk Test Statistic: 0.9932794545480742\n",
      "p-value: 0.7114249301708787\n"
     ]
    }
   ],
   "source": [
    "from scipy.stats import shapiro\n",
    "\n",
    "# 샤피로-윌크 테스트\n",
    "sw_stat, sw_p_value = shapiro(residuals)\n",
    "print(f'Shapiro-Wilk Test Statistic: {sw_stat}')\n",
    "print(f'p-value: {sw_p_value}')"
   ]
  },
  {
   "cell_type": "code",
   "execution_count": 45,
   "id": "711a5a82-8616-4d5e-9d4b-94a9cc9bf3e9",
   "metadata": {},
   "outputs": [
    {
     "name": "stdout",
     "output_type": "stream",
     "text": [
      "BP-test statistics: 6.209462862284509\n",
      "p-value: 0.044836558645739086\n"
     ]
    }
   ],
   "source": [
    "# 등분산성 검정\n",
    "from statsmodels.stats.diagnostic import het_breuschpagan\n",
    "bptest = het_breuschpagan(model.resid, model.model.exog)\n",
    "\n",
    "print('BP-test statistics:', bptest[0])\n",
    "print('p-value:', bptest[1])"
   ]
  },
  {
   "cell_type": "markdown",
   "id": "1123049e-7b70-48dd-910d-a70b16dbc04d",
   "metadata": {},
   "source": [
    "### VIF 계산"
   ]
  },
  {
   "cell_type": "code",
   "execution_count": 46,
   "id": "6a6adbd9-fc58-4cdd-8b30-60a5b1c8c7e3",
   "metadata": {},
   "outputs": [
    {
     "name": "stdout",
     "output_type": "stream",
     "text": [
      "       Variable       VIF\n",
      "0   Petal_Width  5.150649\n",
      "1  Sepal_Length  5.150649\n"
     ]
    }
   ],
   "source": [
    "from statsmodels.stats.outliers_influence import variance_inflation_factor\n",
    "X = iris[['Petal_Width', 'Sepal_Length']]\n",
    "\n",
    "# VIF 계산\n",
    "vif_data = pd.DataFrame( )\n",
    "vif_data[\"Variable\"] = X.columns\n",
    "vif_data[\"VIF\"] = [variance_inflation_factor(X.values, i) for i in range(X.shape[1])]\n",
    "print(vif_data)"
   ]
  },
  {
   "cell_type": "markdown",
   "id": "6f88319a-de7e-4fa6-b69e-9e0e77cdeb1e",
   "metadata": {},
   "source": [
    "### 예측 및 추정"
   ]
  },
  {
   "cell_type": "code",
   "execution_count": 47,
   "id": "42ffe997-9364-4e5e-81e3-d12652c324b2",
   "metadata": {},
   "outputs": [
    {
     "name": "stdout",
     "output_type": "stream",
     "text": [
      "예측값:\n",
      " 0    1.499535\n",
      "1    4.097422\n",
      "2    4.073155\n",
      "3    5.796990\n",
      "4    5.543687\n",
      "dtype: float64\n",
      "MSE: 0.3999\n"
     ]
    }
   ],
   "source": [
    "from sklearn.metrics import mean_squared_error\n",
    "\n",
    "# 새로운 데이터 생성 (행 5개)\n",
    "new_data = pd.DataFrame({\n",
    "'Petal_Width': [0.2, 1.5, 1.3, 2.1, 1.8],\n",
    "'Sepal_Length': [4.9, 5.5, 6.1, 6.7, 7.2],\n",
    "'species': ['setosa', 'versicolor', 'virginica', 'versicolor', 'virginica']})\n",
    "\n",
    "# 예측값 계산\n",
    "y_pred = model.predict(new_data)\n",
    "\n",
    "# 실제값과 비교할 y_true 생성 (예제 값 사용)\n",
    "y_true = np.array([1.4, 4.7, 5.1, 5.8, 6.3])\n",
    "\n",
    "# MSE 계산\n",
    "mse_score = mean_squared_error(y_true, y_pred)\n",
    "\n",
    "# 결과 출력\n",
    "print(\"예측값:\\n\", y_pred)\n",
    "print(f\"MSE: {mse_score:.4f}\")"
   ]
  },
  {
   "cell_type": "markdown",
   "id": "0b09bcf3-b007-458c-91fa-7fa8592bc49c",
   "metadata": {},
   "source": [
    "# 로지스틱회귀분석"
   ]
  },
  {
   "cell_type": "markdown",
   "id": "cf6e5f9c-b6cc-434f-a785-ba77f4ac85a0",
   "metadata": {},
   "source": [
    "## ODDS RATIO (오즈비)\n",
    "$$  \n",
    "\\text{Odds Ratio} = \\frac{a/c}{b/d} = \\frac{ad}{bc}\n",
    "$$\n",
    "- OR = 1 : 두 그룹의 승산이 같다.\n",
    "- OR > 1 : 그룹 A가 앞면이 더 잘 나올 확률이 높다.\n",
    "- OR < 1 : 그룹 B가 앞면이 더 잘 나올 확률이 높다. "
   ]
  },
  {
   "cell_type": "code",
   "execution_count": 52,
   "id": "47dfd5db-8df0-4a4f-91c0-b6f11a9dd0ff",
   "metadata": {},
   "outputs": [
    {
     "name": "stdout",
     "output_type": "stream",
     "text": [
      "Odds Ratio = (30 × 20) / (10 × 20) = 3.00\n"
     ]
    }
   ],
   "source": [
    "# 데이터 정의\n",
    "a = 30  # 그룹 A: 앞면\n",
    "b = 10  # 그룹 A: 뒷면\n",
    "c = 20  # 그룹 B: 앞면\n",
    "d = 20  # 그룹 B: 뒷면\n",
    "\n",
    "# 승산비 계산\n",
    "odds_ratio = (a * d) / (b * c)\n",
    "\n",
    "print(f\"Odds Ratio = ({a} × {d}) / ({b} × {c}) = {odds_ratio:.2f}\")"
   ]
  },
  {
   "cell_type": "markdown",
   "id": "85e8b488-db05-4d3b-8cd6-bb6f3f8a0bd3",
   "metadata": {},
   "source": [
    "- 해석 그룹 A는 그룹 B보다 앞면이 나올 \"승산\"이 3배 높다는 것을 코드로도 확인할 수 있다."
   ]
  },
  {
   "cell_type": "markdown",
   "id": "45b1394a-2004-4d4d-8aee-6f586cd22bac",
   "metadata": {},
   "source": [
    "## 시나리오\n",
    "- A 팀 : 16회 진출, 12번 16강 진출 ==> 진출 탈락, 3:1\n",
    "- B 팀 : 16회 진출, 4번 16강 진출 ==> 진출 탈락, 1:3\n",
    "- 오즈비\n",
    "  + Odds_A = 3\n",
    "  + Odds_B = 1/3\n",
    "  + 9배 높음"
   ]
  },
  {
   "cell_type": "code",
   "execution_count": 63,
   "id": "103138e6-dbeb-4df4-87ca-b3e49d6305d5",
   "metadata": {},
   "outputs": [
    {
     "name": "stdout",
     "output_type": "stream",
     "text": [
      "Odds Ratio = (12×12) / (4×4) = 9.00\n"
     ]
    }
   ],
   "source": [
    "# 국가 A와 B의 진출/탈락 횟수\n",
    "a = 12  # A팀 16강 진출\n",
    "b = 4   # A팀 탈락\n",
    "c = 4   # B팀 16강 진출\n",
    "d = 12  # B팀 탈락\n",
    "\n",
    "# 승산비 계산\n",
    "odds_ratio = (a * d) / (b * c)\n",
    "print(f\"Odds Ratio = ({a}×{d}) / ({b}×{c}) = {odds_ratio:.2f}\")"
   ]
  },
  {
   "cell_type": "markdown",
   "id": "5ecb2200-7eb4-487f-809e-2a2777a81b46",
   "metadata": {},
   "source": [
    "### 승산비\n",
    "- 로지스틱 회귀에서 독립 변수의 계수가 $𝛽$\n",
    "  + 그 변수의 단위 증가가 종속 변수의 승산비를 $e^{𝛽}$배 변화시킨다.\n",
    "  + e : 자연상수, 2.718\n",
    "$$\n",
    "\\text{Odds Ratio} = e^{\\beta}\n",
    "$$\n",
    "\n"
   ]
  },
  {
   "cell_type": "markdown",
   "id": "d36cdf27-fd1e-412d-8a78-bfc20fbf211c",
   "metadata": {},
   "source": [
    "- $\\beta = \\log(2) \\Rightarrow e^{\\beta} = 2$\n",
    "- $e^{\\beta} = 2$ => 해당 변수 증가 시 승산이 2배 증가"
   ]
  },
  {
   "cell_type": "code",
   "execution_count": 50,
   "id": "b1898e45-c6b9-4ae8-846f-dfbd43edcc41",
   "metadata": {},
   "outputs": [
    {
     "name": "stdout",
     "output_type": "stream",
     "text": [
      "1.9999056411060796\n"
     ]
    }
   ],
   "source": [
    "beta = 0.6931\n",
    "print(np.exp(beta))  # 약 2.0"
   ]
  },
  {
   "cell_type": "markdown",
   "id": "e3f1536e-aa3b-4a8e-8b7c-dcfaee13d50b",
   "metadata": {},
   "source": [
    "## 로지스틱 회귀 기본 개념"
   ]
  },
  {
   "cell_type": "code",
   "execution_count": 53,
   "id": "54ffbc89-ffe5-4b90-b04e-a57719cc8c46",
   "metadata": {},
   "outputs": [
    {
     "name": "stdout",
     "output_type": "stream",
     "text": [
      "(400, 5)\n",
      "   admit  gre   gpa  rank gender\n",
      "0      0  380  3.61     3      M\n",
      "1      1  660  3.67     3      F\n",
      "2      1  800  4.00     1      F\n",
      "3      1  640  3.19     4      M\n",
      "4      0  520  2.93     4      M\n"
     ]
    }
   ],
   "source": [
    "import pandas as pd\n",
    "import numpy as np\n",
    "admission_data = pd.read_csv('https://raw.githubusercontent.com/YoungjinBD/data/main/admission.csv')\n",
    "print(admission_data.shape)\n",
    "print(admission_data.head( ))"
   ]
  },
  {
   "cell_type": "markdown",
   "id": "1266a73e-4d66-422d-876d-907e84eff00d",
   "metadata": {},
   "source": [
    "- 합격비율\n",
    "- 성공할 확률 P, 실패할 확률 1-p\n",
    "- P / (1-p)"
   ]
  },
  {
   "cell_type": "code",
   "execution_count": 54,
   "id": "a686ca05-4fbf-4e9c-bbc2-12f07a37b9ba",
   "metadata": {},
   "outputs": [
    {
     "data": {
      "text/plain": [
       "(np.float64(0.3175), np.float64(0.6825))"
      ]
     },
     "execution_count": 54,
     "metadata": {},
     "output_type": "execute_result"
    }
   ],
   "source": [
    "p_hat = admission_data['admit'].mean()\n",
    "p_hat, (1-p_hat)"
   ]
  },
  {
   "cell_type": "code",
   "execution_count": 55,
   "id": "7769e9ed-0cf7-4367-a09a-19719951d245",
   "metadata": {},
   "outputs": [
    {
     "name": "stdout",
     "output_type": "stream",
     "text": [
      "Odds Ratio: 0.4652014652014652\n"
     ]
    }
   ],
   "source": [
    "# 합격률은 입학에 실패할 확률의 약 46.5%정도 이다\n",
    "rint(\"Odds Ratio:\", p_hat / (1-p_hat))"
   ]
  },
  {
   "cell_type": "markdown",
   "id": "f31f851f-582f-439e-a467-378c3aeb83b4",
   "metadata": {},
   "source": [
    "## 범주형 변수를 사용한 오즈 계산\n",
    "- rank 변수"
   ]
  },
  {
   "cell_type": "code",
   "execution_count": 58,
   "id": "c9896cf9-3b3f-4a6c-8430-783287feaa6c",
   "metadata": {},
   "outputs": [
    {
     "data": {
      "text/plain": [
       "[np.int64(1), np.int64(2), np.int64(3), np.int64(4)]"
      ]
     },
     "execution_count": 58,
     "metadata": {},
     "output_type": "execute_result"
    }
   ],
   "source": [
    "# Rank\n",
    "sorted(admission_data['rank'].unique())"
   ]
  },
  {
   "cell_type": "markdown",
   "id": "21fc16e5-d911-4cf5-abec-9dac571841bd",
   "metadata": {},
   "source": [
    "- OR = 1 : 두 그룹의 승산이 같다\n",
    "- OR > 1 : 합격할 확률이 불합격할 확률보다 18% 높음\n",
    "- OR < 1 : 합격할 확률보다 불합격할 확률이 더 높음"
   ]
  },
  {
   "cell_type": "code",
   "execution_count": 61,
   "id": "376ca1f4-a88d-4e04-8cff-17add1ddb803",
   "metadata": {},
   "outputs": [
    {
     "data": {
      "text/html": [
       "<div>\n",
       "<style scoped>\n",
       "    .dataframe tbody tr th:only-of-type {\n",
       "        vertical-align: middle;\n",
       "    }\n",
       "\n",
       "    .dataframe tbody tr th {\n",
       "        vertical-align: top;\n",
       "    }\n",
       "\n",
       "    .dataframe thead th {\n",
       "        text-align: right;\n",
       "    }\n",
       "</style>\n",
       "<table border=\"1\" class=\"dataframe\">\n",
       "  <thead>\n",
       "    <tr style=\"text-align: right;\">\n",
       "      <th></th>\n",
       "      <th>p_admit</th>\n",
       "      <th>odds</th>\n",
       "    </tr>\n",
       "    <tr>\n",
       "      <th>rank</th>\n",
       "      <th></th>\n",
       "      <th></th>\n",
       "    </tr>\n",
       "  </thead>\n",
       "  <tbody>\n",
       "    <tr>\n",
       "      <th>1</th>\n",
       "      <td>0.540984</td>\n",
       "      <td>1.178571</td>\n",
       "    </tr>\n",
       "    <tr>\n",
       "      <th>2</th>\n",
       "      <td>0.357616</td>\n",
       "      <td>0.556701</td>\n",
       "    </tr>\n",
       "    <tr>\n",
       "      <th>3</th>\n",
       "      <td>0.231405</td>\n",
       "      <td>0.301075</td>\n",
       "    </tr>\n",
       "    <tr>\n",
       "      <th>4</th>\n",
       "      <td>0.179104</td>\n",
       "      <td>0.218182</td>\n",
       "    </tr>\n",
       "  </tbody>\n",
       "</table>\n",
       "</div>"
      ],
      "text/plain": [
       "       p_admit      odds\n",
       "rank                    \n",
       "1     0.540984  1.178571\n",
       "2     0.357616  0.556701\n",
       "3     0.231405  0.301075\n",
       "4     0.179104  0.218182"
      ]
     },
     "execution_count": 61,
     "metadata": {},
     "output_type": "execute_result"
    }
   ],
   "source": [
    "# 각 등급별 입학에 대한 오즈를 구해보기\n",
    "grouped_df= admission_data.groupby('rank').agg(p_admit = ('admit', 'mean'))\n",
    "grouped_df['odds'] = grouped_df['p_admit'] / (1 - grouped_df['p_admit'])\n",
    "grouped_df"
   ]
  },
  {
   "cell_type": "code",
   "execution_count": 62,
   "id": "a62fe75d-2813-4dbe-8375-2dee17021e39",
   "metadata": {},
   "outputs": [
    {
     "data": {
      "text/plain": [
       "0.5408631772268135"
      ]
     },
     "execution_count": 62,
     "metadata": {},
     "output_type": "execute_result"
    }
   ],
   "source": [
    "1.178 / (1.178 + 1)"
   ]
  },
  {
   "cell_type": "code",
   "execution_count": 75,
   "id": "cac095b8-8e16-4821-be66-a1573a6e2977",
   "metadata": {},
   "outputs": [
    {
     "name": "stderr",
     "output_type": "stream",
     "text": [
      "C:\\Users\\Admin\\AppData\\Local\\Temp\\ipykernel_14812\\1683255327.py:5: RuntimeWarning: divide by zero encountered in divide\n",
      "  log_odds = np.log(p / (1 - p))\n",
      "C:\\Users\\Admin\\AppData\\Local\\Temp\\ipykernel_14812\\1683255327.py:5: RuntimeWarning: divide by zero encountered in log\n",
      "  log_odds = np.log(p / (1 - p))\n"
     ]
    },
    {
     "data": {
      "image/png": "[encoded data removed]",
      "text/plain": [
       "<Figure size 640x480 with 1 Axes>"
      ]
     },
     "metadata": {},
     "output_type": "display_data"
    }
   ],
   "source": [
    "import numpy as np\n",
    "import matplotlib.pyplot as plt\n",
    "\n",
    "p = np.arange(0, 1.01, 0.01)\n",
    "log_odds = np.log(p / (1 - p))\n",
    "\n",
    "plt.plot(p, log_odds)\n",
    "plt.xlabel('p')\n",
    "plt.ylabel('log_odds')\n",
    "plt.title('Plot of log odds')\n",
    "plt.show( )"
   ]
  },
  {
   "cell_type": "code",
   "execution_count": 65,
   "id": "36c83dca-ee03-4b1a-8dec-9c5715dfb88d",
   "metadata": {},
   "outputs": [
    {
     "data": {
      "text/html": [
       "<div>\n",
       "<style scoped>\n",
       "    .dataframe tbody tr th:only-of-type {\n",
       "        vertical-align: middle;\n",
       "    }\n",
       "\n",
       "    .dataframe tbody tr th {\n",
       "        vertical-align: top;\n",
       "    }\n",
       "\n",
       "    .dataframe thead th {\n",
       "        text-align: right;\n",
       "    }\n",
       "</style>\n",
       "<table border=\"1\" class=\"dataframe\">\n",
       "  <thead>\n",
       "    <tr style=\"text-align: right;\">\n",
       "      <th></th>\n",
       "      <th>p_admit</th>\n",
       "      <th>odds</th>\n",
       "      <th>log_odds</th>\n",
       "    </tr>\n",
       "    <tr>\n",
       "      <th>rank</th>\n",
       "      <th></th>\n",
       "      <th></th>\n",
       "      <th></th>\n",
       "    </tr>\n",
       "  </thead>\n",
       "  <tbody>\n",
       "    <tr>\n",
       "      <th>1</th>\n",
       "      <td>0.540984</td>\n",
       "      <td>1.178571</td>\n",
       "      <td>0.164303</td>\n",
       "    </tr>\n",
       "    <tr>\n",
       "      <th>2</th>\n",
       "      <td>0.357616</td>\n",
       "      <td>0.556701</td>\n",
       "      <td>-0.585727</td>\n",
       "    </tr>\n",
       "    <tr>\n",
       "      <th>3</th>\n",
       "      <td>0.231405</td>\n",
       "      <td>0.301075</td>\n",
       "      <td>-1.200395</td>\n",
       "    </tr>\n",
       "    <tr>\n",
       "      <th>4</th>\n",
       "      <td>0.179104</td>\n",
       "      <td>0.218182</td>\n",
       "      <td>-1.522427</td>\n",
       "    </tr>\n",
       "  </tbody>\n",
       "</table>\n",
       "</div>"
      ],
      "text/plain": [
       "       p_admit      odds  log_odds\n",
       "rank                              \n",
       "1     0.540984  1.178571  0.164303\n",
       "2     0.357616  0.556701 -0.585727\n",
       "3     0.231405  0.301075 -1.200395\n",
       "4     0.179104  0.218182 -1.522427"
      ]
     },
     "execution_count": 65,
     "metadata": {},
     "output_type": "execute_result"
    }
   ],
   "source": [
    "grouped_df= admission_data.groupby('rank').agg(p_admit = ('admit', 'mean'))\n",
    "grouped_df['odds'] = grouped_df['p_admit'] / (1 - grouped_df['p_admit'])\n",
    "grouped_df['log_odds'] = np.log(grouped_df['odds'])\n",
    "grouped_df"
   ]
  },
  {
   "cell_type": "code",
   "execution_count": 66,
   "id": "e81d18a8-0fa1-4e93-b0b4-ad0a8d5242ee",
   "metadata": {},
   "outputs": [
    {
     "data": {
      "text/html": [
       "<div>\n",
       "<style scoped>\n",
       "    .dataframe tbody tr th:only-of-type {\n",
       "        vertical-align: middle;\n",
       "    }\n",
       "\n",
       "    .dataframe tbody tr th {\n",
       "        vertical-align: top;\n",
       "    }\n",
       "\n",
       "    .dataframe thead th {\n",
       "        text-align: right;\n",
       "    }\n",
       "</style>\n",
       "<table border=\"1\" class=\"dataframe\">\n",
       "  <thead>\n",
       "    <tr style=\"text-align: right;\">\n",
       "      <th></th>\n",
       "      <th>rank</th>\n",
       "      <th>p_admit</th>\n",
       "      <th>odds</th>\n",
       "      <th>log_odds</th>\n",
       "    </tr>\n",
       "  </thead>\n",
       "  <tbody>\n",
       "    <tr>\n",
       "      <th>0</th>\n",
       "      <td>1</td>\n",
       "      <td>0.540984</td>\n",
       "      <td>1.178571</td>\n",
       "      <td>0.164303</td>\n",
       "    </tr>\n",
       "    <tr>\n",
       "      <th>1</th>\n",
       "      <td>2</td>\n",
       "      <td>0.357616</td>\n",
       "      <td>0.556701</td>\n",
       "      <td>-0.585727</td>\n",
       "    </tr>\n",
       "    <tr>\n",
       "      <th>2</th>\n",
       "      <td>3</td>\n",
       "      <td>0.231405</td>\n",
       "      <td>0.301075</td>\n",
       "      <td>-1.200395</td>\n",
       "    </tr>\n",
       "    <tr>\n",
       "      <th>3</th>\n",
       "      <td>4</td>\n",
       "      <td>0.179104</td>\n",
       "      <td>0.218182</td>\n",
       "      <td>-1.522427</td>\n",
       "    </tr>\n",
       "  </tbody>\n",
       "</table>\n",
       "</div>"
      ],
      "text/plain": [
       "   rank   p_admit      odds  log_odds\n",
       "0     1  0.540984  1.178571  0.164303\n",
       "1     2  0.357616  0.556701 -0.585727\n",
       "2     3  0.231405  0.301075 -1.200395\n",
       "3     4  0.179104  0.218182 -1.522427"
      ]
     },
     "execution_count": 66,
     "metadata": {},
     "output_type": "execute_result"
    }
   ],
   "source": [
    "df =grouped_df.reset_index()\n",
    "df"
   ]
  },
  {
   "cell_type": "code",
   "execution_count": 76,
   "id": "40db01b2-a148-41c7-9b19-1c3b986804dc",
   "metadata": {},
   "outputs": [
    {
     "name": "stdout",
     "output_type": "stream",
     "text": [
      "                            OLS Regression Results                            \n",
      "==============================================================================\n",
      "Dep. Variable:               log_odds   R-squared:                       0.972\n",
      "Model:                            OLS   Adj. R-squared:                  0.957\n",
      "Method:                 Least Squares   F-statistic:                     68.47\n",
      "Date:                Fri, 16 May 2025   Prob (F-statistic):             0.0143\n",
      "Time:                        15:42:02   Log-Likelihood:                 3.2107\n",
      "No. Observations:                   4   AIC:                            -2.421\n",
      "Df Residuals:                       2   BIC:                            -3.649\n",
      "Df Model:                           1                                         \n",
      "Covariance Type:            nonrobust                                         \n",
      "==============================================================================\n",
      "                 coef    std err          t      P>|t|      [0.025      0.975]\n",
      "------------------------------------------------------------------------------\n",
      "Intercept      0.6327      0.188      3.368      0.078      -0.175       1.441\n",
      "rank          -0.5675      0.069     -8.275      0.014      -0.863      -0.272\n",
      "==============================================================================\n",
      "Omnibus:                          nan   Durbin-Watson:                   2.037\n",
      "Prob(Omnibus):                    nan   Jarque-Bera (JB):                0.602\n",
      "Skew:                          -0.062   Prob(JB):                        0.740\n",
      "Kurtosis:                       1.103   Cond. No.                         7.47\n",
      "==============================================================================\n",
      "\n",
      "Notes:\n",
      "[1] Standard Errors assume that the covariance matrix of the errors is correctly specified.\n"
     ]
    },
    {
     "name": "stderr",
     "output_type": "stream",
     "text": [
      "C:\\Users\\Admin\\Desktop\\ai_statistics\\.venv\\Lib\\site-packages\\statsmodels\\stats\\stattools.py:74: ValueWarning: omni_normtest is not valid with less than 8 observations; 4 samples were given.\n",
      "  warn(\"omni_normtest is not valid with less than 8 observations; %i \"\n"
     ]
    }
   ],
   "source": [
    "import statsmodels.formula.api as smf\n",
    "# 회귀식으로 처리가 됨\n",
    "model = smf.ols('log_odds ~ rank', data = df).fit()\n",
    "print(model.summary())"
   ]
  },
  {
   "cell_type": "markdown",
   "id": "802f3975-2eb6-4d16-8ddb-c896deabf1d0",
   "metadata": {},
   "source": [
    "## 모델 만들기\n",
    "- rank, int64 ==> 숫자\n",
    "  + rank는 범주로 취급\n",
    "- gender, object (문자열, X) ==> 아직 정의되지 않은 객체\n",
    "  + gender, 범주로 취급"
   ]
  },
  {
   "cell_type": "code",
   "execution_count": 68,
   "id": "8c2a8fb1-3263-4d56-b601-46d3ecd3cf4c",
   "metadata": {},
   "outputs": [
    {
     "name": "stdout",
     "output_type": "stream",
     "text": [
      "<class 'pandas.core.frame.DataFrame'>\n",
      "RangeIndex: 400 entries, 0 to 399\n",
      "Data columns (total 5 columns):\n",
      " #   Column  Non-Null Count  Dtype  \n",
      "---  ------  --------------  -----  \n",
      " 0   admit   400 non-null    int64  \n",
      " 1   gre     400 non-null    int64  \n",
      " 2   gpa     400 non-null    float64\n",
      " 3   rank    400 non-null    int64  \n",
      " 4   gender  400 non-null    object \n",
      "dtypes: float64(1), int64(3), object(1)\n",
      "memory usage: 15.8+ KB\n"
     ]
    }
   ],
   "source": [
    "# admission_data.head()\n",
    "admission_data.info()"
   ]
  },
  {
   "cell_type": "code",
   "execution_count": 72,
   "id": "8fd13a07-936a-4e72-8fb2-178e47a3735b",
   "metadata": {},
   "outputs": [
    {
     "name": "stdout",
     "output_type": "stream",
     "text": [
      "<class 'pandas.core.frame.DataFrame'>\n",
      "RangeIndex: 400 entries, 0 to 399\n",
      "Data columns (total 5 columns):\n",
      " #   Column  Non-Null Count  Dtype   \n",
      "---  ------  --------------  -----   \n",
      " 0   admit   400 non-null    int64   \n",
      " 1   gre     400 non-null    int64   \n",
      " 2   gpa     400 non-null    float64 \n",
      " 3   rank    400 non-null    category\n",
      " 4   gender  400 non-null    category\n",
      "dtypes: category(2), float64(1), int64(2)\n",
      "memory usage: 10.6 KB\n"
     ]
    }
   ],
   "source": [
    "admission_data['rank'] = admission_data['rank'].astype('category') # 범주형으로 취급\n",
    "admission_data['gender'] = admission_data['gender'].astype('category') # 범주형으로 취급\n",
    "\n",
    "admission_data.info()"
   ]
  },
  {
   "cell_type": "markdown",
   "id": "a6d5c083-d2bf-4fc9-b0c6-df9ee9403290",
   "metadata": {},
   "source": [
    "### 가설설정\n",
    "- 기울기가 있냐 없냐?\n",
    "  + 전체식이 유의하냐?\n",
    "  + 각 개별적인 필드(컬럼), 변수의 기울기가 유의하냐?\n",
    "- 해석\n",
    "  + gender[T.M] : 남학생의 합격율과 여학생의 합격률의 차이는 없다 (= 즉 성별은 입학여부에 관련이 없다)"
   ]
  },
  {
   "cell_type": "code",
   "execution_count": 82,
   "id": "c30cb128-8bf2-4a09-8539-9af8cc1e3102",
   "metadata": {},
   "outputs": [
    {
     "name": "stdout",
     "output_type": "stream",
     "text": [
      "Optimization terminated successfully.\n",
      "         Current function value: 0.573066\n",
      "         Iterations 6\n",
      "                           Logit Regression Results                           \n",
      "==============================================================================\n",
      "Dep. Variable:                  admit   No. Observations:                  400\n",
      "Model:                          Logit   Df Residuals:                      393\n",
      "Method:                           MLE   Df Model:                            6\n",
      "Date:                Fri, 16 May 2025   Pseudo R-squ.:                 0.08305\n",
      "Time:                        16:21:54   Log-Likelihood:                -229.23\n",
      "converged:                       True   LL-Null:                       -249.99\n",
      "Covariance Type:            nonrobust   LLR p-value:                 2.283e-07\n",
      "===============================================================================\n",
      "                  coef    std err          z      P>|z|      [0.025      0.975]\n",
      "-------------------------------------------------------------------------------\n",
      "Intercept      -3.9536      1.149     -3.442      0.001      -6.205      -1.702\n",
      "rank[T.2]      -0.6723      0.317     -2.123      0.034      -1.293      -0.052\n",
      "rank[T.3]      -1.3422      0.345     -3.887      0.000      -2.019      -0.665\n",
      "rank[T.4]      -1.5529      0.418     -3.717      0.000      -2.372      -0.734\n",
      "gender[T.M]    -0.0578      0.228     -0.254      0.800      -0.504       0.388\n",
      "gre             0.0023      0.001      2.062      0.039       0.000       0.004\n",
      "gpa             0.8032      0.332      2.420      0.016       0.153       1.454\n",
      "===============================================================================\n"
     ]
    }
   ],
   "source": [
    "model = smf.logit(\"admit ~ gre + gpa + rank + gender\", data = admission_data).fit()\n",
    "print(model.summary())"
   ]
  },
  {
   "cell_type": "code",
   "execution_count": 73,
   "id": "2528b910-2ddd-42c9-8eca-86498080d70b",
   "metadata": {},
   "outputs": [
    {
     "data": {
      "text/plain": [
       "np.float64(2.232674066397348)"
      ]
     },
     "execution_count": 73,
     "metadata": {},
     "output_type": "execute_result"
    }
   ],
   "source": [
    "# 승산비를 구해야 함\n",
    "import numpy as np\n",
    "np.exp(0.8032) # 2.23배 증가 gpa가 1점 증가할 때마다 입학 합격률이 2.23배 증가"
   ]
  },
  {
   "cell_type": "code",
   "execution_count": 77,
   "id": "f7f590c2-d051-4cd4-bf31-611c8e4bb821",
   "metadata": {},
   "outputs": [
    {
     "data": {
      "text/plain": [
       "np.float64(1.0032051254657053)"
      ]
     },
     "execution_count": 77,
     "metadata": {},
     "output_type": "execute_result"
    }
   ],
   "source": [
    "np.exp(0.0023) # 1.002배 증가, gre가 1점 증가할 때마다 입학 합격률이 1.002배 증가"
   ]
  },
  {
   "cell_type": "markdown",
   "id": "fbf2c775-4903-46f5-8af1-e42f817f9ec8",
   "metadata": {},
   "source": [
    "## 모델의 통계량 구하기"
   ]
  },
  {
   "cell_type": "code",
   "execution_count": 83,
   "id": "93623bd1-aa7f-4747-9be6-335499ce4e7c",
   "metadata": {},
   "outputs": [
    {
     "name": "stdout",
     "output_type": "stream",
     "text": [
      "-229.2265043299036\n",
      "-249.98825881093052\n"
     ]
    },
    {
     "data": {
      "text/plain": [
       "(None, None)"
      ]
     },
     "execution_count": 83,
     "metadata": {},
     "output_type": "execute_result"
    }
   ],
   "source": [
    "print(model.llf), print(model.llnull)"
   ]
  },
  {
   "cell_type": "code",
   "execution_count": 87,
   "id": "001fb9f2-b0f4-4894-bcc1-d4089ebc0647",
   "metadata": {},
   "outputs": [
    {
     "data": {
      "text/plain": [
       "np.float64(2.283e-07)"
      ]
     },
     "execution_count": 87,
     "metadata": {},
     "output_type": "execute_result"
    }
   ],
   "source": [
    "test_statistic = -2 * (model.llnull - model.llf)\n",
    "test_statistic, # 검정통계량 ==> 카이제곱분포 따라감,\n",
    "\n",
    "from scipy.stats import chi2\n",
    "\n",
    "# 자유도 계산\n",
    "df = model.df_model - 0 # 기저모델은 자유도가 0\n",
    "\n",
    "p_value = np.round(chi2.sf(test_statistic, df), 10)\n",
    "p_value"
   ]
  },
  {
   "cell_type": "markdown",
   "id": "de5f3a13-e5d9-4eb4-9175-8722f31cbe2e",
   "metadata": {},
   "source": [
    "# Tips 데이터 활용한 복습"
   ]
  },
  {
   "cell_type": "code",
   "execution_count": 88,
   "id": "1b59dbe3-a104-486c-a634-d5c3f990a9b0",
   "metadata": {},
   "outputs": [
    {
     "name": "stdout",
     "output_type": "stream",
     "text": [
      "<class 'pandas.core.frame.DataFrame'>\n",
      "RangeIndex: 244 entries, 0 to 243\n",
      "Data columns (total 7 columns):\n",
      " #   Column      Non-Null Count  Dtype   \n",
      "---  ------      --------------  -----   \n",
      " 0   total_bill  244 non-null    float64 \n",
      " 1   tip         244 non-null    float64 \n",
      " 2   sex         244 non-null    category\n",
      " 3   smoker      244 non-null    category\n",
      " 4   day         244 non-null    category\n",
      " 5   time        244 non-null    category\n",
      " 6   size        244 non-null    int64   \n",
      "dtypes: category(4), float64(2), int64(1)\n",
      "memory usage: 7.4 KB\n"
     ]
    }
   ],
   "source": [
    "import seaborn as sns\n",
    "tips = sns.load_dataset(\"tips\")\n",
    "tips.info()\n",
    "\n",
    "# size ==> category로 변경 후 코드 작성\n",
    "\n",
    "# tip에 영향을 주는 주요 요인 찾기\n",
    "## AIC, BIC를 활용해서 모델을 비교하면서 최적의 모델 찾기\n",
    "## 모형 해석\n",
    "## 독립성 검정, 잔차의 정규성 검정, 등분산성 검정, 다중공선성(X)\n",
    "\n",
    "# smoker 흡연여부, 흡연여부에 영향을 주는 주요 요인 찾기\n",
    "## AIC, BIC를 활용해서 모델을 비교하면서 최적의 모델 찾기\n",
    "## 모형 해석\n",
    "## 각 값에 대해 승산비 구하기"
   ]
  }
 ],
 "metadata": {
  "kernelspec": {
   "display_name": "Python 3 (ipykernel)",
   "language": "python",
   "name": "python3"
  },
  "language_info": {
   "codemirror_mode": {
    "name": "ipython",
    "version": 3
   },
   "file_extension": ".py",
   "mimetype": "text/x-python",
   "name": "python",
   "nbconvert_exporter": "python",
   "pygments_lexer": "ipython3",
   "version": "3.11.12"
  }
 },
 "nbformat": 4,
 "nbformat_minor": 5
}
